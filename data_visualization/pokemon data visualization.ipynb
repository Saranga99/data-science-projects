{
 "cells": [
  {
   "cell_type": "markdown",
   "metadata": {},
   "source": [
    "#  Context\n",
    "### This dataset contains information on all 802 Pokemon from all Seven Generations of Pokemon. The information contained in this dataset include Base Stats, Performance against Other Types, Height, Weight, Classification, Egg Steps, Experience Points, Abilities, etc. The information was scraped from http://serebii.net/\n",
    "\n",
    "#### Content\n",
    "name: The English name of the Pokemon\n",
    "\n",
    "japanese_name: The Original Japanese name of the Pokemon\n",
    "\n",
    "pokedex_number: The entry number of the Pokemon in the National Pokedex\n",
    "\n",
    "percentage_male: The percentage of the species that are male. Blank if the Pokemon is genderless.\n",
    "\n",
    "type1: The Primary Type of the Pokemon\n",
    "\n",
    "type2: The Secondary Type of the Pokemon\n",
    "\n",
    "classification: The Classification of the Pokemon as described by the Sun and Moon Pokedex\n",
    "\n",
    "height_m: Height of the Pokemon in metres\n",
    "\n",
    "weight_kg: The Weight of the Pokemon in kilograms\n",
    "\n",
    "capture_rate: Capture Rate of the Pokemon\n",
    "\n",
    "baseeggsteps: The number of steps required to hatch an egg of the Pokemon\n",
    "\n",
    "abilities: A stringified list of abilities that the Pokemon is capable of having\n",
    "\n",
    "experience_growth: The Experience Growth of the Pokemon\n",
    "\n",
    "base_happiness: Base Happiness of the Pokemon\n",
    "\n",
    "against_?: Eighteen features that denote the amount of damage taken against an attack of a particular type\n",
    "\n",
    "hp: The Base HP of the Pokemon\n",
    "\n",
    "attack: The Base Attack of the Pokemon\n",
    "\n",
    "defense: The Base Defense of the Pokemon\n",
    "\n",
    "sp_attack: The Base Special Attack of the Pokemon\n",
    "\n",
    "sp_defense: The Base Special Defense of the Pokemon\n",
    "\n",
    "speed: The Base Speed of the Pokemon\n",
    "\n",
    "generation: The numbered generation which the Pokemon was first introduced\n",
    "\n",
    "is_legendary: Denotes if the Pokemon is legendary. "
   ]
  },
  {
   "cell_type": "code",
   "execution_count": 126,
   "metadata": {},
   "outputs": [],
   "source": [
    "import pandas as pd\n",
    "import seaborn as sns\n",
    "import matplotlib.pyplot as plt"
   ]
  },
  {
   "cell_type": "code",
   "execution_count": 127,
   "metadata": {},
   "outputs": [],
   "source": [
    "#data reading\n",
    "df=pd.read_csv(\"Pokemon.csv\",index_col=0,encoding='latin1')"
   ]
  },
  {
   "cell_type": "code",
   "execution_count": 128,
   "metadata": {},
   "outputs": [
    {
     "data": {
      "text/html": [
       "<div>\n",
       "<style scoped>\n",
       "    .dataframe tbody tr th:only-of-type {\n",
       "        vertical-align: middle;\n",
       "    }\n",
       "\n",
       "    .dataframe tbody tr th {\n",
       "        vertical-align: top;\n",
       "    }\n",
       "\n",
       "    .dataframe thead th {\n",
       "        text-align: right;\n",
       "    }\n",
       "</style>\n",
       "<table border=\"1\" class=\"dataframe\">\n",
       "  <thead>\n",
       "    <tr style=\"text-align: right;\">\n",
       "      <th></th>\n",
       "      <th>Name</th>\n",
       "      <th>Type 1</th>\n",
       "      <th>Type 2</th>\n",
       "      <th>Total</th>\n",
       "      <th>HP</th>\n",
       "      <th>Attack</th>\n",
       "      <th>Defense</th>\n",
       "      <th>Sp. Atk</th>\n",
       "      <th>Sp. Def</th>\n",
       "      <th>Speed</th>\n",
       "      <th>Stage</th>\n",
       "      <th>Legendary</th>\n",
       "    </tr>\n",
       "    <tr>\n",
       "      <th>#</th>\n",
       "      <th></th>\n",
       "      <th></th>\n",
       "      <th></th>\n",
       "      <th></th>\n",
       "      <th></th>\n",
       "      <th></th>\n",
       "      <th></th>\n",
       "      <th></th>\n",
       "      <th></th>\n",
       "      <th></th>\n",
       "      <th></th>\n",
       "      <th></th>\n",
       "    </tr>\n",
       "  </thead>\n",
       "  <tbody>\n",
       "    <tr>\n",
       "      <th>1</th>\n",
       "      <td>Bulbasaur</td>\n",
       "      <td>Grass</td>\n",
       "      <td>Poison</td>\n",
       "      <td>318</td>\n",
       "      <td>45</td>\n",
       "      <td>49</td>\n",
       "      <td>49</td>\n",
       "      <td>65</td>\n",
       "      <td>65</td>\n",
       "      <td>45</td>\n",
       "      <td>1</td>\n",
       "      <td>False</td>\n",
       "    </tr>\n",
       "    <tr>\n",
       "      <th>2</th>\n",
       "      <td>Ivysaur</td>\n",
       "      <td>Grass</td>\n",
       "      <td>Poison</td>\n",
       "      <td>405</td>\n",
       "      <td>60</td>\n",
       "      <td>62</td>\n",
       "      <td>63</td>\n",
       "      <td>80</td>\n",
       "      <td>80</td>\n",
       "      <td>60</td>\n",
       "      <td>2</td>\n",
       "      <td>False</td>\n",
       "    </tr>\n",
       "    <tr>\n",
       "      <th>3</th>\n",
       "      <td>Venusaur</td>\n",
       "      <td>Grass</td>\n",
       "      <td>Poison</td>\n",
       "      <td>525</td>\n",
       "      <td>80</td>\n",
       "      <td>82</td>\n",
       "      <td>83</td>\n",
       "      <td>100</td>\n",
       "      <td>100</td>\n",
       "      <td>80</td>\n",
       "      <td>3</td>\n",
       "      <td>False</td>\n",
       "    </tr>\n",
       "    <tr>\n",
       "      <th>4</th>\n",
       "      <td>Charmander</td>\n",
       "      <td>Fire</td>\n",
       "      <td>NaN</td>\n",
       "      <td>309</td>\n",
       "      <td>39</td>\n",
       "      <td>52</td>\n",
       "      <td>43</td>\n",
       "      <td>60</td>\n",
       "      <td>50</td>\n",
       "      <td>65</td>\n",
       "      <td>1</td>\n",
       "      <td>False</td>\n",
       "    </tr>\n",
       "    <tr>\n",
       "      <th>5</th>\n",
       "      <td>Charmeleon</td>\n",
       "      <td>Fire</td>\n",
       "      <td>NaN</td>\n",
       "      <td>405</td>\n",
       "      <td>58</td>\n",
       "      <td>64</td>\n",
       "      <td>58</td>\n",
       "      <td>80</td>\n",
       "      <td>65</td>\n",
       "      <td>80</td>\n",
       "      <td>2</td>\n",
       "      <td>False</td>\n",
       "    </tr>\n",
       "    <tr>\n",
       "      <th>...</th>\n",
       "      <td>...</td>\n",
       "      <td>...</td>\n",
       "      <td>...</td>\n",
       "      <td>...</td>\n",
       "      <td>...</td>\n",
       "      <td>...</td>\n",
       "      <td>...</td>\n",
       "      <td>...</td>\n",
       "      <td>...</td>\n",
       "      <td>...</td>\n",
       "      <td>...</td>\n",
       "      <td>...</td>\n",
       "    </tr>\n",
       "    <tr>\n",
       "      <th>147</th>\n",
       "      <td>Dratini</td>\n",
       "      <td>Dragon</td>\n",
       "      <td>NaN</td>\n",
       "      <td>300</td>\n",
       "      <td>41</td>\n",
       "      <td>64</td>\n",
       "      <td>45</td>\n",
       "      <td>50</td>\n",
       "      <td>50</td>\n",
       "      <td>50</td>\n",
       "      <td>1</td>\n",
       "      <td>False</td>\n",
       "    </tr>\n",
       "    <tr>\n",
       "      <th>148</th>\n",
       "      <td>Dragonair</td>\n",
       "      <td>Dragon</td>\n",
       "      <td>NaN</td>\n",
       "      <td>420</td>\n",
       "      <td>61</td>\n",
       "      <td>84</td>\n",
       "      <td>65</td>\n",
       "      <td>70</td>\n",
       "      <td>70</td>\n",
       "      <td>70</td>\n",
       "      <td>2</td>\n",
       "      <td>False</td>\n",
       "    </tr>\n",
       "    <tr>\n",
       "      <th>149</th>\n",
       "      <td>Dragonite</td>\n",
       "      <td>Dragon</td>\n",
       "      <td>Flying</td>\n",
       "      <td>600</td>\n",
       "      <td>91</td>\n",
       "      <td>134</td>\n",
       "      <td>95</td>\n",
       "      <td>100</td>\n",
       "      <td>100</td>\n",
       "      <td>80</td>\n",
       "      <td>3</td>\n",
       "      <td>False</td>\n",
       "    </tr>\n",
       "    <tr>\n",
       "      <th>150</th>\n",
       "      <td>Mewtwo</td>\n",
       "      <td>Psychic</td>\n",
       "      <td>NaN</td>\n",
       "      <td>680</td>\n",
       "      <td>106</td>\n",
       "      <td>110</td>\n",
       "      <td>90</td>\n",
       "      <td>154</td>\n",
       "      <td>90</td>\n",
       "      <td>130</td>\n",
       "      <td>1</td>\n",
       "      <td>True</td>\n",
       "    </tr>\n",
       "    <tr>\n",
       "      <th>151</th>\n",
       "      <td>Mew</td>\n",
       "      <td>Psychic</td>\n",
       "      <td>NaN</td>\n",
       "      <td>600</td>\n",
       "      <td>100</td>\n",
       "      <td>100</td>\n",
       "      <td>100</td>\n",
       "      <td>100</td>\n",
       "      <td>100</td>\n",
       "      <td>100</td>\n",
       "      <td>1</td>\n",
       "      <td>False</td>\n",
       "    </tr>\n",
       "  </tbody>\n",
       "</table>\n",
       "<p>151 rows × 12 columns</p>\n",
       "</div>"
      ],
      "text/plain": [
       "           Name   Type 1  Type 2  Total   HP  Attack  Defense  Sp. Atk  \\\n",
       "#                                                                        \n",
       "1     Bulbasaur    Grass  Poison    318   45      49       49       65   \n",
       "2       Ivysaur    Grass  Poison    405   60      62       63       80   \n",
       "3      Venusaur    Grass  Poison    525   80      82       83      100   \n",
       "4    Charmander     Fire     NaN    309   39      52       43       60   \n",
       "5    Charmeleon     Fire     NaN    405   58      64       58       80   \n",
       "..          ...      ...     ...    ...  ...     ...      ...      ...   \n",
       "147     Dratini   Dragon     NaN    300   41      64       45       50   \n",
       "148   Dragonair   Dragon     NaN    420   61      84       65       70   \n",
       "149   Dragonite   Dragon  Flying    600   91     134       95      100   \n",
       "150      Mewtwo  Psychic     NaN    680  106     110       90      154   \n",
       "151         Mew  Psychic     NaN    600  100     100      100      100   \n",
       "\n",
       "     Sp. Def  Speed  Stage  Legendary  \n",
       "#                                      \n",
       "1         65     45      1      False  \n",
       "2         80     60      2      False  \n",
       "3        100     80      3      False  \n",
       "4         50     65      1      False  \n",
       "5         65     80      2      False  \n",
       "..       ...    ...    ...        ...  \n",
       "147       50     50      1      False  \n",
       "148       70     70      2      False  \n",
       "149      100     80      3      False  \n",
       "150       90    130      1       True  \n",
       "151      100    100      1      False  \n",
       "\n",
       "[151 rows x 12 columns]"
      ]
     },
     "execution_count": 128,
     "metadata": {},
     "output_type": "execute_result"
    }
   ],
   "source": [
    "df"
   ]
  },
  {
   "cell_type": "code",
   "execution_count": 129,
   "metadata": {},
   "outputs": [
    {
     "data": {
      "text/plain": [
       "(151, 12)"
      ]
     },
     "execution_count": 129,
     "metadata": {},
     "output_type": "execute_result"
    }
   ],
   "source": [
    "df.shape"
   ]
  },
  {
   "cell_type": "code",
   "execution_count": 130,
   "metadata": {},
   "outputs": [
    {
     "name": "stdout",
     "output_type": "stream",
     "text": [
      "<class 'pandas.core.frame.DataFrame'>\n",
      "Int64Index: 151 entries, 1 to 151\n",
      "Data columns (total 12 columns):\n",
      " #   Column     Non-Null Count  Dtype \n",
      "---  ------     --------------  ----- \n",
      " 0   Name       151 non-null    object\n",
      " 1   Type 1     151 non-null    object\n",
      " 2   Type 2     67 non-null     object\n",
      " 3   Total      151 non-null    int64 \n",
      " 4   HP         151 non-null    int64 \n",
      " 5   Attack     151 non-null    int64 \n",
      " 6   Defense    151 non-null    int64 \n",
      " 7   Sp. Atk    151 non-null    int64 \n",
      " 8   Sp. Def    151 non-null    int64 \n",
      " 9   Speed      151 non-null    int64 \n",
      " 10  Stage      151 non-null    int64 \n",
      " 11  Legendary  151 non-null    bool  \n",
      "dtypes: bool(1), int64(8), object(3)\n",
      "memory usage: 14.3+ KB\n"
     ]
    }
   ],
   "source": [
    "df.info()"
   ]
  },
  {
   "cell_type": "code",
   "execution_count": 131,
   "metadata": {},
   "outputs": [
    {
     "data": {
      "text/html": [
       "<div>\n",
       "<style scoped>\n",
       "    .dataframe tbody tr th:only-of-type {\n",
       "        vertical-align: middle;\n",
       "    }\n",
       "\n",
       "    .dataframe tbody tr th {\n",
       "        vertical-align: top;\n",
       "    }\n",
       "\n",
       "    .dataframe thead th {\n",
       "        text-align: right;\n",
       "    }\n",
       "</style>\n",
       "<table border=\"1\" class=\"dataframe\">\n",
       "  <thead>\n",
       "    <tr style=\"text-align: right;\">\n",
       "      <th></th>\n",
       "      <th>Total</th>\n",
       "      <th>HP</th>\n",
       "      <th>Attack</th>\n",
       "      <th>Defense</th>\n",
       "      <th>Sp. Atk</th>\n",
       "      <th>Sp. Def</th>\n",
       "      <th>Speed</th>\n",
       "      <th>Stage</th>\n",
       "    </tr>\n",
       "  </thead>\n",
       "  <tbody>\n",
       "    <tr>\n",
       "      <th>count</th>\n",
       "      <td>151.00000</td>\n",
       "      <td>151.000000</td>\n",
       "      <td>151.000000</td>\n",
       "      <td>151.000000</td>\n",
       "      <td>151.000000</td>\n",
       "      <td>151.000000</td>\n",
       "      <td>151.000000</td>\n",
       "      <td>151.000000</td>\n",
       "    </tr>\n",
       "    <tr>\n",
       "      <th>mean</th>\n",
       "      <td>407.07947</td>\n",
       "      <td>64.211921</td>\n",
       "      <td>72.549669</td>\n",
       "      <td>68.225166</td>\n",
       "      <td>67.139073</td>\n",
       "      <td>66.019868</td>\n",
       "      <td>68.933775</td>\n",
       "      <td>1.582781</td>\n",
       "    </tr>\n",
       "    <tr>\n",
       "      <th>std</th>\n",
       "      <td>99.74384</td>\n",
       "      <td>28.590117</td>\n",
       "      <td>26.596162</td>\n",
       "      <td>26.916704</td>\n",
       "      <td>28.534199</td>\n",
       "      <td>24.197926</td>\n",
       "      <td>26.746880</td>\n",
       "      <td>0.676832</td>\n",
       "    </tr>\n",
       "    <tr>\n",
       "      <th>min</th>\n",
       "      <td>195.00000</td>\n",
       "      <td>10.000000</td>\n",
       "      <td>5.000000</td>\n",
       "      <td>5.000000</td>\n",
       "      <td>15.000000</td>\n",
       "      <td>20.000000</td>\n",
       "      <td>15.000000</td>\n",
       "      <td>1.000000</td>\n",
       "    </tr>\n",
       "    <tr>\n",
       "      <th>25%</th>\n",
       "      <td>320.00000</td>\n",
       "      <td>45.000000</td>\n",
       "      <td>51.000000</td>\n",
       "      <td>50.000000</td>\n",
       "      <td>45.000000</td>\n",
       "      <td>49.000000</td>\n",
       "      <td>46.500000</td>\n",
       "      <td>1.000000</td>\n",
       "    </tr>\n",
       "    <tr>\n",
       "      <th>50%</th>\n",
       "      <td>405.00000</td>\n",
       "      <td>60.000000</td>\n",
       "      <td>70.000000</td>\n",
       "      <td>65.000000</td>\n",
       "      <td>65.000000</td>\n",
       "      <td>65.000000</td>\n",
       "      <td>70.000000</td>\n",
       "      <td>1.000000</td>\n",
       "    </tr>\n",
       "    <tr>\n",
       "      <th>75%</th>\n",
       "      <td>490.00000</td>\n",
       "      <td>80.000000</td>\n",
       "      <td>90.000000</td>\n",
       "      <td>84.000000</td>\n",
       "      <td>87.500000</td>\n",
       "      <td>80.000000</td>\n",
       "      <td>90.000000</td>\n",
       "      <td>2.000000</td>\n",
       "    </tr>\n",
       "    <tr>\n",
       "      <th>max</th>\n",
       "      <td>680.00000</td>\n",
       "      <td>250.000000</td>\n",
       "      <td>134.000000</td>\n",
       "      <td>180.000000</td>\n",
       "      <td>154.000000</td>\n",
       "      <td>125.000000</td>\n",
       "      <td>140.000000</td>\n",
       "      <td>3.000000</td>\n",
       "    </tr>\n",
       "  </tbody>\n",
       "</table>\n",
       "</div>"
      ],
      "text/plain": [
       "           Total          HP      Attack     Defense     Sp. Atk     Sp. Def  \\\n",
       "count  151.00000  151.000000  151.000000  151.000000  151.000000  151.000000   \n",
       "mean   407.07947   64.211921   72.549669   68.225166   67.139073   66.019868   \n",
       "std     99.74384   28.590117   26.596162   26.916704   28.534199   24.197926   \n",
       "min    195.00000   10.000000    5.000000    5.000000   15.000000   20.000000   \n",
       "25%    320.00000   45.000000   51.000000   50.000000   45.000000   49.000000   \n",
       "50%    405.00000   60.000000   70.000000   65.000000   65.000000   65.000000   \n",
       "75%    490.00000   80.000000   90.000000   84.000000   87.500000   80.000000   \n",
       "max    680.00000  250.000000  134.000000  180.000000  154.000000  125.000000   \n",
       "\n",
       "            Speed       Stage  \n",
       "count  151.000000  151.000000  \n",
       "mean    68.933775    1.582781  \n",
       "std     26.746880    0.676832  \n",
       "min     15.000000    1.000000  \n",
       "25%     46.500000    1.000000  \n",
       "50%     70.000000    1.000000  \n",
       "75%     90.000000    2.000000  \n",
       "max    140.000000    3.000000  "
      ]
     },
     "execution_count": 131,
     "metadata": {},
     "output_type": "execute_result"
    }
   ],
   "source": [
    "df.describe()"
   ]
  },
  {
   "cell_type": "markdown",
   "metadata": {},
   "source": [
    "# scatter plot  "
   ]
  },
  {
   "cell_type": "markdown",
   "metadata": {},
   "source": [
    "### One of Seaborn's greatest strengths is its diversity of plotting functions. For instance, making a scatter plot is just one line of code using the lmplot() function. "
   ]
  },
  {
   "cell_type": "markdown",
   "metadata": {},
   "source": [
    "#### 1. The first way (recommended) is to pass your DataFrame to the data= argument, while passing column names to the axes           arguments, x= and y=\n",
    "#### 2. The second way is to directly pass in Series of data to the axes arguments. "
   ]
  },
  {
   "cell_type": "markdown",
   "metadata": {},
   "source": [
    "# Step 1: Seaborn's plotting functions"
   ]
  },
  {
   "cell_type": "code",
   "execution_count": 132,
   "metadata": {},
   "outputs": [
    {
     "data": {
      "text/plain": [
       "<seaborn.axisgrid.FacetGrid at 0x2060f1a9310>"
      ]
     },
     "execution_count": 132,
     "metadata": {},
     "output_type": "execute_result"
    },
    {
     "data": {
      "image/png": "[encoded data removed]",
      "text/plain": [
       "<Figure size 360x360 with 1 Axes>"
      ]
     },
     "metadata": {
      "needs_background": "light"
     },
     "output_type": "display_data"
    }
   ],
   "source": [
    "# Recommended way\n",
    "sns.lmplot(x='Attack', y='Defense', data=df)\n",
    "\n",
    " \n",
    "# Alternative way\n",
    "# sns.lmplot(x=df.Attack, y=df.Defense)"
   ]
  },
  {
   "cell_type": "markdown",
   "metadata": {},
   "source": [
    "###  By the way, Seaborn doesn't have a dedicated scatter plot function, which is why you see a diagonal line. We actually used Seaborn's function for fitting and plotting a regression line.\n",
    "\n",
    "Thankfully, each plotting function has several useful options that you can set. Here's how we can tweak the lmplot():\n",
    "\n",
    "1. First, we'll set fit_reg=False to remove the regression line, since we only want a scatter plot.\n",
    "2. Then, we'll set hue='Stage' to color our points by the Pokémon's evolution stage. This hue argument is very useful because it allows you to express a third dimension of information using color."
   ]
  },
  {
   "cell_type": "code",
   "execution_count": 133,
   "metadata": {},
   "outputs": [
    {
     "data": {
      "text/plain": [
       "<seaborn.axisgrid.FacetGrid at 0x2060c36eb20>"
      ]
     },
     "execution_count": 133,
     "metadata": {},
     "output_type": "execute_result"
    },
    {
     "data": {
      "image/png": "[encoded data removed]",
      "text/plain": [
       "<Figure size 402.375x360 with 1 Axes>"
      ]
     },
     "metadata": {
      "needs_background": "light"
     },
     "output_type": "display_data"
    }
   ],
   "source": [
    "# Scatterplot arguments\n",
    "sns.lmplot(x='Attack', y='Defense', data=df,\n",
    "           fit_reg=False, # No regression line\n",
    "           hue='Stage')   # Color by evolution stage"
   ]
  },
  {
   "cell_type": "code",
   "execution_count": null,
   "metadata": {},
   "outputs": [
    {
     "data": {
      "text/plain": [
       "<seaborn.axisgrid.FacetGrid at 0x20608fb6250>"
      ]
     },
     "execution_count": 138,
     "metadata": {},
     "output_type": "execute_result"
    },
    {
     "data": {
      "image/png": "[encoded data removed]",
      "text/plain": [
       "<Figure size 1440x1440 with 1 Axes>"
      ]
     },
     "metadata": {
      "needs_background": "light"
     },
     "output_type": "display_data"
    }
   ],
   "source": [
    "fig, ax = plt.subplots(figsize=(20,20))\n",
    "# Scatterplot arguments\n",
    "sns.lmplot(x='Attack', y='Defense', data=df,\n",
    "           fit_reg=True, # with regression line\n",
    "           hue='Stage')   # Color by evolution stage"
   ]
  },
  {
   "cell_type": "markdown",
   "metadata": {},
   "source": [
    "# Step 2: Customizing with Matplotlib."
   ]
  },
  {
   "cell_type": "markdown",
   "metadata": {},
   "source": [
    "### Remember, Seaborn is a high-level interface to Matplotlib. From our experience, Seaborn will get you most of the way there, but you'll sometimes need to bring in Matplotlib.\n",
    "\n",
    "Setting your axes limits is one of those times, but the process is pretty simple:\n",
    "\n",
    "1. First, invoke your Seaborn plotting function as normal.\n",
    "2. Then, invoke Matplotlib's customization functions. In this case, we'll use its ylim() and xlim() functions.\n",
    "\n",
    "Here's our new scatter plot with sensible axes limits: "
   ]
  },
  {
   "cell_type": "code",
   "execution_count": 135,
   "metadata": {
    "scrolled": true
   },
   "outputs": [
    {
     "data": {
      "text/plain": [
       "(0.0, 140.45)"
      ]
     },
     "execution_count": 135,
     "metadata": {},
     "output_type": "execute_result"
    },
    {
     "data": {
      "image/png": "[encoded data removed]",
      "text/plain": [
       "<Figure size 402.375x360 with 1 Axes>"
      ]
     },
     "metadata": {
      "needs_background": "light"
     },
     "output_type": "display_data"
    }
   ],
   "source": [
    "# Plot using Seaborn\n",
    "sns.lmplot(x='Attack', y='Defense', data=df,\n",
    "           fit_reg=False, \n",
    "           hue='Stage')\n",
    " # Tweak using Matplotlib\n",
    "plt.ylim(0, None)\n",
    "plt.xlim(0, None)"
   ]
  },
  {
   "cell_type": "markdown",
   "metadata": {},
   "source": [
    "# Step 3: The role of Pandas."
   ]
  },
  {
   "cell_type": "markdown",
   "metadata": {},
   "source": [
    "#### Even though this is a Seaborn tutorial, Pandas actually plays a very important role. You see, Seaborn's plotting functions benefit from a base DataFrame that's reasonably formatted.\n",
    "\n",
    "For example, let's say we wanted to make a box plot for our Pokémon's combat stats:"
   ]
  },
  {
   "cell_type": "code",
   "execution_count": 136,
   "metadata": {},
   "outputs": [
    {
     "data": {
      "text/plain": [
       "<matplotlib.axes._subplots.AxesSubplot at 0x2060fffc730>"
      ]
     },
     "execution_count": 136,
     "metadata": {},
     "output_type": "execute_result"
    },
    {
     "data": {
      "image/png": "[encoded data removed]",
      "text/plain": [
       "<Figure size 1440x1440 with 1 Axes>"
      ]
     },
     "metadata": {
      "needs_background": "light"
     },
     "output_type": "display_data"
    }
   ],
   "source": [
    "# Boxplot\n",
    "#used for resize\n",
    "fig, ax = plt.subplots(figsize=(20,20))\n",
    "sns.boxplot(data=df)"
   ]
  },
  {
   "cell_type": "markdown",
   "metadata": {},
   "source": [
    "### Well, that's a reasonable start, but there are some columns we'd probably like to remove:\n",
    "\n",
    "1. We can remove the Total since we have individual stats.\n",
    "2. We can remove the Stage and Legendary columns because they aren't combat stats.\n",
    "\n",
    "In turns out that this isn't easy to do within Seaborn alone. Instead, it's much simpler to pre-format your DataFrame.\n",
    "\n",
    "Let's create a new DataFrame called stats_df that only keeps the stats columns: "
   ]
  },
  {
   "cell_type": "code",
   "execution_count": 137,
   "metadata": {},
   "outputs": [
    {
     "data": {
      "text/plain": [
       "<matplotlib.axes._subplots.AxesSubplot at 0x20613fd1d60>"
      ]
     },
     "execution_count": 137,
     "metadata": {},
     "output_type": "execute_result"
    },
    {
     "data": {
      "image/png": "[encoded data removed]",
      "text/plain": [
       "<Figure size 1440x1440 with 1 Axes>"
      ]
     },
     "metadata": {
      "needs_background": "light"
     },
     "output_type": "display_data"
    }
   ],
   "source": [
    "#used for resize\n",
    "fig, ax = plt.subplots(figsize=(20,20))\n",
    "\n",
    "# Pre-format DataFrame\n",
    "stats_df = df.drop(['Total', 'Stage', 'Legendary'], axis=1)\n",
    " \n",
    "# New boxplot using stats_df\n",
    "sns.boxplot(data=stats_df)"
   ]
  },
  {
   "cell_type": "code",
   "execution_count": null,
   "metadata": {},
   "outputs": [],
   "source": []
  }
 ],
 "metadata": {
  "kernelspec": {
   "display_name": "Python 3",
   "language": "python",
   "name": "python3"
  },
  "language_info": {
   "codemirror_mode": {
    "name": "ipython",
    "version": 3
   },
   "file_extension": ".py",
   "mimetype": "text/x-python",
   "name": "python",
   "nbconvert_exporter": "python",
   "pygments_lexer": "ipython3",
   "version": "3.8.3"
  }
 },
 "nbformat": 4,
 "nbformat_minor": 4
}
