{
 "cells": [
  {
   "cell_type": "code",
   "execution_count": 228,
   "metadata": {},
   "outputs": [],
   "source": [
    "import pandas as pd"
   ]
  },
  {
   "cell_type": "code",
   "execution_count": 229,
   "metadata": {},
   "outputs": [],
   "source": [
    "df = pd.read_csv(\"AirPassengers.csv\")"
   ]
  },
  {
   "cell_type": "code",
   "execution_count": 230,
   "metadata": {},
   "outputs": [
    {
     "data": {
      "text/html": [
       "<div>\n",
       "<style scoped>\n",
       "    .dataframe tbody tr th:only-of-type {\n",
       "        vertical-align: middle;\n",
       "    }\n",
       "\n",
       "    .dataframe tbody tr th {\n",
       "        vertical-align: top;\n",
       "    }\n",
       "\n",
       "    .dataframe thead th {\n",
       "        text-align: right;\n",
       "    }\n",
       "</style>\n",
       "<table border=\"1\" class=\"dataframe\">\n",
       "  <thead>\n",
       "    <tr style=\"text-align: right;\">\n",
       "      <th></th>\n",
       "      <th>Month</th>\n",
       "      <th>#Passengers</th>\n",
       "    </tr>\n",
       "  </thead>\n",
       "  <tbody>\n",
       "    <tr>\n",
       "      <th>0</th>\n",
       "      <td>1949-01</td>\n",
       "      <td>112</td>\n",
       "    </tr>\n",
       "    <tr>\n",
       "      <th>1</th>\n",
       "      <td>1949-02</td>\n",
       "      <td>118</td>\n",
       "    </tr>\n",
       "    <tr>\n",
       "      <th>2</th>\n",
       "      <td>1949-03</td>\n",
       "      <td>132</td>\n",
       "    </tr>\n",
       "    <tr>\n",
       "      <th>3</th>\n",
       "      <td>1949-04</td>\n",
       "      <td>129</td>\n",
       "    </tr>\n",
       "    <tr>\n",
       "      <th>4</th>\n",
       "      <td>1949-05</td>\n",
       "      <td>121</td>\n",
       "    </tr>\n",
       "  </tbody>\n",
       "</table>\n",
       "</div>"
      ],
      "text/plain": [
       "     Month  #Passengers\n",
       "0  1949-01          112\n",
       "1  1949-02          118\n",
       "2  1949-03          132\n",
       "3  1949-04          129\n",
       "4  1949-05          121"
      ]
     },
     "execution_count": 230,
     "metadata": {},
     "output_type": "execute_result"
    }
   ],
   "source": [
    "#show me first five records \n",
    "df.head()"
   ]
  },
  {
   "cell_type": "code",
   "execution_count": 231,
   "metadata": {},
   "outputs": [
    {
     "data": {
      "text/html": [
       "<div>\n",
       "<style scoped>\n",
       "    .dataframe tbody tr th:only-of-type {\n",
       "        vertical-align: middle;\n",
       "    }\n",
       "\n",
       "    .dataframe tbody tr th {\n",
       "        vertical-align: top;\n",
       "    }\n",
       "\n",
       "    .dataframe thead th {\n",
       "        text-align: right;\n",
       "    }\n",
       "</style>\n",
       "<table border=\"1\" class=\"dataframe\">\n",
       "  <thead>\n",
       "    <tr style=\"text-align: right;\">\n",
       "      <th></th>\n",
       "      <th>Month</th>\n",
       "      <th>#Passengers</th>\n",
       "    </tr>\n",
       "  </thead>\n",
       "  <tbody>\n",
       "    <tr>\n",
       "      <th>139</th>\n",
       "      <td>1960-08</td>\n",
       "      <td>606</td>\n",
       "    </tr>\n",
       "    <tr>\n",
       "      <th>140</th>\n",
       "      <td>1960-09</td>\n",
       "      <td>508</td>\n",
       "    </tr>\n",
       "    <tr>\n",
       "      <th>141</th>\n",
       "      <td>1960-10</td>\n",
       "      <td>461</td>\n",
       "    </tr>\n",
       "    <tr>\n",
       "      <th>142</th>\n",
       "      <td>1960-11</td>\n",
       "      <td>390</td>\n",
       "    </tr>\n",
       "    <tr>\n",
       "      <th>143</th>\n",
       "      <td>1960-12</td>\n",
       "      <td>432</td>\n",
       "    </tr>\n",
       "  </tbody>\n",
       "</table>\n",
       "</div>"
      ],
      "text/plain": [
       "       Month  #Passengers\n",
       "139  1960-08          606\n",
       "140  1960-09          508\n",
       "141  1960-10          461\n",
       "142  1960-11          390\n",
       "143  1960-12          432"
      ]
     },
     "execution_count": 231,
     "metadata": {},
     "output_type": "execute_result"
    }
   ],
   "source": [
    "# show me last five records\n",
    "df.tail()"
   ]
  },
  {
   "cell_type": "code",
   "execution_count": 232,
   "metadata": {},
   "outputs": [
    {
     "data": {
      "text/plain": [
       "(144, 2)"
      ]
     },
     "execution_count": 232,
     "metadata": {},
     "output_type": "execute_result"
    }
   ],
   "source": [
    "#dimention of the dataset\n",
    "df.shape"
   ]
  },
  {
   "cell_type": "code",
   "execution_count": 233,
   "metadata": {},
   "outputs": [
    {
     "data": {
      "text/plain": [
       "Index(['Month', '#Passengers'], dtype='object')"
      ]
     },
     "execution_count": 233,
     "metadata": {},
     "output_type": "execute_result"
    }
   ],
   "source": [
    "df.columns"
   ]
  },
  {
   "cell_type": "code",
   "execution_count": 234,
   "metadata": {},
   "outputs": [
    {
     "name": "stdout",
     "output_type": "stream",
     "text": [
      "<class 'pandas.core.frame.DataFrame'>\n",
      "RangeIndex: 144 entries, 0 to 143\n",
      "Data columns (total 2 columns):\n",
      " #   Column       Non-Null Count  Dtype \n",
      "---  ------       --------------  ----- \n",
      " 0   Month        144 non-null    object\n",
      " 1   #Passengers  144 non-null    int64 \n",
      "dtypes: int64(1), object(1)\n",
      "memory usage: 2.4+ KB\n"
     ]
    }
   ],
   "source": [
    "df.info()"
   ]
  },
  {
   "cell_type": "code",
   "execution_count": 235,
   "metadata": {},
   "outputs": [
    {
     "data": {
      "text/html": [
       "<div>\n",
       "<style scoped>\n",
       "    .dataframe tbody tr th:only-of-type {\n",
       "        vertical-align: middle;\n",
       "    }\n",
       "\n",
       "    .dataframe tbody tr th {\n",
       "        vertical-align: top;\n",
       "    }\n",
       "\n",
       "    .dataframe thead th {\n",
       "        text-align: right;\n",
       "    }\n",
       "</style>\n",
       "<table border=\"1\" class=\"dataframe\">\n",
       "  <thead>\n",
       "    <tr style=\"text-align: right;\">\n",
       "      <th></th>\n",
       "      <th>#Passengers</th>\n",
       "    </tr>\n",
       "  </thead>\n",
       "  <tbody>\n",
       "    <tr>\n",
       "      <th>count</th>\n",
       "      <td>144.000000</td>\n",
       "    </tr>\n",
       "    <tr>\n",
       "      <th>mean</th>\n",
       "      <td>280.298611</td>\n",
       "    </tr>\n",
       "    <tr>\n",
       "      <th>std</th>\n",
       "      <td>119.966317</td>\n",
       "    </tr>\n",
       "    <tr>\n",
       "      <th>min</th>\n",
       "      <td>104.000000</td>\n",
       "    </tr>\n",
       "    <tr>\n",
       "      <th>25%</th>\n",
       "      <td>180.000000</td>\n",
       "    </tr>\n",
       "    <tr>\n",
       "      <th>50%</th>\n",
       "      <td>265.500000</td>\n",
       "    </tr>\n",
       "    <tr>\n",
       "      <th>75%</th>\n",
       "      <td>360.500000</td>\n",
       "    </tr>\n",
       "    <tr>\n",
       "      <th>max</th>\n",
       "      <td>622.000000</td>\n",
       "    </tr>\n",
       "  </tbody>\n",
       "</table>\n",
       "</div>"
      ],
      "text/plain": [
       "       #Passengers\n",
       "count   144.000000\n",
       "mean    280.298611\n",
       "std     119.966317\n",
       "min     104.000000\n",
       "25%     180.000000\n",
       "50%     265.500000\n",
       "75%     360.500000\n",
       "max     622.000000"
      ]
     },
     "execution_count": 235,
     "metadata": {},
     "output_type": "execute_result"
    }
   ],
   "source": [
    "df.describe()"
   ]
  },
  {
   "cell_type": "code",
   "execution_count": 236,
   "metadata": {},
   "outputs": [
    {
     "data": {
      "text/plain": [
       "Month          0\n",
       "#Passengers    0\n",
       "dtype: int64"
      ]
     },
     "execution_count": 236,
     "metadata": {},
     "output_type": "execute_result"
    }
   ],
   "source": [
    "df.isnull().sum()"
   ]
  },
  {
   "cell_type": "code",
   "execution_count": 237,
   "metadata": {},
   "outputs": [
    {
     "data": {
      "text/html": [
       "<div>\n",
       "<style scoped>\n",
       "    .dataframe tbody tr th:only-of-type {\n",
       "        vertical-align: middle;\n",
       "    }\n",
       "\n",
       "    .dataframe tbody tr th {\n",
       "        vertical-align: top;\n",
       "    }\n",
       "\n",
       "    .dataframe thead th {\n",
       "        text-align: right;\n",
       "    }\n",
       "</style>\n",
       "<table border=\"1\" class=\"dataframe\">\n",
       "  <thead>\n",
       "    <tr style=\"text-align: right;\">\n",
       "      <th></th>\n",
       "      <th>#Passengers</th>\n",
       "      <th>Date</th>\n",
       "    </tr>\n",
       "  </thead>\n",
       "  <tbody>\n",
       "    <tr>\n",
       "      <th>0</th>\n",
       "      <td>112</td>\n",
       "      <td>1949-01-01</td>\n",
       "    </tr>\n",
       "    <tr>\n",
       "      <th>1</th>\n",
       "      <td>118</td>\n",
       "      <td>1949-02-01</td>\n",
       "    </tr>\n",
       "    <tr>\n",
       "      <th>2</th>\n",
       "      <td>132</td>\n",
       "      <td>1949-03-01</td>\n",
       "    </tr>\n",
       "    <tr>\n",
       "      <th>3</th>\n",
       "      <td>129</td>\n",
       "      <td>1949-04-01</td>\n",
       "    </tr>\n",
       "    <tr>\n",
       "      <th>4</th>\n",
       "      <td>121</td>\n",
       "      <td>1949-05-01</td>\n",
       "    </tr>\n",
       "  </tbody>\n",
       "</table>\n",
       "</div>"
      ],
      "text/plain": [
       "   #Passengers       Date\n",
       "0          112 1949-01-01\n",
       "1          118 1949-02-01\n",
       "2          132 1949-03-01\n",
       "3          129 1949-04-01\n",
       "4          121 1949-05-01"
      ]
     },
     "execution_count": 237,
     "metadata": {},
     "output_type": "execute_result"
    }
   ],
   "source": [
    "#converting date column data type to date time\n",
    "df[\"Date\"] = pd.to_datetime(df[\"Month\"])\n",
    "df=df.drop([\"Month\"],axis=1)\n",
    "df.head()"
   ]
  },
  {
   "cell_type": "code",
   "execution_count": 238,
   "metadata": {},
   "outputs": [],
   "source": [
    "df_new = df.set_index(\"Date\")"
   ]
  },
  {
   "cell_type": "code",
   "execution_count": 239,
   "metadata": {},
   "outputs": [
    {
     "data": {
      "text/html": [
       "<div>\n",
       "<style scoped>\n",
       "    .dataframe tbody tr th:only-of-type {\n",
       "        vertical-align: middle;\n",
       "    }\n",
       "\n",
       "    .dataframe tbody tr th {\n",
       "        vertical-align: top;\n",
       "    }\n",
       "\n",
       "    .dataframe thead th {\n",
       "        text-align: right;\n",
       "    }\n",
       "</style>\n",
       "<table border=\"1\" class=\"dataframe\">\n",
       "  <thead>\n",
       "    <tr style=\"text-align: right;\">\n",
       "      <th></th>\n",
       "      <th>#Passengers</th>\n",
       "    </tr>\n",
       "    <tr>\n",
       "      <th>Date</th>\n",
       "      <th></th>\n",
       "    </tr>\n",
       "  </thead>\n",
       "  <tbody>\n",
       "    <tr>\n",
       "      <th>1949-01-01</th>\n",
       "      <td>112</td>\n",
       "    </tr>\n",
       "    <tr>\n",
       "      <th>1949-02-01</th>\n",
       "      <td>118</td>\n",
       "    </tr>\n",
       "    <tr>\n",
       "      <th>1949-03-01</th>\n",
       "      <td>132</td>\n",
       "    </tr>\n",
       "    <tr>\n",
       "      <th>1949-04-01</th>\n",
       "      <td>129</td>\n",
       "    </tr>\n",
       "    <tr>\n",
       "      <th>1949-05-01</th>\n",
       "      <td>121</td>\n",
       "    </tr>\n",
       "  </tbody>\n",
       "</table>\n",
       "</div>"
      ],
      "text/plain": [
       "            #Passengers\n",
       "Date                   \n",
       "1949-01-01          112\n",
       "1949-02-01          118\n",
       "1949-03-01          132\n",
       "1949-04-01          129\n",
       "1949-05-01          121"
      ]
     },
     "execution_count": 239,
     "metadata": {},
     "output_type": "execute_result"
    }
   ],
   "source": [
    "df_new.head()"
   ]
  },
  {
   "cell_type": "code",
   "execution_count": 240,
   "metadata": {},
   "outputs": [],
   "source": [
    "#spliting dataset to train and test sets\n",
    "split_date = '01-Dec-1957'\n",
    "df_train = df_new.loc[df_new.index <= split_date].copy()\n",
    "df_test = df_new.loc[df_new.index > split_date].copy()"
   ]
  },
  {
   "cell_type": "code",
   "execution_count": 241,
   "metadata": {},
   "outputs": [
    {
     "name": "stdout",
     "output_type": "stream",
     "text": [
      "Traing set shape  : (108, 1)\n",
      "Testing set shape : (36, 1)\n"
     ]
    }
   ],
   "source": [
    "print(f\"Traing set shape  : {df_train.shape}\\nTesting set shape : {df_test.shape}\")"
   ]
  },
  {
   "cell_type": "code",
   "execution_count": 242,
   "metadata": {},
   "outputs": [],
   "source": [
    "#creating new features using existing features\n",
    "def create_features(df, label=None):\n",
    "    df['date'] = df.index\n",
    "    df['hour'] = df['date'].dt.hour\n",
    "    df['dayofweek'] = df['date'].dt.dayofweek\n",
    "    df['quarter'] = df['date'].dt.quarter\n",
    "    df['month'] = df['date'].dt.month\n",
    "    df['year'] = df['date'].dt.year\n",
    "    df['dayofyear'] = df['date'].dt.dayofyear\n",
    "    df['dayofmonth'] = df['date'].dt.day\n",
    "    df['weekofyear'] = df['date'].dt.isocalendar().week.astype(int)\n",
    "    X = df[['hour','dayofweek','quarter','month','year',\n",
    "    'dayofyear','dayofmonth','weekofyear']]\n",
    "\n",
    "    if label:\n",
    "        y = df[label]\n",
    "        return X, y\n",
    "    return X"
   ]
  },
  {
   "cell_type": "code",
   "execution_count": 243,
   "metadata": {},
   "outputs": [],
   "source": [
    "X_train, y_train = create_features(df_train, label='#Passengers')\n",
    "X_test, y_test = create_features(df_test, label='#Passengers')"
   ]
  },
  {
   "cell_type": "markdown",
   "metadata": {},
   "source": [
    "Model Building"
   ]
  },
  {
   "cell_type": "code",
   "execution_count": 244,
   "metadata": {},
   "outputs": [],
   "source": [
    "import xgboost as xgb\n",
    "from xgboost import plot_importance, plot_tree\n",
    "from sklearn.metrics import mean_squared_error, mean_absolute_error"
   ]
  },
  {
   "cell_type": "code",
   "execution_count": 245,
   "metadata": {},
   "outputs": [],
   "source": [
    "xgb_reg = xgb.XGBRegressor(n_estimators=1000)"
   ]
  },
  {
   "cell_type": "code",
   "execution_count": 246,
   "metadata": {},
   "outputs": [
    {
     "name": "stdout",
     "output_type": "stream",
     "text": [
      "[0]\tvalidation_0-rmse:176.37958\tvalidation_1-rmse:341.80021\n",
      "[1]\tvalidation_0-rmse:127.79478\tvalidation_1-rmse:271.50308\n",
      "[2]\tvalidation_0-rmse:93.70848\tvalidation_1-rmse:227.58095\n",
      "[3]\tvalidation_0-rmse:69.36620\tvalidation_1-rmse:193.67212\n",
      "[4]\tvalidation_0-rmse:51.96478\tvalidation_1-rmse:166.38394\n",
      "[5]\tvalidation_0-rmse:39.24662\tvalidation_1-rmse:143.39513\n",
      "[6]\tvalidation_0-rmse:29.84403\tvalidation_1-rmse:126.81946\n",
      "[7]\tvalidation_0-rmse:23.06138\tvalidation_1-rmse:114.52723\n",
      "[8]\tvalidation_0-rmse:17.80628\tvalidation_1-rmse:106.39957\n",
      "[9]\tvalidation_0-rmse:14.09520\tvalidation_1-rmse:99.24999\n",
      "[10]\tvalidation_0-rmse:11.25761\tvalidation_1-rmse:94.15344\n",
      "[11]\tvalidation_0-rmse:9.12328\tvalidation_1-rmse:90.02051\n",
      "[12]\tvalidation_0-rmse:7.38709\tvalidation_1-rmse:87.29590\n",
      "[13]\tvalidation_0-rmse:6.05078\tvalidation_1-rmse:84.89879\n",
      "[14]\tvalidation_0-rmse:5.01864\tvalidation_1-rmse:83.27107\n",
      "[15]\tvalidation_0-rmse:4.20714\tvalidation_1-rmse:82.00225\n",
      "[16]\tvalidation_0-rmse:3.58262\tvalidation_1-rmse:80.98196\n",
      "[17]\tvalidation_0-rmse:3.11780\tvalidation_1-rmse:80.22743\n",
      "[18]\tvalidation_0-rmse:2.73813\tvalidation_1-rmse:79.58619\n",
      "[19]\tvalidation_0-rmse:2.38737\tvalidation_1-rmse:79.07182\n",
      "[20]\tvalidation_0-rmse:2.13115\tvalidation_1-rmse:78.59613\n",
      "[21]\tvalidation_0-rmse:1.87148\tvalidation_1-rmse:78.20981\n",
      "[22]\tvalidation_0-rmse:1.70052\tvalidation_1-rmse:77.89549\n",
      "[23]\tvalidation_0-rmse:1.51660\tvalidation_1-rmse:77.64111\n",
      "[24]\tvalidation_0-rmse:1.33911\tvalidation_1-rmse:77.46847\n",
      "[25]\tvalidation_0-rmse:1.25196\tvalidation_1-rmse:77.30128\n",
      "[26]\tvalidation_0-rmse:1.18976\tvalidation_1-rmse:77.16532\n",
      "[27]\tvalidation_0-rmse:1.13789\tvalidation_1-rmse:77.06090\n",
      "[28]\tvalidation_0-rmse:1.09743\tvalidation_1-rmse:76.93917\n",
      "[29]\tvalidation_0-rmse:1.02408\tvalidation_1-rmse:76.86141\n",
      "[30]\tvalidation_0-rmse:0.89458\tvalidation_1-rmse:76.79508\n",
      "[31]\tvalidation_0-rmse:0.82881\tvalidation_1-rmse:76.73125\n",
      "[32]\tvalidation_0-rmse:0.74542\tvalidation_1-rmse:76.68590\n",
      "[33]\tvalidation_0-rmse:0.68638\tvalidation_1-rmse:76.67320\n",
      "[34]\tvalidation_0-rmse:0.65042\tvalidation_1-rmse:76.65017\n",
      "[35]\tvalidation_0-rmse:0.59685\tvalidation_1-rmse:76.64210\n",
      "[36]\tvalidation_0-rmse:0.53777\tvalidation_1-rmse:76.63213\n",
      "[37]\tvalidation_0-rmse:0.51429\tvalidation_1-rmse:76.61775\n",
      "[38]\tvalidation_0-rmse:0.47344\tvalidation_1-rmse:76.62211\n",
      "[39]\tvalidation_0-rmse:0.44331\tvalidation_1-rmse:76.61268\n",
      "[40]\tvalidation_0-rmse:0.41432\tvalidation_1-rmse:76.60326\n",
      "[41]\tvalidation_0-rmse:0.35686\tvalidation_1-rmse:76.58508\n",
      "[42]\tvalidation_0-rmse:0.34703\tvalidation_1-rmse:76.58019\n",
      "[43]\tvalidation_0-rmse:0.31731\tvalidation_1-rmse:76.56678\n",
      "[44]\tvalidation_0-rmse:0.28518\tvalidation_1-rmse:76.56655\n",
      "[45]\tvalidation_0-rmse:0.26226\tvalidation_1-rmse:76.56158\n",
      "[46]\tvalidation_0-rmse:0.23796\tvalidation_1-rmse:76.55917\n",
      "[47]\tvalidation_0-rmse:0.21935\tvalidation_1-rmse:76.55483\n",
      "[48]\tvalidation_0-rmse:0.21317\tvalidation_1-rmse:76.55249\n"
     ]
    },
    {
     "name": "stderr",
     "output_type": "stream",
     "text": [
      "d:\\data-science-projects\\ml-projects-2.0\\USA Airlines Passengers - Time Series Analysis\\.venv\\lib\\site-packages\\xgboost\\sklearn.py:793: UserWarning: `early_stopping_rounds` in `fit` method is deprecated for better compatibility with scikit-learn, use `early_stopping_rounds` in constructor or`set_params` instead.\n",
      "  warnings.warn(\n"
     ]
    },
    {
     "name": "stdout",
     "output_type": "stream",
     "text": [
      "[49]\tvalidation_0-rmse:0.19374\tvalidation_1-rmse:76.54644\n",
      "[50]\tvalidation_0-rmse:0.18376\tvalidation_1-rmse:76.54383\n",
      "[51]\tvalidation_0-rmse:0.16627\tvalidation_1-rmse:76.54525\n",
      "[52]\tvalidation_0-rmse:0.15298\tvalidation_1-rmse:76.54279\n",
      "[53]\tvalidation_0-rmse:0.14252\tvalidation_1-rmse:76.54465\n",
      "[54]\tvalidation_0-rmse:0.13465\tvalidation_1-rmse:76.54325\n",
      "[55]\tvalidation_0-rmse:0.12636\tvalidation_1-rmse:76.53765\n",
      "[56]\tvalidation_0-rmse:0.12114\tvalidation_1-rmse:76.53376\n",
      "[57]\tvalidation_0-rmse:0.11114\tvalidation_1-rmse:76.53068\n",
      "[58]\tvalidation_0-rmse:0.10404\tvalidation_1-rmse:76.52508\n",
      "[59]\tvalidation_0-rmse:0.09488\tvalidation_1-rmse:76.52417\n",
      "[60]\tvalidation_0-rmse:0.08787\tvalidation_1-rmse:76.52248\n",
      "[61]\tvalidation_0-rmse:0.08017\tvalidation_1-rmse:76.52089\n",
      "[62]\tvalidation_0-rmse:0.07488\tvalidation_1-rmse:76.51809\n",
      "[63]\tvalidation_0-rmse:0.06408\tvalidation_1-rmse:76.51338\n",
      "[64]\tvalidation_0-rmse:0.05948\tvalidation_1-rmse:76.51355\n",
      "[65]\tvalidation_0-rmse:0.05658\tvalidation_1-rmse:76.51267\n",
      "[66]\tvalidation_0-rmse:0.05239\tvalidation_1-rmse:76.51075\n",
      "[67]\tvalidation_0-rmse:0.04861\tvalidation_1-rmse:76.51050\n",
      "[68]\tvalidation_0-rmse:0.04510\tvalidation_1-rmse:76.51098\n",
      "[69]\tvalidation_0-rmse:0.04253\tvalidation_1-rmse:76.51038\n",
      "[70]\tvalidation_0-rmse:0.03909\tvalidation_1-rmse:76.51098\n",
      "[71]\tvalidation_0-rmse:0.03658\tvalidation_1-rmse:76.51067\n",
      "[72]\tvalidation_0-rmse:0.03545\tvalidation_1-rmse:76.51082\n",
      "[73]\tvalidation_0-rmse:0.03160\tvalidation_1-rmse:76.51250\n",
      "[74]\tvalidation_0-rmse:0.03047\tvalidation_1-rmse:76.51249\n",
      "[75]\tvalidation_0-rmse:0.02966\tvalidation_1-rmse:76.51250\n",
      "[76]\tvalidation_0-rmse:0.02727\tvalidation_1-rmse:76.51230\n",
      "[77]\tvalidation_0-rmse:0.02533\tvalidation_1-rmse:76.51264\n",
      "[78]\tvalidation_0-rmse:0.02305\tvalidation_1-rmse:76.51339\n",
      "[79]\tvalidation_0-rmse:0.02082\tvalidation_1-rmse:76.51363\n",
      "[80]\tvalidation_0-rmse:0.01935\tvalidation_1-rmse:76.51353\n",
      "[81]\tvalidation_0-rmse:0.01751\tvalidation_1-rmse:76.51352\n",
      "[82]\tvalidation_0-rmse:0.01607\tvalidation_1-rmse:76.51300\n",
      "[83]\tvalidation_0-rmse:0.01501\tvalidation_1-rmse:76.51339\n",
      "[84]\tvalidation_0-rmse:0.01296\tvalidation_1-rmse:76.51301\n",
      "[85]\tvalidation_0-rmse:0.01187\tvalidation_1-rmse:76.51312\n",
      "[86]\tvalidation_0-rmse:0.01080\tvalidation_1-rmse:76.51312\n",
      "[87]\tvalidation_0-rmse:0.01035\tvalidation_1-rmse:76.51300\n",
      "[88]\tvalidation_0-rmse:0.01001\tvalidation_1-rmse:76.51290\n",
      "[89]\tvalidation_0-rmse:0.00919\tvalidation_1-rmse:76.51245\n",
      "[90]\tvalidation_0-rmse:0.00802\tvalidation_1-rmse:76.51222\n",
      "[91]\tvalidation_0-rmse:0.00709\tvalidation_1-rmse:76.51229\n",
      "[92]\tvalidation_0-rmse:0.00671\tvalidation_1-rmse:76.51232\n",
      "[93]\tvalidation_0-rmse:0.00643\tvalidation_1-rmse:76.51242\n",
      "[94]\tvalidation_0-rmse:0.00559\tvalidation_1-rmse:76.51243\n",
      "[95]\tvalidation_0-rmse:0.00526\tvalidation_1-rmse:76.51223\n",
      "[96]\tvalidation_0-rmse:0.00499\tvalidation_1-rmse:76.51227\n",
      "[97]\tvalidation_0-rmse:0.00480\tvalidation_1-rmse:76.51240\n",
      "[98]\tvalidation_0-rmse:0.00449\tvalidation_1-rmse:76.51242\n",
      "[99]\tvalidation_0-rmse:0.00408\tvalidation_1-rmse:76.51242\n",
      "[100]\tvalidation_0-rmse:0.00394\tvalidation_1-rmse:76.51243\n",
      "[101]\tvalidation_0-rmse:0.00364\tvalidation_1-rmse:76.51258\n",
      "[102]\tvalidation_0-rmse:0.00353\tvalidation_1-rmse:76.51259\n",
      "[103]\tvalidation_0-rmse:0.00310\tvalidation_1-rmse:76.51252\n",
      "[104]\tvalidation_0-rmse:0.00282\tvalidation_1-rmse:76.51251\n",
      "[105]\tvalidation_0-rmse:0.00264\tvalidation_1-rmse:76.51252\n",
      "[106]\tvalidation_0-rmse:0.00243\tvalidation_1-rmse:76.51262\n",
      "[107]\tvalidation_0-rmse:0.00230\tvalidation_1-rmse:76.51258\n",
      "[108]\tvalidation_0-rmse:0.00210\tvalidation_1-rmse:76.51256\n",
      "[109]\tvalidation_0-rmse:0.00210\tvalidation_1-rmse:76.51256\n",
      "[110]\tvalidation_0-rmse:0.00210\tvalidation_1-rmse:76.51256\n",
      "[111]\tvalidation_0-rmse:0.00210\tvalidation_1-rmse:76.51256\n",
      "[112]\tvalidation_0-rmse:0.00210\tvalidation_1-rmse:76.51256\n",
      "[113]\tvalidation_0-rmse:0.00210\tvalidation_1-rmse:76.51256\n",
      "[114]\tvalidation_0-rmse:0.00210\tvalidation_1-rmse:76.51256\n",
      "[115]\tvalidation_0-rmse:0.00210\tvalidation_1-rmse:76.51256\n",
      "[116]\tvalidation_0-rmse:0.00210\tvalidation_1-rmse:76.51256\n",
      "[117]\tvalidation_0-rmse:0.00210\tvalidation_1-rmse:76.51256\n",
      "[118]\tvalidation_0-rmse:0.00210\tvalidation_1-rmse:76.51256\n"
     ]
    },
    {
     "data": {
      "text/html": [
       "<style>#sk-container-id-6 {color: black;background-color: white;}#sk-container-id-6 pre{padding: 0;}#sk-container-id-6 div.sk-toggleable {background-color: white;}#sk-container-id-6 label.sk-toggleable__label {cursor: pointer;display: block;width: 100%;margin-bottom: 0;padding: 0.3em;box-sizing: border-box;text-align: center;}#sk-container-id-6 label.sk-toggleable__label-arrow:before {content: \"▸\";float: left;margin-right: 0.25em;color: #696969;}#sk-container-id-6 label.sk-toggleable__label-arrow:hover:before {color: black;}#sk-container-id-6 div.sk-estimator:hover label.sk-toggleable__label-arrow:before {color: black;}#sk-container-id-6 div.sk-toggleable__content {max-height: 0;max-width: 0;overflow: hidden;text-align: left;background-color: #f0f8ff;}#sk-container-id-6 div.sk-toggleable__content pre {margin: 0.2em;color: black;border-radius: 0.25em;background-color: #f0f8ff;}#sk-container-id-6 input.sk-toggleable__control:checked~div.sk-toggleable__content {max-height: 200px;max-width: 100%;overflow: auto;}#sk-container-id-6 input.sk-toggleable__control:checked~label.sk-toggleable__label-arrow:before {content: \"▾\";}#sk-container-id-6 div.sk-estimator input.sk-toggleable__control:checked~label.sk-toggleable__label {background-color: #d4ebff;}#sk-container-id-6 div.sk-label input.sk-toggleable__control:checked~label.sk-toggleable__label {background-color: #d4ebff;}#sk-container-id-6 input.sk-hidden--visually {border: 0;clip: rect(1px 1px 1px 1px);clip: rect(1px, 1px, 1px, 1px);height: 1px;margin: -1px;overflow: hidden;padding: 0;position: absolute;width: 1px;}#sk-container-id-6 div.sk-estimator {font-family: monospace;background-color: #f0f8ff;border: 1px dotted black;border-radius: 0.25em;box-sizing: border-box;margin-bottom: 0.5em;}#sk-container-id-6 div.sk-estimator:hover {background-color: #d4ebff;}#sk-container-id-6 div.sk-parallel-item::after {content: \"\";width: 100%;border-bottom: 1px solid gray;flex-grow: 1;}#sk-container-id-6 div.sk-label:hover label.sk-toggleable__label {background-color: #d4ebff;}#sk-container-id-6 div.sk-serial::before {content: \"\";position: absolute;border-left: 1px solid gray;box-sizing: border-box;top: 0;bottom: 0;left: 50%;z-index: 0;}#sk-container-id-6 div.sk-serial {display: flex;flex-direction: column;align-items: center;background-color: white;padding-right: 0.2em;padding-left: 0.2em;position: relative;}#sk-container-id-6 div.sk-item {position: relative;z-index: 1;}#sk-container-id-6 div.sk-parallel {display: flex;align-items: stretch;justify-content: center;background-color: white;position: relative;}#sk-container-id-6 div.sk-item::before, #sk-container-id-6 div.sk-parallel-item::before {content: \"\";position: absolute;border-left: 1px solid gray;box-sizing: border-box;top: 0;bottom: 0;left: 50%;z-index: -1;}#sk-container-id-6 div.sk-parallel-item {display: flex;flex-direction: column;z-index: 1;position: relative;background-color: white;}#sk-container-id-6 div.sk-parallel-item:first-child::after {align-self: flex-end;width: 50%;}#sk-container-id-6 div.sk-parallel-item:last-child::after {align-self: flex-start;width: 50%;}#sk-container-id-6 div.sk-parallel-item:only-child::after {width: 0;}#sk-container-id-6 div.sk-dashed-wrapped {border: 1px dashed gray;margin: 0 0.4em 0.5em 0.4em;box-sizing: border-box;padding-bottom: 0.4em;background-color: white;}#sk-container-id-6 div.sk-label label {font-family: monospace;font-weight: bold;display: inline-block;line-height: 1.2em;}#sk-container-id-6 div.sk-label-container {text-align: center;}#sk-container-id-6 div.sk-container {/* jupyter's `normalize.less` sets `[hidden] { display: none; }` but bootstrap.min.css set `[hidden] { display: none !important; }` so we also need the `!important` here to be able to override the default hidden behavior on the sphinx rendered scikit-learn.org. See: https://github.com/scikit-learn/scikit-learn/issues/21755 */display: inline-block !important;position: relative;}#sk-container-id-6 div.sk-text-repr-fallback {display: none;}</style><div id=\"sk-container-id-6\" class=\"sk-top-container\"><div class=\"sk-text-repr-fallback\"><pre>XGBRegressor(base_score=0.5, booster=&#x27;gbtree&#x27;, callbacks=None,\n",
       "             colsample_bylevel=1, colsample_bynode=1, colsample_bytree=1,\n",
       "             early_stopping_rounds=None, enable_categorical=False,\n",
       "             eval_metric=None, gamma=0, gpu_id=-1, grow_policy=&#x27;depthwise&#x27;,\n",
       "             importance_type=None, interaction_constraints=&#x27;&#x27;,\n",
       "             learning_rate=0.300000012, max_bin=256, max_cat_to_onehot=4,\n",
       "             max_delta_step=0, max_depth=6, max_leaves=0, min_child_weight=1,\n",
       "             missing=nan, monotone_constraints=&#x27;()&#x27;, n_estimators=1000,\n",
       "             n_jobs=0, num_parallel_tree=1, predictor=&#x27;auto&#x27;, random_state=0,\n",
       "             reg_alpha=0, reg_lambda=1, ...)</pre><b>In a Jupyter environment, please rerun this cell to show the HTML representation or trust the notebook. <br />On GitHub, the HTML representation is unable to render, please try loading this page with nbviewer.org.</b></div><div class=\"sk-container\" hidden><div class=\"sk-item\"><div class=\"sk-estimator sk-toggleable\"><input class=\"sk-toggleable__control sk-hidden--visually\" id=\"sk-estimator-id-6\" type=\"checkbox\" checked><label for=\"sk-estimator-id-6\" class=\"sk-toggleable__label sk-toggleable__label-arrow\">XGBRegressor</label><div class=\"sk-toggleable__content\"><pre>XGBRegressor(base_score=0.5, booster=&#x27;gbtree&#x27;, callbacks=None,\n",
       "             colsample_bylevel=1, colsample_bynode=1, colsample_bytree=1,\n",
       "             early_stopping_rounds=None, enable_categorical=False,\n",
       "             eval_metric=None, gamma=0, gpu_id=-1, grow_policy=&#x27;depthwise&#x27;,\n",
       "             importance_type=None, interaction_constraints=&#x27;&#x27;,\n",
       "             learning_rate=0.300000012, max_bin=256, max_cat_to_onehot=4,\n",
       "             max_delta_step=0, max_depth=6, max_leaves=0, min_child_weight=1,\n",
       "             missing=nan, monotone_constraints=&#x27;()&#x27;, n_estimators=1000,\n",
       "             n_jobs=0, num_parallel_tree=1, predictor=&#x27;auto&#x27;, random_state=0,\n",
       "             reg_alpha=0, reg_lambda=1, ...)</pre></div></div></div></div></div>"
      ],
      "text/plain": [
       "XGBRegressor(base_score=0.5, booster='gbtree', callbacks=None,\n",
       "             colsample_bylevel=1, colsample_bynode=1, colsample_bytree=1,\n",
       "             early_stopping_rounds=None, enable_categorical=False,\n",
       "             eval_metric=None, gamma=0, gpu_id=-1, grow_policy='depthwise',\n",
       "             importance_type=None, interaction_constraints='',\n",
       "             learning_rate=0.300000012, max_bin=256, max_cat_to_onehot=4,\n",
       "             max_delta_step=0, max_depth=6, max_leaves=0, min_child_weight=1,\n",
       "             missing=nan, monotone_constraints='()', n_estimators=1000,\n",
       "             n_jobs=0, num_parallel_tree=1, predictor='auto', random_state=0,\n",
       "             reg_alpha=0, reg_lambda=1, ...)"
      ]
     },
     "execution_count": 246,
     "metadata": {},
     "output_type": "execute_result"
    }
   ],
   "source": [
    "xgb_reg.fit(X_train,y_train,\n",
    "            eval_set=[(X_train,y_train),(X_test,y_test)],\n",
    "            early_stopping_rounds=50,\n",
    "            verbose=True)"
   ]
  },
  {
   "cell_type": "code",
   "execution_count": 247,
   "metadata": {},
   "outputs": [
    {
     "name": "stdout",
     "output_type": "stream",
     "text": [
      "Training Accuracy : 0.9999997506736875\n"
     ]
    }
   ],
   "source": [
    "print(f\"Training Accuracy : {xgb_reg.score(X_train,y_train)}\")"
   ]
  },
  {
   "cell_type": "code",
   "execution_count": 248,
   "metadata": {},
   "outputs": [
    {
     "data": {
      "image/png": "[encoded data removed]",
      "text/plain": [
       "<Figure size 432x288 with 1 Axes>"
      ]
     },
     "metadata": {
      "needs_background": "light"
     },
     "output_type": "display_data"
    }
   ],
   "source": [
    "_ = plot_importance(xgb_reg, height=0.9)"
   ]
  },
  {
   "cell_type": "markdown",
   "metadata": {},
   "source": [
    "Generally, importance provides a score that indicates how useful or valuable each feature was in the construction of the boosted decision trees within the model. The more an attribute is used to make key decisions with decision trees, the higher its relative importance."
   ]
  },
  {
   "cell_type": "code",
   "execution_count": 249,
   "metadata": {},
   "outputs": [],
   "source": [
    "df_test[\"#Passengers-predicted\"] = xgb_reg.predict(X_test)\n",
    "df_full = pd.concat([df_test, df_train], sort = False)"
   ]
  },
  {
   "cell_type": "code",
   "execution_count": 250,
   "metadata": {},
   "outputs": [
    {
     "data": {
      "image/png": "[encoded data removed]",
      "text/plain": [
       "<Figure size 1080x360 with 1 Axes>"
      ]
     },
     "metadata": {
      "needs_background": "light"
     },
     "output_type": "display_data"
    }
   ],
   "source": [
    "_ = df_full[['#Passengers','#Passengers-predicted']].plot(figsize=(15, 5))"
   ]
  }
 ],
 "metadata": {
  "kernelspec": {
   "display_name": "Python 3.9.9 ('.venv': venv)",
   "language": "python",
   "name": "python3"
  },
  "language_info": {
   "codemirror_mode": {
    "name": "ipython",
    "version": 3
   },
   "file_extension": ".py",
   "mimetype": "text/x-python",
   "name": "python",
   "nbconvert_exporter": "python",
   "pygments_lexer": "ipython3",
   "version": "3.9.9"
  },
  "orig_nbformat": 4,
  "vscode": {
   "interpreter": {
    "hash": "97cd95b128fd0606ededb758169258947141742897922e66d6f8b41369559dcb"
   }
  }
 },
 "nbformat": 4,
 "nbformat_minor": 2
}
