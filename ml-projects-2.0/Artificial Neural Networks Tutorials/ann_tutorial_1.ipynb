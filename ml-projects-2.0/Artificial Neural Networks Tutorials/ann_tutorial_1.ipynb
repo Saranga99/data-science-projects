{
 "cells": [
  {
   "cell_type": "code",
   "execution_count": null,
   "metadata": {},
   "outputs": [],
   "source": []
  }
 ],
 "metadata": {
  "kernelspec": {
   "display_name": "Python 3.9.9 64-bit",
   "language": "python",
   "name": "python3"
  },
  "language_info": {
   "name": "python",
   "version": "3.9.9"
  },
  "orig_nbformat": 4,
  "vscode": {
   "interpreter": {
    "hash": "daaafa462856294e54ab9f371f860371ad8ea1ae7e7a5f8ff84a1f404a9e7672"
   }
  }
 },
 "nbformat": 4,
 "nbformat_minor": 2
}
