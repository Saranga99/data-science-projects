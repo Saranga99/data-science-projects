{
 "cells": [
  {
   "cell_type": "code",
   "execution_count": 187,
   "metadata": {},
   "outputs": [],
   "source": [
    "#import packages\n",
    "import pandas as pd\n",
    "import numpy as np\n",
    "import matplotlib.pyplot as plt\n",
    "%matplotlib inline\n",
    "import seaborn as sns\n",
    "from IPython import get_ipython\n",
    "import warnings\n",
    "warnings.filterwarnings(\"ignore\")"
   ]
  },
  {
   "cell_type": "code",
   "execution_count": 188,
   "metadata": {},
   "outputs": [],
   "source": [
    "df = pd.read_csv(\"data/Coursera.csv\")"
   ]
  },
  {
   "cell_type": "code",
   "execution_count": 189,
   "metadata": {},
   "outputs": [
    {
     "data": {
      "text/html": [
       "<div>\n",
       "<style scoped>\n",
       "    .dataframe tbody tr th:only-of-type {\n",
       "        vertical-align: middle;\n",
       "    }\n",
       "\n",
       "    .dataframe tbody tr th {\n",
       "        vertical-align: top;\n",
       "    }\n",
       "\n",
       "    .dataframe thead th {\n",
       "        text-align: right;\n",
       "    }\n",
       "</style>\n",
       "<table border=\"1\" class=\"dataframe\">\n",
       "  <thead>\n",
       "    <tr style=\"text-align: right;\">\n",
       "      <th></th>\n",
       "      <th>Course Name</th>\n",
       "      <th>University</th>\n",
       "      <th>Difficulty Level</th>\n",
       "      <th>Course Rating</th>\n",
       "      <th>Course URL</th>\n",
       "      <th>Course Description</th>\n",
       "      <th>Skills</th>\n",
       "    </tr>\n",
       "  </thead>\n",
       "  <tbody>\n",
       "    <tr>\n",
       "      <th>0</th>\n",
       "      <td>Write A Feature Length Screenplay For Film Or ...</td>\n",
       "      <td>Michigan State University</td>\n",
       "      <td>Beginner</td>\n",
       "      <td>4.8</td>\n",
       "      <td>https://www.coursera.org/learn/write-a-feature...</td>\n",
       "      <td>Write a Full Length Feature Film Script  In th...</td>\n",
       "      <td>Drama  Comedy  peering  screenwriting  film  D...</td>\n",
       "    </tr>\n",
       "    <tr>\n",
       "      <th>1</th>\n",
       "      <td>Business Strategy: Business Model Canvas Analy...</td>\n",
       "      <td>Coursera Project Network</td>\n",
       "      <td>Beginner</td>\n",
       "      <td>4.8</td>\n",
       "      <td>https://www.coursera.org/learn/canvas-analysis...</td>\n",
       "      <td>By the end of this guided project, you will be...</td>\n",
       "      <td>Finance  business plan  persona (user experien...</td>\n",
       "    </tr>\n",
       "    <tr>\n",
       "      <th>2</th>\n",
       "      <td>Silicon Thin Film Solar Cells</td>\n",
       "      <td>�cole Polytechnique</td>\n",
       "      <td>Advanced</td>\n",
       "      <td>4.1</td>\n",
       "      <td>https://www.coursera.org/learn/silicon-thin-fi...</td>\n",
       "      <td>This course consists of a general presentation...</td>\n",
       "      <td>chemistry  physics  Solar Energy  film  lambda...</td>\n",
       "    </tr>\n",
       "    <tr>\n",
       "      <th>3</th>\n",
       "      <td>Finance for Managers</td>\n",
       "      <td>IESE Business School</td>\n",
       "      <td>Intermediate</td>\n",
       "      <td>4.8</td>\n",
       "      <td>https://www.coursera.org/learn/operational-fin...</td>\n",
       "      <td>When it comes to numbers, there is always more...</td>\n",
       "      <td>accounts receivable  dupont analysis  analysis...</td>\n",
       "    </tr>\n",
       "    <tr>\n",
       "      <th>4</th>\n",
       "      <td>Retrieve Data using Single-Table SQL Queries</td>\n",
       "      <td>Coursera Project Network</td>\n",
       "      <td>Beginner</td>\n",
       "      <td>4.6</td>\n",
       "      <td>https://www.coursera.org/learn/single-table-sq...</td>\n",
       "      <td>In this course you�ll learn how to effectively...</td>\n",
       "      <td>Data Analysis  select (sql)  database manageme...</td>\n",
       "    </tr>\n",
       "  </tbody>\n",
       "</table>\n",
       "</div>"
      ],
      "text/plain": [
       "                                         Course Name  \\\n",
       "0  Write A Feature Length Screenplay For Film Or ...   \n",
       "1  Business Strategy: Business Model Canvas Analy...   \n",
       "2                      Silicon Thin Film Solar Cells   \n",
       "3                               Finance for Managers   \n",
       "4       Retrieve Data using Single-Table SQL Queries   \n",
       "\n",
       "                  University Difficulty Level Course Rating  \\\n",
       "0  Michigan State University         Beginner           4.8   \n",
       "1   Coursera Project Network         Beginner           4.8   \n",
       "2        �cole Polytechnique         Advanced           4.1   \n",
       "3       IESE Business School     Intermediate           4.8   \n",
       "4   Coursera Project Network         Beginner           4.6   \n",
       "\n",
       "                                          Course URL  \\\n",
       "0  https://www.coursera.org/learn/write-a-feature...   \n",
       "1  https://www.coursera.org/learn/canvas-analysis...   \n",
       "2  https://www.coursera.org/learn/silicon-thin-fi...   \n",
       "3  https://www.coursera.org/learn/operational-fin...   \n",
       "4  https://www.coursera.org/learn/single-table-sq...   \n",
       "\n",
       "                                  Course Description  \\\n",
       "0  Write a Full Length Feature Film Script  In th...   \n",
       "1  By the end of this guided project, you will be...   \n",
       "2  This course consists of a general presentation...   \n",
       "3  When it comes to numbers, there is always more...   \n",
       "4  In this course you�ll learn how to effectively...   \n",
       "\n",
       "                                              Skills  \n",
       "0  Drama  Comedy  peering  screenwriting  film  D...  \n",
       "1  Finance  business plan  persona (user experien...  \n",
       "2  chemistry  physics  Solar Energy  film  lambda...  \n",
       "3  accounts receivable  dupont analysis  analysis...  \n",
       "4  Data Analysis  select (sql)  database manageme...  "
      ]
     },
     "execution_count": 189,
     "metadata": {},
     "output_type": "execute_result"
    }
   ],
   "source": [
    "#first 5 rows\n",
    "df.head()"
   ]
  },
  {
   "cell_type": "markdown",
   "metadata": {},
   "source": [
    "#### Exploring dataset"
   ]
  },
  {
   "cell_type": "code",
   "execution_count": 190,
   "metadata": {},
   "outputs": [],
   "source": [
    "def explore_dataset(data):\n",
    "    print(f\"1. Dimentions of the Dataset : {data.shape}\\n\")\n",
    "    print(f\"2. Features in Dataset : \\n{data.columns}\\n\")\n",
    "    print(f\"3. Duplicated count : {data.duplicated().sum()}\\n\")\n",
    "    print(f\"4. Info : \\n{data.info()}\\n\")"
   ]
  },
  {
   "cell_type": "code",
   "execution_count": 191,
   "metadata": {},
   "outputs": [
    {
     "name": "stdout",
     "output_type": "stream",
     "text": [
      "1. Dimentions of the Dataset : (3522, 7)\n",
      "\n",
      "2. Features in Dataset : \n",
      "Index(['Course Name', 'University', 'Difficulty Level', 'Course Rating',\n",
      "       'Course URL', 'Course Description', 'Skills'],\n",
      "      dtype='object')\n",
      "\n",
      "3. Duplicated count : 98\n",
      "\n",
      "<class 'pandas.core.frame.DataFrame'>\n",
      "RangeIndex: 3522 entries, 0 to 3521\n",
      "Data columns (total 7 columns):\n",
      " #   Column              Non-Null Count  Dtype \n",
      "---  ------              --------------  ----- \n",
      " 0   Course Name         3522 non-null   object\n",
      " 1   University          3522 non-null   object\n",
      " 2   Difficulty Level    3522 non-null   object\n",
      " 3   Course Rating       3522 non-null   object\n",
      " 4   Course URL          3522 non-null   object\n",
      " 5   Course Description  3522 non-null   object\n",
      " 6   Skills              3522 non-null   object\n",
      "dtypes: object(7)\n",
      "memory usage: 192.7+ KB\n",
      "4. Info : \n",
      "None\n",
      "\n"
     ]
    }
   ],
   "source": [
    "explore_dataset(df)"
   ]
  },
  {
   "cell_type": "code",
   "execution_count": 192,
   "metadata": {},
   "outputs": [
    {
     "data": {
      "text/html": [
       "<div>\n",
       "<style scoped>\n",
       "    .dataframe tbody tr th:only-of-type {\n",
       "        vertical-align: middle;\n",
       "    }\n",
       "\n",
       "    .dataframe tbody tr th {\n",
       "        vertical-align: top;\n",
       "    }\n",
       "\n",
       "    .dataframe thead th {\n",
       "        text-align: right;\n",
       "    }\n",
       "</style>\n",
       "<table border=\"1\" class=\"dataframe\">\n",
       "  <thead>\n",
       "    <tr style=\"text-align: right;\">\n",
       "      <th></th>\n",
       "      <th>Course Name</th>\n",
       "      <th>University</th>\n",
       "      <th>Difficulty Level</th>\n",
       "      <th>Course Rating</th>\n",
       "      <th>Course URL</th>\n",
       "      <th>Course Description</th>\n",
       "      <th>Skills</th>\n",
       "    </tr>\n",
       "  </thead>\n",
       "  <tbody>\n",
       "    <tr>\n",
       "      <th>count</th>\n",
       "      <td>3522</td>\n",
       "      <td>3522</td>\n",
       "      <td>3522</td>\n",
       "      <td>3522</td>\n",
       "      <td>3522</td>\n",
       "      <td>3522</td>\n",
       "      <td>3522</td>\n",
       "    </tr>\n",
       "    <tr>\n",
       "      <th>unique</th>\n",
       "      <td>3416</td>\n",
       "      <td>184</td>\n",
       "      <td>5</td>\n",
       "      <td>31</td>\n",
       "      <td>3424</td>\n",
       "      <td>3397</td>\n",
       "      <td>3424</td>\n",
       "    </tr>\n",
       "    <tr>\n",
       "      <th>top</th>\n",
       "      <td>Google Cloud Platform Fundamentals: Core Infra...</td>\n",
       "      <td>Coursera Project Network</td>\n",
       "      <td>Beginner</td>\n",
       "      <td>4.7</td>\n",
       "      <td>https://www.coursera.org/learn/gcp-fundamentals</td>\n",
       "      <td>This course introduces you to important concep...</td>\n",
       "      <td>Google Cloud Platform  Big Data  Cloud Infrast...</td>\n",
       "    </tr>\n",
       "    <tr>\n",
       "      <th>freq</th>\n",
       "      <td>8</td>\n",
       "      <td>562</td>\n",
       "      <td>1444</td>\n",
       "      <td>740</td>\n",
       "      <td>8</td>\n",
       "      <td>8</td>\n",
       "      <td>8</td>\n",
       "    </tr>\n",
       "  </tbody>\n",
       "</table>\n",
       "</div>"
      ],
      "text/plain": [
       "                                              Course Name  \\\n",
       "count                                                3522   \n",
       "unique                                               3416   \n",
       "top     Google Cloud Platform Fundamentals: Core Infra...   \n",
       "freq                                                    8   \n",
       "\n",
       "                      University Difficulty Level Course Rating  \\\n",
       "count                       3522             3522          3522   \n",
       "unique                       184                5            31   \n",
       "top     Coursera Project Network         Beginner           4.7   \n",
       "freq                         562             1444           740   \n",
       "\n",
       "                                             Course URL  \\\n",
       "count                                              3522   \n",
       "unique                                             3424   \n",
       "top     https://www.coursera.org/learn/gcp-fundamentals   \n",
       "freq                                                  8   \n",
       "\n",
       "                                       Course Description  \\\n",
       "count                                                3522   \n",
       "unique                                               3397   \n",
       "top     This course introduces you to important concep...   \n",
       "freq                                                    8   \n",
       "\n",
       "                                                   Skills  \n",
       "count                                                3522  \n",
       "unique                                               3424  \n",
       "top     Google Cloud Platform  Big Data  Cloud Infrast...  \n",
       "freq                                                    8  "
      ]
     },
     "execution_count": 192,
     "metadata": {},
     "output_type": "execute_result"
    }
   ],
   "source": [
    "df.describe()"
   ]
  },
  {
   "cell_type": "code",
   "execution_count": 193,
   "metadata": {},
   "outputs": [],
   "source": [
    "# remove all duplicates\n",
    "df = df.drop_duplicates()"
   ]
  },
  {
   "cell_type": "code",
   "execution_count": 194,
   "metadata": {},
   "outputs": [
    {
     "data": {
      "text/plain": [
       "0"
      ]
     },
     "execution_count": 194,
     "metadata": {},
     "output_type": "execute_result"
    }
   ],
   "source": [
    "df.duplicated().sum()"
   ]
  },
  {
   "cell_type": "code",
   "execution_count": 195,
   "metadata": {},
   "outputs": [
    {
     "data": {
      "text/plain": [
       "Course Name           0\n",
       "University            0\n",
       "Difficulty Level      0\n",
       "Course Rating         0\n",
       "Course URL            0\n",
       "Course Description    0\n",
       "Skills                0\n",
       "dtype: int64"
      ]
     },
     "execution_count": 195,
     "metadata": {},
     "output_type": "execute_result"
    }
   ],
   "source": [
    "# checking null values in data\n",
    "df.isnull().sum()"
   ]
  },
  {
   "cell_type": "code",
   "execution_count": 196,
   "metadata": {},
   "outputs": [
    {
     "name": "stdout",
     "output_type": "stream",
     "text": [
      "<class 'pandas.core.frame.DataFrame'>\n",
      "Int64Index: 3424 entries, 0 to 3521\n",
      "Data columns (total 7 columns):\n",
      " #   Column              Non-Null Count  Dtype \n",
      "---  ------              --------------  ----- \n",
      " 0   Course Name         3424 non-null   object\n",
      " 1   University          3424 non-null   object\n",
      " 2   Difficulty Level    3424 non-null   object\n",
      " 3   Course Rating       3424 non-null   object\n",
      " 4   Course URL          3424 non-null   object\n",
      " 5   Course Description  3424 non-null   object\n",
      " 6   Skills              3424 non-null   object\n",
      "dtypes: object(7)\n",
      "memory usage: 214.0+ KB\n"
     ]
    }
   ],
   "source": [
    "df.info()"
   ]
  },
  {
   "cell_type": "code",
   "execution_count": 197,
   "metadata": {},
   "outputs": [
    {
     "data": {
      "text/plain": [
       "Course Name           3416\n",
       "University             184\n",
       "Difficulty Level         5\n",
       "Course Rating           31\n",
       "Course URL            3424\n",
       "Course Description    3397\n",
       "Skills                3424\n",
       "dtype: int64"
      ]
     },
     "execution_count": 197,
     "metadata": {},
     "output_type": "execute_result"
    }
   ],
   "source": [
    "df.nunique()"
   ]
  },
  {
   "cell_type": "code",
   "execution_count": 198,
   "metadata": {},
   "outputs": [
    {
     "data": {
      "text/plain": [
       "Beginner          1406\n",
       "Advanced           991\n",
       "Intermediate       823\n",
       "Conversant         154\n",
       "Not Calibrated      50\n",
       "Name: Difficulty Level, dtype: int64"
      ]
     },
     "execution_count": 198,
     "metadata": {},
     "output_type": "execute_result"
    }
   ],
   "source": [
    "#check count of courses in each difficulity level\n",
    "df[\"Difficulty Level\"].value_counts()"
   ]
  },
  {
   "cell_type": "code",
   "execution_count": 199,
   "metadata": {},
   "outputs": [
    {
     "data": {
      "image/png": "[encoded data removed]",
      "text/plain": [
       "<Figure size 1500x600 with 1 Axes>"
      ]
     },
     "metadata": {},
     "output_type": "display_data"
    }
   ],
   "source": [
    "plt.figure(figsize=(15,6))\n",
    "sns.countplot(data=df, y=df[\"Difficulty Level\"],\n",
    "palette = 'hls')\n",
    "plt.xticks(rotation = 90)\n",
    "plt.title(\"Difficulty Level Destribution\")\n",
    "plt.show()"
   ]
  },
  {
   "cell_type": "code",
   "execution_count": 200,
   "metadata": {},
   "outputs": [
    {
     "data": {
      "image/png": "[encoded data removed]",
      "text/plain": [
       "<Figure size 800x800 with 1 Axes>"
      ]
     },
     "metadata": {},
     "output_type": "display_data"
    }
   ],
   "source": [
    "df['Difficulty Level'].value_counts().plot(kind='pie',\n",
    "figsize=(8, 8),\n",
    "autopct='%1.1f%%')\n",
    "plt.xticks(rotation = 90)\n",
    "plt.title(\"Difficulty Level\")\n",
    "plt.show()"
   ]
  },
  {
   "cell_type": "code",
   "execution_count": 201,
   "metadata": {},
   "outputs": [
    {
     "data": {
      "text/plain": [
       "array(['4.8', '4.1', '4.6', '4.7', '3.3', '4.9', '4.3', 'Not Calibrated',\n",
       "       '4', '4.4', '3.4', '4.5', '4.2', '5', '3.5', '3.7', '3', '3.6',\n",
       "       '3.8', '3.9', '2.9', '2.6', '2.8', '2', '3.1', '3.2', '2.5', '2.4',\n",
       "       '1', '1.9', '2.3'], dtype=object)"
      ]
     },
     "execution_count": 201,
     "metadata": {},
     "output_type": "execute_result"
    }
   ],
   "source": [
    "df['Course Rating'].unique()"
   ]
  },
  {
   "cell_type": "code",
   "execution_count": 202,
   "metadata": {},
   "outputs": [
    {
     "data": {
      "text/plain": [
       "4.7               707\n",
       "4.6               602\n",
       "4.8               585\n",
       "4.5               380\n",
       "4.4               235\n",
       "4.9               174\n",
       "4.3               159\n",
       "4.2               120\n",
       "5                  89\n",
       "4.1                85\n",
       "Not Calibrated     82\n",
       "4                  50\n",
       "3.8                24\n",
       "3.9                20\n",
       "3.6                18\n",
       "3.7                18\n",
       "3.5                17\n",
       "3.4                13\n",
       "3                  12\n",
       "3.2                 9\n",
       "3.3                 6\n",
       "2.9                 6\n",
       "2.6                 2\n",
       "2.8                 2\n",
       "2.4                 2\n",
       "1                   2\n",
       "2                   1\n",
       "3.1                 1\n",
       "2.5                 1\n",
       "1.9                 1\n",
       "2.3                 1\n",
       "Name: Course Rating, dtype: int64"
      ]
     },
     "execution_count": 202,
     "metadata": {},
     "output_type": "execute_result"
    }
   ],
   "source": [
    "df[\"Course Rating\"].value_counts()"
   ]
  },
  {
   "cell_type": "code",
   "execution_count": 203,
   "metadata": {},
   "outputs": [
    {
     "data": {
      "image/png": "[encoded data removed]",
      "text/plain": [
       "<Figure size 1500x600 with 1 Axes>"
      ]
     },
     "metadata": {},
     "output_type": "display_data"
    }
   ],
   "source": [
    "plt.figure(figsize=(15,6))\n",
    "sns.countplot(data=df, x=df[\"Course Rating\"],\n",
    "palette = 'hls')\n",
    "plt.xticks(rotation = 90)\n",
    "plt.title(\"Course Rating Destribution\")\n",
    "plt.show()"
   ]
  },
  {
   "attachments": {},
   "cell_type": "markdown",
   "metadata": {},
   "source": [
    "Implemantation"
   ]
  },
  {
   "cell_type": "code",
   "execution_count": 204,
   "metadata": {},
   "outputs": [
    {
     "data": {
      "text/plain": [
       "array(['Michigan State University', 'Coursera Project Network',\n",
       "       '�cole Polytechnique', 'IESE Business School',\n",
       "       'The Chinese University of Hong Kong', 'University of Washington',\n",
       "       'The State University of New York',\n",
       "       'Saint Petersburg State University',\n",
       "       'University of California, Irvine',\n",
       "       'University of Colorado System', 'Rice University',\n",
       "       'University of Geneva', 'University of California, Davis',\n",
       "       '�cole Polytechnique F�d�rale de Lausanne', 'Google Cloud',\n",
       "       'National Research Tomsk State University',\n",
       "       'University of Florida', 'Johns Hopkins University',\n",
       "       'Universiteit Leiden', 'The University of Edinburgh',\n",
       "       'Columbia University',\n",
       "       'Korea Advanced Institute of Science and Technology(KAIST)',\n",
       "       'University of Maryland, College Park', 'IBM',\n",
       "       'The Hong Kong University of Science and Technology',\n",
       "       'University of Illinois at Urbana-Champaign',\n",
       "       'University of Cape Town', 'Goldman Sachs', 'Unity',\n",
       "       'Laureate Education', 'University of Alberta', 'Peking University',\n",
       "       'Commonwealth Education Trust', 'Georgia Institute of Technology',\n",
       "       'EIT Digital', 'University of Minnesota',\n",
       "       'Imperial College London', 'Yale University',\n",
       "       'Northeastern University', 'University of London',\n",
       "       'University of Colorado Boulder', 'Duke University',\n",
       "       'American Museum of Natural History',\n",
       "       'University of California, Santa Cruz',\n",
       "       'Icahn School of Medicine at Mount Sinai',\n",
       "       'The University of Melbourne', '�cole des Ponts ParisTech',\n",
       "       'Autodesk', 'University of Michigan', 'IE Business School',\n",
       "       'University of Copenhagen', 'University of California San Diego',\n",
       "       'The University of Sydney', 'California Institute of the Arts',\n",
       "       'University of Amsterdam', 'University of Rochester',\n",
       "       'DeepLearning.AI', 'University of Virginia',\n",
       "       'Case Western Reserve University', 'ESSEC Business School',\n",
       "       'Emory University', 'Berklee College of Music',\n",
       "       'Arizona State University',\n",
       "       'Rutgers the State University of New Jersey',\n",
       "       'University System of Georgia', 'Amazon Web Services',\n",
       "       'Northwestern University', 'Erasmus University Rotterdam',\n",
       "       'Google', 'Palo Alto Networks',\n",
       "       'Moscow State Institute of International Relations (MGIMO) / ????? (?????????? ??????????????? ???????? ????????????? ????????? ??? ??????)',\n",
       "       'West Virginia University', 'University of Toronto',\n",
       "       'Vanderbilt University', 'Curtis Institute of Music',\n",
       "       'Technical University of Denmark (DTU)',\n",
       "       'The Museum of Modern Art', 'Macquarie University',\n",
       "       'Moscow Institute of Physics and Technology',\n",
       "       'The University of North Carolina at Chapel Hill',\n",
       "       'Politecnico di Milano', 'Universit� Bocconi',\n",
       "       'New York University', 'Universitat Aut�noma de Barcelona',\n",
       "       'Facebook', 'Institute for the Future', 'Lund University',\n",
       "       'HubSpot Academy',\n",
       "       'Peter the Great St. Petersburg Polytechnic University', 'Caltech',\n",
       "       'National Research University Higher School of Economics',\n",
       "       'Ludwig-Maximilians-Universit�t M�nchen (LMU)',\n",
       "       \"Xi'an Jiaotong University\", 'Yonsei University',\n",
       "       '�cole normale sup�rieure', 'LearnQuest', 'University of Lausanne',\n",
       "       'Tel Aviv University', 'Google AR & VR', 'Automation Anywhere',\n",
       "       'National Research Nuclear University MEPhI', 'INSEAD',\n",
       "       'Nanjing University',\n",
       "       'UNSW Sydney (The University of New South Wales)',\n",
       "       'Wesleyan University', 'Hebrew University of Jerusalem',\n",
       "       'CentraleSup�lec', 'HEC Paris', 'The Linux Foundation',\n",
       "       'University of Manchester',\n",
       "       'Universidad Nacional Aut�noma de M�xico',\n",
       "       'Technion - Israel Institute of Technology',\n",
       "       'University of Kentucky', 'Indian School of Business',\n",
       "       'Sapienza University of Rome', 'Shanghai Jiao Tong University',\n",
       "       'Relay Graduate School of Education', 'The University of Chicago',\n",
       "       'University of Houston', 'Utrecht University',\n",
       "       'ESCP Business School', 'Eindhoven University of Technology',\n",
       "       'Tsinghua University',\n",
       "       'Association of International Certified Professional Accountants',\n",
       "       'Princeton University', 'Sciences Po',\n",
       "       'Advancing Women in Product', 'University of Leeds',\n",
       "       'University of Zurich', 'Technische Universit�t M�nchen (TUM)',\n",
       "       'Yad Vashem', 'Funda��o Instituto de Administra��o',\n",
       "       'Copenhagen Business School', 'University of Glasgow',\n",
       "       'Yeshiva University', 'SAS', 'Institut Mines-T�l�com',\n",
       "       'University of Pittsburgh', 'National University of Singapore',\n",
       "       'MathWorks', 'McMaster University', 'Intel',\n",
       "       'Alberta Machine Intelligence Institute', '(ISC)�',\n",
       "       'The Pennsylvania State University',\n",
       "       'High Tech High Graduate School of Education',\n",
       "       'University of New Mexico',\n",
       "       'Pohang University of Science and Technology',\n",
       "       'Nanyang Technological University, Singapore',\n",
       "       'Novosibirsk State University', 'National Taiwan University',\n",
       "       'GitLab', 'University of North Texas', 'ConsenSys Academy',\n",
       "       'The University of Tokyo', 'New Teacher Center',\n",
       "       'Alibaba Cloud Academy', 'Cloudera', 'The University of Hong Kong',\n",
       "       'Yandex', 'H2O', 'University of Western Australia',\n",
       "       'Brightline Initiative', 'The George Washington University',\n",
       "       'Karlsruhe Institute for Technology', 'Exploratorium',\n",
       "       'EDHEC Business School', 'SV Academy', 'CertNexus', 'MongoDB Inc.',\n",
       "       'New York Institute of Finance', 'Carnegie Mellon University',\n",
       "       'University of Arizona', 'Check Point Software Technologies Ltd.',\n",
       "       'Atlassian', 'Coursera', 'Universitat de Barcelona', 'JetBrains',\n",
       "       'Osmosis', 'University of Nebraska',\n",
       "       'Pontificia Universidad Cat�lica de Chile', 'VMware',\n",
       "       'E-Learning Development Fund', 'The World Bank Group'],\n",
       "      dtype=object)"
      ]
     },
     "execution_count": 204,
     "metadata": {},
     "output_type": "execute_result"
    }
   ],
   "source": [
    "df[\"University\"].unique()"
   ]
  },
  {
   "cell_type": "code",
   "execution_count": 205,
   "metadata": {},
   "outputs": [
    {
     "data": {
      "text/plain": [
       "Coursera Project Network                      562\n",
       "University of Illinois at Urbana-Champaign    138\n",
       "University of Michigan                        101\n",
       "Johns Hopkins University                      101\n",
       "University of Colorado Boulder                101\n",
       "                                             ... \n",
       "GitLab                                          1\n",
       "Yeshiva University                              1\n",
       "University of Glasgow                           1\n",
       "Laureate Education                              1\n",
       "The World Bank Group                            1\n",
       "Name: University, Length: 184, dtype: int64"
      ]
     },
     "execution_count": 205,
     "metadata": {},
     "output_type": "execute_result"
    }
   ],
   "source": [
    "df[\"University\"].value_counts()"
   ]
  },
  {
   "cell_type": "code",
   "execution_count": 206,
   "metadata": {},
   "outputs": [],
   "source": [
    "df = df[['Course Name','Difficulty Level','Course Description','Skills']]"
   ]
  },
  {
   "cell_type": "code",
   "execution_count": 207,
   "metadata": {},
   "outputs": [
    {
     "data": {
      "text/html": [
       "<div>\n",
       "<style scoped>\n",
       "    .dataframe tbody tr th:only-of-type {\n",
       "        vertical-align: middle;\n",
       "    }\n",
       "\n",
       "    .dataframe tbody tr th {\n",
       "        vertical-align: top;\n",
       "    }\n",
       "\n",
       "    .dataframe thead th {\n",
       "        text-align: right;\n",
       "    }\n",
       "</style>\n",
       "<table border=\"1\" class=\"dataframe\">\n",
       "  <thead>\n",
       "    <tr style=\"text-align: right;\">\n",
       "      <th></th>\n",
       "      <th>Course Name</th>\n",
       "      <th>Difficulty Level</th>\n",
       "      <th>Course Description</th>\n",
       "      <th>Skills</th>\n",
       "    </tr>\n",
       "  </thead>\n",
       "  <tbody>\n",
       "    <tr>\n",
       "      <th>0</th>\n",
       "      <td>Write A Feature Length Screenplay For Film Or ...</td>\n",
       "      <td>Beginner</td>\n",
       "      <td>Write a Full Length Feature Film Script  In th...</td>\n",
       "      <td>Drama  Comedy  peering  screenwriting  film  D...</td>\n",
       "    </tr>\n",
       "    <tr>\n",
       "      <th>1</th>\n",
       "      <td>Business Strategy: Business Model Canvas Analy...</td>\n",
       "      <td>Beginner</td>\n",
       "      <td>By the end of this guided project, you will be...</td>\n",
       "      <td>Finance  business plan  persona (user experien...</td>\n",
       "    </tr>\n",
       "    <tr>\n",
       "      <th>2</th>\n",
       "      <td>Silicon Thin Film Solar Cells</td>\n",
       "      <td>Advanced</td>\n",
       "      <td>This course consists of a general presentation...</td>\n",
       "      <td>chemistry  physics  Solar Energy  film  lambda...</td>\n",
       "    </tr>\n",
       "    <tr>\n",
       "      <th>3</th>\n",
       "      <td>Finance for Managers</td>\n",
       "      <td>Intermediate</td>\n",
       "      <td>When it comes to numbers, there is always more...</td>\n",
       "      <td>accounts receivable  dupont analysis  analysis...</td>\n",
       "    </tr>\n",
       "    <tr>\n",
       "      <th>4</th>\n",
       "      <td>Retrieve Data using Single-Table SQL Queries</td>\n",
       "      <td>Beginner</td>\n",
       "      <td>In this course you�ll learn how to effectively...</td>\n",
       "      <td>Data Analysis  select (sql)  database manageme...</td>\n",
       "    </tr>\n",
       "  </tbody>\n",
       "</table>\n",
       "</div>"
      ],
      "text/plain": [
       "                                         Course Name Difficulty Level  \\\n",
       "0  Write A Feature Length Screenplay For Film Or ...         Beginner   \n",
       "1  Business Strategy: Business Model Canvas Analy...         Beginner   \n",
       "2                      Silicon Thin Film Solar Cells         Advanced   \n",
       "3                               Finance for Managers     Intermediate   \n",
       "4       Retrieve Data using Single-Table SQL Queries         Beginner   \n",
       "\n",
       "                                  Course Description  \\\n",
       "0  Write a Full Length Feature Film Script  In th...   \n",
       "1  By the end of this guided project, you will be...   \n",
       "2  This course consists of a general presentation...   \n",
       "3  When it comes to numbers, there is always more...   \n",
       "4  In this course you�ll learn how to effectively...   \n",
       "\n",
       "                                              Skills  \n",
       "0  Drama  Comedy  peering  screenwriting  film  D...  \n",
       "1  Finance  business plan  persona (user experien...  \n",
       "2  chemistry  physics  Solar Energy  film  lambda...  \n",
       "3  accounts receivable  dupont analysis  analysis...  \n",
       "4  Data Analysis  select (sql)  database manageme...  "
      ]
     },
     "execution_count": 207,
     "metadata": {},
     "output_type": "execute_result"
    }
   ],
   "source": [
    "df.head()"
   ]
  },
  {
   "cell_type": "code",
   "execution_count": 208,
   "metadata": {},
   "outputs": [],
   "source": [
    "def clean(data):\n",
    "    data['Course Name'] = data['Course Name'].str.replace(' ',',')\n",
    "    data['Course Name'] = data['Course Name'].str.replace(',,',',')\n",
    "    data['Course Name'] = data['Course Name'].str.replace(':','')\n",
    "    data['Course Description'] = data['Course Description'].str.replace(' ',',')\n",
    "    data['Course Description'] = data['Course Description'].str.replace(',,',',')\n",
    "    data['Course Description'] = data['Course Description'].str.replace('_','')\n",
    "    data['Course Description'] = data['Course Description'].str.replace(':','')\n",
    "    data['Course Description'] = data['Course Description'].str.replace('(','')\n",
    "    data['Course Description'] = data['Course Description'].str.replace(')','')\n",
    "    data['Skills'] = data['Skills'].str.replace('(','')\n",
    "    data['Skills'] = data['Skills'].str.replace(')','')\n",
    "    return data"
   ]
  },
  {
   "cell_type": "code",
   "execution_count": 209,
   "metadata": {},
   "outputs": [],
   "source": [
    "df=clean(df)"
   ]
  },
  {
   "cell_type": "code",
   "execution_count": 210,
   "metadata": {},
   "outputs": [
    {
     "data": {
      "text/html": [
       "<div>\n",
       "<style scoped>\n",
       "    .dataframe tbody tr th:only-of-type {\n",
       "        vertical-align: middle;\n",
       "    }\n",
       "\n",
       "    .dataframe tbody tr th {\n",
       "        vertical-align: top;\n",
       "    }\n",
       "\n",
       "    .dataframe thead th {\n",
       "        text-align: right;\n",
       "    }\n",
       "</style>\n",
       "<table border=\"1\" class=\"dataframe\">\n",
       "  <thead>\n",
       "    <tr style=\"text-align: right;\">\n",
       "      <th></th>\n",
       "      <th>Course Name</th>\n",
       "      <th>Difficulty Level</th>\n",
       "      <th>Course Description</th>\n",
       "      <th>Skills</th>\n",
       "      <th>Keywords</th>\n",
       "    </tr>\n",
       "  </thead>\n",
       "  <tbody>\n",
       "    <tr>\n",
       "      <th>0</th>\n",
       "      <td>Write,A,Feature,Length,Screenplay,For,Film,Or,...</td>\n",
       "      <td>Beginner</td>\n",
       "      <td>Write,a,Full,Length,Feature,Film,Script,In,thi...</td>\n",
       "      <td>Drama  Comedy  peering  screenwriting  film  D...</td>\n",
       "      <td>Write,A,Feature,Length,Screenplay,For,Film,Or,...</td>\n",
       "    </tr>\n",
       "    <tr>\n",
       "      <th>1</th>\n",
       "      <td>Business,Strategy,Business,Model,Canvas,Analys...</td>\n",
       "      <td>Beginner</td>\n",
       "      <td>By,the,end,of,this,guided,project,you,will,be,...</td>\n",
       "      <td>Finance  business plan  persona user experienc...</td>\n",
       "      <td>Business,Strategy,Business,Model,Canvas,Analys...</td>\n",
       "    </tr>\n",
       "    <tr>\n",
       "      <th>2</th>\n",
       "      <td>Silicon,Thin,Film,Solar,Cells</td>\n",
       "      <td>Advanced</td>\n",
       "      <td>This,course,consists,of,a,general,presentation...</td>\n",
       "      <td>chemistry  physics  Solar Energy  film  lambda...</td>\n",
       "      <td>Silicon,Thin,Film,Solar,CellsAdvancedThis,cour...</td>\n",
       "    </tr>\n",
       "    <tr>\n",
       "      <th>3</th>\n",
       "      <td>Finance,for,Managers</td>\n",
       "      <td>Intermediate</td>\n",
       "      <td>When,it,comes,to,numbers,there,is,always,more,...</td>\n",
       "      <td>accounts receivable  dupont analysis  analysis...</td>\n",
       "      <td>Finance,for,ManagersIntermediateWhen,it,comes,...</td>\n",
       "    </tr>\n",
       "    <tr>\n",
       "      <th>4</th>\n",
       "      <td>Retrieve,Data,using,Single-Table,SQL,Queries</td>\n",
       "      <td>Beginner</td>\n",
       "      <td>In,this,course,you�ll,learn,how,to,effectively...</td>\n",
       "      <td>Data Analysis  select sql  database management...</td>\n",
       "      <td>Retrieve,Data,using,Single-Table,SQL,QueriesBe...</td>\n",
       "    </tr>\n",
       "  </tbody>\n",
       "</table>\n",
       "</div>"
      ],
      "text/plain": [
       "                                         Course Name Difficulty Level  \\\n",
       "0  Write,A,Feature,Length,Screenplay,For,Film,Or,...         Beginner   \n",
       "1  Business,Strategy,Business,Model,Canvas,Analys...         Beginner   \n",
       "2                      Silicon,Thin,Film,Solar,Cells         Advanced   \n",
       "3                               Finance,for,Managers     Intermediate   \n",
       "4       Retrieve,Data,using,Single-Table,SQL,Queries         Beginner   \n",
       "\n",
       "                                  Course Description  \\\n",
       "0  Write,a,Full,Length,Feature,Film,Script,In,thi...   \n",
       "1  By,the,end,of,this,guided,project,you,will,be,...   \n",
       "2  This,course,consists,of,a,general,presentation...   \n",
       "3  When,it,comes,to,numbers,there,is,always,more,...   \n",
       "4  In,this,course,you�ll,learn,how,to,effectively...   \n",
       "\n",
       "                                              Skills  \\\n",
       "0  Drama  Comedy  peering  screenwriting  film  D...   \n",
       "1  Finance  business plan  persona user experienc...   \n",
       "2  chemistry  physics  Solar Energy  film  lambda...   \n",
       "3  accounts receivable  dupont analysis  analysis...   \n",
       "4  Data Analysis  select sql  database management...   \n",
       "\n",
       "                                            Keywords  \n",
       "0  Write,A,Feature,Length,Screenplay,For,Film,Or,...  \n",
       "1  Business,Strategy,Business,Model,Canvas,Analys...  \n",
       "2  Silicon,Thin,Film,Solar,CellsAdvancedThis,cour...  \n",
       "3  Finance,for,ManagersIntermediateWhen,it,comes,...  \n",
       "4  Retrieve,Data,using,Single-Table,SQL,QueriesBe...  "
      ]
     },
     "execution_count": 210,
     "metadata": {},
     "output_type": "execute_result"
    }
   ],
   "source": [
    "df['Keywords']=df[\"Course Name\"]+df[\"Difficulty Level\"]+df[\"Course Description\"]\n",
    "df.head()\n"
   ]
  },
  {
   "cell_type": "code",
   "execution_count": 211,
   "metadata": {},
   "outputs": [
    {
     "name": "stdout",
     "output_type": "stream",
     "text": [
      "Business,Strategy,Business,Model,Canvas,Analysis,with,MiroBeginnerBy,the,end,of,this,guided,project,you,will,be,fluent,in,identifying,and,creating,Business,Model,Canvas,solutions,based,on,previous,high-level,analyses,and,research,data.,This,will,enable,you,to,identify,and,map,the,elements,required,for,new,products,and,services.,Furthermore,it,is,essential,for,generating,positive,results,for,your,business,venture.,This,guided,project,is,designed,to,engage,and,harness,your,visionary,and,exploratory,abilities.,You,will,use,proven,models,in,strategy,and,product,development,with,the,Miro,platform,to,explore,and,analyse,your,business,propositions.,,We,will,practice,critically,examining,results,from,previous,analysis,and,research,results,in,deriving,the,values,for,each,of,the,business,model,sections.\n"
     ]
    }
   ],
   "source": [
    "print(df['Keywords'].iloc[1])"
   ]
  },
  {
   "cell_type": "code",
   "execution_count": null,
   "metadata": {},
   "outputs": [],
   "source": []
  }
 ],
 "metadata": {
  "kernelspec": {
   "display_name": "Python 3.9.9 ('.venv': venv)",
   "language": "python",
   "name": "python3"
  },
  "language_info": {
   "codemirror_mode": {
    "name": "ipython",
    "version": 3
   },
   "file_extension": ".py",
   "mimetype": "text/x-python",
   "name": "python",
   "nbconvert_exporter": "python",
   "pygments_lexer": "ipython3",
   "version": "3.9.9"
  },
  "orig_nbformat": 4,
  "vscode": {
   "interpreter": {
    "hash": "e99bac87e0d6fb994d1a9ca7aa091973b0a451b37506411ea72f11ef1c6ee8a2"
   }
  }
 },
 "nbformat": 4,
 "nbformat_minor": 2
}
