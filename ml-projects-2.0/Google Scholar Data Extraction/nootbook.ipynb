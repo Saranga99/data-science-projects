{
 "cells": [
  {
   "cell_type": "code",
   "execution_count": 31,
   "metadata": {},
   "outputs": [],
   "source": [
    "from serpapi import GoogleSearch\n",
    "import pandas as pd"
   ]
  },
  {
   "cell_type": "code",
   "execution_count": 32,
   "metadata": {},
   "outputs": [
    {
     "name": "stdout",
     "output_type": "stream",
     "text": [
      "https://serpapi.com/search\n"
     ]
    }
   ],
   "source": [
    "params = {\n",
    "  \"engine\": \"google_scholar\",\n",
    "  \"q\": [\"Machine Learning\",\"Deep Learning\",\"NLP\",\"BERT\",\"AI\"],\n",
    "  \"api_key\": \"4c63dda5a43be4c5d04bce2de03530533cf47c72e164da52582905ac9fdc8cfd\",\n",
    "  \"num\":\"1000\"\n",
    "}\n",
    "\n",
    "search = GoogleSearch(params)\n",
    "results = search.get_dict()\n",
    "organic_results = results[\"organic_results\"]"
   ]
  },
  {
   "cell_type": "code",
   "execution_count": 33,
   "metadata": {},
   "outputs": [
    {
     "data": {
      "text/plain": [
       "'… the evolution of NLP research … NLP research has been gradually shifting from lexical semantics to compositional semantics and offers insights on next-generation narrative-based NLP …'"
      ]
     },
     "execution_count": 33,
     "metadata": {},
     "output_type": "execute_result"
    }
   ],
   "source": [
    "organic_results[0][\"snippet\"]"
   ]
  },
  {
   "cell_type": "code",
   "execution_count": 34,
   "metadata": {},
   "outputs": [],
   "source": [
    "df=pd.DataFrame(organic_results)"
   ]
  },
  {
   "cell_type": "code",
   "execution_count": 35,
   "metadata": {},
   "outputs": [
    {
     "data": {
      "text/plain": [
       "(20, 9)"
      ]
     },
     "execution_count": 35,
     "metadata": {},
     "output_type": "execute_result"
    }
   ],
   "source": [
    "df.shape"
   ]
  }
 ],
 "metadata": {
  "kernelspec": {
   "display_name": "Python 3.9.9 ('.venv': venv)",
   "language": "python",
   "name": "python3"
  },
  "language_info": {
   "codemirror_mode": {
    "name": "ipython",
    "version": 3
   },
   "file_extension": ".py",
   "mimetype": "text/x-python",
   "name": "python",
   "nbconvert_exporter": "python",
   "pygments_lexer": "ipython3",
   "version": "3.9.9"
  },
  "orig_nbformat": 4,
  "vscode": {
   "interpreter": {
    "hash": "2e142b44baa13c7d052c9035cb00342cd4207695e3b282ade96cabe136be2f4a"
   }
  }
 },
 "nbformat": 4,
 "nbformat_minor": 2
}
