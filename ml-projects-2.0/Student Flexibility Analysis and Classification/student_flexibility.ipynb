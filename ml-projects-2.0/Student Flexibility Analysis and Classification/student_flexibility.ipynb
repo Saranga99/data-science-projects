{
 "cells": [
  {
   "cell_type": "code",
   "execution_count": 32,
   "metadata": {},
   "outputs": [],
   "source": [
    "import pandas as pd\n",
    "import numpy as np \n",
    "import matplotlib.pyplot as plt\n",
    "%matplotlib inline\n",
    "import seaborn as sns\n",
    "from IPython import get_ipython\n",
    "import warnings\n",
    "warnings.filterwarnings(\"ignore\") "
   ]
  },
  {
   "cell_type": "markdown",
   "metadata": {},
   "source": [
    "1. Importing Libraries And Loading the Dataset"
   ]
  },
  {
   "cell_type": "code",
   "execution_count": 33,
   "metadata": {},
   "outputs": [
    {
     "data": {
      "text/html": [
       "<div>\n",
       "<style scoped>\n",
       "    .dataframe tbody tr th:only-of-type {\n",
       "        vertical-align: middle;\n",
       "    }\n",
       "\n",
       "    .dataframe tbody tr th {\n",
       "        vertical-align: top;\n",
       "    }\n",
       "\n",
       "    .dataframe thead th {\n",
       "        text-align: right;\n",
       "    }\n",
       "</style>\n",
       "<table border=\"1\" class=\"dataframe\">\n",
       "  <thead>\n",
       "    <tr style=\"text-align: right;\">\n",
       "      <th></th>\n",
       "      <th>Education Level</th>\n",
       "      <th>Institution Type</th>\n",
       "      <th>Gender</th>\n",
       "      <th>Age</th>\n",
       "      <th>Device</th>\n",
       "      <th>IT Student</th>\n",
       "      <th>Location</th>\n",
       "      <th>Financial Condition</th>\n",
       "      <th>Internet Type</th>\n",
       "      <th>Network Type</th>\n",
       "      <th>Flexibility Level</th>\n",
       "    </tr>\n",
       "  </thead>\n",
       "  <tbody>\n",
       "    <tr>\n",
       "      <th>0</th>\n",
       "      <td>University</td>\n",
       "      <td>Private</td>\n",
       "      <td>Male</td>\n",
       "      <td>23</td>\n",
       "      <td>Tab</td>\n",
       "      <td>No</td>\n",
       "      <td>Town</td>\n",
       "      <td>Mid</td>\n",
       "      <td>Wifi</td>\n",
       "      <td>4G</td>\n",
       "      <td>Moderate</td>\n",
       "    </tr>\n",
       "    <tr>\n",
       "      <th>1</th>\n",
       "      <td>University</td>\n",
       "      <td>Private</td>\n",
       "      <td>Female</td>\n",
       "      <td>23</td>\n",
       "      <td>Mobile</td>\n",
       "      <td>No</td>\n",
       "      <td>Town</td>\n",
       "      <td>Mid</td>\n",
       "      <td>Mobile Data</td>\n",
       "      <td>4G</td>\n",
       "      <td>Moderate</td>\n",
       "    </tr>\n",
       "    <tr>\n",
       "      <th>2</th>\n",
       "      <td>College</td>\n",
       "      <td>Public</td>\n",
       "      <td>Female</td>\n",
       "      <td>18</td>\n",
       "      <td>Mobile</td>\n",
       "      <td>No</td>\n",
       "      <td>Town</td>\n",
       "      <td>Mid</td>\n",
       "      <td>Wifi</td>\n",
       "      <td>4G</td>\n",
       "      <td>Moderate</td>\n",
       "    </tr>\n",
       "    <tr>\n",
       "      <th>3</th>\n",
       "      <td>School</td>\n",
       "      <td>Private</td>\n",
       "      <td>Female</td>\n",
       "      <td>11</td>\n",
       "      <td>Mobile</td>\n",
       "      <td>No</td>\n",
       "      <td>Town</td>\n",
       "      <td>Mid</td>\n",
       "      <td>Mobile Data</td>\n",
       "      <td>4G</td>\n",
       "      <td>Moderate</td>\n",
       "    </tr>\n",
       "    <tr>\n",
       "      <th>4</th>\n",
       "      <td>School</td>\n",
       "      <td>Private</td>\n",
       "      <td>Female</td>\n",
       "      <td>18</td>\n",
       "      <td>Mobile</td>\n",
       "      <td>No</td>\n",
       "      <td>Town</td>\n",
       "      <td>Poor</td>\n",
       "      <td>Mobile Data</td>\n",
       "      <td>3G</td>\n",
       "      <td>Low</td>\n",
       "    </tr>\n",
       "  </tbody>\n",
       "</table>\n",
       "</div>"
      ],
      "text/plain": [
       "  Education Level Institution Type  Gender  Age  Device IT Student Location  \\\n",
       "0      University          Private    Male   23     Tab         No     Town   \n",
       "1      University          Private  Female   23  Mobile         No     Town   \n",
       "2         College           Public  Female   18  Mobile         No     Town   \n",
       "3          School          Private  Female   11  Mobile         No     Town   \n",
       "4          School          Private  Female   18  Mobile         No     Town   \n",
       "\n",
       "  Financial Condition Internet Type Network Type Flexibility Level  \n",
       "0                 Mid          Wifi           4G          Moderate  \n",
       "1                 Mid   Mobile Data           4G          Moderate  \n",
       "2                 Mid          Wifi           4G          Moderate  \n",
       "3                 Mid   Mobile Data           4G          Moderate  \n",
       "4                Poor   Mobile Data           3G               Low  "
      ]
     },
     "execution_count": 33,
     "metadata": {},
     "output_type": "execute_result"
    }
   ],
   "source": [
    "df = pd.read_csv(\"data/students_adaptability_level_online_education.csv\")\n",
    "df.head()"
   ]
  },
  {
   "cell_type": "markdown",
   "metadata": {},
   "source": [
    "Exploring dataset"
   ]
  },
  {
   "cell_type": "code",
   "execution_count": 34,
   "metadata": {},
   "outputs": [],
   "source": [
    "def explore_dataset(data):\n",
    "    print(f\"1. Dimentions of the Dataset : {data.shape}\\n\")\n",
    "    print(f\"2. Features in Dataset : \\n{data.columns}\\n\")\n",
    "    print(f\"3. Duplicated count : {data.duplicated().sum()}\\n\")\n",
    "    print(f\"4. Info : \\n{data.info()}\\n\")\n",
    "    print(f\"5. Deccribe : \\n{data.describe()}\\n\")\n"
   ]
  },
  {
   "cell_type": "code",
   "execution_count": 35,
   "metadata": {},
   "outputs": [
    {
     "name": "stdout",
     "output_type": "stream",
     "text": [
      "1. Dimentions of the Dataset : (1205, 11)\n",
      "\n",
      "2. Features in Dataset : \n",
      "Index(['Education Level', 'Institution Type', 'Gender', 'Age', 'Device',\n",
      "       'IT Student', 'Location', 'Financial Condition', 'Internet Type',\n",
      "       'Network Type', 'Flexibility Level'],\n",
      "      dtype='object')\n",
      "\n",
      "3. Duplicated count : 980\n",
      "\n",
      "<class 'pandas.core.frame.DataFrame'>\n",
      "RangeIndex: 1205 entries, 0 to 1204\n",
      "Data columns (total 11 columns):\n",
      " #   Column               Non-Null Count  Dtype \n",
      "---  ------               --------------  ----- \n",
      " 0   Education Level      1205 non-null   object\n",
      " 1   Institution Type     1205 non-null   object\n",
      " 2   Gender               1205 non-null   object\n",
      " 3   Age                  1205 non-null   int64 \n",
      " 4   Device               1205 non-null   object\n",
      " 5   IT Student           1205 non-null   object\n",
      " 6   Location             1205 non-null   object\n",
      " 7   Financial Condition  1205 non-null   object\n",
      " 8   Internet Type        1205 non-null   object\n",
      " 9   Network Type         1205 non-null   object\n",
      " 10  Flexibility Level    1205 non-null   object\n",
      "dtypes: int64(1), object(10)\n",
      "memory usage: 103.7+ KB\n",
      "4. Info : \n",
      "None\n",
      "\n",
      "5. Deccribe : \n",
      "               Age\n",
      "count  1205.000000\n",
      "mean     17.065560\n",
      "std       5.830369\n",
      "min       9.000000\n",
      "25%      11.000000\n",
      "50%      18.000000\n",
      "75%      23.000000\n",
      "max      27.000000\n",
      "\n"
     ]
    }
   ],
   "source": [
    "explore_dataset(df)"
   ]
  },
  {
   "cell_type": "code",
   "execution_count": 36,
   "metadata": {},
   "outputs": [
    {
     "data": {
      "text/plain": [
       "Education Level        3\n",
       "Institution Type       2\n",
       "Gender                 2\n",
       "Age                    6\n",
       "Device                 3\n",
       "IT Student             2\n",
       "Location               2\n",
       "Financial Condition    3\n",
       "Internet Type          2\n",
       "Network Type           3\n",
       "Flexibility Level      3\n",
       "dtype: int64"
      ]
     },
     "execution_count": 36,
     "metadata": {},
     "output_type": "execute_result"
    }
   ],
   "source": [
    "# unique data count in each feature\n",
    "df.nunique()"
   ]
  },
  {
   "cell_type": "code",
   "execution_count": 37,
   "metadata": {},
   "outputs": [
    {
     "data": {
      "text/plain": [
       "0"
      ]
     },
     "execution_count": 37,
     "metadata": {},
     "output_type": "execute_result"
    }
   ],
   "source": [
    "# remove all duplites\n",
    "df = df.drop_duplicates()\n",
    "df.duplicated().sum()"
   ]
  },
  {
   "cell_type": "code",
   "execution_count": null,
   "metadata": {},
   "outputs": [],
   "source": []
  }
 ],
 "metadata": {
  "kernelspec": {
   "display_name": "Python 3.9.9 ('.venv': venv)",
   "language": "python",
   "name": "python3"
  },
  "language_info": {
   "codemirror_mode": {
    "name": "ipython",
    "version": 3
   },
   "file_extension": ".py",
   "mimetype": "text/x-python",
   "name": "python",
   "nbconvert_exporter": "python",
   "pygments_lexer": "ipython3",
   "version": "3.9.9"
  },
  "orig_nbformat": 4,
  "vscode": {
   "interpreter": {
    "hash": "3ee14dbde8f2a7cf342735eb218d974b112c7589e6650b22c98f8327e72b1573"
   }
  }
 },
 "nbformat": 4,
 "nbformat_minor": 2
}
