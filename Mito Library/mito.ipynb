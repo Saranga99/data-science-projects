{
 "cells": [
  {
   "cell_type": "code",
   "execution_count": 2,
   "metadata": {},
   "outputs": [
    {
     "name": "stdout",
     "output_type": "stream",
     "text": [
      "Collecting mito\n",
      "  Downloading mito-0.1.0.dev0.tar.gz (371 kB)\n",
      "Note: you may need to restart the kernel to use updated packages.\n"
     ]
    },
    {
     "name": "stderr",
     "output_type": "stream",
     "text": [
      "  ERROR: Command errored out with exit status 1:\n",
      "   command: 'C:\\Users\\Saranga\\Anaconda3\\python.exe' -u -c 'import sys, setuptools, tokenize; sys.argv[0] = '\"'\"'C:\\\\Users\\\\Saranga\\\\AppData\\\\Local\\\\Temp\\\\pip-install-fh19n7z6\\\\mito\\\\setup.py'\"'\"'; __file__='\"'\"'C:\\\\Users\\\\Saranga\\\\AppData\\\\Local\\\\Temp\\\\pip-install-fh19n7z6\\\\mito\\\\setup.py'\"'\"';f=getattr(tokenize, '\"'\"'open'\"'\"', open)(__file__);code=f.read().replace('\"'\"'\\r\\n'\"'\"', '\"'\"'\\n'\"'\"');f.close();exec(compile(code, __file__, '\"'\"'exec'\"'\"'))' bdist_wheel -d 'C:\\Users\\Saranga\\AppData\\Local\\Temp\\pip-wheel-w235nmyy'\n",
      "       cwd: C:\\Users\\Saranga\\AppData\\Local\\Temp\\pip-install-fh19n7z6\\mito\\"
     ]
    },
    {
     "name": "stdout",
     "output_type": "stream",
     "text": [
      "Requirement already satisfied: ipywidgets>=7.0.0 in c:\\users\\saranga\\anaconda3\\lib\\site-packages (from mito) (7.5.1)\n",
      "Requirement already satisfied: nbformat>=4.2.0 in c:\\users\\saranga\\anaconda3\\lib\\site-packages (from ipywidgets>=7.0.0->mito) (5.0.7)\n",
      "Requirement already satisfied: ipython>=4.0.0; python_version >= \"3.3\" in c:\\users\\saranga\\anaconda3\\lib\\site-packages (from ipywidgets>=7.0.0->mito) (7.16.1)\n",
      "Requirement already satisfied: traitlets>=4.3.1 in c:\\users\\saranga\\anaconda3\\lib\\site-packages (from ipywidgets>=7.0.0->mito) (4.3.3)\n",
      "Requirement already satisfied: widgetsnbextension~=3.5.0 in c:\\users\\saranga\\anaconda3\\lib\\site-packages (from ipywidgets>=7.0.0->mito) (3.5.1)\n",
      "Requirement already satisfied: ipykernel>=4.5.1 in c:\\users\\saranga\\anaconda3\\lib\\site-packages (from ipywidgets>=7.0.0->mito) (5.3.2)\n",
      "Requirement already satisfied: jupyter-core in c:\\users\\saranga\\anaconda3\\lib\\site-packages (from nbformat>=4.2.0->ipywidgets>=7.0.0->mito) (4.6.3)\n",
      "Requirement already satisfied: ipython-genutils in c:\\users\\saranga\\anaconda3\\lib\\site-packages (from nbformat>=4.2.0->ipywidgets>=7.0.0->mito) (0.2.0)\n",
      "Requirement already satisfied: jsonschema!=2.5.0,>=2.4 in c:\\users\\saranga\\anaconda3\\lib\\site-packages (from nbformat>=4.2.0->ipywidgets>=7.0.0->mito) (3.2.0)\n",
      "Requirement already satisfied: setuptools>=18.5 in c:\\users\\saranga\\anaconda3\\lib\\site-packages (from ipython>=4.0.0; python_version >= \"3.3\"->ipywidgets>=7.0.0->mito) (49.2.0.post20200714)\n",
      "Requirement already satisfied: prompt-toolkit!=3.0.0,!=3.0.1,<3.1.0,>=2.0.0 in c:\\users\\saranga\\anaconda3\\lib\\site-packages (from ipython>=4.0.0; python_version >= \"3.3\"->ipywidgets>=7.0.0->mito) (3.0.5)\n",
      "Requirement already satisfied: backcall in c:\\users\\saranga\\anaconda3\\lib\\site-packages (from ipython>=4.0.0; python_version >= \"3.3\"->ipywidgets>=7.0.0->mito) (0.2.0)\n",
      "Requirement already satisfied: decorator in c:\\users\\saranga\\anaconda3\\lib\\site-packages (from ipython>=4.0.0; python_version >= \"3.3\"->ipywidgets>=7.0.0->mito) (4.4.2)\n",
      "Requirement already satisfied: colorama; sys_platform == \"win32\" in c:\\users\\saranga\\anaconda3\\lib\\site-packages (from ipython>=4.0.0; python_version >= \"3.3\"->ipywidgets>=7.0.0->mito) (0.4.3)\n",
      "Requirement already satisfied: pickleshare in c:\\users\\saranga\\anaconda3\\lib\\site-packages (from ipython>=4.0.0; python_version >= \"3.3\"->ipywidgets>=7.0.0->mito) (0.7.5)\n",
      "Requirement already satisfied: pygments in c:\\users\\saranga\\anaconda3\\lib\\site-packages (from ipython>=4.0.0; python_version >= \"3.3\"->ipywidgets>=7.0.0->mito) (2.6.1)\n",
      "Requirement already satisfied: jedi>=0.10 in c:\\users\\saranga\\anaconda3\\lib\\site-packages (from ipython>=4.0.0; python_version >= \"3.3\"->ipywidgets>=7.0.0->mito) (0.17.1)\n",
      "Requirement already satisfied: six in c:\\users\\saranga\\anaconda3\\lib\\site-packages (from traitlets>=4.3.1->ipywidgets>=7.0.0->mito) (1.15.0)\n",
      "Requirement already satisfied: notebook>=4.4.1 in c:\\users\\saranga\\anaconda3\\lib\\site-packages (from widgetsnbextension~=3.5.0->ipywidgets>=7.0.0->mito) (6.0.3)\n",
      "Requirement already satisfied: tornado>=4.2 in c:\\users\\saranga\\anaconda3\\lib\\site-packages (from ipykernel>=4.5.1->ipywidgets>=7.0.0->mito) (6.0.4)\n",
      "Requirement already satisfied: jupyter-client in c:\\users\\saranga\\anaconda3\\lib\\site-packages (from ipykernel>=4.5.1->ipywidgets>=7.0.0->mito) (6.1.6)\n",
      "Requirement already satisfied: pywin32>=1.0; sys_platform == \"win32\" in c:\\users\\saranga\\anaconda3\\lib\\site-packages (from jupyter-core->nbformat>=4.2.0->ipywidgets>=7.0.0->mito) (227)\n",
      "Requirement already satisfied: pyrsistent>=0.14.0 in c:\\users\\saranga\\anaconda3\\lib\\site-packages (from jsonschema!=2.5.0,>=2.4->nbformat>=4.2.0->ipywidgets>=7.0.0->mito) (0.16.0)\n",
      "Requirement already satisfied: attrs>=17.4.0 in c:\\users\\saranga\\anaconda3\\lib\\site-packages (from jsonschema!=2.5.0,>=2.4->nbformat>=4.2.0->ipywidgets>=7.0.0->mito) (19.3.0)\n",
      "Requirement already satisfied: wcwidth in c:\\users\\saranga\\anaconda3\\lib\\site-packages (from prompt-toolkit!=3.0.0,!=3.0.1,<3.1.0,>=2.0.0->ipython>=4.0.0; python_version >= \"3.3\"->ipywidgets>=7.0.0->mito) (0.2.5)\n",
      "Requirement already satisfied: parso<0.8.0,>=0.7.0 in c:\\users\\saranga\\anaconda3\\lib\\site-packages (from jedi>=0.10->ipython>=4.0.0; python_version >= \"3.3\"->ipywidgets>=7.0.0->mito) (0.7.0)\n",
      "Requirement already satisfied: prometheus-client in c:\\users\\saranga\\anaconda3\\lib\\site-packages (from notebook>=4.4.1->widgetsnbextension~=3.5.0->ipywidgets>=7.0.0->mito) (0.8.0)\n",
      "Requirement already satisfied: Send2Trash in c:\\users\\saranga\\anaconda3\\lib\\site-packages (from notebook>=4.4.1->widgetsnbextension~=3.5.0->ipywidgets>=7.0.0->mito) (1.5.0)\n",
      "Requirement already satisfied: terminado>=0.8.1 in c:\\users\\saranga\\anaconda3\\lib\\site-packages (from notebook>=4.4.1->widgetsnbextension~=3.5.0->ipywidgets>=7.0.0->mito) (0.8.3)\n",
      "Requirement already satisfied: nbconvert in c:\\users\\saranga\\anaconda3\\lib\\site-packages (from notebook>=4.4.1->widgetsnbextension~=3.5.0->ipywidgets>=7.0.0->mito) (5.6.1)\n",
      "Requirement already satisfied: jinja2 in c:\\users\\saranga\\anaconda3\\lib\\site-packages (from notebook>=4.4.1->widgetsnbextension~=3.5.0->ipywidgets>=7.0.0->mito) (2.11.2)\n",
      "Requirement already satisfied: pyzmq>=17 in c:\\users\\saranga\\anaconda3\\lib\\site-packages (from notebook>=4.4.1->widgetsnbextension~=3.5.0->ipywidgets>=7.0.0->mito) (19.0.1)\n",
      "Requirement already satisfied: python-dateutil>=2.1 in c:\\users\\saranga\\anaconda3\\lib\\site-packages (from jupyter-client->ipykernel>=4.5.1->ipywidgets>=7.0.0->mito) (2.8.1)\n",
      "Requirement already satisfied: defusedxml in c:\\users\\saranga\\anaconda3\\lib\\site-packages (from nbconvert->notebook>=4.4.1->widgetsnbextension~=3.5.0->ipywidgets>=7.0.0->mito) (0.6.0)\n",
      "Requirement already satisfied: pandocfilters>=1.4.1 in c:\\users\\saranga\\anaconda3\\lib\\site-packages (from nbconvert->notebook>=4.4.1->widgetsnbextension~=3.5.0->ipywidgets>=7.0.0->mito) (1.4.2)\n",
      "Requirement already satisfied: mistune<2,>=0.8.1 in c:\\users\\saranga\\anaconda3\\lib\\site-packages (from nbconvert->notebook>=4.4.1->widgetsnbextension~=3.5.0->ipywidgets>=7.0.0->mito) (0.8.4)\n",
      "Requirement already satisfied: bleach in c:\\users\\saranga\\anaconda3\\lib\\site-packages (from nbconvert->notebook>=4.4.1->widgetsnbextension~=3.5.0->ipywidgets>=7.0.0->mito) (3.1.5)\n",
      "Requirement already satisfied: testpath in c:\\users\\saranga\\anaconda3\\lib\\site-packages (from nbconvert->notebook>=4.4.1->widgetsnbextension~=3.5.0->ipywidgets>=7.0.0->mito) (0.4.4)\n",
      "Requirement already satisfied: entrypoints>=0.2.2 in c:\\users\\saranga\\anaconda3\\lib\\site-packages (from nbconvert->notebook>=4.4.1->widgetsnbextension~=3.5.0->ipywidgets>=7.0.0->mito) (0.3)\n",
      "Requirement already satisfied: MarkupSafe>=0.23 in c:\\users\\saranga\\anaconda3\\lib\\site-packages (from jinja2->notebook>=4.4.1->widgetsnbextension~=3.5.0->ipywidgets>=7.0.0->mito) (1.1.1)\n",
      "Requirement already satisfied: webencodings in c:\\users\\saranga\\anaconda3\\lib\\site-packages (from bleach->nbconvert->notebook>=4.4.1->widgetsnbextension~=3.5.0->ipywidgets>=7.0.0->mito) (0.5.1)\n",
      "Requirement already satisfied: packaging in c:\\users\\saranga\\anaconda3\\lib\\site-packages (from bleach->nbconvert->notebook>=4.4.1->widgetsnbextension~=3.5.0->ipywidgets>=7.0.0->mito) (20.4)\n",
      "Requirement already satisfied: pyparsing>=2.0.2 in c:\\users\\saranga\\anaconda3\\lib\\site-packages (from packaging->bleach->nbconvert->notebook>=4.4.1->widgetsnbextension~=3.5.0->ipywidgets>=7.0.0->mito) (2.4.7)\n",
      "Building wheels for collected packages: mito\n",
      "  Building wheel for mito (setup.py): started\n",
      "  Building wheel for mito (setup.py): still running...\n",
      "  Building wheel for mito (setup.py): finished with status 'error'\n",
      "  Running setup.py clean for mito\n",
      "Failed to build mito\n",
      "Installing collected packages: mito\n",
      "    Running setup.py install for mito: started\n",
      "    Running setup.py install for mito: finished with status 'done'\n",
      "Successfully installed mito-0.1.0.dev0\n"
     ]
    },
    {
     "name": "stderr",
     "output_type": "stream",
     "text": [
      "\n",
      "  Complete output (92 lines):\n",
      "  C:\\Users\\Saranga\\Anaconda3\\lib\\site-packages\\setuptools\\dist.py:458: UserWarning: Normalizing '0.1.0.dev' to '0.1.0.dev0'\n",
      "    warnings.warn(tmpl.format(**locals()))\n",
      "  running bdist_wheel\n",
      "  running jsdeps\n",
      "  Installing build dependencies with npm.  This may take a while...\n",
      "  > npm install\n",
      "  npm WARN deprecated urix@0.1.0: Please see https://github.com/lydell/urix#deprecated\n",
      "  npm WARN deprecated resolve-url@0.2.1: https://github.com/lydell/resolve-url#deprecated\n",
      "  npm WARN deprecated chokidar@2.1.8: Chokidar 2 will break on node v14+. Upgrade to chokidar 3 with 15x less dependencies.\n",
      "  npm WARN deprecated querystring@0.2.0: The querystring API is considered Legacy. new code should use the URLSearchParams API instead.\n",
      "  npm WARN deprecated circular-json@0.5.9: CircularJSON is in maintenance only, flatted is its successor.\n",
      "  npm WARN deprecated core-js@2.6.12: core-js@<3.3 is no longer maintained and not recommended for usage due to the number of issues. Because of the V8 engine whims, feature detection in old core-js versions could cause a slowdown up to 100x even if nothing is polyfilled. Please, upgrade your dependencies to the actual version of core-js.\n",
      "  npm WARN deprecated crypto@1.0.1: This package is no longer supported. It's now a built-in Node module. If you've depended on crypto, you should switch to the one that's built-in.\n",
      "  npm WARN deprecated mkdirp@0.5.1: Legacy versions of mkdirp are no longer supported. Please update to mkdirp 1.x. (Note that the API surface has changed to use Promises in 1.x.)\n",
      "  \n",
      "  added 1102 packages, and audited 1103 packages in 4m\n",
      "  \n",
      "  73 packages are looking for funding\n",
      "    run `npm fund` for details\n",
      "  \n",
      "  22 vulnerabilities (7 low, 9 moderate, 3 high, 3 critical)\n",
      "  \n",
      "  To address issues that do not require attention, run:\n",
      "    npm audit fix\n",
      "  \n",
      "  To address all issues (including breaking changes), run:\n",
      "    npm audit fix --force\n",
      "  \n",
      "  Run `npm audit` for details.\n",
      "  npm notice\n",
      "  npm notice New minor version of npm available! 7.20.0 -> 7.22.0\n",
      "  npm notice Changelog: <https://github.com/npm/cli/releases/tag/v7.22.0>\n",
      "  npm notice Run `npm install -g npm@7.22.0` to update!\n",
      "  npm notice\n",
      "  > npm run build:all\n",
      "  \n",
      "  > mito@0.1.0 build:all\n",
      "  > npm run build:labextension && npm run build:nbextension\n",
      "  \n",
      "  \n",
      "  > mito@0.1.0 build:labextension\n",
      "  > npm run clean:labextension && mkdirp mito/labextension && cd mito/labextension && npm pack ../..\n",
      "  \n",
      "  \n",
      "  > mito@0.1.0 clean:labextension\n",
      "  > rimraf mito/labextension\n",
      "  \n",
      "  \n",
      "  > mito@0.1.0 prepack\n",
      "  > npm run build:lib\n",
      "  \n",
      "  \n",
      "  > mito@0.1.0 build:lib\n",
      "  > tsc --jsx 'react'\n",
      "  \n",
      "  error TS6046: Argument for '--jsx' option must be: 'preserve', 'react-native', 'react'.\n",
      "  npm ERR! code 1\n",
      "  npm ERR! path C:\\Users\\Saranga\\AppData\\Local\\Temp\\pip-install-fh19n7z6\\mito\n",
      "  npm ERR! command failed\n",
      "  npm ERR! command C:\\WINDOWS\\system32\\cmd.exe /d /s /c npm run build:lib\n",
      "  \n",
      "  npm ERR! A complete log of this run can be found in:\n",
      "  npm ERR!     C:\\Users\\Saranga\\AppData\\Local\\npm-cache\\_logs\\2021-09-07T17_07_25_299Z-debug.log\n",
      "  Traceback (most recent call last):\n",
      "    File \"<string>\", line 1, in <module>\n",
      "    File \"C:\\Users\\Saranga\\AppData\\Local\\Temp\\pip-install-fh19n7z6\\mito\\setup.py\", line 116, in <module>\n",
      "      setup(**setup_args)\n",
      "    File \"C:\\Users\\Saranga\\Anaconda3\\lib\\site-packages\\setuptools\\__init__.py\", line 165, in setup\n",
      "      return distutils.core.setup(**attrs)\n",
      "    File \"C:\\Users\\Saranga\\Anaconda3\\lib\\distutils\\core.py\", line 148, in setup\n",
      "      dist.run_commands()\n",
      "    File \"C:\\Users\\Saranga\\Anaconda3\\lib\\distutils\\dist.py\", line 966, in run_commands\n",
      "      self.run_command(cmd)\n",
      "    File \"C:\\Users\\Saranga\\Anaconda3\\lib\\distutils\\dist.py\", line 985, in run_command\n",
      "      cmd_obj.run()\n",
      "    File \"C:\\Users\\Saranga\\AppData\\Local\\Temp\\pip-install-fh19n7z6\\mito\\setupbase.py\", line 474, in run\n",
      "      [self.run_command(cmd) for cmd in cmds]\n",
      "    File \"C:\\Users\\Saranga\\AppData\\Local\\Temp\\pip-install-fh19n7z6\\mito\\setupbase.py\", line 474, in <listcomp>\n",
      "      [self.run_command(cmd) for cmd in cmds]\n",
      "    File \"C:\\Users\\Saranga\\Anaconda3\\lib\\distutils\\cmd.py\", line 313, in run_command\n",
      "      self.distribution.run_command(command)\n",
      "    File \"C:\\Users\\Saranga\\Anaconda3\\lib\\distutils\\dist.py\", line 985, in run_command\n",
      "      cmd_obj.run()\n",
      "    File \"C:\\Users\\Saranga\\AppData\\Local\\Temp\\pip-install-fh19n7z6\\mito\\setupbase.py\", line 270, in run\n",
      "      c.run()\n",
      "    File \"C:\\Users\\Saranga\\AppData\\Local\\Temp\\pip-install-fh19n7z6\\mito\\setupbase.py\", line 375, in run\n",
      "      run(npm_cmd + ['run', build_cmd], cwd=node_package)\n",
      "    File \"C:\\Users\\Saranga\\AppData\\Local\\Temp\\pip-install-fh19n7z6\\mito\\setupbase.py\", line 221, in run\n",
      "      return subprocess.check_call(cmd, **kwargs)\n",
      "    File \"C:\\Users\\Saranga\\Anaconda3\\lib\\subprocess.py\", line 364, in check_call\n",
      "      raise CalledProcessError(retcode, cmd)\n",
      "  subprocess.CalledProcessError: Command '['c:\\\\program files\\\\nodejs\\\\npm.cmd', 'run', 'build:all']' returned non-zero exit status 1.\n",
      "  ----------------------------------------\n",
      "  ERROR: Failed building wheel for mito\n"
     ]
    }
   ],
   "source": [
    "pip install mito"
   ]
  },
  {
   "cell_type": "code",
   "execution_count": 3,
   "metadata": {},
   "outputs": [
    {
     "ename": "ModuleNotFoundError",
     "evalue": "No module named 'mitosheet'",
     "output_type": "error",
     "traceback": [
      "\u001b[1;31m---------------------------------------------------------------------------\u001b[0m",
      "\u001b[1;31mModuleNotFoundError\u001b[0m                       Traceback (most recent call last)",
      "\u001b[1;32m<ipython-input-3-8e390680fcb2>\u001b[0m in \u001b[0;36m<module>\u001b[1;34m\u001b[0m\n\u001b[1;32m----> 1\u001b[1;33m \u001b[1;32mimport\u001b[0m \u001b[0mmitosheet\u001b[0m\u001b[1;33m\u001b[0m\u001b[1;33m\u001b[0m\u001b[0m\n\u001b[0m\u001b[0;32m      2\u001b[0m \u001b[0mmitosheet\u001b[0m\u001b[1;33m.\u001b[0m\u001b[0msheet\u001b[0m\u001b[1;33m(\u001b[0m\u001b[1;33m)\u001b[0m\u001b[1;33m\u001b[0m\u001b[1;33m\u001b[0m\u001b[0m\n",
      "\u001b[1;31mModuleNotFoundError\u001b[0m: No module named 'mitosheet'"
     ]
    }
   ],
   "source": [
    "import mitosheet\n",
    "mitosheet.sheet()"
   ]
  },
  {
   "cell_type": "code",
   "execution_count": 10,
   "metadata": {},
   "outputs": [
    {
     "ename": "ModuleNotFoundError",
     "evalue": "No module named 'mitosheet'",
     "output_type": "error",
     "traceback": [
      "\u001b[1;31m---------------------------------------------------------------------------\u001b[0m",
      "\u001b[1;31mModuleNotFoundError\u001b[0m                       Traceback (most recent call last)",
      "\u001b[1;32m<ipython-input-10-2cac73f349e0>\u001b[0m in \u001b[0;36m<module>\u001b[1;34m\u001b[0m\n\u001b[1;32m----> 1\u001b[1;33m \u001b[1;32mimport\u001b[0m \u001b[0mmitosheet\u001b[0m\u001b[1;33m\u001b[0m\u001b[1;33m\u001b[0m\u001b[0m\n\u001b[0m",
      "\u001b[1;31mModuleNotFoundError\u001b[0m: No module named 'mitosheet'"
     ]
    }
   ],
   "source": [
    "import mitosheet"
   ]
  },
  {
   "cell_type": "code",
   "execution_count": 8,
   "metadata": {},
   "outputs": [],
   "source": []
  },
  {
   "cell_type": "code",
   "execution_count": 9,
   "metadata": {},
   "outputs": [
    {
     "data": {
      "application/vnd.jupyter.widget-view+json": {
       "model_id": "64b1eb68068f465695b38ad4ba6d0dfa",
       "version_major": 2,
       "version_minor": 0
      },
      "text/plain": [
       "ExampleWidget(code_json='{\"data\": \"This is code\"}', sheet_json='{}')"
      ]
     },
     "metadata": {},
     "output_type": "display_data"
    }
   ],
   "source": []
  },
  {
   "cell_type": "code",
   "execution_count": null,
   "metadata": {},
   "outputs": [],
   "source": []
  }
 ],
 "metadata": {
  "kernelspec": {
   "display_name": "Python 3",
   "language": "python",
   "name": "python3"
  },
  "language_info": {
   "codemirror_mode": {
    "name": "ipython",
    "version": 3
   },
   "file_extension": ".py",
   "mimetype": "text/x-python",
   "name": "python",
   "nbconvert_exporter": "python",
   "pygments_lexer": "ipython3",
   "version": "3.8.3"
  }
 },
 "nbformat": 4,
 "nbformat_minor": 4
}
