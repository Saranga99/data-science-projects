{
 "cells": [
  {
   "cell_type": "code",
   "execution_count": 1,
   "metadata": {},
   "outputs": [
    {
     "name": "stderr",
     "output_type": "stream",
     "text": [
      "d:\\data-science-projects\\question-answering-research\\.venv\\lib\\site-packages\\tqdm\\auto.py:22: TqdmWarning: IProgress not found. Please update jupyter and ipywidgets. See https://ipywidgets.readthedocs.io/en/stable/user_install.html\n",
      "  from .autonotebook import tqdm as notebook_tqdm\n",
      "INFO - haystack.modeling.model.optimization -  apex not found, won't use it. See https://nvidia.github.io/apex/\n",
      "ERROR - root -  Failed to import 'magic' (from 'python-magic' and 'python-magic-bin' on Windows). FileTypeClassifier will not perform mimetype detection on extensionless files. Please make sure the necessary OS libraries are installed if you need this functionality.\n"
     ]
    }
   ],
   "source": [
    "import logging\n",
    "from haystack.document_stores import ElasticsearchDocumentStore\n",
    "from haystack.utils import clean_wiki_text, convert_files_to_docs, fetch_archive_from_http, print_answers, launch_es\n",
    "from haystack.nodes import FARMReader, TransformersReader, BM25Retriever\n",
    "import requests"
   ]
  },
  {
   "cell_type": "code",
   "execution_count": 2,
   "metadata": {},
   "outputs": [],
   "source": [
    "# Connect to Elasticsearch\n",
    "document_store = ElasticsearchDocumentStore(host=\"localhost\", username=\"\", password=\"\", index=\"sampledata\")"
   ]
  },
  {
   "cell_type": "code",
   "execution_count": 3,
   "metadata": {},
   "outputs": [
    {
     "name": "stderr",
     "output_type": "stream",
     "text": [
      "INFO - haystack.utils.preprocessing -  Converting ..\\data\\sampleData\\0_Toilet_Training_issues_1.txt\n",
      "INFO - haystack.utils.preprocessing -  Converting ..\\data\\sampleData\\1_Toilet_Training_issues_2.txt\n",
      "INFO - haystack.utils.preprocessing -  Converting ..\\data\\sampleData\\2_Toilet_Training_issues_3.txt\n",
      "INFO - haystack.utils.preprocessing -  Converting ..\\data\\sampleData\\3_Toilet_Training_issues_4.txt\n",
      "INFO - haystack.utils.preprocessing -  Converting ..\\data\\sampleData\\4_Picky_Eaters_1.txt\n",
      "INFO - haystack.utils.preprocessing -  Converting ..\\data\\sampleData\\5_Picky_Eaters_2.txt\n",
      "INFO - haystack.utils.preprocessing -  Converting ..\\data\\sampleData\\6_Picky_Eaters_3.txt\n"
     ]
    }
   ],
   "source": [
    "doc_dir = \"../data/sampleData\"\n",
    "docs = convert_files_to_docs(dir_path=doc_dir, clean_func=clean_wiki_text, split_paragraphs=True)\n",
    "document_store.write_documents(docs)"
   ]
  },
  {
   "cell_type": "code",
   "execution_count": 4,
   "metadata": {},
   "outputs": [
    {
     "data": {
      "text/plain": [
       "{'count': 13,\n",
       " '_shards': {'total': 1, 'successful': 1, 'skipped': 0, 'failed': 0}}"
      ]
     },
     "execution_count": 4,
     "metadata": {},
     "output_type": "execute_result"
    }
   ],
   "source": [
    "requests.get('http://localhost:9200/sampledata/_count').json()"
   ]
  },
  {
   "cell_type": "code",
   "execution_count": 5,
   "metadata": {},
   "outputs": [],
   "source": [
    "from haystack.document_stores.elasticsearch import ElasticsearchDocumentStore\n",
    "from haystack.retriever.dense import DensePassageRetriever"
   ]
  },
  {
   "cell_type": "code",
   "execution_count": 6,
   "metadata": {},
   "outputs": [],
   "source": [
    "doc_store = ElasticsearchDocumentStore(\n",
    "    host='localhost',\n",
    "    username='', password='',\n",
    "    index='sampledata'\n",
    ")"
   ]
  },
  {
   "cell_type": "code",
   "execution_count": 7,
   "metadata": {},
   "outputs": [
    {
     "name": "stderr",
     "output_type": "stream",
     "text": [
      "INFO - haystack.modeling.utils -  Using devices: CPU\n",
      "INFO - haystack.modeling.utils -  Number of GPUs: 0\n",
      "INFO - haystack.modeling.model.language_model -  LOADING MODEL\n",
      "INFO - haystack.modeling.model.language_model -  =============\n",
      "INFO - haystack.modeling.model.language_model -  Could not find facebook/dpr-question_encoder-single-nq-base locally.\n",
      "INFO - haystack.modeling.model.language_model -  Looking on Transformers Model Hub (in local cache and online)...\n",
      "INFO - haystack.modeling.model.language_model -  Loaded facebook/dpr-question_encoder-single-nq-base\n",
      "The tokenizer class you load from this checkpoint is not the same type as the class this function is called from. It may result in unexpected tokenization. \n",
      "The tokenizer class you load from this checkpoint is 'DPRQuestionEncoderTokenizer'. \n",
      "The class this function is called from is 'DPRContextEncoderTokenizerFast'.\n",
      "INFO - haystack.modeling.model.language_model -  LOADING MODEL\n",
      "INFO - haystack.modeling.model.language_model -  =============\n",
      "INFO - haystack.modeling.model.language_model -  Could not find facebook/dpr-ctx_encoder-single-nq-base locally.\n",
      "INFO - haystack.modeling.model.language_model -  Looking on Transformers Model Hub (in local cache and online)...\n",
      "INFO - haystack.modeling.model.language_model -  Loaded facebook/dpr-ctx_encoder-single-nq-base\n"
     ]
    }
   ],
   "source": [
    "retriever = DensePassageRetriever(\n",
    "    document_store=doc_store,\n",
    "    query_embedding_model='facebook/dpr-question_encoder-single-nq-base',\n",
    "    passage_embedding_model='facebook/dpr-ctx_encoder-single-nq-base',\n",
    "    use_gpu=True,\n",
    "    embed_title=True\n",
    ")"
   ]
  },
  {
   "cell_type": "code",
   "execution_count": 8,
   "metadata": {},
   "outputs": [
    {
     "name": "stderr",
     "output_type": "stream",
     "text": [
      "INFO - haystack.document_stores.elasticsearch -  Updating embeddings for all 13 docs ...\n",
      "Updating embeddings: 10000 Docs [00:08, 1206.40 Docs/s]       \n"
     ]
    }
   ],
   "source": [
    "doc_store.update_embeddings(retriever=retriever)"
   ]
  },
  {
   "cell_type": "code",
   "execution_count": 10,
   "metadata": {},
   "outputs": [],
   "source": [
    "prediction=retriever.retrieve(\"How do I toilet train my child as he keeps wetting himself?\")"
   ]
  },
  {
   "cell_type": "code",
   "execution_count": 12,
   "metadata": {},
   "outputs": [
    {
     "name": "stdout",
     "output_type": "stream",
     "text": [
      "[<Document: {'content': 'According to the Cleveland Clinic, about 15% of children ages 5 or older actually\\nstop wetting the bed each year. So its still perfectly normal for a child to wet the\\nbed up until the age of 7. It is often just a stage in their development. And while\\ngirls can and do wet the bed, it is 2 times for likely for a boy to wet the bed.\\nThere are a few things that can cause bedwetting. Dr. Charles Kwon is a pediatric\\nnephrologist, says that the underlying issue is usually a bladder thatâ€™s not\\nmatured yet. Other possible causes can be a hormone imbalance, constipation,\\nthe child is having a lot of stress and anxiety, they have ADHD, they have a small\\nbladder, or there is a family history of childhood bedwetting. Bed wetting in some\\ncases could also be a sign of sleep apnea if your child snores a lot or shows other\\nsigns of sleep apnea, a UTI (urinary tract infections), or even diabetes. Talking\\nwith your childs doctor is always suggested, just in case.\\nThere are a few suggestions on how to stop bedwetting from doctors. You can\\nshift times for drinking, have your child increase their liquid intake earlier in the\\nday and after dinner, stop their fluid intake. Another thing you can do is schedule\\nbathroom breaks for your child, ever few hours, and then again right before\\nbedtime. Also, always be encouraging and positive, constantly reward their\\nsuccess and donâ€™t be negative. Instead getting angry that they wet the bed again,\\nsay something along the lines of â€œthatâ€™s okay, weâ€™ll just have more potty breaks\\ntoday and try again tonight.â€ Never punish them for wetting the bed. You also\\ndonâ€™t want to wake up your child to urinate, because that will only lead to more\\nsleeplessness and frustration for you and your child.\\nSometimes, an earlier bedtime is the answer. Often, a child is a deep sleeper\\nbecause they just arenâ€™t getting enough sleep. Another suggestion is eliminate\\nbladder irritants such as caffeine (chocolate milk and coco), and if that doesnâ€™t\\nwork, cut out citrus juices, artificial flavorings, dyes, and sweeteners as those can\\nall irritate bladders. Try and avoid thirst overload, one way you can do this by\\nseeing if your childâ€™s school allows them water bottles that way they can drink\\nthroughout the day and avoid gulping down water after school. They also have a\\ndevice that you can clip onto your childâ€™s underwear or place on the bed that\\ndetects moisture and the alarm goes off, and pediatric urologist Dr Audrey Rhee,\\nMD, suggest that one might be helpful but only if your child is motivated to stop\\nthe issue. â€œIf theyâ€™re still sneaking drinks late at night and eating what they\\nshouldnâ€™t, then it doesnâ€™t make sense to invest in an expensive bedwetting alarm.\\nSo, I directly ask a child if bedwetting bothers them, to find out if itâ€™s the parentsâ€™\\nfrustration that brought the child to the appointment or their own,â€ Dr. Rhee\\nsays. If there not motivated yet to stop, then possibly as they get older the\\nopportunities to go to slumber parties and weekend trips with family and friends\\ncould likely motivate your child to stop.', 'content_type': 'text', 'score': 0.6693471940670754, 'meta': {'name': '3_Toilet_Training_issues_4.txt'}, 'embedding': None, 'id': 'ce8b05d655380a32d9b5bd9c71ad8b4e'}>,\n",
      " <Document: {'content': 'Before you start to toilet train, it is important to make sure that your child is \\ncomfortable in the bathroom. If your child is not comfortable, make the bathroom \\na fun place! You can do this is many a ways, either read a book with your child in \\nthe bathroom with them, play their favorite music and have a dance party with \\nthem, etc. Also, before starting it is very helpful to make sure that your child is \\nconstantly drinking fluids, as that will ensure that there is more times for you and \\nyour child to practice using the toilet appropriately. Another helpful thing to use, \\nis a chart to show your childâ€™s progress. You can include the date, time, accidents, \\nsuccessful uses of the toilet, and successful initiations by your child.  \\nOnce your child is comfortable, then itâ€™s time to set up a routine. Toilet training \\ntakes time and patience. Set a kitchen timer at regular intervals, anywhere from \\n10-20 minutes. When the timer goes off, show your child either a photograph of \\nthe toilet or take them to the toilet and say, â€œI need to go pottyâ€, or something \\nalong those lines. If your child is nonverbal, have a picture of a toilet and say \\nâ€œpottyâ€ while pointing at the photo. This helps your child hear the correct words \\nthat will let you know that they need to go to the bathroom. \\nThen, sit your child on the toilet for a few minutes, if your child does use the \\ntoilet, give them verbal praise and a special treat that is reserved for potty time \\nonly. Like a cookie, marshmallow, or a cool sticker on their potty chart. If your \\nchild does not use the toilet, just pull up your childâ€™s underwear, and resume \\nwhatever you were doing before, with a new timer set. \\nOnce your child is accident free for 2-3 days, increase the interval 5-10 minutes. \\nFrom there, you can increase the interval ever 2-3 days until they are on schedule \\nof every hour, or they are using the toilet correctly by telling you that they need \\nthe restroom. Once your child is at the hour interval, stop bringing them to the \\ntoilet. They should be able to correctly ask, but if you notice theyâ€™re not asking \\nand you see your child showing signs of having to go to the bathroom, stop \\nreinforcing them using the toilet, instead reinforce them asking for it by bringing \\nthem either towards the bathroom, or showing them the picture of the toilet. \\nWhen your child sees the reminder and says â€œI need to go pottyâ€, give immediate \\npraise and possible small treat for them telling you that need to go. If you decided \\nto use the chart to help you and your child track the progress, it will also help you \\nsee when it is a good time to raise the intervals. \\nAs youâ€™re going through the intervals, set up a dry pants check. Around halfway \\nthrough the timer, ask your child if their pants are dry. You can teach them how \\nto check their pants with their hand and if it is dry, you can give them praise and \\nreinforce the toilet training by saying â€œGood job! We potty in the toilet!â€ if your \\nchild does have an accident, try and keep it positive. â€œGood try, you almost made \\nit!â€ and take your child to the toilet while reminding them where they use the ', 'content_type': 'text', 'score': 0.6614113472656696, 'meta': {'name': '0_Toilet_Training_issues_1.txt'}, 'embedding': None, 'id': '234a498e94bb7349cc2c490cd1332c7b'}>,\n",
      " <Document: {'content': 'Mark Wolraich, M.D., Chief of the Section of Developmental and Behavioral\\nPediatrics at the University of Oklahoma Health Sciences Center and the Director\\nof the Child Study Center suggest to â€œTry and identify the reasons for regression,\\nas addressing them will help the child return to where (they) (where).â€\\nThere could be a few reasons for the regression. One reason could be that the\\nchild wasnâ€™t actually toilet trained. A toilet trained child would be one that should\\nwant to use the toilet, if your child is having an accident every day, you might\\nneed to start the whole process of toilet training over again.\\nAnother reason could be stress, or they get distracted easily. If it is stress, either\\nfrom a new routine, a new school, or a new sibling, once your child gets into the\\nnew routine, they should fall right back into their training. If they are getting\\ndistracted easily, they might not notice when they have to use the restroom. Go\\nback to the toilet training of using a timer with a set interval, and having your\\nchild sit on the toilet for a certain time period. If they correctly use it, give them\\nverbal praise. If they donâ€™t, stay positive with them and say something along the\\nlines of â€œthatâ€™s okay! We can try again later.â€ And go back to whatever you were\\ndoing before the timer went off, and repeat with each interval.\\nAnother reason could be health issues. Make sure your child is drinking plenty of\\nfluids and eating plenty of fiber if they are constipated. If you are still concerned,\\nIf your child is going through a regression, never punish your child for their\\naccident. If they do have an accident, acknowledge that they had an accident, and\\nhave them sit on the toilet for a few minutes and let them know that this is where\\nthey pee and if they need to go, let you know.\\nAnother way to help with the regression is to give them gentle reminders. You can\\ndo this through the timer and when it goes off, say â€œlets go potty!â€. If they do use \\nit, immediate praise and possibly a treat depending upon your system. If they\\ndonâ€™t, let them know that it is alright and that they can try again later.', 'content_type': 'text', 'score': 0.6581662384751006, 'meta': {'name': '1_Toilet_Training_issues_2.txt'}, 'embedding': None, 'id': 'f71a7c38b9d9db9663179d2af99d86a0'}>,\n",
      " <Document: {'content': 'One important thing to remember when thinking about toilet training is that\\nthere is no right age to start at. Toilet training requires a lot of different complex\\nskills that your child will have to master, and as you know your child best, you will\\nhave the sense that the time is right.\\nThere are some signs that will give you the hint that your child is ready to start\\npotty training. One might be that your child can pull down their own diaper or\\nunderpants. Another would be your child asking questions about the bathroom\\nwhen seeing another family member go in there. If your child can understand or\\nverbally let you know when their diaper is wet or tell you that they need to go\\npee, that is another indication. Also, if they can keep their diaper dry for two\\nhours at a time during the day, they could possibly be ready to start toilet\\nThere are some things that you can do to prepare your child for potty training.\\nYou can get a potty chair and keep it in a specific spot in your house, and let your\\nchild get familiar with it. If possible, let your child pick out their own so that they\\nfeel like a part of the process from the start. Once you have their training toilet,\\nhave your child sit on it and get comfortable. If you get them used to the new\\ntoilet before they have to use it, it should not feel as foreign to them when they\\ndo start using it for its intended use. Start getting your child familiar with the\\nlanguage and as youâ€™re changing their diaper or if you have them on the toilet you\\ncan say things like â€œpee peeâ€ and â€œpoopâ€ that way they can start to associate the\\nPampers is a wonderful website to use to help better understand when your child', 'content_type': 'text', 'score': 0.6574716010742111, 'meta': {'name': '2_Toilet_Training_issues_3.txt'}, 'embedding': None, 'id': 'dfb4c8fcb15a2b31e3373e5e9d76035d'}>,\n",
      " <Document: {'content': '\\n==External links==\\nOne website that can offer help is Parents.\\n* https://www.parents.com/toddlers-preschoolers/potty-training/problems/howto-deal-with-potty-training-regression/', 'content_type': 'text', 'score': 0.6538405483393523, 'meta': {'name': '1_Toilet_Training_issues_2.txt'}, 'embedding': None, 'id': '5fd529b0b7afb3eedbf81a4b86b585d2'}>,\n",
      " <Document: {'content': '\\n==External links==\\n* https://www.pampers.com/en-us/toddler/potty-training/article/when-to-startpotty-training-signs-your-child-is-ready\\nSleeping Should Be Easy is a great website in helping prepare your child for potty\\n* https://sleepingshouldbeeasy.com/potty-training-prep/', 'content_type': 'text', 'score': 0.6461407216238175, 'meta': {'name': '2_Toilet_Training_issues_3.txt'}, 'embedding': None, 'id': 'cdb3ffc9d17716d0044eb2f009eb3d43'}>,\n",
      " <Document: {'content': \"Picky eaters are defined as those who consume an inadequate variety of food through rejection of a substantial amount of food stuffs that are both familiar and unfamiliar. Picky eating is a relatively recent theoretical concept and while there is increasing concern within public health over the lack of diversity in some children's diets, adult picky eaters remain an under researched group. This paper reports on the findings of a qualitative study on the routine food choices and practices of 26 families in Sandwell, West Midlands, UK. Photo elicitation and go-along interview data collection methods were used to capture habitual food related behaviours and served to describe the practices of nine individuals who self identified or were described as picky eaters. A thematic analysis revealed that those with the food related identity of picky eater had very restricted diets and experienced strong emotional and physical reactions to certain foods. For some this could be a distressing and alienating experience that hindered their ability to engage in episodes of social eating. Further research is needed to illuminate the specific practices of adult picky eaters, how this impacts on their lives, and how possible interventions might seek to address the challenges they face.\\nKeywords: Adults; Food practices; Identity; Picky eaters.\\nCopyright Â© 2014 Elsevier Ltd. All rights reserved.\\nPicky eating and child weight status development: a longitudinal study.\\nAntoniou EE, Roefs A, Kremers SP, Jansen A, Gubbels JS, Sleddens EF, Thijs C.\\nJ Hum Nutr Diet. 2016 Jun;29(3):298-307. doi: 10.1111/jhn.12322. Epub 2015 May 19.\\nAdult picky eating. Phenomenology, taste sensitivity, and psychological correlates.\\nKauer J, Pelchat ML, Rozin P, Zickgraf HF.\\nAppetite. 2015 Jul;90:219-28. doi: 10.1016/j.appet.2015.03.001. Epub 2015 Mar 5.\\nPMID: 25747855 Free PMC article.\\nHow parents describe picky eating and its impact on family meals: A qualitative analysis.\\nTrofholz AC, Schulte AK, Berge JM.\\nAppetite. 2017 Mar 1;110:36-43. doi: 10.1016/j.appet.2016.11.027. Epub 2016 Nov 23.\\nPMID: 27889496 Free PMC article.\\nPicky eating in Swedish preschoolers of different weight status: application of two new screening cut-offs.\\nSandvik P, Ek A, Somaraki M, Hammar U, Eli K, Nowicka P.\\nInt J Behav Nutr Phys Act. 2018 Aug 9;15(1):74. doi: 10.1186/s12966-018-0706-0.\\nPMID: 30092802 Free PMC article.\\nFood neophobia and 'picky/fussy' eating in children: a review.\\nDovey TM, Staples PA, Gibson EL, Halford JC.\\nAppetite. 2008 Mar-May;50(2-3):181-93. doi: 10.1016/j.appet.2007.09.009. Epub 2007 Sep 29.\", 'content_type': 'text', 'score': 0.6392849558437614, 'meta': {'name': '4_Picky_Eaters_1.txt'}, 'embedding': None, 'id': '64ca69693c45b668774ed16fa941124a'}>,\n",
      " <Document: {'content': 'Sometimes, for the child, itâ€™s not about the food itself that they are being picky\\nover, itâ€™s about having a sense of control. There are different ways to help your\\nchild feel like they have some control over their food.\\nOne way to try to help a child that is a picky eater is to set realistic expectations. If\\nyou want them to get used to a new food, it can take up to twelve exposures to\\nthe new food to start to like it. It doesnâ€™t mean that they have to eat twelve\\ntimes, they just have to either see it, help prepare it, or listen to someone talk\\nabout it. They also might just need to smell or touch new foods, to try and get a\\nbetter understanding of it. You can help encourage your child by talking about the\\nfoodâ€™s color, smell, and texture, but donâ€™t discuss with them if it tastes good or\\nAnother way to help your child get over the habit is to give them options that you\\nwant them to eat, and donâ€™t make special meals just for them. They eat what you\\neat, but they can have options. If you donâ€™t want your child eating butter and\\nnoodles for every meal, donâ€™t make it an option. For example, for a snack after\\nschool you can put out apples, grapes, and carrots, and that way even if they\\ndonâ€™t eat the eat one or two of the snacks, theyâ€™re still making a healthy choice\\nand they feel like they have a say in what they eat as well.\\nYou can also have your child be a part of the meal prep, to help give them a sense\\nof control over their food. You can have them pick between two or three veggies\\nfor dinner, have them help set the table, or have them help you pick out groceries\\nat the grocery store. Another great piece of advice is to relax and enjoy\\nmealtimes. Make eating a positive experience, and realize that not every meal is\\ngoing to be a perfect meal, because even the healthiest person alive will have a\\nmeal or two that is not perfectly balanced and that is perfectly fine.\\nA wonderful website that can offer some help is the Mayo Clinic website, the link', 'content_type': 'text', 'score': 0.6370011974734392, 'meta': {'name': '5_Picky_Eaters_2.txt'}, 'embedding': None, 'id': 'e18c989ab39948569e22ba55c5f45827'}>,\n",
      " <Document: {'content': '\\n==External links==\\nHealth Partners is a great website to help check out some more helpful tips.\\nhttps://www.healthpartners.com/blog/baby-wont-take-bottle-help/\\nLacted is another website with some helpful tips on how to get your child to take\\nhttps://lacted.org/iable-breastfeeding-education-handouts/bottle-refusal/', 'content_type': 'text', 'score': 0.6348617013977775, 'meta': {'name': '6_Picky_Eaters_3.txt'}, 'embedding': None, 'id': 'ed406a4bbb940486d0ded5ec2ea5ac55'}>,\n",
      " <Document: {'content': 'There are a few things that you can do if your child has a hard time drinking from\\na bottle, one thing would be to try and give the your child the bottle as soon as\\nthey wake up, wither that be when they wake up in the morning or after a nap.\\nTheir instinct typically takes over when theyâ€™re still sleepy. Be cautious that if you\\nlet your child get overly hungry in between feedings, that can cause the child to\\nget fussy and make it harder for them to be fed.\\nAnother thing that can help your child take a bottle would be to create a relaxing\\nenvironment each time you offer the bottle, for example, play soft calming music,\\nsit somewhere you can gently rock your child as you feed them. If you can have a\\nquiet dark room it will help relax child and you. Children feed off the energy of the\\nadults that they are surrounded by.\\nYou can also try and give your child a different type of bottle or nipple. Sometimes\\nthe solution is that easy, you just have to experiment with both the bottle and the\\nnipple of the bottle. There are nipples levels based upon age, but every child is\\ndifferent so the nipple level that it says they should be at does not mean thatâ€™s\\nwhat your child wants or likes. While there is a countless number of combinations\\nout there and it seems daunting, your lactation specialist or childâ€™s doctor could\\nOne more thing that can help is to experiment with the bottle feeding position\\nthat you are using. Your child might just like to eat while sitting or lying down a\\ncertain way. You could try cradling them at a 45-degree angle while keeping their\\nhead and neck aligned, sitting upright so that their back is against their stomach,\\nor while sitting or lying down, bend your legs and position your baby so they face\\nyou with their head resting against your knees, their back against your thighs and\\nIf these tips donâ€™t work, you should call your childâ€™s doctor, because there might\\nbe another reason that they are not taking the bottle.', 'content_type': 'text', 'score': 0.6323535710124767, 'meta': {'name': '6_Picky_Eaters_3.txt'}, 'embedding': None, 'id': '8b16f49e9942a635ee7c3637949f501b'}>]\n"
     ]
    }
   ],
   "source": [
    "from pprint import pprint\n",
    "pprint(prediction)"
   ]
  },
  {
   "cell_type": "code",
   "execution_count": 20,
   "metadata": {},
   "outputs": [
    {
     "name": "stderr",
     "output_type": "stream",
     "text": [
      "WARNING - haystack -  Object 'FARMReader' is imported through a deprecated path. Please check out the docs for the new import path.\n",
      "WARNING - haystack -  Object 'FARMReader' is imported through a deprecated path. Please check out the docs for the new import path.\n",
      "INFO - haystack.modeling.utils -  Using devices: CPU\n",
      "INFO - haystack.modeling.utils -  Number of GPUs: 0\n",
      "INFO - haystack.modeling.model.language_model -  LOADING MODEL\n",
      "INFO - haystack.modeling.model.language_model -  =============\n",
      "INFO - haystack.modeling.model.language_model -  Could not find deepset/roberta-base-squad2 locally.\n",
      "INFO - haystack.modeling.model.language_model -  Looking on Transformers Model Hub (in local cache and online)...\n",
      "INFO - haystack.modeling.model.language_model -  Loaded deepset/roberta-base-squad2\n",
      "INFO - haystack.modeling.utils -  Using devices: CPU\n",
      "INFO - haystack.modeling.utils -  Number of GPUs: 0\n",
      "INFO - haystack.modeling.infer -  Got ya 7 parallel workers to do inference ...\n",
      "INFO - haystack.modeling.infer -   0     0     0     0     0     0     0  \n",
      "INFO - haystack.modeling.infer -  /w\\   /w\\   /w\\   /w\\   /w\\   /w\\   /w\\ \n",
      "INFO - haystack.modeling.infer -  /'\\   / \\   /'\\   /'\\   / \\   / \\   /'\\ \n"
     ]
    }
   ],
   "source": [
    "from haystack.reader import FARMReader\n",
    "reader = FARMReader(model_name_or_path=\"deepset/roberta-base-squad2\", use_gpu=True)\n"
   ]
  },
  {
   "cell_type": "code",
   "execution_count": 21,
   "metadata": {},
   "outputs": [],
   "source": [
    "from haystack.pipelines import ExtractiveQAPipeline\n",
    "\n",
    "pipe = ExtractiveQAPipeline(reader, retriever)"
   ]
  },
  {
   "cell_type": "code",
   "execution_count": 24,
   "metadata": {},
   "outputs": [
    {
     "name": "stderr",
     "output_type": "stream",
     "text": [
      "Inferencing Samples: 100%|██████████| 1/1 [00:02<00:00,  2.54s/ Batches]\n",
      "Inferencing Samples: 100%|██████████| 1/1 [00:01<00:00,  1.42s/ Batches]\n",
      "Inferencing Samples: 100%|██████████| 1/1 [00:01<00:00,  1.45s/ Batches]\n",
      "Inferencing Samples: 100%|██████████| 1/1 [00:00<00:00,  1.89 Batches/s]\n",
      "Inferencing Samples: 100%|██████████| 1/1 [00:00<00:00,  1.79 Batches/s]\n",
      "Inferencing Samples: 100%|██████████| 1/1 [00:01<00:00,  1.59s/ Batches]\n",
      "Inferencing Samples: 100%|██████████| 1/1 [00:02<00:00,  2.88s/ Batches]\n",
      "Inferencing Samples: 100%|██████████| 1/1 [00:00<00:00,  1.89 Batches/s]\n",
      "Inferencing Samples: 100%|██████████| 1/1 [00:02<00:00,  2.85s/ Batches]\n",
      "Inferencing Samples: 100%|██████████| 1/1 [00:00<00:00,  1.92 Batches/s]\n"
     ]
    }
   ],
   "source": [
    "prediction = pipe.run(\n",
    "    query=\"What are Picky Eaters?\", params={\"Retriever\": {\"top_k\": 10}, \"Reader\": {\"top_k\": 5}}\n",
    ")"
   ]
  },
  {
   "cell_type": "code",
   "execution_count": 25,
   "metadata": {},
   "outputs": [
    {
     "name": "stdout",
     "output_type": "stream",
     "text": [
      "{'answers': [<Answer {'answer': 'those who consume an inadequate variety of food through rejection of a substantial amount of food stuffs that are both familiar and unfamiliar', 'type': 'extractive', 'score': 0.7082067728042603, 'context': ' as those who consume an inadequate variety of food through rejection of a substantial amount of food stuffs that are both familiar and unfamiliar. Pi', 'offsets_in_document': [{'start': 28, 'end': 170}], 'offsets_in_context': [{'start': 4, 'end': 146}], 'document_id': '64ca69693c45b668774ed16fa941124a', 'meta': {'name': '4_Picky_Eaters_1.txt'}}>,\n",
      "             <Answer {'answer': 'Swedish preschoolers of different weight status', 'type': 'extractive', 'score': 0.5047638416290283, 'context': '3.\\nPMID: 27889496 Free PMC article.\\nPicky eating in Swedish preschoolers of different weight status: application of two new screening cut-offs.\\nSandvi', 'offsets_in_document': [{'start': 2130, 'end': 2177}], 'offsets_in_context': [{'start': 52, 'end': 99}], 'document_id': '64ca69693c45b668774ed16fa941124a', 'meta': {'name': '4_Picky_Eaters_1.txt'}}>,\n",
      "             <Answer {'answer': 'very restricted diets', 'type': 'extractive', 'score': 0.15422989428043365, 'context': 'led that those with the food related identity of picky eater had very restricted diets and experienced strong emotional and physical reactions to cert', 'offsets_in_document': [{'start': 861, 'end': 882}], 'offsets_in_context': [{'start': 65, 'end': 86}], 'document_id': '64ca69693c45b668774ed16fa941124a', 'meta': {'name': '4_Picky_Eaters_1.txt'}}>,\n",
      "             <Answer {'answer': 'the food', 'type': 'extractive', 'score': 0.08708347007632256, 'context': 'Sometimes, for the child, itâ€™s not about the food itself that they are being picky\\nover, itâ€™s about having a sense of control. There are different', 'offsets_in_document': [{'start': 43, 'end': 51}], 'offsets_in_context': [{'start': 43, 'end': 51}], 'document_id': 'e18c989ab39948569e22ba55c5f45827', 'meta': {'name': '5_Picky_Eaters_2.txt'}}>,\n",
      "             <Answer {'answer': 'butter and\\nnoodles', 'type': 'extractive', 'score': 0.06694565527141094, 'context': ' but they can have options. If you donâ€™t want your child eating butter and\\nnoodles for every meal, donâ€™t make it an option. For example, for a sna', 'offsets_in_document': [{'start': 1045, 'end': 1063}], 'offsets_in_context': [{'start': 66, 'end': 84}], 'document_id': 'e18c989ab39948569e22ba55c5f45827', 'meta': {'name': '5_Picky_Eaters_2.txt'}}>],\n",
      " 'documents': [<Document: {'content': \"Picky eaters are defined as those who consume an inadequate variety of food through rejection of a substantial amount of food stuffs that are both familiar and unfamiliar. Picky eating is a relatively recent theoretical concept and while there is increasing concern within public health over the lack of diversity in some children's diets, adult picky eaters remain an under researched group. This paper reports on the findings of a qualitative study on the routine food choices and practices of 26 families in Sandwell, West Midlands, UK. Photo elicitation and go-along interview data collection methods were used to capture habitual food related behaviours and served to describe the practices of nine individuals who self identified or were described as picky eaters. A thematic analysis revealed that those with the food related identity of picky eater had very restricted diets and experienced strong emotional and physical reactions to certain foods. For some this could be a distressing and alienating experience that hindered their ability to engage in episodes of social eating. Further research is needed to illuminate the specific practices of adult picky eaters, how this impacts on their lives, and how possible interventions might seek to address the challenges they face.\\nKeywords: Adults; Food practices; Identity; Picky eaters.\\nCopyright Â© 2014 Elsevier Ltd. All rights reserved.\\nPicky eating and child weight status development: a longitudinal study.\\nAntoniou EE, Roefs A, Kremers SP, Jansen A, Gubbels JS, Sleddens EF, Thijs C.\\nJ Hum Nutr Diet. 2016 Jun;29(3):298-307. doi: 10.1111/jhn.12322. Epub 2015 May 19.\\nAdult picky eating. Phenomenology, taste sensitivity, and psychological correlates.\\nKauer J, Pelchat ML, Rozin P, Zickgraf HF.\\nAppetite. 2015 Jul;90:219-28. doi: 10.1016/j.appet.2015.03.001. Epub 2015 Mar 5.\\nPMID: 25747855 Free PMC article.\\nHow parents describe picky eating and its impact on family meals: A qualitative analysis.\\nTrofholz AC, Schulte AK, Berge JM.\\nAppetite. 2017 Mar 1;110:36-43. doi: 10.1016/j.appet.2016.11.027. Epub 2016 Nov 23.\\nPMID: 27889496 Free PMC article.\\nPicky eating in Swedish preschoolers of different weight status: application of two new screening cut-offs.\\nSandvik P, Ek A, Somaraki M, Hammar U, Eli K, Nowicka P.\\nInt J Behav Nutr Phys Act. 2018 Aug 9;15(1):74. doi: 10.1186/s12966-018-0706-0.\\nPMID: 30092802 Free PMC article.\\nFood neophobia and 'picky/fussy' eating in children: a review.\\nDovey TM, Staples PA, Gibson EL, Halford JC.\\nAppetite. 2008 Mar-May;50(2-3):181-93. doi: 10.1016/j.appet.2007.09.009. Epub 2007 Sep 29.\", 'content_type': 'text', 'score': 0.6737917267436231, 'meta': {'name': '4_Picky_Eaters_1.txt'}, 'embedding': None, 'id': '64ca69693c45b668774ed16fa941124a'}>,\n",
      "               <Document: {'content': 'Sometimes, for the child, itâ€™s not about the food itself that they are being picky\\nover, itâ€™s about having a sense of control. There are different ways to help your\\nchild feel like they have some control over their food.\\nOne way to try to help a child that is a picky eater is to set realistic expectations. If\\nyou want them to get used to a new food, it can take up to twelve exposures to\\nthe new food to start to like it. It doesnâ€™t mean that they have to eat twelve\\ntimes, they just have to either see it, help prepare it, or listen to someone talk\\nabout it. They also might just need to smell or touch new foods, to try and get a\\nbetter understanding of it. You can help encourage your child by talking about the\\nfoodâ€™s color, smell, and texture, but donâ€™t discuss with them if it tastes good or\\nAnother way to help your child get over the habit is to give them options that you\\nwant them to eat, and donâ€™t make special meals just for them. They eat what you\\neat, but they can have options. If you donâ€™t want your child eating butter and\\nnoodles for every meal, donâ€™t make it an option. For example, for a snack after\\nschool you can put out apples, grapes, and carrots, and that way even if they\\ndonâ€™t eat the eat one or two of the snacks, theyâ€™re still making a healthy choice\\nand they feel like they have a say in what they eat as well.\\nYou can also have your child be a part of the meal prep, to help give them a sense\\nof control over their food. You can have them pick between two or three veggies\\nfor dinner, have them help set the table, or have them help you pick out groceries\\nat the grocery store. Another great piece of advice is to relax and enjoy\\nmealtimes. Make eating a positive experience, and realize that not every meal is\\ngoing to be a perfect meal, because even the healthiest person alive will have a\\nmeal or two that is not perfectly balanced and that is perfectly fine.\\nA wonderful website that can offer some help is the Mayo Clinic website, the link', 'content_type': 'text', 'score': 0.6663850115397177, 'meta': {'name': '5_Picky_Eaters_2.txt'}, 'embedding': None, 'id': 'e18c989ab39948569e22ba55c5f45827'}>,\n",
      "               <Document: {'content': 'There are a few things that you can do if your child has a hard time drinking from\\na bottle, one thing would be to try and give the your child the bottle as soon as\\nthey wake up, wither that be when they wake up in the morning or after a nap.\\nTheir instinct typically takes over when theyâ€™re still sleepy. Be cautious that if you\\nlet your child get overly hungry in between feedings, that can cause the child to\\nget fussy and make it harder for them to be fed.\\nAnother thing that can help your child take a bottle would be to create a relaxing\\nenvironment each time you offer the bottle, for example, play soft calming music,\\nsit somewhere you can gently rock your child as you feed them. If you can have a\\nquiet dark room it will help relax child and you. Children feed off the energy of the\\nadults that they are surrounded by.\\nYou can also try and give your child a different type of bottle or nipple. Sometimes\\nthe solution is that easy, you just have to experiment with both the bottle and the\\nnipple of the bottle. There are nipples levels based upon age, but every child is\\ndifferent so the nipple level that it says they should be at does not mean thatâ€™s\\nwhat your child wants or likes. While there is a countless number of combinations\\nout there and it seems daunting, your lactation specialist or childâ€™s doctor could\\nOne more thing that can help is to experiment with the bottle feeding position\\nthat you are using. Your child might just like to eat while sitting or lying down a\\ncertain way. You could try cradling them at a 45-degree angle while keeping their\\nhead and neck aligned, sitting upright so that their back is against their stomach,\\nor while sitting or lying down, bend your legs and position your baby so they face\\nyou with their head resting against your knees, their back against your thighs and\\nIf these tips donâ€™t work, you should call your childâ€™s doctor, because there might\\nbe another reason that they are not taking the bottle.', 'content_type': 'text', 'score': 0.6637273146377136, 'meta': {'name': '6_Picky_Eaters_3.txt'}, 'embedding': None, 'id': '8b16f49e9942a635ee7c3637949f501b'}>,\n",
      "               <Document: {'content': '\\n==External links==\\nHealth Partners is a great website to help check out some more helpful tips.\\nhttps://www.healthpartners.com/blog/baby-wont-take-bottle-help/\\nLacted is another website with some helpful tips on how to get your child to take\\nhttps://lacted.org/iable-breastfeeding-education-handouts/bottle-refusal/', 'content_type': 'text', 'score': 0.6547367326136462, 'meta': {'name': '6_Picky_Eaters_3.txt'}, 'embedding': None, 'id': 'ed406a4bbb940486d0ded5ec2ea5ac55'}>,\n",
      "               <Document: {'content': '\\n==External links==\\nhttps://www.mayoclinic.org/healthy-lifestyle/childrens-health/indepth/childrens-health/art-20044948\\nAnother wonderful website to use for helpful tips is NBC News.\\nhttps://www.mayoclinic.org/healthy-lifestyle/childrens-health/indepth/childrens-health/art-20044948', 'content_type': 'text', 'score': 0.6534146926991578, 'meta': {'name': '5_Picky_Eaters_2.txt'}, 'embedding': None, 'id': '792d0208af307d12ca5f429000cccc8c'}>,\n",
      "               <Document: {'content': 'One important thing to remember when thinking about toilet training is that\\nthere is no right age to start at. Toilet training requires a lot of different complex\\nskills that your child will have to master, and as you know your child best, you will\\nhave the sense that the time is right.\\nThere are some signs that will give you the hint that your child is ready to start\\npotty training. One might be that your child can pull down their own diaper or\\nunderpants. Another would be your child asking questions about the bathroom\\nwhen seeing another family member go in there. If your child can understand or\\nverbally let you know when their diaper is wet or tell you that they need to go\\npee, that is another indication. Also, if they can keep their diaper dry for two\\nhours at a time during the day, they could possibly be ready to start toilet\\nThere are some things that you can do to prepare your child for potty training.\\nYou can get a potty chair and keep it in a specific spot in your house, and let your\\nchild get familiar with it. If possible, let your child pick out their own so that they\\nfeel like a part of the process from the start. Once you have their training toilet,\\nhave your child sit on it and get comfortable. If you get them used to the new\\ntoilet before they have to use it, it should not feel as foreign to them when they\\ndo start using it for its intended use. Start getting your child familiar with the\\nlanguage and as youâ€™re changing their diaper or if you have them on the toilet you\\ncan say things like â€œpee peeâ€ and â€œpoopâ€ that way they can start to associate the\\nPampers is a wonderful website to use to help better understand when your child', 'content_type': 'text', 'score': 0.6343371821418423, 'meta': {'name': '2_Toilet_Training_issues_3.txt'}, 'embedding': None, 'id': 'dfb4c8fcb15a2b31e3373e5e9d76035d'}>,\n",
      "               <Document: {'content': 'According to the Cleveland Clinic, about 15% of children ages 5 or older actually\\nstop wetting the bed each year. So its still perfectly normal for a child to wet the\\nbed up until the age of 7. It is often just a stage in their development. And while\\ngirls can and do wet the bed, it is 2 times for likely for a boy to wet the bed.\\nThere are a few things that can cause bedwetting. Dr. Charles Kwon is a pediatric\\nnephrologist, says that the underlying issue is usually a bladder thatâ€™s not\\nmatured yet. Other possible causes can be a hormone imbalance, constipation,\\nthe child is having a lot of stress and anxiety, they have ADHD, they have a small\\nbladder, or there is a family history of childhood bedwetting. Bed wetting in some\\ncases could also be a sign of sleep apnea if your child snores a lot or shows other\\nsigns of sleep apnea, a UTI (urinary tract infections), or even diabetes. Talking\\nwith your childs doctor is always suggested, just in case.\\nThere are a few suggestions on how to stop bedwetting from doctors. You can\\nshift times for drinking, have your child increase their liquid intake earlier in the\\nday and after dinner, stop their fluid intake. Another thing you can do is schedule\\nbathroom breaks for your child, ever few hours, and then again right before\\nbedtime. Also, always be encouraging and positive, constantly reward their\\nsuccess and donâ€™t be negative. Instead getting angry that they wet the bed again,\\nsay something along the lines of â€œthatâ€™s okay, weâ€™ll just have more potty breaks\\ntoday and try again tonight.â€ Never punish them for wetting the bed. You also\\ndonâ€™t want to wake up your child to urinate, because that will only lead to more\\nsleeplessness and frustration for you and your child.\\nSometimes, an earlier bedtime is the answer. Often, a child is a deep sleeper\\nbecause they just arenâ€™t getting enough sleep. Another suggestion is eliminate\\nbladder irritants such as caffeine (chocolate milk and coco), and if that doesnâ€™t\\nwork, cut out citrus juices, artificial flavorings, dyes, and sweeteners as those can\\nall irritate bladders. Try and avoid thirst overload, one way you can do this by\\nseeing if your childâ€™s school allows them water bottles that way they can drink\\nthroughout the day and avoid gulping down water after school. They also have a\\ndevice that you can clip onto your childâ€™s underwear or place on the bed that\\ndetects moisture and the alarm goes off, and pediatric urologist Dr Audrey Rhee,\\nMD, suggest that one might be helpful but only if your child is motivated to stop\\nthe issue. â€œIf theyâ€™re still sneaking drinks late at night and eating what they\\nshouldnâ€™t, then it doesnâ€™t make sense to invest in an expensive bedwetting alarm.\\nSo, I directly ask a child if bedwetting bothers them, to find out if itâ€™s the parentsâ€™\\nfrustration that brought the child to the appointment or their own,â€ Dr. Rhee\\nsays. If there not motivated yet to stop, then possibly as they get older the\\nopportunities to go to slumber parties and weekend trips with family and friends\\ncould likely motivate your child to stop.', 'content_type': 'text', 'score': 0.6325990382358938, 'meta': {'name': '3_Toilet_Training_issues_4.txt'}, 'embedding': None, 'id': 'ce8b05d655380a32d9b5bd9c71ad8b4e'}>,\n",
      "               <Document: {'content': '\\n==External links==\\n* https://www.pampers.com/en-us/toddler/potty-training/article/when-to-startpotty-training-signs-your-child-is-ready\\nSleeping Should Be Easy is a great website in helping prepare your child for potty\\n* https://sleepingshouldbeeasy.com/potty-training-prep/', 'content_type': 'text', 'score': 0.6308942339269781, 'meta': {'name': '2_Toilet_Training_issues_3.txt'}, 'embedding': None, 'id': 'cdb3ffc9d17716d0044eb2f009eb3d43'}>,\n",
      "               <Document: {'content': 'Before you start to toilet train, it is important to make sure that your child is \\ncomfortable in the bathroom. If your child is not comfortable, make the bathroom \\na fun place! You can do this is many a ways, either read a book with your child in \\nthe bathroom with them, play their favorite music and have a dance party with \\nthem, etc. Also, before starting it is very helpful to make sure that your child is \\nconstantly drinking fluids, as that will ensure that there is more times for you and \\nyour child to practice using the toilet appropriately. Another helpful thing to use, \\nis a chart to show your childâ€™s progress. You can include the date, time, accidents, \\nsuccessful uses of the toilet, and successful initiations by your child.  \\nOnce your child is comfortable, then itâ€™s time to set up a routine. Toilet training \\ntakes time and patience. Set a kitchen timer at regular intervals, anywhere from \\n10-20 minutes. When the timer goes off, show your child either a photograph of \\nthe toilet or take them to the toilet and say, â€œI need to go pottyâ€, or something \\nalong those lines. If your child is nonverbal, have a picture of a toilet and say \\nâ€œpottyâ€ while pointing at the photo. This helps your child hear the correct words \\nthat will let you know that they need to go to the bathroom. \\nThen, sit your child on the toilet for a few minutes, if your child does use the \\ntoilet, give them verbal praise and a special treat that is reserved for potty time \\nonly. Like a cookie, marshmallow, or a cool sticker on their potty chart. If your \\nchild does not use the toilet, just pull up your childâ€™s underwear, and resume \\nwhatever you were doing before, with a new timer set. \\nOnce your child is accident free for 2-3 days, increase the interval 5-10 minutes. \\nFrom there, you can increase the interval ever 2-3 days until they are on schedule \\nof every hour, or they are using the toilet correctly by telling you that they need \\nthe restroom. Once your child is at the hour interval, stop bringing them to the \\ntoilet. They should be able to correctly ask, but if you notice theyâ€™re not asking \\nand you see your child showing signs of having to go to the bathroom, stop \\nreinforcing them using the toilet, instead reinforce them asking for it by bringing \\nthem either towards the bathroom, or showing them the picture of the toilet. \\nWhen your child sees the reminder and says â€œI need to go pottyâ€, give immediate \\npraise and possible small treat for them telling you that need to go. If you decided \\nto use the chart to help you and your child track the progress, it will also help you \\nsee when it is a good time to raise the intervals. \\nAs youâ€™re going through the intervals, set up a dry pants check. Around halfway \\nthrough the timer, ask your child if their pants are dry. You can teach them how \\nto check their pants with their hand and if it is dry, you can give them praise and \\nreinforce the toilet training by saying â€œGood job! We potty in the toilet!â€ if your \\nchild does have an accident, try and keep it positive. â€œGood try, you almost made \\nit!â€ and take your child to the toilet while reminding them where they use the ', 'content_type': 'text', 'score': 0.6295845630953609, 'meta': {'name': '0_Toilet_Training_issues_1.txt'}, 'embedding': None, 'id': '234a498e94bb7349cc2c490cd1332c7b'}>,\n",
      "               <Document: {'content': '\\n==External links==\\nCleveland Clinic is a wonderful website with advice on this topic.\\nhttps://health.clevelandclinic.org/how-to-help-your-child-stop-wetting-the-bed2/\\nBedwetting TheraPee is another great website to not only learn more about\\nbedwetting, but also to purchase a bedwetting alarm if you choose to do so.\\nhttps://www.bedwettingtherapy.com/all-about-bedwetting/\\nFamily doctor is another great website that is loaded with a lot of information\\nhttps://familydoctor.org/enuresis-bed-wetting/', 'content_type': 'text', 'score': 0.6295395528564883, 'meta': {'name': '3_Toilet_Training_issues_4.txt'}, 'embedding': None, 'id': 'c620423653f2d71a1e31e352a071297c'}>],\n",
      " 'no_ans_gap': 12.364870309829712,\n",
      " 'node_id': 'Reader',\n",
      " 'params': {'Reader': {'top_k': 5}, 'Retriever': {'top_k': 10}},\n",
      " 'query': 'What are Picky Eaters?',\n",
      " 'root_node': 'Query'}\n"
     ]
    }
   ],
   "source": [
    "from pprint import pprint\n",
    "\n",
    "pprint(prediction)"
   ]
  },
  {
   "cell_type": "code",
   "execution_count": 27,
   "metadata": {},
   "outputs": [
    {
     "name": "stdout",
     "output_type": "stream",
     "text": [
      "\n",
      "Query: What are Picky Eaters?\n",
      "Answers:\n",
      "[   {   'answer': 'those who consume an inadequate variety of food through '\n",
      "                  'rejection of a substantial amount of food stuffs that are '\n",
      "                  'both familiar and unfamiliar',\n",
      "        'context': ' as those who consume an inadequate variety of food '\n",
      "                   'through rejection of a substantial amount of food stuffs '\n",
      "                   'that are both familiar and unfamiliar. Pi'},\n",
      "    {   'answer': 'Swedish preschoolers of different weight status',\n",
      "        'context': '3.\\n'\n",
      "                   'PMID: 27889496 Free PMC article.\\n'\n",
      "                   'Picky eating in Swedish preschoolers of different weight '\n",
      "                   'status: application of two new screening cut-offs.\\n'\n",
      "                   'Sandvi'},\n",
      "    {   'answer': 'very restricted diets',\n",
      "        'context': 'led that those with the food related identity of picky '\n",
      "                   'eater had very restricted diets and experienced strong '\n",
      "                   'emotional and physical reactions to cert'},\n",
      "    {   'answer': 'the food',\n",
      "        'context': 'Sometimes, for the child, itâ€™s not about the food itself '\n",
      "                   'that they are being picky\\n'\n",
      "                   'over, itâ€™s about having a sense of control. There are '\n",
      "                   'different'},\n",
      "    {   'answer': 'butter and\\nnoodles',\n",
      "        'context': ' but they can have options. If you donâ€™t want your child '\n",
      "                   'eating butter and\\n'\n",
      "                   'noodles for every meal, donâ€™t make it an option. For '\n",
      "                   'example, for a sna'}]\n"
     ]
    }
   ],
   "source": [
    "print_answers(prediction, details=\"minimum\")"
   ]
  }
 ],
 "metadata": {
  "interpreter": {
   "hash": "523ddcfc65bbfe37710333339268ee31d01a89e16cd208637b54488cfd3a8a73"
  },
  "kernelspec": {
   "display_name": "Python 3.9.9 ('.venv': venv)",
   "language": "python",
   "name": "python3"
  },
  "language_info": {
   "codemirror_mode": {
    "name": "ipython",
    "version": 3
   },
   "file_extension": ".py",
   "mimetype": "text/x-python",
   "name": "python",
   "nbconvert_exporter": "python",
   "pygments_lexer": "ipython3",
   "version": "3.9.9"
  },
  "orig_nbformat": 4
 },
 "nbformat": 4,
 "nbformat_minor": 2
}
