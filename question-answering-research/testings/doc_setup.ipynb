{
 "cells": [
  {
   "cell_type": "code",
   "execution_count": 4,
   "metadata": {},
   "outputs": [],
   "source": [
    "import logging\n",
    "from haystack.document_stores import ElasticsearchDocumentStore\n",
    "from haystack.utils import clean_wiki_text, convert_files_to_docs, fetch_archive_from_http, print_answers, launch_es\n",
    "from haystack.nodes import FARMReader, TransformersReader, BM25Retriever\n",
    "import requests"
   ]
  },
  {
   "cell_type": "code",
   "execution_count": 7,
   "metadata": {},
   "outputs": [],
   "source": [
    "# Connect to Elasticsearch\n",
    "document_store = ElasticsearchDocumentStore(host=\"localhost\", username=\"\", password=\"\", index=\"sampledata\")"
   ]
  },
  {
   "cell_type": "code",
   "execution_count": 8,
   "metadata": {},
   "outputs": [
    {
     "name": "stderr",
     "output_type": "stream",
     "text": [
      "INFO - haystack.utils.preprocessing -  Converting ..\\data\\sampleData\\0_Toilet_Training_issues_1.txt\n",
      "INFO - haystack.utils.preprocessing -  Converting ..\\data\\sampleData\\1_Toilet_Training_issues_2.txt\n",
      "INFO - haystack.utils.preprocessing -  Converting ..\\data\\sampleData\\2_Toilet_Training_issues_3.txt\n"
     ]
    }
   ],
   "source": [
    "doc_dir = \"../data/sampleData\"\n",
    "docs = convert_files_to_docs(dir_path=doc_dir, clean_func=clean_wiki_text, split_paragraphs=True)\n",
    "document_store.write_documents(docs)"
   ]
  },
  {
   "cell_type": "code",
   "execution_count": 9,
   "metadata": {},
   "outputs": [
    {
     "data": {
      "text/plain": [
       "{'count': 6,\n",
       " '_shards': {'total': 1, 'successful': 1, 'skipped': 0, 'failed': 0}}"
      ]
     },
     "execution_count": 9,
     "metadata": {},
     "output_type": "execute_result"
    }
   ],
   "source": [
    "requests.get('http://localhost:9200/sampledata/_count').json()"
   ]
  },
  {
   "cell_type": "code",
   "execution_count": 10,
   "metadata": {},
   "outputs": [],
   "source": [
    "from haystack.document_stores.elasticsearch import ElasticsearchDocumentStore\n",
    "from haystack.retriever.dense import DensePassageRetriever"
   ]
  },
  {
   "cell_type": "code",
   "execution_count": 11,
   "metadata": {},
   "outputs": [],
   "source": [
    "doc_store = ElasticsearchDocumentStore(\n",
    "    host='localhost',\n",
    "    username='', password='',\n",
    "    index='sampledata'\n",
    ")"
   ]
  },
  {
   "cell_type": "code",
   "execution_count": 13,
   "metadata": {},
   "outputs": [
    {
     "name": "stderr",
     "output_type": "stream",
     "text": [
      "INFO - haystack.modeling.utils -  Using devices: CPU\n",
      "INFO - haystack.modeling.utils -  Number of GPUs: 0\n",
      "INFO - haystack.modeling.model.language_model -  LOADING MODEL\n",
      "INFO - haystack.modeling.model.language_model -  =============\n",
      "INFO - haystack.modeling.model.language_model -  Could not find facebook/dpr-question_encoder-single-nq-base locally.\n",
      "INFO - haystack.modeling.model.language_model -  Looking on Transformers Model Hub (in local cache and online)...\n",
      "INFO - haystack.modeling.model.language_model -  Loaded facebook/dpr-question_encoder-single-nq-base\n",
      "The tokenizer class you load from this checkpoint is not the same type as the class this function is called from. It may result in unexpected tokenization. \n",
      "The tokenizer class you load from this checkpoint is 'DPRQuestionEncoderTokenizer'. \n",
      "The class this function is called from is 'DPRContextEncoderTokenizerFast'.\n",
      "INFO - haystack.modeling.model.language_model -  LOADING MODEL\n",
      "INFO - haystack.modeling.model.language_model -  =============\n",
      "INFO - haystack.modeling.model.language_model -  Could not find facebook/dpr-ctx_encoder-single-nq-base locally.\n",
      "INFO - haystack.modeling.model.language_model -  Looking on Transformers Model Hub (in local cache and online)...\n",
      "INFO - haystack.modeling.model.language_model -  Loaded facebook/dpr-ctx_encoder-single-nq-base\n"
     ]
    }
   ],
   "source": [
    "retriever = DensePassageRetriever(\n",
    "    document_store=doc_store,\n",
    "    query_embedding_model='facebook/dpr-question_encoder-single-nq-base',\n",
    "    passage_embedding_model='facebook/dpr-ctx_encoder-single-nq-base',\n",
    "    use_gpu=True,\n",
    "    embed_title=True\n",
    ")"
   ]
  },
  {
   "cell_type": "code",
   "execution_count": 14,
   "metadata": {},
   "outputs": [
    {
     "name": "stderr",
     "output_type": "stream",
     "text": [
      "INFO - haystack.document_stores.elasticsearch -  Updating embeddings for all 6 docs ...\n",
      "Updating embeddings: 10000 Docs [00:05, 1939.13 Docs/s]      \n"
     ]
    }
   ],
   "source": [
    "doc_store.update_embeddings(retriever=retriever)"
   ]
  },
  {
   "cell_type": "code",
   "execution_count": 16,
   "metadata": {},
   "outputs": [
    {
     "data": {
      "text/plain": [
       "[<Document: {'content': 'Before you start to toilet train, it is important to make sure that your child is \\ncomfortable in the bathroom. If your child is not comfortable, make the bathroom \\na fun place! You can do this is many a ways, either read a book with your child in \\nthe bathroom with them, play their favorite music and have a dance party with \\nthem, etc. Also, before starting it is very helpful to make sure that your child is \\nconstantly drinking fluids, as that will ensure that there is more times for you and \\nyour child to practice using the toilet appropriately. Another helpful thing to use, \\nis a chart to show your childâ€™s progress. You can include the date, time, accidents, \\nsuccessful uses of the toilet, and successful initiations by your child.  \\nOnce your child is comfortable, then itâ€™s time to set up a routine. Toilet training \\ntakes time and patience. Set a kitchen timer at regular intervals, anywhere from \\n10-20 minutes. When the timer goes off, show your child either a photograph of \\nthe toilet or take them to the toilet and say, â€œI need to go pottyâ€, or something \\nalong those lines. If your child is nonverbal, have a picture of a toilet and say \\nâ€œpottyâ€ while pointing at the photo. This helps your child hear the correct words \\nthat will let you know that they need to go to the bathroom. \\nThen, sit your child on the toilet for a few minutes, if your child does use the \\ntoilet, give them verbal praise and a special treat that is reserved for potty time \\nonly. Like a cookie, marshmallow, or a cool sticker on their potty chart. If your \\nchild does not use the toilet, just pull up your childâ€™s underwear, and resume \\nwhatever you were doing before, with a new timer set. \\nOnce your child is accident free for 2-3 days, increase the interval 5-10 minutes. \\nFrom there, you can increase the interval ever 2-3 days until they are on schedule \\nof every hour, or they are using the toilet correctly by telling you that they need \\nthe restroom. Once your child is at the hour interval, stop bringing them to the \\ntoilet. They should be able to correctly ask, but if you notice theyâ€™re not asking \\nand you see your child showing signs of having to go to the bathroom, stop \\nreinforcing them using the toilet, instead reinforce them asking for it by bringing \\nthem either towards the bathroom, or showing them the picture of the toilet. \\nWhen your child sees the reminder and says â€œI need to go pottyâ€, give immediate \\npraise and possible small treat for them telling you that need to go. If you decided \\nto use the chart to help you and your child track the progress, it will also help you \\nsee when it is a good time to raise the intervals. \\nAs youâ€™re going through the intervals, set up a dry pants check. Around halfway \\nthrough the timer, ask your child if their pants are dry. You can teach them how \\nto check their pants with their hand and if it is dry, you can give them praise and \\nreinforce the toilet training by saying â€œGood job! We potty in the toilet!â€ if your \\nchild does have an accident, try and keep it positive. â€œGood try, you almost made \\nit!â€ and take your child to the toilet while reminding them where they use the ', 'content_type': 'text', 'score': 0.6614113472656696, 'meta': {'name': '0_Toilet_Training_issues_1.txt'}, 'embedding': None, 'id': '234a498e94bb7349cc2c490cd1332c7b'}>,\n",
       " <Document: {'content': 'Mark Wolraich, M.D., Chief of the Section of Developmental and Behavioral\\nPediatrics at the University of Oklahoma Health Sciences Center and the Director\\nof the Child Study Center suggest to â€œTry and identify the reasons for regression,\\nas addressing them will help the child return to where (they) (where).â€\\nThere could be a few reasons for the regression. One reason could be that the\\nchild wasnâ€™t actually toilet trained. A toilet trained child would be one that should\\nwant to use the toilet, if your child is having an accident every day, you might\\nneed to start the whole process of toilet training over again.\\nAnother reason could be stress, or they get distracted easily. If it is stress, either\\nfrom a new routine, a new school, or a new sibling, once your child gets into the\\nnew routine, they should fall right back into their training. If they are getting\\ndistracted easily, they might not notice when they have to use the restroom. Go\\nback to the toilet training of using a timer with a set interval, and having your\\nchild sit on the toilet for a certain time period. If they correctly use it, give them\\nverbal praise. If they donâ€™t, stay positive with them and say something along the\\nlines of â€œthatâ€™s okay! We can try again later.â€ And go back to whatever you were\\ndoing before the timer went off, and repeat with each interval.\\nAnother reason could be health issues. Make sure your child is drinking plenty of\\nfluids and eating plenty of fiber if they are constipated. If you are still concerned,\\nIf your child is going through a regression, never punish your child for their\\naccident. If they do have an accident, acknowledge that they had an accident, and\\nhave them sit on the toilet for a few minutes and let them know that this is where\\nthey pee and if they need to go, let you know.\\nAnother way to help with the regression is to give them gentle reminders. You can\\ndo this through the timer and when it goes off, say â€œlets go potty!â€. If they do use \\nit, immediate praise and possibly a treat depending upon your system. If they\\ndonâ€™t, let them know that it is alright and that they can try again later.', 'content_type': 'text', 'score': 0.6581662384751006, 'meta': {'name': '1_Toilet_Training_issues_2.txt'}, 'embedding': None, 'id': 'f71a7c38b9d9db9663179d2af99d86a0'}>,\n",
       " <Document: {'content': 'One important thing to remember when thinking about toilet training is that\\nthere is no right age to start at. Toilet training requires a lot of different complex\\nskills that your child will have to master, and as you know your child best, you will\\nhave the sense that the time is right.\\nThere are some signs that will give you the hint that your child is ready to start\\npotty training. One might be that your child can pull down their own diaper or\\nunderpants. Another would be your child asking questions about the bathroom\\nwhen seeing another family member go in there. If your child can understand or\\nverbally let you know when their diaper is wet or tell you that they need to go\\npee, that is another indication. Also, if they can keep their diaper dry for two\\nhours at a time during the day, they could possibly be ready to start toilet\\nThere are some things that you can do to prepare your child for potty training.\\nYou can get a potty chair and keep it in a specific spot in your house, and let your\\nchild get familiar with it. If possible, let your child pick out their own so that they\\nfeel like a part of the process from the start. Once you have their training toilet,\\nhave your child sit on it and get comfortable. If you get them used to the new\\ntoilet before they have to use it, it should not feel as foreign to them when they\\ndo start using it for its intended use. Start getting your child familiar with the\\nlanguage and as youâ€™re changing their diaper or if you have them on the toilet you\\ncan say things like â€œpee peeâ€ and â€œpoopâ€ that way they can start to associate the\\nPampers is a wonderful website to use to help better understand when your child', 'content_type': 'text', 'score': 0.6574716010742111, 'meta': {'name': '2_Toilet_Training_issues_3.txt'}, 'embedding': None, 'id': 'dfb4c8fcb15a2b31e3373e5e9d76035d'}>,\n",
       " <Document: {'content': '\\n==External links==\\nOne website that can offer help is Parents.\\n* https://www.parents.com/toddlers-preschoolers/potty-training/problems/howto-deal-with-potty-training-regression/', 'content_type': 'text', 'score': 0.6538405483393523, 'meta': {'name': '1_Toilet_Training_issues_2.txt'}, 'embedding': None, 'id': '5fd529b0b7afb3eedbf81a4b86b585d2'}>,\n",
       " <Document: {'content': '\\n==External links==\\n* https://www.pampers.com/en-us/toddler/potty-training/article/when-to-startpotty-training-signs-your-child-is-ready\\nSleeping Should Be Easy is a great website in helping prepare your child for potty\\n* https://sleepingshouldbeeasy.com/potty-training-prep/', 'content_type': 'text', 'score': 0.6461407216238175, 'meta': {'name': '2_Toilet_Training_issues_3.txt'}, 'embedding': None, 'id': 'cdb3ffc9d17716d0044eb2f009eb3d43'}>,\n",
       " <Document: {'content': '\\n==External links==\\nFor more helpful tips, please visit Car Autism Roadmap website. I found that it has \\nmany helpful tips to aid you in toliet training.  \\n* https://www.carautismroadmap.org/toilet-training/ \\nThe website How to ABA, also has a very nice layout that should help you. \\n* https://www.carautismroadmap.org/toilet-training/', 'content_type': 'text', 'score': 0.6278515688408168, 'meta': {'name': '0_Toilet_Training_issues_1.txt'}, 'embedding': None, 'id': '97bfcb56a350a4efa5cb950dffb89894'}>]"
      ]
     },
     "execution_count": 16,
     "metadata": {},
     "output_type": "execute_result"
    }
   ],
   "source": [
    "retriever.retrieve(\"How do I toilet train my child as he keeps wetting himself?\")"
   ]
  }
 ],
 "metadata": {
  "interpreter": {
   "hash": "523ddcfc65bbfe37710333339268ee31d01a89e16cd208637b54488cfd3a8a73"
  },
  "kernelspec": {
   "display_name": "Python 3.9.9 ('.venv': venv)",
   "language": "python",
   "name": "python3"
  },
  "language_info": {
   "codemirror_mode": {
    "name": "ipython",
    "version": 3
   },
   "file_extension": ".py",
   "mimetype": "text/x-python",
   "name": "python",
   "nbconvert_exporter": "python",
   "pygments_lexer": "ipython3",
   "version": "3.9.9"
  },
  "orig_nbformat": 4
 },
 "nbformat": 4,
 "nbformat_minor": 2
}
