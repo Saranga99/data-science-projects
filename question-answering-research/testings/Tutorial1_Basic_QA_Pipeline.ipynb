{
  "cells": [
    {
      "cell_type": "markdown",
      "metadata": {
        "id": "QLf_9wx_H429"
      },
      "source": [
        "# Build Your First QA System\n",
        "\n",
        "<img style=\"float: right;\" src=\"https://upload.wikimedia.org/wikipedia/en/d/d8/Game_of_Thrones_title_card.jpg\">\n",
        "\n",
        "[![Open In Colab](https://colab.research.google.com/assets/colab-badge.svg)](https://colab.research.google.com/github/deepset-ai/haystack/blob/master/tutorials/Tutorial1_Basic_QA_Pipeline.ipynb)\n",
        "\n",
        "Question Answering can be used in a variety of use cases. A very common one:  Using it to navigate through complex knowledge bases or long documents (\"search setting\").\n",
        "\n",
        "A \"knowledge base\" could for example be your website, an internal wiki or a collection of financial reports. \n",
        "In this tutorial we will work on a slightly different domain: \"Game of Thrones\". \n",
        "\n",
        "Let's see how we can use a bunch of Wikipedia articles to answer a variety of questions about the \n",
        "marvellous seven kingdoms.\n"
      ]
    },
    {
      "cell_type": "code",
      "execution_count": 42,
      "metadata": {
        "id": "eAfSAZt5H43G"
      },
      "outputs": [],
      "source": [
        "from haystack.utils import clean_wiki_text, convert_files_to_docs, fetch_archive_from_http, print_answers\n",
        "from haystack.nodes import FARMReader, TransformersReader"
      ]
    },
    {
      "cell_type": "markdown",
      "metadata": {
        "id": "yuaL47SvH43G"
      },
      "source": [
        "## Document Store\n",
        "\n",
        "Haystack finds answers to queries within the documents stored in a `DocumentStore`. The current implementations of `DocumentStore` include `ElasticsearchDocumentStore`, `FAISSDocumentStore`,  `SQLDocumentStore`, and `InMemoryDocumentStore`.\n",
        "\n",
        "**Here:** We recommended Elasticsearch as it comes preloaded with features like [full-text queries](https://www.elastic.co/guide/en/elasticsearch/reference/current/full-text-queries.html), [BM25 retrieval](https://www.elastic.co/elasticon/conf/2016/sf/improved-text-scoring-with-bm25), and [vector storage for text embeddings](https://www.elastic.co/guide/en/elasticsearch/reference/7.6/dense-vector.html).\n",
        "\n",
        "**Alternatives:** If you are unable to setup an Elasticsearch instance, then follow the [Tutorial 3](https://github.com/deepset-ai/haystack/blob/master/tutorials/Tutorial3_Basic_QA_Pipeline_without_Elasticsearch.ipynb) for using SQL/InMemory document stores.\n",
        "\n",
        "**Hint**: This tutorial creates a new document store instance with Wikipedia articles on Game of Thrones. However, you can configure Haystack to work with your existing document stores.\n",
        "\n",
        "### Start an Elasticsearch server\n",
        "You can start Elasticsearch on your local machine instance using Docker. If Docker is not readily available in your environment (e.g. in Colab notebooks), then you can manually download and execute Elasticsearch from source."
      ]
    },
    {
      "cell_type": "code",
      "execution_count": 43,
      "metadata": {
        "id": "mEydyRAoH43I"
      },
      "outputs": [
        {
          "name": "stderr",
          "output_type": "stream",
          "text": [
            "WARNING - haystack.utils.doc_store -  Tried to start Elasticsearch through Docker but this failed. It is likely that there is already an existing Elasticsearch instance running. \n"
          ]
        }
      ],
      "source": [
        "# Recommended: Start Elasticsearch using Docker via the Haystack utility function\n",
        "from haystack.utils import launch_es\n",
        "\n",
        "launch_es()"
      ]
    },
    {
      "cell_type": "code",
      "execution_count": 44,
      "metadata": {
        "id": "zM9DKKmMH43K",
        "pycharm": {
          "name": "#%%\n"
        }
      },
      "outputs": [],
      "source": [
        "# Connect to Elasticsearch\n",
        "\n",
        "from haystack.document_stores import ElasticsearchDocumentStore\n",
        "\n",
        "document_store = ElasticsearchDocumentStore(host=\"localhost\", username=\"\", password=\"\", index=\"document\")"
      ]
    },
    {
      "cell_type": "markdown",
      "metadata": {
        "id": "bOGdImqNH43M",
        "pycharm": {
          "name": "#%% md\n"
        }
      },
      "source": [
        "## Preprocessing of documents\n",
        "\n",
        "Haystack provides a customizable pipeline for:\n",
        " - converting files into texts\n",
        " - cleaning texts\n",
        " - splitting texts\n",
        " - writing them to a Document Store\n",
        "\n",
        "In this tutorial, we download Wikipedia articles about Game of Thrones, apply a basic cleaning function, and index them in Elasticsearch."
      ]
    },
    {
      "cell_type": "code",
      "execution_count": 45,
      "metadata": {
        "id": "7fygYu57H43N",
        "pycharm": {
          "name": "#%%\n"
        }
      },
      "outputs": [
        {
          "name": "stderr",
          "output_type": "stream",
          "text": [
            "INFO - haystack.utils.preprocessing -  Converting ..\\data\\tutorial1\\0_Game_of_Thrones__season_8_.txt\n",
            "INFO - haystack.utils.preprocessing -  Converting ..\\data\\tutorial1\\101_Titties_and_Dragons.txt\n",
            "INFO - haystack.utils.preprocessing -  Converting ..\\data\\tutorial1\\102_The_Princess_and_the_Queen.txt\n",
            "INFO - haystack.utils.preprocessing -  Converting ..\\data\\tutorial1\\10_Beyond_the_Wall__Game_of_Thrones_.txt\n",
            "INFO - haystack.utils.preprocessing -  Converting ..\\data\\tutorial1\\118_Dark_Wings__Dark_Words.txt\n",
            "INFO - haystack.utils.preprocessing -  Converting ..\\data\\tutorial1\\119_Walk_of_Punishment.txt\n",
            "INFO - haystack.utils.preprocessing -  Converting ..\\data\\tutorial1\\11_The_Dragon_and_the_Wolf.txt\n",
            "INFO - haystack.utils.preprocessing -  Converting ..\\data\\tutorial1\\120_And_Now_His_Watch_Is_Ended.txt\n",
            "INFO - haystack.utils.preprocessing -  Converting ..\\data\\tutorial1\\121_The_Bear_and_the_Maiden_Fair.txt\n",
            "INFO - haystack.utils.preprocessing -  Converting ..\\data\\tutorial1\\126_Kissed_by_Fire.txt\n",
            "INFO - haystack.utils.preprocessing -  Converting ..\\data\\tutorial1\\127_The_Climb__Game_of_Thrones_.txt\n",
            "INFO - haystack.utils.preprocessing -  Converting ..\\data\\tutorial1\\129_Second_Sons.txt\n",
            "INFO - haystack.utils.preprocessing -  Converting ..\\data\\tutorial1\\12_Fire.txt\n",
            "INFO - haystack.utils.preprocessing -  Converting ..\\data\\tutorial1\\130_Game_of_Thrones_title_sequence.txt\n",
            "INFO - haystack.utils.preprocessing -  Converting ..\\data\\tutorial1\\131_Mhysa.txt\n",
            "INFO - haystack.utils.preprocessing -  Converting ..\\data\\tutorial1\\133_Game_of_Thrones__Season_5__soundtrack_.txt\n",
            "INFO - haystack.utils.preprocessing -  Converting ..\\data\\tutorial1\\134_Game_of_Thrones__Season_6__soundtrack_.txt\n",
            "INFO - haystack.utils.preprocessing -  Converting ..\\data\\tutorial1\\135_Game_of_Thrones__Season_7__soundtrack_.txt\n",
            "INFO - haystack.utils.preprocessing -  Converting ..\\data\\tutorial1\\136_Game_of_Thrones__Season_8__soundtrack_.txt\n",
            "INFO - haystack.utils.preprocessing -  Converting ..\\data\\tutorial1\\145_Elio_M._García_Jr._and_Linda_Antonsson.txt\n",
            "INFO - haystack.utils.preprocessing -  Converting ..\\data\\tutorial1\\146_The_Sons_of_the_Dragon.txt\n",
            "INFO - haystack.utils.preprocessing -  Converting ..\\data\\tutorial1\\148_Game_of_Thrones__Winter_Is_Coming.txt\n",
            "INFO - haystack.utils.preprocessing -  Converting ..\\data\\tutorial1\\151_Ellaria_Sand.txt\n",
            "INFO - haystack.utils.preprocessing -  Converting ..\\data\\tutorial1\\154_Margaery_Tyrell.txt\n",
            "INFO - haystack.utils.preprocessing -  Converting ..\\data\\tutorial1\\160_Viserys_Targaryen.txt\n",
            "INFO - haystack.utils.preprocessing -  Converting ..\\data\\tutorial1\\191_Gendry.txt\n",
            "INFO - haystack.utils.preprocessing -  Converting ..\\data\\tutorial1\\193_Lord_Snow.txt\n",
            "INFO - haystack.utils.preprocessing -  Converting ..\\data\\tutorial1\\194_A_Song_of_Ice_and_Fire.txt\n",
            "INFO - haystack.utils.preprocessing -  Converting ..\\data\\tutorial1\\195_World_of_A_Song_of_Ice_and_Fire.txt\n",
            "INFO - haystack.utils.preprocessing -  Converting ..\\data\\tutorial1\\197_A_Game_of_Thrones.txt\n",
            "INFO - haystack.utils.preprocessing -  Converting ..\\data\\tutorial1\\198_A_Clash_of_Kings.txt\n",
            "INFO - haystack.utils.preprocessing -  Converting ..\\data\\tutorial1\\199_A_Storm_of_Swords.txt\n",
            "INFO - haystack.utils.preprocessing -  Converting ..\\data\\tutorial1\\1_Dragonstone__Game_of_Thrones_episode_.txt\n",
            "INFO - haystack.utils.preprocessing -  Converting ..\\data\\tutorial1\\201_A_Game_of_Thrones__card_game_.txt\n",
            "INFO - haystack.utils.preprocessing -  Converting ..\\data\\tutorial1\\202_A_Feast_for_Crows.txt\n",
            "INFO - haystack.utils.preprocessing -  Converting ..\\data\\tutorial1\\207_Jon_Snow__character_.txt\n",
            "INFO - haystack.utils.preprocessing -  Converting ..\\data\\tutorial1\\208_Robb_Stark.txt\n",
            "INFO - haystack.utils.preprocessing -  Converting ..\\data\\tutorial1\\209_Mockingbird__Game_of_Thrones_.txt\n",
            "INFO - haystack.utils.preprocessing -  Converting ..\\data\\tutorial1\\20_Light_of_the_Seven.txt\n",
            "INFO - haystack.utils.preprocessing -  Converting ..\\data\\tutorial1\\210_The_Mountain_and_the_Viper.txt\n",
            "INFO - haystack.utils.preprocessing -  Converting ..\\data\\tutorial1\\211_The_Watchers_on_the_Wall.txt\n",
            "INFO - haystack.utils.preprocessing -  Converting ..\\data\\tutorial1\\212_The_Children__Game_of_Thrones_.txt\n",
            "INFO - haystack.utils.preprocessing -  Converting ..\\data\\tutorial1\\213_Valyrian_languages.txt\n",
            "INFO - haystack.utils.preprocessing -  Converting ..\\data\\tutorial1\\214_Dothraki_language.txt\n",
            "INFO - haystack.utils.preprocessing -  Converting ..\\data\\tutorial1\\217_The_Rogue_Prince.txt\n",
            "INFO - haystack.utils.preprocessing -  Converting ..\\data\\tutorial1\\218_Olenna_Tyrell.txt\n",
            "INFO - haystack.utils.preprocessing -  Converting ..\\data\\tutorial1\\21_The_Bear_and_the_Maiden_Fair__song_.txt\n",
            "INFO - haystack.utils.preprocessing -  Converting ..\\data\\tutorial1\\224_The_Night_Lands.txt\n",
            "INFO - haystack.utils.preprocessing -  Converting ..\\data\\tutorial1\\228_Souad_Faress.txt\n",
            "INFO - haystack.utils.preprocessing -  Converting ..\\data\\tutorial1\\229_Game_of_Thrones.txt\n",
            "INFO - haystack.utils.preprocessing -  Converting ..\\data\\tutorial1\\22_The_Rains_of_Castamere__song_.txt\n",
            "INFO - haystack.utils.preprocessing -  Converting ..\\data\\tutorial1\\232_Tommen_Baratheon.txt\n",
            "INFO - haystack.utils.preprocessing -  Converting ..\\data\\tutorial1\\233_Myrcella_Baratheon.txt\n",
            "INFO - haystack.utils.preprocessing -  Converting ..\\data\\tutorial1\\23_Game_of_Thrones_Live_Concert_Experience.txt\n",
            "INFO - haystack.utils.preprocessing -  Converting ..\\data\\tutorial1\\24_Game_of_Thrones__Season_1__soundtrack_.txt\n",
            "INFO - haystack.utils.preprocessing -  Converting ..\\data\\tutorial1\\25_Game_of_Thrones__Season_2__soundtrack_.txt\n",
            "INFO - haystack.utils.preprocessing -  Converting ..\\data\\tutorial1\\262_Gilly__character_.txt\n",
            "INFO - haystack.utils.preprocessing -  Converting ..\\data\\tutorial1\\263_Tormund_Giantsbane.txt\n",
            "INFO - haystack.utils.preprocessing -  Converting ..\\data\\tutorial1\\26_Game_of_Thrones__Season_3__soundtrack_.txt\n",
            "INFO - haystack.utils.preprocessing -  Converting ..\\data\\tutorial1\\273_High_Sparrow.txt\n",
            "INFO - haystack.utils.preprocessing -  Converting ..\\data\\tutorial1\\27_Game_of_Thrones__Season_4__soundtrack_.txt\n",
            "INFO - haystack.utils.preprocessing -  Converting ..\\data\\tutorial1\\28_Jorah_Mormont.txt\n",
            "INFO - haystack.utils.preprocessing -  Converting ..\\data\\tutorial1\\299_Rani_Mahal__TV_series_.txt\n",
            "INFO - haystack.utils.preprocessing -  Converting ..\\data\\tutorial1\\2_Stormborn.txt\n",
            "INFO - haystack.utils.preprocessing -  Converting ..\\data\\tutorial1\\304_Hardhome.txt\n",
            "INFO - haystack.utils.preprocessing -  Converting ..\\data\\tutorial1\\306_The_Dance_of_Dragons.txt\n",
            "INFO - haystack.utils.preprocessing -  Converting ..\\data\\tutorial1\\30_List_of_A_Song_of_Ice_and_Fire_characters.txt\n",
            "INFO - haystack.utils.preprocessing -  Converting ..\\data\\tutorial1\\310_Mother_s_Mercy.txt\n",
            "INFO - haystack.utils.preprocessing -  Converting ..\\data\\tutorial1\\311_Game_of_Thrones__season_7_.txt\n",
            "INFO - haystack.utils.preprocessing -  Converting ..\\data\\tutorial1\\317_The_Broken_Man.txt\n",
            "INFO - haystack.utils.preprocessing -  Converting ..\\data\\tutorial1\\329_Robert_Baratheon.txt\n",
            "INFO - haystack.utils.preprocessing -  Converting ..\\data\\tutorial1\\330_Oberyn_Martell.txt\n",
            "INFO - haystack.utils.preprocessing -  Converting ..\\data\\tutorial1\\331_Bran_Stark.txt\n",
            "INFO - haystack.utils.preprocessing -  Converting ..\\data\\tutorial1\\332_Sansa_Stark.txt\n",
            "INFO - haystack.utils.preprocessing -  Converting ..\\data\\tutorial1\\334_Rickon_Stark.txt\n",
            "INFO - haystack.utils.preprocessing -  Converting ..\\data\\tutorial1\\33_David_Benioff.txt\n",
            "INFO - haystack.utils.preprocessing -  Converting ..\\data\\tutorial1\\340_Roose_Bolton.txt\n",
            "INFO - haystack.utils.preprocessing -  Converting ..\\data\\tutorial1\\341_Ned_Stark.txt\n",
            "INFO - haystack.utils.preprocessing -  Converting ..\\data\\tutorial1\\342_Theon_Greyjoy.txt\n",
            "INFO - haystack.utils.preprocessing -  Converting ..\\data\\tutorial1\\343_Catelyn_Stark.txt\n",
            "INFO - haystack.utils.preprocessing -  Converting ..\\data\\tutorial1\\345_A_Game_of_Thrones__comics_.txt\n",
            "INFO - haystack.utils.preprocessing -  Converting ..\\data\\tutorial1\\346_Ygritte.txt\n",
            "INFO - haystack.utils.preprocessing -  Converting ..\\data\\tutorial1\\347_Game_of_Thrones__season_2_.txt\n",
            "INFO - haystack.utils.preprocessing -  Converting ..\\data\\tutorial1\\348_The_Winds_of_Winter.txt\n",
            "INFO - haystack.utils.preprocessing -  Converting ..\\data\\tutorial1\\349_List_of_Game_of_Thrones_characters.txt\n",
            "INFO - haystack.utils.preprocessing -  Converting ..\\data\\tutorial1\\356_Tales_of_Dunk_and_Egg.txt\n",
            "INFO - haystack.utils.preprocessing -  Converting ..\\data\\tutorial1\\358_A_Game_of_Thrones__Genesis.txt\n",
            "INFO - haystack.utils.preprocessing -  Converting ..\\data\\tutorial1\\359_Kill_the_Boy.txt\n",
            "INFO - haystack.utils.preprocessing -  Converting ..\\data\\tutorial1\\360_List_of_Game_of_Thrones_episodes.txt\n",
            "INFO - haystack.utils.preprocessing -  Converting ..\\data\\tutorial1\\362_Winter_Is_Coming.txt\n",
            "INFO - haystack.utils.preprocessing -  Converting ..\\data\\tutorial1\\365_A_Song_of_Ice_and_Fire_Roleplaying.txt\n",
            "INFO - haystack.utils.preprocessing -  Converting ..\\data\\tutorial1\\367_Gregor_Clegane.txt\n",
            "INFO - haystack.utils.preprocessing -  Converting ..\\data\\tutorial1\\368_Jaime_Lannister.txt\n",
            "INFO - haystack.utils.preprocessing -  Converting ..\\data\\tutorial1\\369_Samwell_Tarly.txt\n",
            "INFO - haystack.utils.preprocessing -  Converting ..\\data\\tutorial1\\371_Cersei_Lannister.txt\n",
            "INFO - haystack.utils.preprocessing -  Converting ..\\data\\tutorial1\\373_Tywin_Lannister.txt\n",
            "INFO - haystack.utils.preprocessing -  Converting ..\\data\\tutorial1\\378_A_Game_of_Thrones__board_game_.txt\n",
            "INFO - haystack.utils.preprocessing -  Converting ..\\data\\tutorial1\\379_Davos_Seaworth.txt\n",
            "INFO - haystack.utils.preprocessing -  Converting ..\\data\\tutorial1\\37_Joffrey_Baratheon.txt\n",
            "INFO - haystack.utils.preprocessing -  Converting ..\\data\\tutorial1\\394_Game_of_Thrones__2014_video_game_.txt\n",
            "INFO - haystack.utils.preprocessing -  Converting ..\\data\\tutorial1\\395_Game_of_Thrones__season_5_.txt\n",
            "INFO - haystack.utils.preprocessing -  Converting ..\\data\\tutorial1\\396_Game_of_Thrones__season_6_.txt\n",
            "INFO - haystack.utils.preprocessing -  Converting ..\\data\\tutorial1\\399_For_the_Throne__Music_Inspired_by_the_HBO_Series_Game_of_Thrones.txt\n",
            "INFO - haystack.utils.preprocessing -  Converting ..\\data\\tutorial1\\39_Renly_Baratheon.txt\n",
            "INFO - haystack.utils.preprocessing -  Converting ..\\data\\tutorial1\\3_The_Queen_s_Justice.txt\n",
            "INFO - haystack.utils.preprocessing -  Converting ..\\data\\tutorial1\\400_Winterfell__Game_of_Thrones_episode_.txt\n",
            "INFO - haystack.utils.preprocessing -  Converting ..\\data\\tutorial1\\401_Power_Is_Power.txt\n",
            "INFO - haystack.utils.preprocessing -  Converting ..\\data\\tutorial1\\402_A_Knight_of_the_Seven_Kingdoms__Game_of_Thrones_.txt\n",
            "INFO - haystack.utils.preprocessing -  Converting ..\\data\\tutorial1\\403_Jenny_of_Oldstones.txt\n",
            "INFO - haystack.utils.preprocessing -  Converting ..\\data\\tutorial1\\407_The_Long_Night__Game_of_Thrones_.txt\n",
            "INFO - haystack.utils.preprocessing -  Converting ..\\data\\tutorial1\\408_The_Last_of_the_Starks.txt\n",
            "INFO - haystack.utils.preprocessing -  Converting ..\\data\\tutorial1\\40_Stannis_Baratheon.txt\n",
            "INFO - haystack.utils.preprocessing -  Converting ..\\data\\tutorial1\\410_The_Bells__Game_of_Thrones_.txt\n",
            "INFO - haystack.utils.preprocessing -  Converting ..\\data\\tutorial1\\411_The_Iron_Throne__Game_of_Thrones_.txt\n",
            "INFO - haystack.utils.preprocessing -  Converting ..\\data\\tutorial1\\420_Blood_of_My_Blood.txt\n",
            "INFO - haystack.utils.preprocessing -  Converting ..\\data\\tutorial1\\424_Night_King.txt\n",
            "INFO - haystack.utils.preprocessing -  Converting ..\\data\\tutorial1\\425_No_One__Game_of_Thrones_.txt\n",
            "INFO - haystack.utils.preprocessing -  Converting ..\\data\\tutorial1\\435_White_Walker.txt\n",
            "INFO - haystack.utils.preprocessing -  Converting ..\\data\\tutorial1\\439_Melisandre.txt\n",
            "INFO - haystack.utils.preprocessing -  Converting ..\\data\\tutorial1\\43_Arya_Stark.txt\n",
            "INFO - haystack.utils.preprocessing -  Converting ..\\data\\tutorial1\\442_Game_of_Thrones__season_1_.txt\n",
            "INFO - haystack.utils.preprocessing -  Converting ..\\data\\tutorial1\\443_The_Kingsroad.txt\n",
            "INFO - haystack.utils.preprocessing -  Converting ..\\data\\tutorial1\\444_Cripples__Bastards__and_Broken_Things.txt\n",
            "INFO - haystack.utils.preprocessing -  Converting ..\\data\\tutorial1\\445_The_Wolf_and_the_Lion.txt\n",
            "INFO - haystack.utils.preprocessing -  Converting ..\\data\\tutorial1\\446_A_Golden_Crown.txt\n",
            "INFO - haystack.utils.preprocessing -  Converting ..\\data\\tutorial1\\447_You_Win_or_You_Die.txt\n",
            "INFO - haystack.utils.preprocessing -  Converting ..\\data\\tutorial1\\449_The_Pointy_End.txt\n",
            "INFO - haystack.utils.preprocessing -  Converting ..\\data\\tutorial1\\44_Daenerys_Targaryen.txt\n",
            "INFO - haystack.utils.preprocessing -  Converting ..\\data\\tutorial1\\450_Baelor.txt\n",
            "INFO - haystack.utils.preprocessing -  Converting ..\\data\\tutorial1\\452_Fire_and_Blood__Game_of_Thrones_.txt\n",
            "INFO - haystack.utils.preprocessing -  Converting ..\\data\\tutorial1\\453_Game_of_Thrones__2012_video_game_.txt\n",
            "INFO - haystack.utils.preprocessing -  Converting ..\\data\\tutorial1\\454_Music_of_Game_of_Thrones.txt\n",
            "INFO - haystack.utils.preprocessing -  Converting ..\\data\\tutorial1\\456_Works_based_on_A_Song_of_Ice_and_Fire.txt\n",
            "INFO - haystack.utils.preprocessing -  Converting ..\\data\\tutorial1\\460_Battle_of_the_Bastards.txt\n",
            "INFO - haystack.utils.preprocessing -  Converting ..\\data\\tutorial1\\461_The_Winds_of_Winter__Game_of_Thrones_.txt\n",
            "INFO - haystack.utils.preprocessing -  Converting ..\\data\\tutorial1\\469_Outline_of_A_Song_of_Ice_and_Fire_franchise.txt\n",
            "INFO - haystack.utils.preprocessing -  Converting ..\\data\\tutorial1\\474_Bronn__character_.txt\n",
            "INFO - haystack.utils.preprocessing -  Converting ..\\data\\tutorial1\\475_A_Game_of_Thrones__role-playing_game_.txt\n",
            "INFO - haystack.utils.preprocessing -  Converting ..\\data\\tutorial1\\477_A_Dance_with_Dragons.txt\n",
            "INFO - haystack.utils.preprocessing -  Converting ..\\data\\tutorial1\\480_Varys.txt\n",
            "INFO - haystack.utils.preprocessing -  Converting ..\\data\\tutorial1\\481_Sandor_Clegane.txt\n",
            "INFO - haystack.utils.preprocessing -  Converting ..\\data\\tutorial1\\482_Petyr_Baelish.txt\n",
            "INFO - haystack.utils.preprocessing -  Converting ..\\data\\tutorial1\\485_Oathkeeper.txt\n",
            "INFO - haystack.utils.preprocessing -  Converting ..\\data\\tutorial1\\487_Ramsay_Bolton.txt\n",
            "INFO - haystack.utils.preprocessing -  Converting ..\\data\\tutorial1\\488_Brienne_of_Tarth.txt\n",
            "INFO - haystack.utils.preprocessing -  Converting ..\\data\\tutorial1\\495_Hodor.txt\n",
            "INFO - haystack.utils.preprocessing -  Converting ..\\data\\tutorial1\\501_Khal_Drogo.txt\n",
            "INFO - haystack.utils.preprocessing -  Converting ..\\data\\tutorial1\\504_List_of_A_Song_of_Ice_and_Fire_video_games.txt\n",
            "INFO - haystack.utils.preprocessing -  Converting ..\\data\\tutorial1\\506_Game_of_Thrones_Theme.txt\n",
            "INFO - haystack.utils.preprocessing -  Converting ..\\data\\tutorial1\\508_A_Game_of_Thrones__Second_Edition__card_game_.txt\n",
            "INFO - haystack.utils.preprocessing -  Converting ..\\data\\tutorial1\\511_After_the_Thrones.txt\n",
            "INFO - haystack.utils.preprocessing -  Converting ..\\data\\tutorial1\\512_Home__Game_of_Thrones_.txt\n",
            "INFO - haystack.utils.preprocessing -  Converting ..\\data\\tutorial1\\513_Oathbreaker__Game_of_Thrones_.txt\n",
            "INFO - haystack.utils.preprocessing -  Converting ..\\data\\tutorial1\\514_Book_of_the_Stranger.txt\n",
            "INFO - haystack.utils.preprocessing -  Converting ..\\data\\tutorial1\\515_The_Door__Game_of_Thrones_.txt\n",
            "INFO - haystack.utils.preprocessing -  Converting ..\\data\\tutorial1\\51_Iron_Throne__A_Song_of_Ice_and_Fire_.txt\n",
            "INFO - haystack.utils.preprocessing -  Converting ..\\data\\tutorial1\\52_Catch_the_Throne.txt\n",
            "INFO - haystack.utils.preprocessing -  Converting ..\\data\\tutorial1\\53_The_Lion_and_the_Rose.txt\n",
            "INFO - haystack.utils.preprocessing -  Converting ..\\data\\tutorial1\\54_Two_Swords__Game_of_Thrones_.txt\n",
            "INFO - haystack.utils.preprocessing -  Converting ..\\data\\tutorial1\\55_Breaker_of_Chains.txt\n",
            "INFO - haystack.utils.preprocessing -  Converting ..\\data\\tutorial1\\56_First_of_His_Name.txt\n",
            "INFO - haystack.utils.preprocessing -  Converting ..\\data\\tutorial1\\57_The_Laws_of_Gods_and_Men.txt\n",
            "INFO - haystack.utils.preprocessing -  Converting ..\\data\\tutorial1\\67_Unbowed__Unbent__Unbroken.txt\n",
            "INFO - haystack.utils.preprocessing -  Converting ..\\data\\tutorial1\\68_The_Gift__Game_of_Thrones_.txt\n",
            "INFO - haystack.utils.preprocessing -  Converting ..\\data\\tutorial1\\69_The_Red_Woman.txt\n",
            "INFO - haystack.utils.preprocessing -  Converting ..\\data\\tutorial1\\73_A_Man_Without_Honor.txt\n",
            "INFO - haystack.utils.preprocessing -  Converting ..\\data\\tutorial1\\74_The_Prince_of_Winterfell.txt\n",
            "INFO - haystack.utils.preprocessing -  Converting ..\\data\\tutorial1\\75_Blackwater__Game_of_Thrones_.txt\n",
            "INFO - haystack.utils.preprocessing -  Converting ..\\data\\tutorial1\\76_Valar_Morghulis.txt\n",
            "INFO - haystack.utils.preprocessing -  Converting ..\\data\\tutorial1\\77_Game_of_Thrones_Ascent.txt\n",
            "INFO - haystack.utils.preprocessing -  Converting ..\\data\\tutorial1\\78_The_Rains_of_Castamere.txt\n",
            "INFO - haystack.utils.preprocessing -  Converting ..\\data\\tutorial1\\79_Thronecast.txt\n",
            "INFO - haystack.utils.preprocessing -  Converting ..\\data\\tutorial1\\7_The_Spoils_of_War__Game_of_Thrones_.txt\n",
            "INFO - haystack.utils.preprocessing -  Converting ..\\data\\tutorial1\\80_A_Song_of_Ice_and_Fire_fandom.txt\n",
            "INFO - haystack.utils.preprocessing -  Converting ..\\data\\tutorial1\\84_List_of_awards_and_nominations_received_by_Game_of_Thrones.txt\n",
            "INFO - haystack.utils.preprocessing -  Converting ..\\data\\tutorial1\\85_Game_of_Thrones__Seven_Kingdoms.txt\n",
            "INFO - haystack.utils.preprocessing -  Converting ..\\data\\tutorial1\\86_Game_of_Thrones__season_4_.txt\n",
            "INFO - haystack.utils.preprocessing -  Converting ..\\data\\tutorial1\\87_Valar_Dohaeris.txt\n",
            "INFO - haystack.utils.preprocessing -  Converting ..\\data\\tutorial1\\8_Eastwatch.txt\n",
            "INFO - haystack.utils.preprocessing -  Converting ..\\data\\tutorial1\\97_Tyrion_Lannister.txt\n",
            "INFO - haystack.utils.preprocessing -  Converting ..\\data\\tutorial1\\98_Black_Friday__South_Park_.txt\n",
            "INFO - haystack.utils.preprocessing -  Converting ..\\data\\tutorial1\\99_A_Song_of_Ass_and_Fire.txt\n",
            "INFO - haystack.utils.preprocessing -  Converting ..\\data\\tutorial1\\9_Game_of_Thrones_Tapestry.txt\n"
          ]
        },
        {
          "name": "stdout",
          "output_type": "stream",
          "text": [
            "[<Document: {'content': \"The eighth and final season of the fantasy drama television series ''Game of Thrones'', produced by HBO, premiered on April 14, 2019, and concluded on May 19, 2019. Unlike the first six seasons, which consisted of ten episodes each, and the seventh season, which consisted of seven episodes, the eighth season consists of only six episodes.\\nThe final season depicts the culmination of the series' two primary conflicts: the Great War against the Army of the Dead, and the Last War for control of the Iron Throne. The first half of the season involves many of the main characters converging at Winterfell with their armies in an effort to repel the Night King and his army of White Walkers and wights. The second half of the season resumes the war for the throne as Daenerys Targaryen assaults King's Landing in an attempt to unseat Cersei Lannister as the ruler of the Seven Kingdoms.\\nThe season was filmed from October 2017 to July 2018 and largely consists of original content not found in George R. R. Martin's ''A Song of Ice and Fire'' series, while also incorporating material that Martin has revealed to showrunners about the upcoming novels in the series, ''The Winds of Winter'' and ''A Dream of Spring''. The season was adapted for television by David Benioff and D. B. Weiss.\\nThe season received mixed reviews from critics, in contrast to critical acclaim of previous seasons, and is the lowest-rated of the series on the website Rotten Tomatoes. Criticism was mainly directed at the condensed story and shorter runtime of the season, as well as numerous creative decisions made by the showrunners, though the acting, directing, production, and musical score were highly praised.\\nThe season received 32 nominations at the 71st Primetime Emmy Awards, the most for a single season of television in history. It won for Outstanding Drama Series and Peter Dinklage won for Outstanding Supporting Actor in a Drama Series.\", 'content_type': 'text', 'score': None, 'meta': {'name': '0_Game_of_Thrones__season_8_.txt'}, 'embedding': None, 'id': 'dd3a835244cc3d5a00f007b590fe98ba'}>, <Document: {'content': '\\n===Main cast===\\n* Peter Dinklage as Tyrion Lannister\\n* Nikolaj Coster-Waldau as Jaime Lannister\\n* Lena Headey as Cersei Lannister\\n* Emilia Clarke as Daenerys Targaryen\\n* Maisie Williams as Arya Stark\\n* Liam Cunningham as Davos Seaworth\\n* Nathalie Emmanuel as Missandei\\n* John Bradley as Samwell Tarly\\n* Isaac Hempstead Wright as Bran Stark\\n* Gwendoline Christie as Brienne of Tarth\\n* Rory McCann as Sandor \"The Hound\" Clegane\\n* Kristofer Hivju as Tormund Giantsbane\\n* Carice van Houten as Melisandre', 'content_type': 'text', 'score': None, 'meta': {'name': '0_Game_of_Thrones__season_8_.txt'}, 'embedding': None, 'id': '3d30e5231e660717a9547a3613c72e6a'}>, <Document: {'content': '\\n===Recurring cast===\\nThe recurring actors listed here are those who appeared in season 8. They are listed by the region in which they first appear.', 'content_type': 'text', 'score': None, 'meta': {'name': '0_Game_of_Thrones__season_8_.txt'}, 'embedding': None, 'id': '7cb6651053723ef4015f4e7f546f20d0'}>]\n"
          ]
        }
      ],
      "source": [
        "# Let's first fetch some documents that we want to query\n",
        "# Here: 517 Wikipedia articles for Game of Thrones\n",
        "doc_dir = \"../data/tutorial1\"\n",
        "# s3_url = \"https://s3.eu-central-1.amazonaws.com/deepset.ai-farm-qa/datasets/documents/wiki_gameofthrones_txt1.zip\"\n",
        "# fetch_archive_from_http(url=s3_url, output_dir=doc_dir)\n",
        "\n",
        "# Convert files to dicts\n",
        "# You can optionally supply a cleaning function that is applied to each doc (e.g. to remove footers)\n",
        "# It must take a str as input, and return a str.\n",
        "docs = convert_files_to_docs(dir_path=doc_dir, clean_func=clean_wiki_text, split_paragraphs=True)\n",
        "\n",
        "# We now have a list of dictionaries that we can write to our document store.\n",
        "# If your texts come from a different source (e.g. a DB), you can of course skip convert_files_to_dicts() and create the dictionaries yourself.\n",
        "# The default format here is:\n",
        "# {\n",
        "#    'content': \"<DOCUMENT_TEXT_HERE>\",\n",
        "#    'meta': {'name': \"<DOCUMENT_NAME_HERE>\", ...}\n",
        "# }\n",
        "# (Optionally: you can also add more key-value-pairs here, that will be indexed as fields in Elasticsearch and\n",
        "# can be accessed later for filtering or shown in the responses of the Pipeline)\n",
        "\n",
        "# Let's have a look at the first 3 entries:\n",
        "print(docs[:3])\n",
        "\n",
        "# Now, let's write the dicts containing documents to our DB.\n",
        "document_store.write_documents(docs)"
      ]
    },
    {
      "cell_type": "markdown",
      "metadata": {
        "id": "FAKoZMO1H43O"
      },
      "source": [
        "## Initialize Retriever, Reader & Pipeline\n",
        "\n",
        "### Retriever\n",
        "\n",
        "Retrievers help narrowing down the scope for the Reader to smaller units of text where a given question could be answered.\n",
        "They use some simple but fast algorithm.\n",
        "\n",
        "**Here:** We use Elasticsearch's default BM25 algorithm\n",
        "\n",
        "**Alternatives:**\n",
        "\n",
        "- Customize the `BM25Retriever`with custom queries (e.g. boosting) and filters\n",
        "- Use `TfidfRetriever` in combination with a SQL or InMemory Document store for simple prototyping and debugging\n",
        "- Use `EmbeddingRetriever` to find candidate documents based on the similarity of embeddings (e.g. created via Sentence-BERT)\n",
        "- Use `DensePassageRetriever` to use different embedding models for passage and query (see Tutorial 6)"
      ]
    },
    {
      "cell_type": "code",
      "execution_count": 46,
      "metadata": {
        "id": "qKFViS4CH43O"
      },
      "outputs": [],
      "source": [
        "from haystack.nodes import BM25Retriever\n",
        "\n",
        "retriever = BM25Retriever(document_store=document_store)"
      ]
    },
    {
      "cell_type": "code",
      "execution_count": 47,
      "metadata": {
        "id": "LJZYY6gWH43P",
        "pycharm": {
          "is_executing": false,
          "name": "#%%\n"
        }
      },
      "outputs": [],
      "source": [
        "# Alternative: An in-memory TfidfRetriever based on Pandas dataframes for building quick-prototypes with SQLite document store.\n",
        "\n",
        "# from haystack.nodes import TfidfRetriever\n",
        "# retriever = TfidfRetriever(document_store=document_store)"
      ]
    },
    {
      "cell_type": "markdown",
      "metadata": {
        "id": "DX5mUFWHH43Q"
      },
      "source": [
        "### Reader\n",
        "\n",
        "A Reader scans the texts returned by retrievers in detail and extracts the k best answers. They are based\n",
        "on powerful, but slower deep learning models.\n",
        "\n",
        "Haystack currently supports Readers based on the frameworks FARM and Transformers.\n",
        "With both you can either load a local model or one from Hugging Face's model hub (https://huggingface.co/models).\n",
        "\n",
        "**Here:** a medium sized RoBERTa QA model using a Reader based on FARM (https://huggingface.co/deepset/roberta-base-squad2)\n",
        "\n",
        "**Alternatives (Reader):** TransformersReader (leveraging the `pipeline` of the Transformers package)\n",
        "\n",
        "**Alternatives (Models):** e.g. \"distilbert-base-uncased-distilled-squad\" (fast) or \"deepset/bert-large-uncased-whole-word-masking-squad2\" (good accuracy)\n",
        "\n",
        "**Hint:** You can adjust the model to return \"no answer possible\" with the no_ans_boost. Higher values mean the model prefers \"no answer possible\"\n",
        "\n",
        "#### FARMReader"
      ]
    },
    {
      "cell_type": "code",
      "execution_count": 48,
      "metadata": {
        "id": "1QqRnhDMH43Q",
        "pycharm": {
          "is_executing": false
        }
      },
      "outputs": [
        {
          "name": "stderr",
          "output_type": "stream",
          "text": [
            "INFO - haystack.modeling.utils -  Using devices: CPU\n",
            "INFO - haystack.modeling.utils -  Number of GPUs: 0\n",
            "INFO - haystack.modeling.model.language_model -  LOADING MODEL\n",
            "INFO - haystack.modeling.model.language_model -  =============\n",
            "INFO - haystack.modeling.model.language_model -  Could not find deepset/roberta-base-squad2 locally.\n",
            "INFO - haystack.modeling.model.language_model -  Looking on Transformers Model Hub (in local cache and online)...\n",
            "INFO - haystack.modeling.model.language_model -  Loaded deepset/roberta-base-squad2\n",
            "INFO - haystack.modeling.utils -  Using devices: CPU\n",
            "INFO - haystack.modeling.utils -  Number of GPUs: 0\n",
            "INFO - haystack.modeling.infer -  Got ya 7 parallel workers to do inference ...\n",
            "INFO - haystack.modeling.infer -   0     0     0     0     0     0     0  \n",
            "INFO - haystack.modeling.infer -  /w\\   /w\\   /w\\   /w\\   /w\\   /w\\   /w\\ \n",
            "INFO - haystack.modeling.infer -  /'\\   / \\   /'\\   /'\\   / \\   / \\   /'\\ \n"
          ]
        }
      ],
      "source": [
        "# Load a  local model or any of the QA models on\n",
        "# Hugging Face's model hub (https://huggingface.co/models)\n",
        "\n",
        "reader = FARMReader(model_name_or_path=\"deepset/roberta-base-squad2\", use_gpu=True)"
      ]
    },
    {
      "cell_type": "markdown",
      "metadata": {
        "id": "GYu4BEC1H43R"
      },
      "source": [
        "#### TransformersReader"
      ]
    },
    {
      "cell_type": "code",
      "execution_count": 49,
      "metadata": {
        "id": "scZ00OXAH43R"
      },
      "outputs": [],
      "source": [
        "# Alternative:\n",
        "# reader = TransformersReader(model_name_or_path=\"distilbert-base-uncased-distilled-squad\", tokenizer=\"distilbert-base-uncased\", use_gpu=-1)"
      ]
    },
    {
      "cell_type": "markdown",
      "metadata": {
        "id": "lhKpfFEtH43S"
      },
      "source": [
        "### Pipeline\n",
        "\n",
        "With a Haystack `Pipeline` you can stick together your building blocks to a search pipeline.\n",
        "Under the hood, `Pipelines` are Directed Acyclic Graphs (DAGs) that you can easily customize for your own use cases.\n",
        "To speed things up, Haystack also comes with a few predefined Pipelines. One of them is the `ExtractiveQAPipeline` that combines a retriever and a reader to answer our questions.\n",
        "You can learn more about `Pipelines` in the [docs](https://haystack.deepset.ai/docs/latest/pipelinesmd)."
      ]
    },
    {
      "cell_type": "code",
      "execution_count": 50,
      "metadata": {
        "id": "_3jpXlcLH43S",
        "pycharm": {
          "is_executing": false
        }
      },
      "outputs": [],
      "source": [
        "from haystack.pipelines import ExtractiveQAPipeline\n",
        "\n",
        "pipe = ExtractiveQAPipeline(reader, retriever)"
      ]
    },
    {
      "cell_type": "markdown",
      "metadata": {
        "id": "oA1O-QO3H43T"
      },
      "source": [
        "## Voilà! Ask a question!"
      ]
    },
    {
      "cell_type": "code",
      "execution_count": 51,
      "metadata": {
        "id": "CYsvm4pIH43T",
        "pycharm": {
          "is_executing": false
        }
      },
      "outputs": [
        {
          "name": "stderr",
          "output_type": "stream",
          "text": [
            "Inferencing Samples:   0%|          | 0/1 [00:00<?, ? Batches/s]d:\\data-science-projects\\question-answering-research\\.venv\\lib\\site-packages\\haystack\\modeling\\model\\prediction_head.py:483: UserWarning: __floordiv__ is deprecated, and its behavior will change in a future version of pytorch. It currently rounds toward 0 (like the 'trunc' function NOT 'floor'). This results in incorrect rounding for negative values. To keep the current behavior, use torch.div(a, b, rounding_mode='trunc'), or for actual floor division, use torch.div(a, b, rounding_mode='floor').\n",
            "  start_indices = flat_sorted_indices // max_seq_len\n",
            "Inferencing Samples: 100%|██████████| 1/1 [00:02<00:00,  2.87s/ Batches]\n",
            "Inferencing Samples: 100%|██████████| 1/1 [00:00<00:00,  1.72 Batches/s]\n",
            "Inferencing Samples: 100%|██████████| 1/1 [00:01<00:00,  1.59s/ Batches]\n",
            "Inferencing Samples: 100%|██████████| 1/1 [00:01<00:00,  1.25s/ Batches]\n",
            "Inferencing Samples: 100%|██████████| 1/1 [00:01<00:00,  1.18s/ Batches]\n",
            "Inferencing Samples: 100%|██████████| 1/1 [00:00<00:00,  1.53 Batches/s]\n",
            "Inferencing Samples: 100%|██████████| 1/1 [00:00<00:00,  1.55 Batches/s]\n",
            "Inferencing Samples: 100%|██████████| 1/1 [00:03<00:00,  3.97s/ Batches]\n",
            "Inferencing Samples: 100%|██████████| 1/1 [00:01<00:00,  1.69s/ Batches]\n",
            "Inferencing Samples: 100%|██████████| 1/1 [00:01<00:00,  1.66s/ Batches]\n"
          ]
        }
      ],
      "source": [
        "# You can configure how many candidates the reader and retriever shall return\n",
        "# The higher top_k_retriever, the better (but also the slower) your answers.\n",
        "prediction = pipe.run(\n",
        "    query=\"Who is the father of Arya Stark?\", params={\"Retriever\": {\"top_k\": 10}, \"Reader\": {\"top_k\": 5}}\n",
        ")"
      ]
    },
    {
      "cell_type": "code",
      "execution_count": 52,
      "metadata": {
        "id": "nnQ0bomJH43T"
      },
      "outputs": [],
      "source": [
        "# prediction = pipe.run(query=\"Who created the Dothraki vocabulary?\", params={\"Reader\": {\"top_k\": 5}})\n",
        "# prediction = pipe.run(query=\"Who is the sister of Sansa?\", params={\"Reader\": {\"top_k\": 5}})"
      ]
    },
    {
      "cell_type": "code",
      "execution_count": 53,
      "metadata": {
        "id": "fUFk1xwrH43U"
      },
      "outputs": [
        {
          "name": "stdout",
          "output_type": "stream",
          "text": [
            "{'answers': [<Answer {'answer': 'Eddard', 'type': 'extractive', 'score': 0.9919578731060028, 'context': \"s Nymeria after a legendary warrior queen. She travels with her father, Eddard, to King's Landing when he is made Hand of the King. Before she leaves,\", 'offsets_in_document': [{'start': 147, 'end': 153}], 'offsets_in_context': [{'start': 72, 'end': 78}], 'document_id': 'ba2a8e87ddd95e380bec55983ee7d55f', 'meta': {'name': '43_Arya_Stark.txt'}}>,\n",
            "             <Answer {'answer': 'Ned', 'type': 'extractive', 'score': 0.9767240881919861, 'context': \"\\n====Season 1====\\nArya accompanies her father Ned and her sister Sansa to King's Landing. Before their departure, Arya's half-brother Jon Snow gifts A\", 'offsets_in_document': [{'start': 46, 'end': 49}], 'offsets_in_context': [{'start': 46, 'end': 49}], 'document_id': '180c2a6b36369712b361a80842e79356', 'meta': {'name': '43_Arya_Stark.txt'}}>,\n",
            "             <Answer {'answer': 'Lord Eddard Stark', 'type': 'extractive', 'score': 0.8930397629737854, 'context': 'ark daughters.\\nDuring the Tourney of the Hand to honour her father Lord Eddard Stark, Sansa Stark is enchanted by the knights performing in the event.', 'offsets_in_document': [{'start': 659, 'end': 676}], 'offsets_in_context': [{'start': 67, 'end': 84}], 'document_id': 'd1f36ec7170e4c46cde65787fe125dfe', 'meta': {'name': '332_Sansa_Stark.txt'}}>,\n",
            "             <Answer {'answer': 'Joffrey', 'type': 'extractive', 'score': 0.6753832697868347, 'context': \"laying with one of his wooden toys.\\nAfter Eddard discovers the truth of Joffrey's paternity, he tells Sansa that they will be heading back to Winterfe\", 'offsets_in_document': [{'start': 1161, 'end': 1168}], 'offsets_in_context': [{'start': 72, 'end': 79}], 'document_id': 'd1f36ec7170e4c46cde65787fe125dfe', 'meta': {'name': '332_Sansa_Stark.txt'}}>,\n",
            "             <Answer {'answer': 'Robb', 'type': 'extractive', 'score': 0.6666001975536346, 'context': 'allow the army to cross the river and to commit his troops in return for Robb and Arya Stark marrying two of his children.\\nTyrion Lannister suspects h', 'offsets_in_document': [{'start': 193, 'end': 197}], 'offsets_in_context': [{'start': 73, 'end': 77}], 'document_id': '6b181174d1237878b706e6a12d69e92', 'meta': {'name': '450_Baelor.txt'}}>],\n",
            " 'documents': [<Document: {'content': \"\\n===In the Riverlands===\\nThe Stark army reaches the Twins, a bridge stronghold controlled by Walder Frey, who agrees to allow the army to cross the river and to commit his troops in return for Robb and Arya Stark marrying two of his children.\\nTyrion Lannister suspects his father Tywin, who decides Tyrion and his barbarians will fight in the vanguard, wants him killed. As Tyrion, Bronn, and the prostitute Shae swap stories, Tyrion reveals he was married to a woman his father revealed was a prostitute, and made Tyrion watch as his guardsmen raped her.\\nAs a Stark force approaches, Tyrion is trampled in the rush and regains consciousness to find the battle over. Tywin discovers the Stark host was only 2,000 men, not the 20,000 he was led to expect.\\nRobb, having divided his forces, defeats Jaime Lannister's army with his remaining 18,000 men and captures Jaime.\", 'content_type': 'text', 'score': 0.8114703408113119, 'meta': {'name': '450_Baelor.txt'}, 'embedding': None, 'id': '6b181174d1237878b706e6a12d69e92'}>,\n",
            "               <Document: {'content': '\\n===On the Kingsroad===\\nCity Watchmen search the caravan for Gendry but are turned away by Yoren. Gendry tells Arya Stark that he knows she is a girl, and she reveals she is actually Arya Stark after learning that her father met Gendry before he was executed.', 'content_type': 'text', 'score': 0.8060995909488704, 'meta': {'name': '224_The_Night_Lands.txt'}, 'embedding': None, 'id': 'a4d2cc51d351b785c6effddd3345bb39'}>,\n",
            "               <Document: {'content': '\\n===\\'\\'A Game of Thrones\\'\\'===\\nSansa Stark begins the novel by being betrothed to Crown Prince Joffrey Baratheon, believing Joffrey to be a gallant prince. While Joffrey and Sansa are walking through the woods, Joffrey notices Arya sparring with the butcher\\'s boy, Mycah. A fight breaks out and Joffrey is attacked by Nymeria (Arya\\'s direwolf) after Joffrey threatens to hurt Arya. Sansa lies to King Robert about the circumstances of the fight in order to protect both Joffrey and her sister Arya.  Since Arya ran off with her wolf to save it, Sansa\\'s wolf is killed instead, estranging the Stark daughters.\\nDuring the Tourney of the Hand to honour her father Lord Eddard Stark, Sansa Stark is enchanted by the knights performing in the event.  At the request of his mother, Queen Cersei Lannister, Joffrey spends a portion of the tourney with Sansa, but near the end he commands his guard Sandor Clegane, better known as The Hound, to take her back to her quarters. Sandor explains how his older brother, Gregor, aka \"Mountain that Rides\" pushed his face into a brazier of hot coals, for playing with one of his wooden toys.\\nAfter Eddard discovers the truth of Joffrey\\'s paternity, he tells Sansa that they will be heading back to Winterfell. Sansa is devastated and wishes to stay in King\\'s Landing, so she runs off to inform Queen Cersei of her father\\'s plans, unwittingly providing Cersei with the information needed to arrest her father. After Robert dies, Sansa begs Joffrey to show mercy on her father and he agrees, if Ned will swear an oath of loyalty, but executes him anyway, in front of Sansa.  Sansa is now effectively a hostage in King\\'s Landing and finally sees Joffrey\\'s true nature, after he forces her to look at the tarred head of her now-deceased father.', 'content_type': 'text', 'score': 0.8024672657207936, 'meta': {'name': '332_Sansa_Stark.txt'}, 'embedding': None, 'id': 'd1f36ec7170e4c46cde65787fe125dfe'}>,\n",
            "               <Document: {'content': \"\\n===Season 2===\\nGendry travels North with Yoren and other Night's Watch recruits, including Arya Stark (disguised as an orphan boy named 'Arry), Lommy Greenhands, Hot Pie and Jaqen H'ghar. During their journey, they are stopped by the Goldcloaks of the City Watch, who demand that Yoren hand Gendry over to them - King Joffrey has ordered that all of his father Robert's bastards be killed, but Yoren turns the Goldcloaks away. Later, Gendry forces Arya to reveal her true identity, and is surprised to learn she is in fact Ned Stark's daughter. After the Goldcloaks get help from Ser Amory Lorch and his men, they ambush the travelling party. In the chaos, Yoren is killed. Gendry's life is then saved by Arya, who convinces the Goldcloaks that Lommy, who was killed during the attack, was in fact Gendry. Gendry and the rest of the recruits are then escorted to Harrenhal, the ruined castle-turned-prison. Ser Gregor Clegane oversees order here, and arbitrarily has many of the prisoners tortured and killed. Gendry is nearly tortured and killed but is saved by the arrival of Lord Tywin Lannister, who chides Clegane's men for their reckless treatment of the prisoners. Thanks to Jaqen H'ghars help, Arya, Gendry and Hot Pie are able to escape Harrenhal.\", 'content_type': 'text', 'score': 0.8005844204652481, 'meta': {'name': '191_Gendry.txt'}, 'embedding': None, 'id': 'dd4e070a22896afa81748d6510006d2'}>,\n",
            "               <Document: {'content': '\\n====Season 1====\\nArya accompanies her father Ned and her sister Sansa to King\\'s Landing. Before their departure, Arya\\'s half-brother Jon Snow gifts Arya a sword which she dubs \"Needle\". On the Kingsroad, Arya is sparring with a butcher\\'s boy, Mycah, when Sansa\\'s betrothed Prince Joffrey Baratheon attacks Mycah, prompting Arya\\'s direwolf Nymeria to bite Joffrey. Arya shoos Nymeria away so she is not killed, but is furious when Sansa later refuses to support her version of events. Mycah is later killed by Joffrey\\'s bodyguard Sandor \"The Hound\" Clegane, earning him Arya\\'s hatred. Ned arranges for Arya to have sword lessons with the Braavosi Syrio Forel, who later defends her from Ser Meryn Trant after Joffrey ascends to the throne and kills the Stark household. Arya flees the Red Keep, accidentally killing a stable boy in her escape, hiding out as a beggar in the streets of King\\'s Landing. Ned is eventually taken to the Great Sept of Baelor to face judgment; he spots Arya in the crowd, and alerts the Night\\'s Watch recruiter Yoren to her presence. Yoren prevents Arya from witnessing Ned\\'s execution and has her pose as a boy, \"Arry\", to avoid detection as she joins Yoren\\'s recruits traveling north to Castle Black.', 'content_type': 'text', 'score': 0.7911680027053486, 'meta': {'name': '43_Arya_Stark.txt'}, 'embedding': None, 'id': '180c2a6b36369712b361a80842e79356'}>,\n",
            "               <Document: {'content': '\\n===In King\\'s Landing===\\nAfter Varys tells him that Sansa Stark\\'s life is also at stake, Eddard \"Ned\" Stark agrees to make a false confession and swear loyalty to King Joffrey Baratheon.\\nArya Stark finds a crowd gathering to watch her father be judged, and climbs onto the statue of Baelor the Blessed. Ned notices Arya and alerts Night\\'s Watch recruiter Yoren. Before Sansa, Cersei Lannister, Joffrey and the Small Council, Ned confesses to treason and swears fealty to Joffrey. Instead of sparing Ned as promised, Joffrey orders him to be executed. Seeing that Arya has been rescued by Yoren, Ned accepts his fate and is beheaded.', 'content_type': 'text', 'score': 0.7909625170974423, 'meta': {'name': '450_Baelor.txt'}, 'embedding': None, 'id': '956aa2b653c6debcb6cb217531a6be58'}>,\n",
            "               <Document: {'content': \"\\n==== ''A Storm of Swords'' and ''A Feast for Crows'' ====\\nPrior to the Red Wedding, Roose Bolton presents Robb Stark with a piece of Theon's skin, revealing that Ramsay has been flaying him; though disgusted, Robb acquiesces to Theon's further captivity, as Theon's father Balon has recently died and Theon's absence presents a succession crisis for the Ironborn. Following Robb Stark's death, King Tommen Baratheon legitimizes Ramsay as a Bolton. The Lannisters pass off Jeyne Poole as Arya Stark and send her north to be betrothed to Ramsay, with only the Lannisters and Boltons aware she is not the real Arya Stark.\", 'content_type': 'text', 'score': 0.7890068151751056, 'meta': {'name': '487_Ramsay_Bolton.txt'}, 'embedding': None, 'id': 'fc56eb160221cbdc74d223383680dbeb'}>,\n",
            "               <Document: {'content': '\\n===House Frey===\\n* \\'\\'\\'Walder Frey\\'\\'\\' (seasons 1, 3, 6â€“7) portrayed by David Bradley. David Bradley Lord Walder Frey, nicknamed the \"Late Lord Frey\", is the head of House Frey, Lord of the Crossing and bannerman to House Tully. He is known for outliving his many wives (now on his 8th) and siring over 100 children (both bastard and trueborn). Because the use of the Twins became a strategic necessity for Robb\\'s host, Walder was able to negotiate marriage contracts for his children to Robb and Arya Stark. But during Season 2 Robb broke his word and married Lady Talisa. For this slight, and willing to take advantage of the war\\'s changing fortunes, he conspires with Tywin Lannister and Roose Bolton to betray Robb Stark at the wedding of his liege Edmure Tully, which he insists in return for support of his men. Frey hosts the infamous \"Red Wedding\" at which Robb Stark, his wife and mother are all murdered, refusing to spare Robb even as Catelyn holds Lady Frey hostage and threatens to slit her throat, which she does. He is subsequently granted Riverrun and its lands (though the title Lord Paramount of the Riverlands passes to Harrenhal and House Baelish) and expresses delight to take another young wife, but his house is irredeemably tarnished by the betrayal and House Tully\\'s vassals refuse to submit to his rule. In Season 6, he is outraged when he hears of the Blackfish recapture\\' of Riverrun and blames his sons Lothar and Black Walder for allowing him to escape. He then orders them to retake the castle using Edmure Tully as a hostage. Though they successfully retake Riverrun with the help of a Lannister host led by Jaime Lannister, Walder is ambushed shortly afterwards by Arya Stark, who slits his throat in revenge for the Red Wedding. In Season 7, Arya uses Walder\\'s face to deceive and poison the rest of his family.\\n* \\'\\'\\'Lothar Frey\\'\\'\\' (seasons 3, 6) portrayed by Tom Brooke in season 3, and by Daniel Tuite in season 6. One of Lord Walder Frey\\'s many sons, nicknamed â€œLame Lotharâ€ because of his twisted leg. He and his half-brother Black Walder are sent by their father to Riverrun to propose a marriage between Lord Edmure Tully and Roslin Frey as terms for House Frey rejoining Robb Stark\\'s campaign against the Lannisters. He is one of the first to commence the \"Red Wedding\", stabbing Talisa Stark in the womb several times and killing her and her unborn child. In the sixth season, he is ordered by Walder to retake Riverrun from Brynden Tully. Though they succeed with Lannister help, he is killed by Arya Stark, who subsequently bakes him into a pie.\\n* \\'\\'\\'Black Walder Rivers\\'\\'\\' (seasons 3, 6) portrayed by Tim Plester. One of Lord Walder Frey\\'s many bastard sons, nicknamed â€œBlack Walderâ€ for his dark demeanor. He and his half-brother Lame Lothar are sent by their father to Riverrun to propose a marriage between Lord Edmure Tully and Roslin Frey as terms for House Frey rejoining Robb Stark\\'s campaign against the Lannister. He kills Catelyn Stark at the Red Wedding, after she slits Lady Frey\\'s throat in retaliation for her son\\'s death. In the sixth season, he takes part in the siege of Riverrun. Though the Freys reclaim the castle with the help of a Lannister host, Black Walder is killed shortly afterwards along with Lothar by Arya Stark, who bakes them both into a pie.', 'content_type': 'text', 'score': 0.788721523046231, 'meta': {'name': '349_List_of_Game_of_Thrones_characters.txt'}, 'embedding': None, 'id': '9836a9a53303ca471cd7f3671c31d863'}>,\n",
            "               <Document: {'content': '\\n==== \\'\\'A Game of Thrones\\'\\' ====\\nArya adopts a direwolf cub, which she names Nymeria after a legendary warrior queen. She travels with her father, Eddard, to King\\'s Landing when he is made Hand of the King. Before she leaves, her half-brother Jon Snow has a smallsword made for her as a parting gift, which she names \"Needle\" after her least favorite ladylike activity.\\nWhile taking a walk together, Prince Joffrey and her sister Sansa happen upon Arya and her friend, the low-born butcher apprentice Mycah, sparring in the woods with broomsticks.  Arya defends Mycah from Joffrey\\'s torments and her direwolf Nymeria helps Arya fight off Joffrey, wounding his arm in the process.  Knowing that Nymeria will likely be killed in retribution, Arya chases her wolf away; but Sansa\\'s direwolf Lady is killed in Nymeria\\'s stead and Mycah is hunted down and killed by Sandor Clegane, Joffrey\\'s bodyguard.\\nIn King\\'s Landing, her father discovers Arya\\'s possession of Needle, but instead of confiscating it he arranges for fencing lessons under the Braavosi swordmaster Syrio Forel, who teaches her the style of fighting known as \"water dancing\".  After her father\\'s arrest, Syrio is killed protecting her and Arya narrowly escapes capture.  She later witnesses the public execution of her father before falling under the protection of the Night\\'s Watch recruiter Yoren.', 'content_type': 'text', 'score': 0.7850239330737023, 'meta': {'name': '43_Arya_Stark.txt'}, 'embedding': None, 'id': 'ba2a8e87ddd95e380bec55983ee7d55f'}>,\n",
            "               <Document: {'content': '\\n== Character description ==\\nGendry was conceived and born in King\\'s Landing after Robert\\'s Rebellion ended and is one of sixteen (twenty in the television series) bastard children of King Robert Baratheon,.  He is portrayed as tall and very muscled, having blue eyes and thick black hair, very similar to his biological father Robert and uncle Renly in their youth (Brienne of Tarth once almost mistook him for Renly for a moment).  He is stubborn and easily confused.\\nDespite being one of the only four surviving biological children of King Robert (along with Mya Stone, Edric Storm and Bella Rivers), Gendry never knew who his father was.  His mother was reported to have been a worker at an alehouse who died when Gendry was still a young boy, and all he remembers of her was that she had blond hair. Later on, Tobho Mott, a master armourer from Qohor, was offered double the customary fee by a \"lord\" with concealed identity to take Gendry in as a smith apprentice, but accepted him for free after being impressed by the boy\\'s physique.  Gendry turns out to be a talented apprentice, and likes to spend time polishing a bull head helmet that he proudly made for himself, which earned him the nickname \"Bull\" by Arya Stark.', 'content_type': 'text', 'score': 0.7763999375004844, 'meta': {'name': '191_Gendry.txt'}, 'embedding': None, 'id': '212af6309da6cb02c3c0e1da9f6fdf71'}>],\n",
            " 'no_ans_gap': 11.688871383666992,\n",
            " 'node_id': 'Reader',\n",
            " 'params': {'Reader': {'top_k': 5}, 'Retriever': {'top_k': 10}},\n",
            " 'query': 'Who is the father of Arya Stark?',\n",
            " 'root_node': 'Query'}\n"
          ]
        }
      ],
      "source": [
        "# Now you can either print the object directly...\n",
        "from pprint import pprint\n",
        "\n",
        "pprint(prediction)\n",
        "\n",
        "# Sample output:\n",
        "# {\n",
        "#     'answers': [ <Answer: answer='Eddard', type='extractive', score=0.9919578731060028, offsets_in_document=[{'start': 608, 'end': 615}], offsets_in_context=[{'start': 72, 'end': 79}], document_id='cc75f739897ecbf8c14657b13dda890e', meta={'name': '454_Music_of_Game_of_Thrones.txt'}}, context='...' >,\n",
        "#                  <Answer: answer='Ned', type='extractive', score=0.9767240881919861, offsets_in_document=[{'start': 3687, 'end': 3801}], offsets_in_context=[{'start': 18, 'end': 132}], document_id='9acf17ec9083c4022f69eb4a37187080', meta={'name': '454_Music_of_Game_of_Thrones.txt'}}, context='...' >,\n",
        "#                  ...\n",
        "#                ]\n",
        "#     'documents': [ <Document: content_type='text', score=0.8034909798951382, meta={'name': '332_Sansa_Stark.txt'}, embedding=None, id=d1f36ec7170e4c46cde65787fe125dfe', content='\\n===\\'\\'A Game of Thrones\\'\\'===\\nSansa Stark begins the novel by being betrothed to Crown ...'>,\n",
        "#                    <Document: content_type='text', score=0.8002150354529785, meta={'name': '191_Gendry.txt'}, embedding=None, id='dd4e070a22896afa81748d6510006d2', 'content='\\n===Season 2===\\nGendry travels North with Yoren and other Night's Watch recruits, including Arya ...'>,\n",
        "#                    ...\n",
        "#                  ],\n",
        "#     'no_ans_gap':  11.688868522644043,\n",
        "#     'node_id': 'Reader',\n",
        "#     'params': {'Reader': {'top_k': 5}, 'Retriever': {'top_k': 5}},\n",
        "#     'query': 'Who is the father of Arya Stark?',\n",
        "#     'root_node': 'Query'\n",
        "# }"
      ]
    },
    {
      "cell_type": "code",
      "execution_count": 54,
      "metadata": {
        "id": "d3RsSOuRH43V",
        "pycharm": {
          "is_executing": false,
          "name": "#%%\n"
        }
      },
      "outputs": [
        {
          "name": "stdout",
          "output_type": "stream",
          "text": [
            "\n",
            "Query: Who is the father of Arya Stark?\n",
            "Answers:\n",
            "[   {   'answer': 'Eddard',\n",
            "        'context': 's Nymeria after a legendary warrior queen. She travels '\n",
            "                   \"with her father, Eddard, to King's Landing when he is made \"\n",
            "                   'Hand of the King. Before she leaves,',\n",
            "        'score': 0.9919578731060028},\n",
            "    {   'answer': 'Ned',\n",
            "        'context': '\\n'\n",
            "                   '====Season 1====\\n'\n",
            "                   'Arya accompanies her father Ned and her sister Sansa to '\n",
            "                   \"King's Landing. Before their departure, Arya's \"\n",
            "                   'half-brother Jon Snow gifts A',\n",
            "        'score': 0.9767240881919861},\n",
            "    {   'answer': 'Lord Eddard Stark',\n",
            "        'context': 'ark daughters.\\n'\n",
            "                   'During the Tourney of the Hand to honour her father Lord '\n",
            "                   'Eddard Stark, Sansa Stark is enchanted by the knights '\n",
            "                   'performing in the event.',\n",
            "        'score': 0.8930397629737854},\n",
            "    {   'answer': 'Joffrey',\n",
            "        'context': 'laying with one of his wooden toys.\\n'\n",
            "                   \"After Eddard discovers the truth of Joffrey's paternity, \"\n",
            "                   'he tells Sansa that they will be heading back to Winterfe',\n",
            "        'score': 0.6753832697868347},\n",
            "    {   'answer': 'Robb',\n",
            "        'context': 'allow the army to cross the river and to commit his troops '\n",
            "                   'in return for Robb and Arya Stark marrying two of his '\n",
            "                   'children.\\n'\n",
            "                   'Tyrion Lannister suspects h',\n",
            "        'score': 0.6666001975536346}]\n"
          ]
        }
      ],
      "source": [
        "# ...or use a util to simplify the output\n",
        "# Change `minimum` to `medium` or `all` to raise the level of detail\n",
        "print_answers(prediction, details=\"medium\")"
      ]
    },
    {
      "cell_type": "code",
      "execution_count": 55,
      "metadata": {},
      "outputs": [
        {
          "name": "stderr",
          "output_type": "stream",
          "text": [
            "Inferencing Samples: 100%|██████████| 1/1 [00:00<00:00,  1.62 Batches/s]\n",
            "Inferencing Samples: 100%|██████████| 1/1 [00:01<00:00,  1.22s/ Batches]\n",
            "Inferencing Samples: 100%|██████████| 1/1 [00:01<00:00,  1.16s/ Batches]\n",
            "Inferencing Samples: 100%|██████████| 1/1 [00:00<00:00,  1.86 Batches/s]\n",
            "Inferencing Samples: 100%|██████████| 1/1 [00:00<00:00,  1.96 Batches/s]\n",
            "Inferencing Samples: 100%|██████████| 1/1 [00:01<00:00,  1.10s/ Batches]\n",
            "Inferencing Samples: 100%|██████████| 1/1 [00:01<00:00,  1.05s/ Batches]\n",
            "Inferencing Samples: 100%|██████████| 1/1 [00:01<00:00,  1.69s/ Batches]\n",
            "Inferencing Samples: 100%|██████████| 1/1 [00:00<00:00,  1.56 Batches/s]\n",
            "Inferencing Samples: 100%|██████████| 1/1 [00:00<00:00,  1.91 Batches/s]\n"
          ]
        }
      ],
      "source": [
        "prediction = pipe.run(\n",
        "    query=\"Who killed by renly?\", params={\"Retriever\": {\"top_k\": 10}, \"Reader\": {\"top_k\": 5}}\n",
        ")"
      ]
    },
    {
      "cell_type": "code",
      "execution_count": 56,
      "metadata": {},
      "outputs": [
        {
          "name": "stdout",
          "output_type": "stream",
          "text": [
            "\n",
            "Query: Who killed by renly?\n",
            "Answers:\n",
            "[   {   'answer': 'Melisandre',\n",
            "        'context': 'Before Catelyn can offer a real negotiation, Renly is '\n",
            "                   'assassinated by Melisandre, who gives birth to a shadow '\n",
            "                   'demon and sends it to kill Renly in orde',\n",
            "        'score': 0.867366224527359},\n",
            "    {   'answer': 'Jon Arryn',\n",
            "        'context': ', but Sandor \"The Hound\" Clegane intervenes.\\n'\n",
            "                   'Varys reveals to Ned that Jon Arryn was killed by a poison '\n",
            "                   'called the \"Tears of Lys\", and suggests that A',\n",
            "        'score': 0.3357328176498413},\n",
            "    {   'answer': 'Stannis',\n",
            "        'context': \"tly killed by a shadow demon with the face of Renly's \"\n",
            "                   'brother and rival Stannis, who has discovered he is the '\n",
            "                   'rightful heir to House Baratheon, but wh',\n",
            "        'score': 0.2428327575325966},\n",
            "    {   'answer': 'Bran',\n",
            "        'context': 'ittlefinger who, along with Varys and Ser Rodrik, discuss '\n",
            "                   \"the attempt on Bran's life. Littlefinger admits that the \"\n",
            "                   \"assassin's dagger was once his but \",\n",
            "        'score': 0.23326948285102844},\n",
            "    {   'answer': 'Stannis',\n",
            "        'context': 'gotiations as an opportunity to mock his brother, and '\n",
            "                   'intending to kill Stannis in battle the next day. '\n",
            "                   'Melisandre, who had seduced Stannis, gives bir',\n",
            "        'score': 0.16955797374248505}]\n"
          ]
        }
      ],
      "source": [
        "print_answers(prediction, details=\"medium\")"
      ]
    }
  ],
  "metadata": {
    "colab": {
      "name": "Tutorial1_Basic_QA_Pipeline.ipynb",
      "provenance": []
    },
    "interpreter": {
      "hash": "523ddcfc65bbfe37710333339268ee31d01a89e16cd208637b54488cfd3a8a73"
    },
    "kernelspec": {
      "display_name": "Python 3.9.9 ('.venv': venv)",
      "language": "python",
      "name": "python3"
    },
    "language_info": {
      "codemirror_mode": {
        "name": "ipython",
        "version": 3
      },
      "file_extension": ".py",
      "mimetype": "text/x-python",
      "name": "python",
      "nbconvert_exporter": "python",
      "pygments_lexer": "ipython3",
      "version": "3.9.9"
    }
  },
  "nbformat": 4,
  "nbformat_minor": 0
}
