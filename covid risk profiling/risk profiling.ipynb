{
 "cells": [
  {
   "cell_type": "code",
   "execution_count": 21,
   "metadata": {},
   "outputs": [],
   "source": [
    "import pandas as pd\n",
    "import numpy as np\n",
    "import seaborn as sns\n",
    "from sklearn.model_selection import train_test_split\n",
    "from sklearn import svm\n",
    "from sklearn.metrics import accuracy_score"
   ]
  },
  {
   "cell_type": "code",
   "execution_count": 22,
   "metadata": {},
   "outputs": [],
   "source": [
    "import warnings\n",
    "warnings.filterwarnings('ignore')"
   ]
  },
  {
   "cell_type": "code",
   "execution_count": 23,
   "metadata": {},
   "outputs": [],
   "source": [
    "df=pd.read_excel(\"summary.xlsx\")"
   ]
  },
  {
   "cell_type": "code",
   "execution_count": 24,
   "metadata": {},
   "outputs": [
    {
     "data": {
      "text/html": [
       "<div>\n",
       "<style scoped>\n",
       "    .dataframe tbody tr th:only-of-type {\n",
       "        vertical-align: middle;\n",
       "    }\n",
       "\n",
       "    .dataframe tbody tr th {\n",
       "        vertical-align: top;\n",
       "    }\n",
       "\n",
       "    .dataframe thead th {\n",
       "        text-align: right;\n",
       "    }\n",
       "</style>\n",
       "<table border=\"1\" class=\"dataframe\">\n",
       "  <thead>\n",
       "    <tr style=\"text-align: right;\">\n",
       "      <th></th>\n",
       "      <th>EPF - සේවා අංකය</th>\n",
       "      <th>Name - නම</th>\n",
       "      <th>Grade - ශ්‍රේණිය</th>\n",
       "      <th>Department</th>\n",
       "      <th>Gender</th>\n",
       "      <th>Age - වයස Expo-01</th>\n",
       "      <th>Having any hereditary diseases - ඔබට පාරම්පරික රෝග තිබෙනවාද? Expo -04</th>\n",
       "      <th>Exposure Score €</th>\n",
       "      <th>Proximity Score (p)</th>\n",
       "      <th>Aggregation Score (a)</th>\n",
       "      <th>Total Scope (t)</th>\n",
       "      <th>Final Reusalt</th>\n",
       "    </tr>\n",
       "  </thead>\n",
       "  <tbody>\n",
       "    <tr>\n",
       "      <th>0</th>\n",
       "      <td>15034</td>\n",
       "      <td>Chathuranga Rajapaksha</td>\n",
       "      <td>Manager</td>\n",
       "      <td>Moulded Bra Cup - Quality Assurance - SI</td>\n",
       "      <td>Male</td>\n",
       "      <td>34</td>\n",
       "      <td>No</td>\n",
       "      <td>1.2</td>\n",
       "      <td>1.0</td>\n",
       "      <td>1.0</td>\n",
       "      <td>3.2</td>\n",
       "      <td>Low Risk</td>\n",
       "    </tr>\n",
       "    <tr>\n",
       "      <th>1</th>\n",
       "      <td>2195</td>\n",
       "      <td>Menaka Kumarage</td>\n",
       "      <td>Manager</td>\n",
       "      <td>Impact Protection - SI</td>\n",
       "      <td>Male</td>\n",
       "      <td>39</td>\n",
       "      <td>No</td>\n",
       "      <td>1.4</td>\n",
       "      <td>1.0</td>\n",
       "      <td>1.0</td>\n",
       "      <td>3.4</td>\n",
       "      <td>Low Risk</td>\n",
       "    </tr>\n",
       "    <tr>\n",
       "      <th>2</th>\n",
       "      <td>3229</td>\n",
       "      <td>Sulochana Kumari Wimalathunga</td>\n",
       "      <td>Manager</td>\n",
       "      <td>Moulded Bra Cup - Product Development Centre - SI</td>\n",
       "      <td>Female</td>\n",
       "      <td>39</td>\n",
       "      <td>No</td>\n",
       "      <td>1.4</td>\n",
       "      <td>1.0</td>\n",
       "      <td>1.0</td>\n",
       "      <td>3.4</td>\n",
       "      <td>Low Risk</td>\n",
       "    </tr>\n",
       "    <tr>\n",
       "      <th>3</th>\n",
       "      <td>3482</td>\n",
       "      <td>Madhuranga Pemarathne</td>\n",
       "      <td>Manager</td>\n",
       "      <td>Moulded Bra Cup - Industrial Systems Engineeri...</td>\n",
       "      <td>Male</td>\n",
       "      <td>39</td>\n",
       "      <td>No</td>\n",
       "      <td>1.4</td>\n",
       "      <td>1.0</td>\n",
       "      <td>1.0</td>\n",
       "      <td>3.4</td>\n",
       "      <td>Low Risk</td>\n",
       "    </tr>\n",
       "    <tr>\n",
       "      <th>4</th>\n",
       "      <td>3543</td>\n",
       "      <td>Kavindu Mediwake</td>\n",
       "      <td>Manager</td>\n",
       "      <td>MAS Department</td>\n",
       "      <td>Male</td>\n",
       "      <td>37</td>\n",
       "      <td>No</td>\n",
       "      <td>1.4</td>\n",
       "      <td>1.0</td>\n",
       "      <td>1.0</td>\n",
       "      <td>3.4</td>\n",
       "      <td>Low Risk</td>\n",
       "    </tr>\n",
       "    <tr>\n",
       "      <th>...</th>\n",
       "      <td>...</td>\n",
       "      <td>...</td>\n",
       "      <td>...</td>\n",
       "      <td>...</td>\n",
       "      <td>...</td>\n",
       "      <td>...</td>\n",
       "      <td>...</td>\n",
       "      <td>...</td>\n",
       "      <td>...</td>\n",
       "      <td>...</td>\n",
       "      <td>...</td>\n",
       "      <td>...</td>\n",
       "    </tr>\n",
       "    <tr>\n",
       "      <th>1807</th>\n",
       "      <td>22089</td>\n",
       "      <td>Suneth Dananjaya</td>\n",
       "      <td>Team Member</td>\n",
       "      <td>Impact Protection - SI</td>\n",
       "      <td>Male</td>\n",
       "      <td>28</td>\n",
       "      <td>Yes</td>\n",
       "      <td>4.2</td>\n",
       "      <td>5.0</td>\n",
       "      <td>4.4</td>\n",
       "      <td>13.6</td>\n",
       "      <td>High Risk</td>\n",
       "    </tr>\n",
       "    <tr>\n",
       "      <th>1808</th>\n",
       "      <td>11168</td>\n",
       "      <td>K.a.d.d kodithuwakku</td>\n",
       "      <td>Staff</td>\n",
       "      <td>Close Comfort Program - Printing - SI</td>\n",
       "      <td>Male</td>\n",
       "      <td>32</td>\n",
       "      <td>Yes</td>\n",
       "      <td>4.4</td>\n",
       "      <td>4.4</td>\n",
       "      <td>5.0</td>\n",
       "      <td>13.8</td>\n",
       "      <td>High Risk</td>\n",
       "    </tr>\n",
       "    <tr>\n",
       "      <th>1809</th>\n",
       "      <td>9351</td>\n",
       "      <td>A.m kamalawathi</td>\n",
       "      <td>Team Member</td>\n",
       "      <td>Moulded Bra Cup - Production - SI</td>\n",
       "      <td>Female</td>\n",
       "      <td>37</td>\n",
       "      <td>Yes</td>\n",
       "      <td>4.4</td>\n",
       "      <td>5.0</td>\n",
       "      <td>4.7</td>\n",
       "      <td>14.1</td>\n",
       "      <td>High Risk</td>\n",
       "    </tr>\n",
       "    <tr>\n",
       "      <th>1810</th>\n",
       "      <td>12677</td>\n",
       "      <td>Dinesh</td>\n",
       "      <td>Team Member</td>\n",
       "      <td>Moulded Bra Cup - Machine Maintenance - SI</td>\n",
       "      <td>Male</td>\n",
       "      <td>34</td>\n",
       "      <td>Yes</td>\n",
       "      <td>4.4</td>\n",
       "      <td>5.0</td>\n",
       "      <td>5.0</td>\n",
       "      <td>14.4</td>\n",
       "      <td>High Risk</td>\n",
       "    </tr>\n",
       "    <tr>\n",
       "      <th>1811</th>\n",
       "      <td>18084</td>\n",
       "      <td>E. A. Sithijayaw@gmali.com wimukthi</td>\n",
       "      <td>Team Member</td>\n",
       "      <td>Moulded Bra Cup - Lamination - SI</td>\n",
       "      <td>Male</td>\n",
       "      <td>30</td>\n",
       "      <td>Yes</td>\n",
       "      <td>4.4</td>\n",
       "      <td>5.0</td>\n",
       "      <td>5.0</td>\n",
       "      <td>14.4</td>\n",
       "      <td>High Risk</td>\n",
       "    </tr>\n",
       "  </tbody>\n",
       "</table>\n",
       "<p>1812 rows × 12 columns</p>\n",
       "</div>"
      ],
      "text/plain": [
       "     EPF - සේවා අංකය                            Name - නම Grade - ශ්‍රේණිය  \\\n",
       "0              15034               Chathuranga Rajapaksha          Manager   \n",
       "1               2195                      Menaka Kumarage          Manager   \n",
       "2               3229        Sulochana Kumari Wimalathunga          Manager   \n",
       "3               3482                Madhuranga Pemarathne          Manager   \n",
       "4               3543                     Kavindu Mediwake          Manager   \n",
       "...              ...                                  ...              ...   \n",
       "1807           22089                     Suneth Dananjaya      Team Member   \n",
       "1808           11168                 K.a.d.d kodithuwakku            Staff   \n",
       "1809            9351                      A.m kamalawathi      Team Member   \n",
       "1810           12677                               Dinesh      Team Member   \n",
       "1811           18084  E. A. Sithijayaw@gmali.com wimukthi      Team Member   \n",
       "\n",
       "                                             Department  Gender  \\\n",
       "0              Moulded Bra Cup - Quality Assurance - SI    Male   \n",
       "1                                Impact Protection - SI    Male   \n",
       "2     Moulded Bra Cup - Product Development Centre - SI  Female   \n",
       "3     Moulded Bra Cup - Industrial Systems Engineeri...    Male   \n",
       "4                                        MAS Department    Male   \n",
       "...                                                 ...     ...   \n",
       "1807                             Impact Protection - SI    Male   \n",
       "1808              Close Comfort Program - Printing - SI    Male   \n",
       "1809                  Moulded Bra Cup - Production - SI  Female   \n",
       "1810         Moulded Bra Cup - Machine Maintenance - SI    Male   \n",
       "1811                  Moulded Bra Cup - Lamination - SI    Male   \n",
       "\n",
       "      Age - වයස Expo-01  \\\n",
       "0                    34   \n",
       "1                    39   \n",
       "2                    39   \n",
       "3                    39   \n",
       "4                    37   \n",
       "...                 ...   \n",
       "1807                 28   \n",
       "1808                 32   \n",
       "1809                 37   \n",
       "1810                 34   \n",
       "1811                 30   \n",
       "\n",
       "     Having any hereditary diseases - ඔබට පාරම්පරික රෝග තිබෙනවාද? Expo -04  \\\n",
       "0                                                    No                      \n",
       "1                                                    No                      \n",
       "2                                                    No                      \n",
       "3                                                    No                      \n",
       "4                                                    No                      \n",
       "...                                                 ...                      \n",
       "1807                                                Yes                      \n",
       "1808                                                Yes                      \n",
       "1809                                                Yes                      \n",
       "1810                                                Yes                      \n",
       "1811                                                Yes                      \n",
       "\n",
       "      Exposure Score €  Proximity Score (p)  Aggregation Score (a)  \\\n",
       "0                  1.2                  1.0                    1.0   \n",
       "1                  1.4                  1.0                    1.0   \n",
       "2                  1.4                  1.0                    1.0   \n",
       "3                  1.4                  1.0                    1.0   \n",
       "4                  1.4                  1.0                    1.0   \n",
       "...                ...                  ...                    ...   \n",
       "1807               4.2                  5.0                    4.4   \n",
       "1808               4.4                  4.4                    5.0   \n",
       "1809               4.4                  5.0                    4.7   \n",
       "1810               4.4                  5.0                    5.0   \n",
       "1811               4.4                  5.0                    5.0   \n",
       "\n",
       "      Total Scope (t) Final Reusalt  \n",
       "0                 3.2      Low Risk  \n",
       "1                 3.4      Low Risk  \n",
       "2                 3.4      Low Risk  \n",
       "3                 3.4      Low Risk  \n",
       "4                 3.4      Low Risk  \n",
       "...               ...           ...  \n",
       "1807             13.6     High Risk  \n",
       "1808             13.8     High Risk  \n",
       "1809             14.1     High Risk  \n",
       "1810             14.4     High Risk  \n",
       "1811             14.4     High Risk  \n",
       "\n",
       "[1812 rows x 12 columns]"
      ]
     },
     "execution_count": 24,
     "metadata": {},
     "output_type": "execute_result"
    }
   ],
   "source": [
    "df"
   ]
  },
  {
   "cell_type": "code",
   "execution_count": 25,
   "metadata": {},
   "outputs": [
    {
     "name": "stdout",
     "output_type": "stream",
     "text": [
      "<class 'pandas.core.frame.DataFrame'>\n",
      "RangeIndex: 1812 entries, 0 to 1811\n",
      "Data columns (total 12 columns):\n",
      " #   Column                                                                 Non-Null Count  Dtype  \n",
      "---  ------                                                                 --------------  -----  \n",
      " 0   EPF - සේවා අංකය                                                        1812 non-null   object \n",
      " 1   Name - නම                                                              1812 non-null   object \n",
      " 2   Grade - ශ්‍රේණිය                                                       1812 non-null   object \n",
      " 3   Department                                                             1784 non-null   object \n",
      " 4   Gender                                                                 1784 non-null   object \n",
      " 5   Age - වයස Expo-01                                                      1812 non-null   int64  \n",
      " 6   Having any hereditary diseases - ඔබට පාරම්පරික රෝග තිබෙනවාද? Expo -04  1812 non-null   object \n",
      " 7   Exposure Score €                                                       1812 non-null   float64\n",
      " 8   Proximity Score (p)                                                    1812 non-null   float64\n",
      " 9   Aggregation Score (a)                                                  1812 non-null   float64\n",
      " 10  Total Scope (t)                                                        1812 non-null   float64\n",
      " 11  Final Reusalt                                                          1812 non-null   object \n",
      "dtypes: float64(4), int64(1), object(7)\n",
      "memory usage: 170.0+ KB\n"
     ]
    }
   ],
   "source": [
    "df.info()"
   ]
  },
  {
   "cell_type": "code",
   "execution_count": 31,
   "metadata": {},
   "outputs": [
    {
     "data": {
      "text/plain": [
       "<matplotlib.axes._subplots.AxesSubplot at 0x27f41ff8190>"
      ]
     },
     "execution_count": 31,
     "metadata": {},
     "output_type": "execute_result"
    },
    {
     "data": {
      "image/png": "[encoded data removed]",
      "text/plain": [
       "<Figure size 432x288 with 1 Axes>"
      ]
     },
     "metadata": {
      "needs_background": "light"
     },
     "output_type": "display_data"
    }
   ],
   "source": [
    "sns.countplot(x=\"Final Reusalt\",hue=\"Having any hereditary diseases - ඔබට පාරම්පරික රෝග තිබෙනවාද? Expo -04\",data=df)"
   ]
  },
  {
   "cell_type": "code",
   "execution_count": 32,
   "metadata": {},
   "outputs": [
    {
     "data": {
      "text/plain": [
       "<matplotlib.axes._subplots.AxesSubplot at 0x27f4317cd00>"
      ]
     },
     "execution_count": 32,
     "metadata": {},
     "output_type": "execute_result"
    },
    {
     "data": {
      "image/png": "[encoded data removed]",
      "text/plain": [
       "<Figure size 432x288 with 1 Axes>"
      ]
     },
     "metadata": {
      "needs_background": "light"
     },
     "output_type": "display_data"
    }
   ],
   "source": [
    "sns.countplot(x=\"Final Reusalt\",hue=\"Grade - ශ්‍රේණිය\",data=df)"
   ]
  },
  {
   "cell_type": "code",
   "execution_count": 28,
   "metadata": {},
   "outputs": [
    {
     "data": {
      "text/plain": [
       "EPF - සේවා අංකය                                                           0\n",
       "Name - නම                                                                 0\n",
       "Grade - ශ්‍රේණිය                                                          0\n",
       "Department                                                               28\n",
       "Gender                                                                   28\n",
       "Age - වයස Expo-01                                                         0\n",
       "Having any hereditary diseases - ඔබට පාරම්පරික රෝග තිබෙනවාද? Expo -04     0\n",
       "Exposure Score €                                                          0\n",
       "Proximity Score (p)                                                       0\n",
       "Aggregation Score (a)                                                     0\n",
       "Total Scope (t)                                                           0\n",
       "Final Reusalt                                                             0\n",
       "dtype: int64"
      ]
     },
     "execution_count": 28,
     "metadata": {},
     "output_type": "execute_result"
    }
   ],
   "source": [
    "#count missing values\n",
    "df.isnull().sum()"
   ]
  },
  {
   "cell_type": "code",
   "execution_count": 42,
   "metadata": {},
   "outputs": [],
   "source": [
    "X=df.drop([\"Name - නම\",\"EPF - සේවා අංකය\"],axis=1)"
   ]
  },
  {
   "cell_type": "code",
   "execution_count": 45,
   "metadata": {},
   "outputs": [],
   "source": [
    "y=df[\"Final Reusalt\"]"
   ]
  },
  {
   "cell_type": "code",
   "execution_count": 47,
   "metadata": {},
   "outputs": [],
   "source": [
    "#importing\n",
    "from sklearn.preprocessing import OneHotEncoder\n",
    "from sklearn.linear_model import LogisticRegression\n",
    "from sklearn.model_selection import cross_val_score\n",
    "from sklearn.compose import make_column_transformer\n",
    "from sklearn.pipeline import make_pipeline\n",
    "logreg=LogisticRegression(solver=\"lbfgs\")\n",
    "from sklearn.model_selection import train_test_split\n",
    "from sklearn import  metrics\n",
    "from sklearn.metrics import accuracy_score"
   ]
  },
  {
   "cell_type": "code",
   "execution_count": 55,
   "metadata": {},
   "outputs": [],
   "source": [
    "column_trans=make_column_transformer(\n",
    "    (OneHotEncoder(),X),\n",
    "    remainder=\"passthrough\")"
   ]
  },
  {
   "cell_type": "code",
   "execution_count": 56,
   "metadata": {},
   "outputs": [
    {
     "ename": "ValueError",
     "evalue": "Expected 2D array, got scalar array instead:\narray=ColumnTransformer(remainder='passthrough',\n                  transformers=[('onehotencoder', OneHotEncoder(),\n                                      Grade - ශ්‍රේණිය                                         Department  \\\n0             Manager           Moulded Bra Cup - Quality Assurance - SI   \n1             Manager                             Impact Protection - SI   \n2             Manager  Moulded Bra Cup - Product Development Centre - SI   \n3             Manager  Moulded Bra Cup - Industrial Systems Engineeri...   \n4             Manager                                     MAS Department   \n...               ...                                                ...   \n1807      Team Member                             Impact Protection - SI   \n1808            S...\n      Exposure Score €  Proximity Score (p)  Aggregation Score (a)  \\\n0                  1.2                  1.0                    1.0   \n1                  1.4                  1.0                    1.0   \n2                  1.4                  1.0                    1.0   \n3                  1.4                  1.0                    1.0   \n4                  1.4                  1.0                    1.0   \n...                ...                  ...                    ...   \n1807               4.2                  5.0                    4.4   \n1808               4.4                  4.4                    5.0   \n1809               4.4                  5.0                    4.7   \n1810               4.4                  5.0                    5.0   \n1811               4.4                  5.0                    5.0   \n\n      Total Scope (t) Final Reusalt  \n0                 3.2      Low Risk  \n1                 3.4      Low Risk  \n2                 3.4      Low Risk  \n3                 3.4      Low Risk  \n4                 3.4      Low Risk  \n...               ...           ...  \n1807             13.6     High Risk  \n1808             13.8     High Risk  \n1809             14.1     High Risk  \n1810             14.4     High Risk  \n1811             14.4     High Risk  \n\n[1812 rows x 10 columns])]).\nReshape your data either using array.reshape(-1, 1) if your data has a single feature or array.reshape(1, -1) if it contains a single sample.",
     "output_type": "error",
     "traceback": [
      "\u001b[1;31m---------------------------------------------------------------------------\u001b[0m",
      "\u001b[1;31mValueError\u001b[0m                                Traceback (most recent call last)",
      "\u001b[1;32m<ipython-input-56-7ad140f9ea16>\u001b[0m in \u001b[0;36m<module>\u001b[1;34m\u001b[0m\n\u001b[1;32m----> 1\u001b[1;33m \u001b[0mcolumn_trans\u001b[0m\u001b[1;33m.\u001b[0m\u001b[0mfit_transform\u001b[0m\u001b[1;33m(\u001b[0m\u001b[0mX\u001b[0m\u001b[1;33m)\u001b[0m\u001b[1;33m\u001b[0m\u001b[1;33m\u001b[0m\u001b[0m\n\u001b[0m",
      "\u001b[1;32m~\\Anaconda3\\lib\\site-packages\\sklearn\\compose\\_column_transformer.py\u001b[0m in \u001b[0;36mfit_transform\u001b[1;34m(self, X, y)\u001b[0m\n\u001b[0;32m    498\u001b[0m         \u001b[1;32melse\u001b[0m\u001b[1;33m:\u001b[0m\u001b[1;33m\u001b[0m\u001b[1;33m\u001b[0m\u001b[0m\n\u001b[0;32m    499\u001b[0m             \u001b[0mself\u001b[0m\u001b[1;33m.\u001b[0m\u001b[0m_feature_names_in\u001b[0m \u001b[1;33m=\u001b[0m \u001b[1;32mNone\u001b[0m\u001b[1;33m\u001b[0m\u001b[1;33m\u001b[0m\u001b[0m\n\u001b[1;32m--> 500\u001b[1;33m         \u001b[0mX\u001b[0m \u001b[1;33m=\u001b[0m \u001b[0m_check_X\u001b[0m\u001b[1;33m(\u001b[0m\u001b[0mX\u001b[0m\u001b[1;33m)\u001b[0m\u001b[1;33m\u001b[0m\u001b[1;33m\u001b[0m\u001b[0m\n\u001b[0m\u001b[0;32m    501\u001b[0m         \u001b[1;31m# set n_features_in_ attribute\u001b[0m\u001b[1;33m\u001b[0m\u001b[1;33m\u001b[0m\u001b[1;33m\u001b[0m\u001b[0m\n\u001b[0;32m    502\u001b[0m         \u001b[0mself\u001b[0m\u001b[1;33m.\u001b[0m\u001b[0m_check_n_features\u001b[0m\u001b[1;33m(\u001b[0m\u001b[0mX\u001b[0m\u001b[1;33m,\u001b[0m \u001b[0mreset\u001b[0m\u001b[1;33m=\u001b[0m\u001b[1;32mTrue\u001b[0m\u001b[1;33m)\u001b[0m\u001b[1;33m\u001b[0m\u001b[1;33m\u001b[0m\u001b[0m\n",
      "\u001b[1;32m~\\Anaconda3\\lib\\site-packages\\sklearn\\compose\\_column_transformer.py\u001b[0m in \u001b[0;36m_check_X\u001b[1;34m(X)\u001b[0m\n\u001b[0;32m    626\u001b[0m     \u001b[1;32mif\u001b[0m \u001b[0mhasattr\u001b[0m\u001b[1;33m(\u001b[0m\u001b[0mX\u001b[0m\u001b[1;33m,\u001b[0m \u001b[1;34m'__array__'\u001b[0m\u001b[1;33m)\u001b[0m \u001b[1;32mor\u001b[0m \u001b[0msparse\u001b[0m\u001b[1;33m.\u001b[0m\u001b[0missparse\u001b[0m\u001b[1;33m(\u001b[0m\u001b[0mX\u001b[0m\u001b[1;33m)\u001b[0m\u001b[1;33m:\u001b[0m\u001b[1;33m\u001b[0m\u001b[1;33m\u001b[0m\u001b[0m\n\u001b[0;32m    627\u001b[0m         \u001b[1;32mreturn\u001b[0m \u001b[0mX\u001b[0m\u001b[1;33m\u001b[0m\u001b[1;33m\u001b[0m\u001b[0m\n\u001b[1;32m--> 628\u001b[1;33m     \u001b[1;32mreturn\u001b[0m \u001b[0mcheck_array\u001b[0m\u001b[1;33m(\u001b[0m\u001b[0mX\u001b[0m\u001b[1;33m,\u001b[0m \u001b[0mforce_all_finite\u001b[0m\u001b[1;33m=\u001b[0m\u001b[1;34m'allow-nan'\u001b[0m\u001b[1;33m,\u001b[0m \u001b[0mdtype\u001b[0m\u001b[1;33m=\u001b[0m\u001b[0mobject\u001b[0m\u001b[1;33m)\u001b[0m\u001b[1;33m\u001b[0m\u001b[1;33m\u001b[0m\u001b[0m\n\u001b[0m\u001b[0;32m    629\u001b[0m \u001b[1;33m\u001b[0m\u001b[0m\n\u001b[0;32m    630\u001b[0m \u001b[1;33m\u001b[0m\u001b[0m\n",
      "\u001b[1;32m~\\Anaconda3\\lib\\site-packages\\sklearn\\utils\\validation.py\u001b[0m in \u001b[0;36minner_f\u001b[1;34m(*args, **kwargs)\u001b[0m\n\u001b[0;32m     61\u001b[0m             \u001b[0mextra_args\u001b[0m \u001b[1;33m=\u001b[0m \u001b[0mlen\u001b[0m\u001b[1;33m(\u001b[0m\u001b[0margs\u001b[0m\u001b[1;33m)\u001b[0m \u001b[1;33m-\u001b[0m \u001b[0mlen\u001b[0m\u001b[1;33m(\u001b[0m\u001b[0mall_args\u001b[0m\u001b[1;33m)\u001b[0m\u001b[1;33m\u001b[0m\u001b[1;33m\u001b[0m\u001b[0m\n\u001b[0;32m     62\u001b[0m             \u001b[1;32mif\u001b[0m \u001b[0mextra_args\u001b[0m \u001b[1;33m<=\u001b[0m \u001b[1;36m0\u001b[0m\u001b[1;33m:\u001b[0m\u001b[1;33m\u001b[0m\u001b[1;33m\u001b[0m\u001b[0m\n\u001b[1;32m---> 63\u001b[1;33m                 \u001b[1;32mreturn\u001b[0m \u001b[0mf\u001b[0m\u001b[1;33m(\u001b[0m\u001b[1;33m*\u001b[0m\u001b[0margs\u001b[0m\u001b[1;33m,\u001b[0m \u001b[1;33m**\u001b[0m\u001b[0mkwargs\u001b[0m\u001b[1;33m)\u001b[0m\u001b[1;33m\u001b[0m\u001b[1;33m\u001b[0m\u001b[0m\n\u001b[0m\u001b[0;32m     64\u001b[0m \u001b[1;33m\u001b[0m\u001b[0m\n\u001b[0;32m     65\u001b[0m             \u001b[1;31m# extra_args > 0\u001b[0m\u001b[1;33m\u001b[0m\u001b[1;33m\u001b[0m\u001b[1;33m\u001b[0m\u001b[0m\n",
      "\u001b[1;32m~\\Anaconda3\\lib\\site-packages\\sklearn\\utils\\validation.py\u001b[0m in \u001b[0;36mcheck_array\u001b[1;34m(array, accept_sparse, accept_large_sparse, dtype, order, copy, force_all_finite, ensure_2d, allow_nd, ensure_min_samples, ensure_min_features, estimator)\u001b[0m\n\u001b[0;32m    685\u001b[0m             \u001b[1;31m# If input is scalar raise error\u001b[0m\u001b[1;33m\u001b[0m\u001b[1;33m\u001b[0m\u001b[1;33m\u001b[0m\u001b[0m\n\u001b[0;32m    686\u001b[0m             \u001b[1;32mif\u001b[0m \u001b[0marray\u001b[0m\u001b[1;33m.\u001b[0m\u001b[0mndim\u001b[0m \u001b[1;33m==\u001b[0m \u001b[1;36m0\u001b[0m\u001b[1;33m:\u001b[0m\u001b[1;33m\u001b[0m\u001b[1;33m\u001b[0m\u001b[0m\n\u001b[1;32m--> 687\u001b[1;33m                 raise ValueError(\n\u001b[0m\u001b[0;32m    688\u001b[0m                     \u001b[1;34m\"Expected 2D array, got scalar array instead:\\narray={}.\\n\"\u001b[0m\u001b[1;33m\u001b[0m\u001b[1;33m\u001b[0m\u001b[0m\n\u001b[0;32m    689\u001b[0m                     \u001b[1;34m\"Reshape your data either using array.reshape(-1, 1) if \"\u001b[0m\u001b[1;33m\u001b[0m\u001b[1;33m\u001b[0m\u001b[0m\n",
      "\u001b[1;31mValueError\u001b[0m: Expected 2D array, got scalar array instead:\narray=ColumnTransformer(remainder='passthrough',\n                  transformers=[('onehotencoder', OneHotEncoder(),\n                                      Grade - ශ්‍රේණිය                                         Department  \\\n0             Manager           Moulded Bra Cup - Quality Assurance - SI   \n1             Manager                             Impact Protection - SI   \n2             Manager  Moulded Bra Cup - Product Development Centre - SI   \n3             Manager  Moulded Bra Cup - Industrial Systems Engineeri...   \n4             Manager                                     MAS Department   \n...               ...                                                ...   \n1807      Team Member                             Impact Protection - SI   \n1808            S...\n      Exposure Score €  Proximity Score (p)  Aggregation Score (a)  \\\n0                  1.2                  1.0                    1.0   \n1                  1.4                  1.0                    1.0   \n2                  1.4                  1.0                    1.0   \n3                  1.4                  1.0                    1.0   \n4                  1.4                  1.0                    1.0   \n...                ...                  ...                    ...   \n1807               4.2                  5.0                    4.4   \n1808               4.4                  4.4                    5.0   \n1809               4.4                  5.0                    4.7   \n1810               4.4                  5.0                    5.0   \n1811               4.4                  5.0                    5.0   \n\n      Total Scope (t) Final Reusalt  \n0                 3.2      Low Risk  \n1                 3.4      Low Risk  \n2                 3.4      Low Risk  \n3                 3.4      Low Risk  \n4                 3.4      Low Risk  \n...               ...           ...  \n1807             13.6     High Risk  \n1808             13.8     High Risk  \n1809             14.1     High Risk  \n1810             14.4     High Risk  \n1811             14.4     High Risk  \n\n[1812 rows x 10 columns])]).\nReshape your data either using array.reshape(-1, 1) if your data has a single feature or array.reshape(1, -1) if it contains a single sample."
     ]
    }
   ],
   "source": [
    "column_trans.fit_transform(X)"
   ]
  },
  {
   "cell_type": "code",
   "execution_count": 58,
   "metadata": {},
   "outputs": [
    {
     "name": "stdout",
     "output_type": "stream",
     "text": [
      "Collecting jupyterplot\n",
      "  Downloading jupyterplot-0.0.3-py3-none-any.whl (10 kB)\n",
      "Collecting lrcurve==1.1.0\n",
      "  Downloading lrcurve-1.1.0.tar.gz (67 kB)\n",
      "Requirement already satisfied: numpy in c:\\users\\saranga\\anaconda3\\lib\\site-packages (from jupyterplot) (1.18.5)\n",
      "Requirement already satisfied: matplotlib in c:\\users\\saranga\\anaconda3\\lib\\site-packages (from jupyterplot) (3.2.2)\n",
      "Requirement already satisfied: ipython in c:\\users\\saranga\\anaconda3\\lib\\site-packages (from lrcurve==1.1.0->jupyterplot) (7.16.1)\n",
      "Requirement already satisfied: kiwisolver>=1.0.1 in c:\\users\\saranga\\anaconda3\\lib\\site-packages (from matplotlib->jupyterplot) (1.2.0)\n",
      "Requirement already satisfied: cycler>=0.10 in c:\\users\\saranga\\anaconda3\\lib\\site-packages (from matplotlib->jupyterplot) (0.10.0)\n",
      "Requirement already satisfied: pyparsing!=2.0.4,!=2.1.2,!=2.1.6,>=2.0.1 in c:\\users\\saranga\\anaconda3\\lib\\site-packages (from matplotlib->jupyterplot) (2.4.7)\n",
      "Requirement already satisfied: python-dateutil>=2.1 in c:\\users\\saranga\\anaconda3\\lib\\site-packages (from matplotlib->jupyterplot) (2.8.1)\n",
      "Requirement already satisfied: pickleshare in c:\\users\\saranga\\anaconda3\\lib\\site-packages (from ipython->lrcurve==1.1.0->jupyterplot) (0.7.5)\n",
      "Requirement already satisfied: traitlets>=4.2 in c:\\users\\saranga\\anaconda3\\lib\\site-packages (from ipython->lrcurve==1.1.0->jupyterplot) (4.3.3)\n",
      "Requirement already satisfied: decorator in c:\\users\\saranga\\anaconda3\\lib\\site-packages (from ipython->lrcurve==1.1.0->jupyterplot) (4.4.2)\n",
      "Requirement already satisfied: colorama; sys_platform == \"win32\" in c:\\users\\saranga\\anaconda3\\lib\\site-packages (from ipython->lrcurve==1.1.0->jupyterplot) (0.4.3)\n",
      "Requirement already satisfied: pygments in c:\\users\\saranga\\anaconda3\\lib\\site-packages (from ipython->lrcurve==1.1.0->jupyterplot) (2.6.1)\n",
      "Requirement already satisfied: prompt-toolkit!=3.0.0,!=3.0.1,<3.1.0,>=2.0.0 in c:\\users\\saranga\\anaconda3\\lib\\site-packages (from ipython->lrcurve==1.1.0->jupyterplot) (3.0.5)\n",
      "Requirement already satisfied: backcall in c:\\users\\saranga\\anaconda3\\lib\\site-packages (from ipython->lrcurve==1.1.0->jupyterplot) (0.2.0)\n",
      "Requirement already satisfied: jedi>=0.10 in c:\\users\\saranga\\anaconda3\\lib\\site-packages (from ipython->lrcurve==1.1.0->jupyterplot) (0.17.1)\n",
      "Requirement already satisfied: setuptools>=18.5 in c:\\users\\saranga\\anaconda3\\lib\\site-packages (from ipython->lrcurve==1.1.0->jupyterplot) (49.2.0.post20200714)\n",
      "Requirement already satisfied: six in c:\\users\\saranga\\anaconda3\\lib\\site-packages (from cycler>=0.10->matplotlib->jupyterplot) (1.15.0)\n",
      "Requirement already satisfied: ipython-genutils in c:\\users\\saranga\\anaconda3\\lib\\site-packages (from traitlets>=4.2->ipython->lrcurve==1.1.0->jupyterplot) (0.2.0)\n",
      "Requirement already satisfied: wcwidth in c:\\users\\saranga\\anaconda3\\lib\\site-packages (from prompt-toolkit!=3.0.0,!=3.0.1,<3.1.0,>=2.0.0->ipython->lrcurve==1.1.0->jupyterplot) (0.2.5)\n",
      "Requirement already satisfied: parso<0.8.0,>=0.7.0 in c:\\users\\saranga\\anaconda3\\lib\\site-packages (from jedi>=0.10->ipython->lrcurve==1.1.0->jupyterplot) (0.7.0)\n",
      "Building wheels for collected packages: lrcurve\n",
      "  Building wheel for lrcurve (setup.py): started\n",
      "  Building wheel for lrcurve (setup.py): finished with status 'done'\n",
      "  Created wheel for lrcurve: filename=lrcurve-1.1.0-py3-none-any.whl size=69147 sha256=efd3ce1f778610dff7dd8220e6c5bf494a0b1662d2cd45dcff48e7ec939f2987\n",
      "  Stored in directory: c:\\users\\saranga\\appdata\\local\\pip\\cache\\wheels\\d8\\97\\c2\\70d613e3d92340653e3e87d6896a5d2f1162cdb2e53ff10d36Note: you may need to restart the kernel to use updated packages.\n",
      "\n",
      "Successfully built lrcurve\n",
      "Installing collected packages: lrcurve, jupyterplot\n",
      "Successfully installed jupyterplot-0.0.3 lrcurve-1.1.0\n"
     ]
    }
   ],
   "source": [
    "pip install jupyterplot"
   ]
  }
 ],
 "metadata": {
  "kernelspec": {
   "display_name": "Python 3",
   "language": "python",
   "name": "python3"
  },
  "language_info": {
   "codemirror_mode": {
    "name": "ipython",
    "version": 3
   },
   "file_extension": ".py",
   "mimetype": "text/x-python",
   "name": "python",
   "nbconvert_exporter": "python",
   "pygments_lexer": "ipython3",
   "version": "3.8.3"
  }
 },
 "nbformat": 4,
 "nbformat_minor": 4
}
