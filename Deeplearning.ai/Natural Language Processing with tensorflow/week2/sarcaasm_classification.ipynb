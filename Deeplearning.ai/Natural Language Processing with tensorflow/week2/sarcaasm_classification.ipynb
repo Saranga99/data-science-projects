{
 "cells": [
  {
   "cell_type": "code",
   "execution_count": 155,
   "metadata": {},
   "outputs": [],
   "source": [
    "import json\n",
    "import tensorflow as tf\n",
    "import numpy as np\n",
    "import matplotlib.pyplot as plt\n",
    "from tensorflow.keras.preprocessing.text import Tokenizer\n",
    "from tensorflow.keras.preprocessing.sequence import pad_sequences"
   ]
  },
  {
   "cell_type": "code",
   "execution_count": 156,
   "metadata": {},
   "outputs": [],
   "source": [
    "# Parameters\n",
    "vocab_size = 10000\n",
    "max_length = 32\n",
    "embedding_dim = 16\n",
    "trunc_type='post'\n",
    "padding_type='post'\n",
    "oov_tok = \"<OOV>\"\n",
    "training_size=20000"
   ]
  },
  {
   "cell_type": "code",
   "execution_count": 157,
   "metadata": {},
   "outputs": [],
   "source": [
    "with open(\"../data/news/Sarcasm_Headlines_Dataset.json\") as file_in:\n",
    "    dataset = []\n",
    "    for line in file_in:\n",
    "        dataset.append(json.loads(line))"
   ]
  },
  {
   "cell_type": "markdown",
   "metadata": {},
   "source": [
    "## function for model training"
   ]
  },
  {
   "cell_type": "code",
   "execution_count": 158,
   "metadata": {},
   "outputs": [],
   "source": [
    "# Plot utility\n",
    "def plot_graphs(history, string):\n",
    "    plt.plot(history.history[string])\n",
    "    plt.plot(history.history['val_'+string])\n",
    "    plt.xlabel(\"Epochs\")\n",
    "    plt.ylabel(string)\n",
    "    plt.legend([string, 'val_'+string])\n",
    "    plt.show()"
   ]
  },
  {
   "cell_type": "code",
   "execution_count": 159,
   "metadata": {},
   "outputs": [],
   "source": [
    "def model_trining(vocab_size,embedding_dim,max_len,num_epochs,X_train,y_train,X_test,y_test):\n",
    "    model = tf.keras.Sequential([\n",
    "        tf.keras.layers.Embedding(vocab_size,embedding_dim,input_length=max_len),\n",
    "        tf.keras.layers.GlobalAveragePooling1D(),\n",
    "        tf.keras.layers.Dense(24,activation='relu'),\n",
    "        tf.keras.layers.Dense(1,activation='sigmoid')\n",
    "        \n",
    "    ])\n",
    "    model.compile(loss=\"binary_crossentropy\",optimizer=\"adam\",metrics=[\"accuracy\"])\n",
    "    print(model.summary())\n",
    "\n",
    "    num_epochs=num_epochs\n",
    "    history=model.fit(X_train,y_train,epochs=num_epochs,\n",
    "                   validation_data=(X_test,y_test),verbose=2     \n",
    "                )\n",
    "    # Plot the accuracy and loss\n",
    "    plot_graphs(history, \"accuracy\")\n",
    "    plot_graphs(history, \"loss\")\n",
    "    "
   ]
  },
  {
   "cell_type": "code",
   "execution_count": 160,
   "metadata": {},
   "outputs": [],
   "source": [
    "sentences=[]\n",
    "labels=[]\n",
    "urls=[]\n",
    "for item in dataset:\n",
    "    sentences.append(item[\"headline\"])\n",
    "    labels.append(item[\"is_sarcastic\"])\n",
    "    urls.append(item[\"article_link\"])"
   ]
  },
  {
   "cell_type": "code",
   "execution_count": 161,
   "metadata": {},
   "outputs": [],
   "source": [
    "training_sentences=sentences[0:training_size]\n",
    "testing_sentences=sentences[training_size:]\n",
    "training_labels=labels[0:training_size]\n",
    "testing_labels=labels[training_size:]"
   ]
  },
  {
   "cell_type": "code",
   "execution_count": 162,
   "metadata": {},
   "outputs": [],
   "source": [
    "# Initialize the Tokenizer class\n",
    "tokenizer = Tokenizer(num_words=vocab_size, oov_token=oov_tok)"
   ]
  },
  {
   "cell_type": "code",
   "execution_count": 163,
   "metadata": {},
   "outputs": [],
   "source": [
    "# Generate the word index dictionary\n",
    "tokenizer.fit_on_texts(training_sentences)\n",
    "word_index = tokenizer.word_index"
   ]
  },
  {
   "cell_type": "code",
   "execution_count": 164,
   "metadata": {},
   "outputs": [],
   "source": [
    "# Generate and pad the training sequences\n",
    "training_sequences = tokenizer.texts_to_sequences(training_sentences)\n",
    "training_padded = pad_sequences(training_sequences, maxlen=max_length, padding=padding_type, truncating=trunc_type)"
   ]
  },
  {
   "cell_type": "code",
   "execution_count": 165,
   "metadata": {},
   "outputs": [],
   "source": [
    "# Generate and pad the testing sequences\n",
    "testing_sequences = tokenizer.texts_to_sequences(testing_sentences)\n",
    "testing_padded = pad_sequences(testing_sequences, maxlen=max_length, padding=padding_type, truncating=trunc_type)"
   ]
  },
  {
   "cell_type": "code",
   "execution_count": 166,
   "metadata": {},
   "outputs": [],
   "source": [
    "# Convert the labels lists into numpy arrays\n",
    "training_labels = np.array(training_labels)\n",
    "testing_labels = np.array(testing_labels)"
   ]
  },
  {
   "cell_type": "code",
   "execution_count": 167,
   "metadata": {},
   "outputs": [
    {
     "name": "stdout",
     "output_type": "stream",
     "text": [
      "Model: \"sequential_29\"\n",
      "_________________________________________________________________\n",
      " Layer (type)                Output Shape              Param #   \n",
      "=================================================================\n",
      " embedding_29 (Embedding)    (None, 32, 16)            160000    \n",
      "                                                                 \n",
      " global_average_pooling1d_29  (None, 16)               0         \n",
      "  (GlobalAveragePooling1D)                                       \n",
      "                                                                 \n",
      " dense_58 (Dense)            (None, 24)                408       \n",
      "                                                                 \n",
      " dense_59 (Dense)            (None, 1)                 25        \n",
      "                                                                 \n",
      "=================================================================\n",
      "Total params: 160,433\n",
      "Trainable params: 160,433\n",
      "Non-trainable params: 0\n",
      "_________________________________________________________________\n",
      "None\n",
      "Epoch 1/30\n",
      "625/625 - 2s - loss: 0.5777 - accuracy: 0.6852 - val_loss: 0.4087 - val_accuracy: 0.8302 - 2s/epoch - 3ms/step\n",
      "Epoch 2/30\n",
      "625/625 - 1s - loss: 0.3213 - accuracy: 0.8701 - val_loss: 0.3467 - val_accuracy: 0.8547 - 1s/epoch - 2ms/step\n",
      "Epoch 3/30\n",
      "625/625 - 1s - loss: 0.2419 - accuracy: 0.9034 - val_loss: 0.3416 - val_accuracy: 0.8551 - 1s/epoch - 2ms/step\n",
      "Epoch 4/30\n",
      "625/625 - 1s - loss: 0.1954 - accuracy: 0.9265 - val_loss: 0.3548 - val_accuracy: 0.8529 - 1s/epoch - 2ms/step\n",
      "Epoch 5/30\n",
      "625/625 - 1s - loss: 0.1623 - accuracy: 0.9403 - val_loss: 0.3777 - val_accuracy: 0.8521 - 1s/epoch - 2ms/step\n",
      "Epoch 6/30\n",
      "625/625 - 1s - loss: 0.1375 - accuracy: 0.9506 - val_loss: 0.4082 - val_accuracy: 0.8489 - 1s/epoch - 2ms/step\n",
      "Epoch 7/30\n",
      "625/625 - 1s - loss: 0.1188 - accuracy: 0.9589 - val_loss: 0.4496 - val_accuracy: 0.8430 - 1s/epoch - 2ms/step\n",
      "Epoch 8/30\n",
      "625/625 - 1s - loss: 0.1035 - accuracy: 0.9650 - val_loss: 0.4854 - val_accuracy: 0.8404 - 1s/epoch - 2ms/step\n",
      "Epoch 9/30\n",
      "625/625 - 1s - loss: 0.0899 - accuracy: 0.9711 - val_loss: 0.5265 - val_accuracy: 0.8375 - 1s/epoch - 2ms/step\n",
      "Epoch 10/30\n",
      "625/625 - 1s - loss: 0.0787 - accuracy: 0.9738 - val_loss: 0.5759 - val_accuracy: 0.8335 - 1s/epoch - 2ms/step\n",
      "Epoch 11/30\n",
      "625/625 - 1s - loss: 0.0687 - accuracy: 0.9792 - val_loss: 0.6178 - val_accuracy: 0.8284 - 1s/epoch - 2ms/step\n",
      "Epoch 12/30\n",
      "625/625 - 1s - loss: 0.0601 - accuracy: 0.9814 - val_loss: 0.6703 - val_accuracy: 0.8265 - 1s/epoch - 2ms/step\n",
      "Epoch 13/30\n",
      "625/625 - 1s - loss: 0.0525 - accuracy: 0.9841 - val_loss: 0.7493 - val_accuracy: 0.8219 - 1s/epoch - 2ms/step\n",
      "Epoch 14/30\n",
      "625/625 - 1s - loss: 0.0462 - accuracy: 0.9861 - val_loss: 0.7932 - val_accuracy: 0.8217 - 1s/epoch - 2ms/step\n",
      "Epoch 15/30\n",
      "625/625 - 2s - loss: 0.0405 - accuracy: 0.9881 - val_loss: 0.8426 - val_accuracy: 0.8201 - 2s/epoch - 3ms/step\n",
      "Epoch 16/30\n",
      "625/625 - 1s - loss: 0.0359 - accuracy: 0.9900 - val_loss: 0.8896 - val_accuracy: 0.8170 - 1s/epoch - 2ms/step\n",
      "Epoch 17/30\n",
      "625/625 - 1s - loss: 0.0319 - accuracy: 0.9904 - val_loss: 0.9703 - val_accuracy: 0.8129 - 1s/epoch - 2ms/step\n",
      "Epoch 18/30\n",
      "625/625 - 1s - loss: 0.0278 - accuracy: 0.9922 - val_loss: 1.0110 - val_accuracy: 0.8119 - 1s/epoch - 2ms/step\n",
      "Epoch 19/30\n",
      "625/625 - 1s - loss: 0.0242 - accuracy: 0.9938 - val_loss: 1.0988 - val_accuracy: 0.8109 - 1s/epoch - 2ms/step\n",
      "Epoch 20/30\n",
      "625/625 - 1s - loss: 0.0219 - accuracy: 0.9941 - val_loss: 1.1263 - val_accuracy: 0.8111 - 1s/epoch - 2ms/step\n",
      "Epoch 21/30\n",
      "625/625 - 1s - loss: 0.0199 - accuracy: 0.9946 - val_loss: 1.2301 - val_accuracy: 0.8077 - 1s/epoch - 2ms/step\n",
      "Epoch 22/30\n",
      "625/625 - 1s - loss: 0.0169 - accuracy: 0.9962 - val_loss: 1.2456 - val_accuracy: 0.8062 - 1s/epoch - 2ms/step\n",
      "Epoch 23/30\n",
      "625/625 - 1s - loss: 0.0160 - accuracy: 0.9955 - val_loss: 1.3140 - val_accuracy: 0.8088 - 1s/epoch - 2ms/step\n",
      "Epoch 24/30\n",
      "625/625 - 1s - loss: 0.0149 - accuracy: 0.9963 - val_loss: 1.3817 - val_accuracy: 0.8049 - 1s/epoch - 2ms/step\n",
      "Epoch 25/30\n",
      "625/625 - 1s - loss: 0.0126 - accuracy: 0.9970 - val_loss: 1.4302 - val_accuracy: 0.8052 - 1s/epoch - 2ms/step\n",
      "Epoch 26/30\n",
      "625/625 - 1s - loss: 0.0113 - accuracy: 0.9970 - val_loss: 1.5033 - val_accuracy: 0.8055 - 1s/epoch - 2ms/step\n",
      "Epoch 27/30\n",
      "625/625 - 1s - loss: 0.0112 - accuracy: 0.9964 - val_loss: 1.5247 - val_accuracy: 0.8046 - 1s/epoch - 2ms/step\n",
      "Epoch 28/30\n",
      "625/625 - 1s - loss: 0.0105 - accuracy: 0.9969 - val_loss: 1.6074 - val_accuracy: 0.8024 - 1s/epoch - 2ms/step\n",
      "Epoch 29/30\n",
      "625/625 - 1s - loss: 0.0083 - accuracy: 0.9977 - val_loss: 1.6464 - val_accuracy: 0.8049 - 1s/epoch - 2ms/step\n",
      "Epoch 30/30\n",
      "625/625 - 1s - loss: 0.0088 - accuracy: 0.9974 - val_loss: 1.7073 - val_accuracy: 0.8044 - 1s/epoch - 2ms/step\n"
     ]
    },
    {
     "data": {
      "image/png": "[encoded data removed]",
      "text/plain": [
       "<Figure size 432x288 with 1 Axes>"
      ]
     },
     "metadata": {
      "needs_background": "light"
     },
     "output_type": "display_data"
    },
    {
     "data": {
      "image/png": "[encoded data removed]",
      "text/plain": [
       "<Figure size 432x288 with 1 Axes>"
      ]
     },
     "metadata": {
      "needs_background": "light"
     },
     "output_type": "display_data"
    }
   ],
   "source": [
    "vocab_size = 10000\n",
    "max_length = 32\n",
    "embedding_dim = 16\n",
    "\n",
    "model_trining(vocab_size,embedding_dim,max_length,30,training_padded,training_labels,testing_padded,testing_labels)"
   ]
  },
  {
   "cell_type": "code",
   "execution_count": 168,
   "metadata": {},
   "outputs": [
    {
     "name": "stdout",
     "output_type": "stream",
     "text": [
      "Model: \"sequential_30\"\n",
      "_________________________________________________________________\n",
      " Layer (type)                Output Shape              Param #   \n",
      "=================================================================\n",
      " embedding_30 (Embedding)    (None, 16, 16)            16000     \n",
      "                                                                 \n",
      " global_average_pooling1d_30  (None, 16)               0         \n",
      "  (GlobalAveragePooling1D)                                       \n",
      "                                                                 \n",
      " dense_60 (Dense)            (None, 24)                408       \n",
      "                                                                 \n",
      " dense_61 (Dense)            (None, 1)                 25        \n",
      "                                                                 \n",
      "=================================================================\n",
      "Total params: 16,433\n",
      "Trainable params: 16,433\n",
      "Non-trainable params: 0\n",
      "_________________________________________________________________\n",
      "None\n",
      "Epoch 1/30\n"
     ]
    },
    {
     "ename": "ValueError",
     "evalue": "in user code:\n\n    File \"d:\\data-science-projects\\Deeplearning.ai\\.venv\\lib\\site-packages\\keras\\engine\\training.py\", line 878, in train_function  *\n        return step_function(self, iterator)\n    File \"d:\\data-science-projects\\Deeplearning.ai\\.venv\\lib\\site-packages\\keras\\engine\\training.py\", line 867, in step_function  **\n        outputs = model.distribute_strategy.run(run_step, args=(data,))\n    File \"d:\\data-science-projects\\Deeplearning.ai\\.venv\\lib\\site-packages\\keras\\engine\\training.py\", line 860, in run_step  **\n        outputs = model.train_step(data)\n    File \"d:\\data-science-projects\\Deeplearning.ai\\.venv\\lib\\site-packages\\keras\\engine\\training.py\", line 808, in train_step\n        y_pred = self(x, training=True)\n    File \"d:\\data-science-projects\\Deeplearning.ai\\.venv\\lib\\site-packages\\keras\\utils\\traceback_utils.py\", line 67, in error_handler\n        raise e.with_traceback(filtered_tb) from None\n    File \"d:\\data-science-projects\\Deeplearning.ai\\.venv\\lib\\site-packages\\keras\\engine\\input_spec.py\", line 263, in assert_input_compatibility\n        raise ValueError(f'Input {input_index} of layer \"{layer_name}\" is '\n\n    ValueError: Input 0 of layer \"sequential_30\" is incompatible with the layer: expected shape=(None, 16), found shape=(32, 32)\n",
     "output_type": "error",
     "traceback": [
      "\u001b[1;31m---------------------------------------------------------------------------\u001b[0m",
      "\u001b[1;31mValueError\u001b[0m                                Traceback (most recent call last)",
      "\u001b[1;32md:\\data-science-projects\\Deeplearning.ai\\Natural Language Processing with tensorflow\\week2\\sarcaasm_classification.ipynb Cell 15\u001b[0m in \u001b[0;36m<cell line: 5>\u001b[1;34m()\u001b[0m\n\u001b[0;32m      <a href='vscode-notebook-cell:/d%3A/data-science-projects/Deeplearning.ai/Natural%20Language%20Processing%20with%20tensorflow/week2/sarcaasm_classification.ipynb#X13sZmlsZQ%3D%3D?line=1'>2</a>\u001b[0m max_length \u001b[39m=\u001b[39m \u001b[39m16\u001b[39m\n\u001b[0;32m      <a href='vscode-notebook-cell:/d%3A/data-science-projects/Deeplearning.ai/Natural%20Language%20Processing%20with%20tensorflow/week2/sarcaasm_classification.ipynb#X13sZmlsZQ%3D%3D?line=2'>3</a>\u001b[0m embedding_dim \u001b[39m=\u001b[39m \u001b[39m16\u001b[39m\n\u001b[1;32m----> <a href='vscode-notebook-cell:/d%3A/data-science-projects/Deeplearning.ai/Natural%20Language%20Processing%20with%20tensorflow/week2/sarcaasm_classification.ipynb#X13sZmlsZQ%3D%3D?line=4'>5</a>\u001b[0m model_trining(vocab_size,embedding_dim,max_length,\u001b[39m30\u001b[39;49m,training_padded,training_labels,testing_padded,testing_labels)\n",
      "\u001b[1;32md:\\data-science-projects\\Deeplearning.ai\\Natural Language Processing with tensorflow\\week2\\sarcaasm_classification.ipynb Cell 15\u001b[0m in \u001b[0;36mmodel_trining\u001b[1;34m(vocab_size, embedding_dim, max_len, num_epochs, X_train, y_train, X_test, y_test)\u001b[0m\n\u001b[0;32m     <a href='vscode-notebook-cell:/d%3A/data-science-projects/Deeplearning.ai/Natural%20Language%20Processing%20with%20tensorflow/week2/sarcaasm_classification.ipynb#X13sZmlsZQ%3D%3D?line=9'>10</a>\u001b[0m \u001b[39mprint\u001b[39m(model\u001b[39m.\u001b[39msummary())\n\u001b[0;32m     <a href='vscode-notebook-cell:/d%3A/data-science-projects/Deeplearning.ai/Natural%20Language%20Processing%20with%20tensorflow/week2/sarcaasm_classification.ipynb#X13sZmlsZQ%3D%3D?line=11'>12</a>\u001b[0m num_epochs\u001b[39m=\u001b[39mnum_epochs\n\u001b[1;32m---> <a href='vscode-notebook-cell:/d%3A/data-science-projects/Deeplearning.ai/Natural%20Language%20Processing%20with%20tensorflow/week2/sarcaasm_classification.ipynb#X13sZmlsZQ%3D%3D?line=12'>13</a>\u001b[0m history\u001b[39m=\u001b[39mmodel\u001b[39m.\u001b[39;49mfit(X_train,y_train,epochs\u001b[39m=\u001b[39;49mnum_epochs,\n\u001b[0;32m     <a href='vscode-notebook-cell:/d%3A/data-science-projects/Deeplearning.ai/Natural%20Language%20Processing%20with%20tensorflow/week2/sarcaasm_classification.ipynb#X13sZmlsZQ%3D%3D?line=13'>14</a>\u001b[0m                validation_data\u001b[39m=\u001b[39;49m(X_test,y_test),verbose\u001b[39m=\u001b[39;49m\u001b[39m2\u001b[39;49m     \n\u001b[0;32m     <a href='vscode-notebook-cell:/d%3A/data-science-projects/Deeplearning.ai/Natural%20Language%20Processing%20with%20tensorflow/week2/sarcaasm_classification.ipynb#X13sZmlsZQ%3D%3D?line=14'>15</a>\u001b[0m             )\n\u001b[0;32m     <a href='vscode-notebook-cell:/d%3A/data-science-projects/Deeplearning.ai/Natural%20Language%20Processing%20with%20tensorflow/week2/sarcaasm_classification.ipynb#X13sZmlsZQ%3D%3D?line=15'>16</a>\u001b[0m \u001b[39m# Plot the accuracy and loss\u001b[39;00m\n\u001b[0;32m     <a href='vscode-notebook-cell:/d%3A/data-science-projects/Deeplearning.ai/Natural%20Language%20Processing%20with%20tensorflow/week2/sarcaasm_classification.ipynb#X13sZmlsZQ%3D%3D?line=16'>17</a>\u001b[0m plot_graphs(history, \u001b[39m\"\u001b[39m\u001b[39maccuracy\u001b[39m\u001b[39m\"\u001b[39m)\n",
      "File \u001b[1;32md:\\data-science-projects\\Deeplearning.ai\\.venv\\lib\\site-packages\\keras\\utils\\traceback_utils.py:67\u001b[0m, in \u001b[0;36mfilter_traceback.<locals>.error_handler\u001b[1;34m(*args, **kwargs)\u001b[0m\n\u001b[0;32m     65\u001b[0m \u001b[39mexcept\u001b[39;00m \u001b[39mException\u001b[39;00m \u001b[39mas\u001b[39;00m e:  \u001b[39m# pylint: disable=broad-except\u001b[39;00m\n\u001b[0;32m     66\u001b[0m   filtered_tb \u001b[39m=\u001b[39m _process_traceback_frames(e\u001b[39m.\u001b[39m__traceback__)\n\u001b[1;32m---> 67\u001b[0m   \u001b[39mraise\u001b[39;00m e\u001b[39m.\u001b[39mwith_traceback(filtered_tb) \u001b[39mfrom\u001b[39;00m \u001b[39mNone\u001b[39m\n\u001b[0;32m     68\u001b[0m \u001b[39mfinally\u001b[39;00m:\n\u001b[0;32m     69\u001b[0m   \u001b[39mdel\u001b[39;00m filtered_tb\n",
      "File \u001b[1;32md:\\data-science-projects\\Deeplearning.ai\\.venv\\lib\\site-packages\\tensorflow\\python\\framework\\func_graph.py:1129\u001b[0m, in \u001b[0;36mfunc_graph_from_py_func.<locals>.autograph_handler\u001b[1;34m(*args, **kwargs)\u001b[0m\n\u001b[0;32m   1127\u001b[0m \u001b[39mexcept\u001b[39;00m \u001b[39mException\u001b[39;00m \u001b[39mas\u001b[39;00m e:  \u001b[39m# pylint:disable=broad-except\u001b[39;00m\n\u001b[0;32m   1128\u001b[0m   \u001b[39mif\u001b[39;00m \u001b[39mhasattr\u001b[39m(e, \u001b[39m\"\u001b[39m\u001b[39mag_error_metadata\u001b[39m\u001b[39m\"\u001b[39m):\n\u001b[1;32m-> 1129\u001b[0m     \u001b[39mraise\u001b[39;00m e\u001b[39m.\u001b[39mag_error_metadata\u001b[39m.\u001b[39mto_exception(e)\n\u001b[0;32m   1130\u001b[0m   \u001b[39melse\u001b[39;00m:\n\u001b[0;32m   1131\u001b[0m     \u001b[39mraise\u001b[39;00m\n",
      "\u001b[1;31mValueError\u001b[0m: in user code:\n\n    File \"d:\\data-science-projects\\Deeplearning.ai\\.venv\\lib\\site-packages\\keras\\engine\\training.py\", line 878, in train_function  *\n        return step_function(self, iterator)\n    File \"d:\\data-science-projects\\Deeplearning.ai\\.venv\\lib\\site-packages\\keras\\engine\\training.py\", line 867, in step_function  **\n        outputs = model.distribute_strategy.run(run_step, args=(data,))\n    File \"d:\\data-science-projects\\Deeplearning.ai\\.venv\\lib\\site-packages\\keras\\engine\\training.py\", line 860, in run_step  **\n        outputs = model.train_step(data)\n    File \"d:\\data-science-projects\\Deeplearning.ai\\.venv\\lib\\site-packages\\keras\\engine\\training.py\", line 808, in train_step\n        y_pred = self(x, training=True)\n    File \"d:\\data-science-projects\\Deeplearning.ai\\.venv\\lib\\site-packages\\keras\\utils\\traceback_utils.py\", line 67, in error_handler\n        raise e.with_traceback(filtered_tb) from None\n    File \"d:\\data-science-projects\\Deeplearning.ai\\.venv\\lib\\site-packages\\keras\\engine\\input_spec.py\", line 263, in assert_input_compatibility\n        raise ValueError(f'Input {input_index} of layer \"{layer_name}\" is '\n\n    ValueError: Input 0 of layer \"sequential_30\" is incompatible with the layer: expected shape=(None, 16), found shape=(32, 32)\n"
     ]
    }
   ],
   "source": [
    "vocab_size = 1000\n",
    "max_length = 16\n",
    "embedding_dim = 16\n",
    "\n",
    "model_trining(vocab_size,embedding_dim,max_length,30,training_padded,training_labels,testing_padded,testing_labels)"
   ]
  },
  {
   "cell_type": "code",
   "execution_count": null,
   "metadata": {},
   "outputs": [],
   "source": []
  },
  {
   "cell_type": "code",
   "execution_count": null,
   "metadata": {},
   "outputs": [],
   "source": []
  }
 ],
 "metadata": {
  "kernelspec": {
   "display_name": "Python 3.9.9 ('.venv': venv)",
   "language": "python",
   "name": "python3"
  },
  "language_info": {
   "codemirror_mode": {
    "name": "ipython",
    "version": 3
   },
   "file_extension": ".py",
   "mimetype": "text/x-python",
   "name": "python",
   "nbconvert_exporter": "python",
   "pygments_lexer": "ipython3",
   "version": "3.9.9"
  },
  "orig_nbformat": 4,
  "vscode": {
   "interpreter": {
    "hash": "9b58560779df6f1705927a28a9e441230c0c82a661c63e6c629bae984a5a6926"
   }
  }
 },
 "nbformat": 4,
 "nbformat_minor": 2
}
