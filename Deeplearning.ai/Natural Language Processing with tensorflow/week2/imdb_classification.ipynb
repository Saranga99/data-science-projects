{
 "cells": [
  {
   "cell_type": "code",
   "execution_count": 10,
   "metadata": {},
   "outputs": [
    {
     "ename": "AttributeError",
     "evalue": "module 'importlib.resources' has no attribute 'abc'",
     "output_type": "error",
     "traceback": [
      "\u001b[1;31m---------------------------------------------------------------------------\u001b[0m",
      "\u001b[1;31mAttributeError\u001b[0m                            Traceback (most recent call last)",
      "\u001b[1;32md:\\data-science-projects\\Deeplearning.ai\\Natural Language Processing with tensorflow\\week2\\imdb_classification.ipynb Cell 1\u001b[0m in \u001b[0;36m<cell line: 5>\u001b[1;34m()\u001b[0m\n\u001b[0;32m      <a href='vscode-notebook-cell:/d%3A/data-science-projects/Deeplearning.ai/Natural%20Language%20Processing%20with%20tensorflow/week2/imdb_classification.ipynb#ch0000000?line=2'>3</a>\u001b[0m \u001b[39mimport\u001b[39;00m \u001b[39mimportlib\u001b[39;00m\u001b[39m.\u001b[39;00m\u001b[39mresources\u001b[39;00m\n\u001b[0;32m      <a href='vscode-notebook-cell:/d%3A/data-science-projects/Deeplearning.ai/Natural%20Language%20Processing%20with%20tensorflow/week2/imdb_classification.ipynb#ch0000000?line=3'>4</a>\u001b[0m \u001b[39mimport\u001b[39;00m \u001b[39mtensorflow\u001b[39;00m \u001b[39mas\u001b[39;00m \u001b[39mtf\u001b[39;00m\n\u001b[1;32m----> <a href='vscode-notebook-cell:/d%3A/data-science-projects/Deeplearning.ai/Natural%20Language%20Processing%20with%20tensorflow/week2/imdb_classification.ipynb#ch0000000?line=4'>5</a>\u001b[0m \u001b[39mimport\u001b[39;00m \u001b[39mtensorflow_datasets\u001b[39;00m \u001b[39mas\u001b[39;00m \u001b[39mtfds\u001b[39;00m\n",
      "File \u001b[1;32md:\\data-science-projects\\Deeplearning.ai\\.venv\\lib\\site-packages\\tensorflow_datasets\\__init__.py:51\u001b[0m, in \u001b[0;36m<module>\u001b[1;34m\u001b[0m\n\u001b[0;32m     49\u001b[0m   \u001b[39mfrom\u001b[39;00m \u001b[39mtensorflow_datasets\u001b[39;00m\u001b[39m.\u001b[39;00m\u001b[39m__init__py2\u001b[39;00m \u001b[39mimport\u001b[39;00m \u001b[39m*\u001b[39m\n\u001b[0;32m     50\u001b[0m \u001b[39melse\u001b[39;00m:\n\u001b[1;32m---> 51\u001b[0m   \u001b[39mfrom\u001b[39;00m \u001b[39mtensorflow_datasets\u001b[39;00m \u001b[39mimport\u001b[39;00m __init__py3 \u001b[39mas\u001b[39;00m api\n\u001b[0;32m     52\u001b[0m   \u001b[39mfrom\u001b[39;00m \u001b[39mtensorflow_datasets\u001b[39;00m\u001b[39m.\u001b[39;00m\u001b[39m__init__py3\u001b[39;00m \u001b[39mimport\u001b[39;00m \u001b[39m*\u001b[39m\n\u001b[0;32m     54\u001b[0m __all__ \u001b[39m=\u001b[39m api\u001b[39m.\u001b[39m__all__\n",
      "File \u001b[1;32md:\\data-science-projects\\Deeplearning.ai\\.venv\\lib\\site-packages\\tensorflow_datasets\\__init__py3.py:43\u001b[0m, in \u001b[0;36m<module>\u001b[1;34m\u001b[0m\n\u001b[0;32m     17\u001b[0m \u001b[39m\"\"\"`tensorflow_datasets` (`tfds`) defines a collection of datasets ready-to-use with TensorFlow.\u001b[39;00m\n\u001b[0;32m     18\u001b[0m \n\u001b[0;32m     19\u001b[0m \u001b[39mEach dataset is defined as a `tfds.core.DatasetBuilder`, which encapsulates\u001b[39;00m\n\u001b[1;32m   (...)\u001b[0m\n\u001b[0;32m     34\u001b[0m \u001b[39m* [Add a dataset](https://www.tensorflow.org/datasets/add_dataset)\u001b[39;00m\n\u001b[0;32m     35\u001b[0m \u001b[39m\"\"\"\u001b[39;00m\n\u001b[0;32m     36\u001b[0m \u001b[39m# pylint: enable=line-too-long\u001b[39;00m\n\u001b[0;32m     37\u001b[0m \u001b[39m# pylint: disable=g-import-not-at-top,g-bad-import-order,wrong-import-position,unused-import\u001b[39;00m\n\u001b[0;32m     38\u001b[0m \n\u001b[1;32m   (...)\u001b[0m\n\u001b[0;32m     41\u001b[0m \u001b[39m# needs to happen before anything else, since the imports below will try to\u001b[39;00m\n\u001b[0;32m     42\u001b[0m \u001b[39m# import tensorflow, too.\u001b[39;00m\n\u001b[1;32m---> 43\u001b[0m \u001b[39mfrom\u001b[39;00m \u001b[39mtensorflow_datasets\u001b[39;00m\u001b[39m.\u001b[39;00m\u001b[39mcore\u001b[39;00m \u001b[39mimport\u001b[39;00m tf_compat\n\u001b[0;32m     44\u001b[0m tf_compat\u001b[39m.\u001b[39mensure_tf_install()\n\u001b[0;32m     46\u001b[0m \u001b[39m# Imports for registration\u001b[39;00m\n",
      "File \u001b[1;32md:\\data-science-projects\\Deeplearning.ai\\.venv\\lib\\site-packages\\tensorflow_datasets\\core\\__init__.py:25\u001b[0m, in \u001b[0;36m<module>\u001b[1;34m\u001b[0m\n\u001b[0;32m     21\u001b[0m tf_compat\u001b[39m.\u001b[39mensure_tf_install()\n\u001b[0;32m     23\u001b[0m \u001b[39m# pylint:disable=g-import-not-at-top\u001b[39;00m\n\u001b[1;32m---> 25\u001b[0m \u001b[39mfrom\u001b[39;00m \u001b[39mtensorflow_datasets\u001b[39;00m\u001b[39m.\u001b[39;00m\u001b[39mcore\u001b[39;00m\u001b[39m.\u001b[39;00m\u001b[39mconstants\u001b[39;00m \u001b[39mimport\u001b[39;00m add_data_dir\n\u001b[0;32m     27\u001b[0m \u001b[39mfrom\u001b[39;00m \u001b[39mtensorflow_datasets\u001b[39;00m\u001b[39m.\u001b[39;00m\u001b[39mcore\u001b[39;00m\u001b[39m.\u001b[39;00m\u001b[39mdataset_builder\u001b[39;00m \u001b[39mimport\u001b[39;00m BeamBasedBuilder\n\u001b[0;32m     28\u001b[0m \u001b[39mfrom\u001b[39;00m \u001b[39mtensorflow_datasets\u001b[39;00m\u001b[39m.\u001b[39;00m\u001b[39mcore\u001b[39;00m\u001b[39m.\u001b[39;00m\u001b[39mdataset_builder\u001b[39;00m \u001b[39mimport\u001b[39;00m BuilderConfig\n",
      "File \u001b[1;32md:\\data-science-projects\\Deeplearning.ai\\.venv\\lib\\site-packages\\tensorflow_datasets\\core\\constants.py:23\u001b[0m, in \u001b[0;36m<module>\u001b[1;34m\u001b[0m\n\u001b[0;32m     20\u001b[0m \u001b[39mimport\u001b[39;00m \u001b[39mos\u001b[39;00m\n\u001b[0;32m     21\u001b[0m \u001b[39mfrom\u001b[39;00m \u001b[39mtyping\u001b[39;00m \u001b[39mimport\u001b[39;00m List, Optional\n\u001b[1;32m---> 23\u001b[0m \u001b[39mfrom\u001b[39;00m \u001b[39mtensorflow_datasets\u001b[39;00m\u001b[39m.\u001b[39;00m\u001b[39mcore\u001b[39;00m\u001b[39m.\u001b[39;00m\u001b[39mutils\u001b[39;00m \u001b[39mimport\u001b[39;00m type_utils\n\u001b[0;32m     25\u001b[0m \u001b[39m# Github base URL\u001b[39;00m\n\u001b[0;32m     26\u001b[0m SRC_BASE_URL \u001b[39m=\u001b[39m \u001b[39m'\u001b[39m\u001b[39mhttps://github.com/tensorflow/datasets/tree/master/\u001b[39m\u001b[39m'\u001b[39m\n",
      "File \u001b[1;32md:\\data-science-projects\\Deeplearning.ai\\.venv\\lib\\site-packages\\tensorflow_datasets\\core\\utils\\__init__.py:19\u001b[0m, in \u001b[0;36m<module>\u001b[1;34m\u001b[0m\n\u001b[0;32m     16\u001b[0m \u001b[39m\"\"\"Util import.\"\"\"\u001b[39;00m\n\u001b[0;32m     18\u001b[0m \u001b[39m# pylint: disable=wildcard-import\u001b[39;00m\n\u001b[1;32m---> 19\u001b[0m \u001b[39mfrom\u001b[39;00m \u001b[39mtensorflow_datasets\u001b[39;00m\u001b[39m.\u001b[39;00m\u001b[39mcore\u001b[39;00m\u001b[39m.\u001b[39;00m\u001b[39mutils\u001b[39;00m\u001b[39m.\u001b[39;00m\u001b[39mgcs_utils\u001b[39;00m \u001b[39mimport\u001b[39;00m gcs_path\n\u001b[0;32m     20\u001b[0m \u001b[39mfrom\u001b[39;00m \u001b[39mtensorflow_datasets\u001b[39;00m\u001b[39m.\u001b[39;00m\u001b[39mcore\u001b[39;00m\u001b[39m.\u001b[39;00m\u001b[39mutils\u001b[39;00m\u001b[39m.\u001b[39;00m\u001b[39mimage_utils\u001b[39;00m \u001b[39mimport\u001b[39;00m \u001b[39m*\u001b[39m\n\u001b[0;32m     21\u001b[0m \u001b[39mfrom\u001b[39;00m \u001b[39mtensorflow_datasets\u001b[39;00m\u001b[39m.\u001b[39;00m\u001b[39mcore\u001b[39;00m\u001b[39m.\u001b[39;00m\u001b[39mutils\u001b[39;00m\u001b[39m.\u001b[39;00m\u001b[39mpy_utils\u001b[39;00m \u001b[39mimport\u001b[39;00m \u001b[39m*\u001b[39m\n",
      "File \u001b[1;32md:\\data-science-projects\\Deeplearning.ai\\.venv\\lib\\site-packages\\tensorflow_datasets\\core\\utils\\gcs_utils.py:25\u001b[0m, in \u001b[0;36m<module>\u001b[1;34m\u001b[0m\n\u001b[0;32m     21\u001b[0m \u001b[39mfrom\u001b[39;00m \u001b[39mtyping\u001b[39;00m \u001b[39mimport\u001b[39;00m List, Optional\n\u001b[0;32m     23\u001b[0m \u001b[39mimport\u001b[39;00m \u001b[39mtensorflow\u001b[39;00m\u001b[39m.\u001b[39;00m\u001b[39mcompat\u001b[39;00m\u001b[39m.\u001b[39;00m\u001b[39mv2\u001b[39;00m \u001b[39mas\u001b[39;00m \u001b[39mtf\u001b[39;00m\n\u001b[1;32m---> 25\u001b[0m \u001b[39mfrom\u001b[39;00m \u001b[39mtensorflow_datasets\u001b[39;00m\u001b[39m.\u001b[39;00m\u001b[39mcore\u001b[39;00m\u001b[39m.\u001b[39;00m\u001b[39mutils\u001b[39;00m \u001b[39mimport\u001b[39;00m py_utils\n\u001b[0;32m     26\u001b[0m \u001b[39mfrom\u001b[39;00m \u001b[39mtensorflow_datasets\u001b[39;00m\u001b[39m.\u001b[39;00m\u001b[39mcore\u001b[39;00m\u001b[39m.\u001b[39;00m\u001b[39mutils\u001b[39;00m \u001b[39mimport\u001b[39;00m tqdm_utils\n\u001b[0;32m     28\u001b[0m GCS_ROOT_DIR \u001b[39m=\u001b[39m \u001b[39m'\u001b[39m\u001b[39mgs://tfds-data\u001b[39m\u001b[39m'\u001b[39m\n",
      "File \u001b[1;32md:\\data-science-projects\\Deeplearning.ai\\.venv\\lib\\site-packages\\tensorflow_datasets\\core\\utils\\py_utils.py:162\u001b[0m, in \u001b[0;36m<module>\u001b[1;34m\u001b[0m\n\u001b[0;32m    156\u001b[0m       \u001b[39msetattr\u001b[39m(obj, attr, cached)\n\u001b[0;32m    157\u001b[0m     \u001b[39mreturn\u001b[39;00m cached\n\u001b[0;32m    160\u001b[0m \u001b[39mdef\u001b[39;00m \u001b[39mresource_path\u001b[39m(\n\u001b[0;32m    161\u001b[0m     package: Union[\u001b[39mstr\u001b[39m, types\u001b[39m.\u001b[39mModuleType]\n\u001b[1;32m--> 162\u001b[0m ) \u001b[39m-\u001b[39m\u001b[39m>\u001b[39m importlib_resources\u001b[39m.\u001b[39;49mabc\u001b[39m.\u001b[39mTraversable:  \u001b[39m# pytype: disable=module-attr\u001b[39;00m\n\u001b[0;32m    163\u001b[0m   \u001b[39m\"\"\"Returns `importlib.resources.files`.\"\"\"\u001b[39;00m\n\u001b[0;32m    164\u001b[0m   \u001b[39mreturn\u001b[39;00m importlib_resources\u001b[39m.\u001b[39mfiles(package)  \u001b[39m# pytype: disable=module-attr\u001b[39;00m\n",
      "\u001b[1;31mAttributeError\u001b[0m: module 'importlib.resources' has no attribute 'abc'"
     ]
    }
   ],
   "source": [
    "import os\n",
    "import numpy as np\n",
    "import tensorflow as tf\n",
    "import tensorflow_datasets as tfds"
   ]
  },
  {
   "cell_type": "code",
   "execution_count": null,
   "metadata": {},
   "outputs": [],
   "source": [
    "# Load the IMDB Reviews dataset\n",
    "imdb, info = tfds.load(\"imdb_reviews\", with_info=True, as_supervised=True)"
   ]
  }
 ],
 "metadata": {
  "kernelspec": {
   "display_name": "Python 3.9.9 ('.venv': venv)",
   "language": "python",
   "name": "python3"
  },
  "language_info": {
   "codemirror_mode": {
    "name": "ipython",
    "version": 3
   },
   "file_extension": ".py",
   "mimetype": "text/x-python",
   "name": "python",
   "nbconvert_exporter": "python",
   "pygments_lexer": "ipython3",
   "version": "3.9.9"
  },
  "orig_nbformat": 4,
  "vscode": {
   "interpreter": {
    "hash": "9b58560779df6f1705927a28a9e441230c0c82a661c63e6c629bae984a5a6926"
   }
  }
 },
 "nbformat": 4,
 "nbformat_minor": 2
}
