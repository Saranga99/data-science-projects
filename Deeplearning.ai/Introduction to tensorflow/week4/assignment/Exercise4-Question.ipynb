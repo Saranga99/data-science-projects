{
 "cells": [
  {
   "cell_type": "markdown",
   "metadata": {
    "colab_type": "text",
    "id": "UncprnB0ymAE"
   },
   "source": [
    "Below is code with a link to a happy or sad dataset which contains 80 images, 40 happy and 40 sad. \n",
    "Create a convolutional neural network that trains to 100% accuracy on these images,  which cancels training upon hitting training accuracy of >.999\n",
    "\n",
    "Hint -- it will work best with 3 convolutional layers."
   ]
  },
  {
   "cell_type": "code",
   "execution_count": null,
   "metadata": {},
   "outputs": [],
   "source": [
    "import tensorflow as tf\n",
    "import os\n",
    "import zipfile\n",
    "from os import path, getcwd, chdir\n",
    "\n",
    "# DO NOT CHANGE THE LINE BELOW. If you are developing in a local\n",
    "# environment, then grab happy-or-sad.zip from the Coursera Jupyter Notebook\n",
    "# and place it inside a local folder and edit the path to that location\n",
    "path = f\"{getcwd()}/../tmp2/happy-or-sad.zip\"\n",
    "\n",
    "zip_ref = zipfile.ZipFile(path, 'r')\n",
    "zip_ref.extractall(\"/tmp/h-or-s\")\n",
    "zip_ref.close()"
   ]
  },
  {
   "cell_type": "code",
   "execution_count": 15,
   "metadata": {},
   "outputs": [],
   "source": [
    "# GRADED FUNCTION: train_happy_sad_model\n",
    "def train_happy_sad_model():\n",
    "    # Please write your code only where you are indicated.\n",
    "    # please do not remove # model fitting inline comments.\n",
    "\n",
    "    DESIRED_ACCURACY = 0.999\n",
    "\n",
    "    class myCallback(tf.keras.callbacks.Callback): # YOUR CODE HERE):\n",
    "        \n",
    "        # YOUR CODE START HERE\n",
    "        \n",
    "        def on_epoch_end(self, epoch, logs={}):\n",
    "            if logs.get('acc') is not None and logs.get('acc') > DESIRED_ACCURACY:\n",
    "                print(\"\\nReached 99.9% accuracy so cancelling training!\")\n",
    "                self.model.stop_training = True\n",
    "         \n",
    "        \n",
    "        # YOUR CODE END HERE\n",
    "        \n",
    "    callbacks = myCallback()\n",
    "    \n",
    "    # This Code Block should Define and Compile the Model. Please assume the images are 150 X 150 in your implementation.\n",
    "    model = tf.keras.models.Sequential([\n",
    "    tf.keras.layers.Conv2D(16, (3,3), activation='relu', input_shape=(150, 150, 3)), # YOUR CODE HERE,\n",
    "    tf.keras.layers.MaxPooling2D(2, 2), # YOUR CODE HERE,\n",
    "    tf.keras.layers.Conv2D(32, (3,3), activation='relu'), # YOUR CODE HERE,\n",
    "    tf.keras.layers.MaxPooling2D(2,2), # YOUR CODE HERE,\n",
    "    tf.keras.layers.Conv2D(32, (3,3), activation='relu'), # YOUR CODE HERE\n",
    "    tf.keras.layers.MaxPooling2D(2,2), # YOUR CODE HERE\n",
    "    tf.keras.layers.Flatten(), # YOUR CODE HERE\n",
    "    tf.keras.layers.Dense(512, activation='relu'), # YOUR CODE HERE\n",
    "    tf.keras.layers.Dense(1, activation='sigmoid') # YOUR CODE HERE\n",
    "    ])\n",
    "    from tensorflow.keras.optimizers import RMSprop\n",
    "\n",
    "    model.compile(loss='binary_crossentropy', # YOUR CODE HERE,\n",
    "                  optimizer=RMSprop(learning_rate=0.001), # YOUR CODE HERE,\n",
    "                  metrics=['acc']) # YOUR CODE HERE)\n",
    "    \n",
    "    # This code block should create an instance of an ImageDataGenerator called train_datagen \n",
    "    # And a train_generator by calling train_datagen.flow_from_directory\n",
    "\n",
    "    from tensorflow.keras.preprocessing.image import ImageDataGenerator\n",
    "\n",
    "    train_datagen = ImageDataGenerator(rescale=1/255) # YOUR CODE HERE\n",
    "\n",
    "    # Please use a target_size of 150 X 150.\n",
    "    train_generator = train_datagen.flow_from_directory( \"/tmp/h-or-s\", # YOUR CODE HERE\n",
    "                                                        target_size=(150, 150), # YOUR CODE HERE\n",
    "                                                        batch_size=10, # YOUR CODE HERE\n",
    "                                                        class_mode='binary') # YOUR CODE HERE\n",
    "    # Expected output: 'Found 80 images belonging to 2 classes'\n",
    "\n",
    "    # This code block should call model.fit_generator and train for\n",
    "    # a number of epochs.\n",
    "    # model fitting\n",
    "    history = model.fit(train_generator, # YOUR CODE HERE,\n",
    "                        steps_per_epoch=8, # YOUR CODE HERE,\n",
    "                        epochs=15, # YOUR CODE HERE,\n",
    "                        verbose=1, # YOUR CODE HERE,\n",
    "                        callbacks=[callbacks] # YOUR CODE HERE,\n",
    "                       )\n",
    "    \n",
    "    return history.history['acc'][-1]"
   ]
  },
  {
   "cell_type": "code",
   "execution_count": 16,
   "metadata": {},
   "outputs": [
    {
     "name": "stdout",
     "output_type": "stream",
     "text": [
      "Found 80 images belonging to 2 classes.\n",
      "Epoch 1/15\n",
      "8/8 [==============================] - 1s 160ms/step - loss: 1.4641 - acc: 0.6375\n",
      "Epoch 2/15\n",
      "8/8 [==============================] - 0s 39ms/step - loss: 0.3076 - acc: 0.8875\n",
      "Epoch 3/15\n",
      "8/8 [==============================] - 0s 49ms/step - loss: 0.3064 - acc: 0.8750\n",
      "Epoch 4/15\n",
      "8/8 [==============================] - 0s 39ms/step - loss: 0.1167 - acc: 0.9625\n",
      "Epoch 5/15\n",
      "8/8 [==============================] - 0s 49ms/step - loss: 0.1965 - acc: 0.9250\n",
      "Epoch 6/15\n",
      "8/8 [==============================] - 0s 39ms/step - loss: 0.1039 - acc: 0.9625\n",
      "Epoch 7/15\n",
      "8/8 [==============================] - 0s 47ms/step - loss: 0.1612 - acc: 0.9125\n",
      "Epoch 8/15\n",
      "7/8 [=========================>....] - ETA: 0s - loss: 0.0406 - acc: 1.0000\n",
      "Reached 99.9% accuracy so cancelling training!\n",
      "8/8 [==============================] - 0s 39ms/step - loss: 0.0356 - acc: 1.0000\n"
     ]
    },
    {
     "data": {
      "text/plain": [
       "1.0"
      ]
     },
     "execution_count": 16,
     "metadata": {},
     "output_type": "execute_result"
    }
   ],
   "source": [
    "# The Expected output: \"Reached 99.9% accuracy so cancelling training!\"\"\n",
    "train_happy_sad_model()"
   ]
  },
  {
   "cell_type": "code",
   "execution_count": 4,
   "metadata": {},
   "outputs": [],
   "source": [
    "# Now click the 'Submit Assignment' button above.\n",
    "# Once that is complete, please run the following two cells to save your work and close the notebook"
   ]
  },
  {
   "cell_type": "code",
   "execution_count": 17,
   "metadata": {},
   "outputs": [
    {
     "data": {
      "application/javascript": [
       "<!-- Save the notebook -->\n",
       "IPython.notebook.save_checkpoint();\n"
      ],
      "text/plain": [
       "<IPython.core.display.Javascript object>"
      ]
     },
     "metadata": {},
     "output_type": "display_data"
    }
   ],
   "source": [
    "%%javascript\n",
    "<!-- Save the notebook -->\n",
    "IPython.notebook.save_checkpoint();"
   ]
  },
  {
   "cell_type": "code",
   "execution_count": null,
   "metadata": {},
   "outputs": [
    {
     "data": {
      "application/javascript": [
       "IPython.notebook.session.delete();\n",
       "window.onbeforeunload = null\n",
       "setTimeout(function() { window.close(); }, 1000);\n"
      ],
      "text/plain": [
       "<IPython.core.display.Javascript object>"
      ]
     },
     "metadata": {},
     "output_type": "display_data"
    }
   ],
   "source": [
    "%%javascript\n",
    "IPython.notebook.session.delete();\n",
    "window.onbeforeunload = null\n",
    "setTimeout(function() { window.close(); }, 1000);"
   ]
  }
 ],
 "metadata": {
  "coursera": {
   "course_slug": "introduction-tensorflow",
   "graded_item_id": "1kAlw",
   "launcher_item_id": "PNLYD"
  },
  "kernelspec": {
   "display_name": "Python 3",
   "language": "python",
   "name": "python3"
  },
  "language_info": {
   "codemirror_mode": {
    "name": "ipython",
    "version": 3
   },
   "file_extension": ".py",
   "mimetype": "text/x-python",
   "name": "python",
   "nbconvert_exporter": "python",
   "pygments_lexer": "ipython3",
   "version": "3.6.8"
  }
 },
 "nbformat": 4,
 "nbformat_minor": 1
}
