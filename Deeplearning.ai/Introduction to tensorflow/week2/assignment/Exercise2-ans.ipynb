{
 "cells": [
  {
   "cell_type": "markdown",
   "metadata": {
    "colab_type": "text",
    "id": "tOoyQ70H00_s"
   },
   "source": [
    "## Exercise 2\n",
    "In the course you learned how to do classificaiton using Fashion MNIST, a data set containing items of clothing. There's another, similar dataset called MNIST which has items of handwriting -- the digits 0 through 9.\n",
    "\n",
    "Write an MNIST classifier that trains to 99% accuracy or above, and does it without a fixed number of epochs -- i.e. you should stop training once you reach that level of accuracy.\n",
    "\n",
    "Some notes:\n",
    "1. It should succeed in less than 10 epochs, so it is okay to change epochs= to 10, but nothing larger\n",
    "2. When it reaches 99% or greater it should print out the string \"Reached 99% accuracy so cancelling training!\"\n",
    "3. If you add any additional variables, make sure you use the same names as the ones used in the class\n",
    "\n",
    "I've started the code for you below -- how would you finish it? "
   ]
  },
  {
   "cell_type": "code",
   "execution_count": 5,
   "metadata": {},
   "outputs": [],
   "source": [
    "import tensorflow as tf\n",
    "from os import path, getcwd, chdir\n",
    "\n",
    "# DO NOT CHANGE THE LINE BELOW. If you are developing in a local\n",
    "# environment, then grab mnist.npz from the Coursera Jupyter Notebook\n",
    "# and place it inside a local folder and edit the path to that location\n",
    "path = f\"{getcwd()}/../tmp2/mnist.npz\""
   ]
  },
  {
   "cell_type": "code",
   "execution_count": 6,
   "metadata": {
    "colab": {},
    "colab_type": "code",
    "id": "9rvXQGAA0ssC"
   },
   "outputs": [],
   "source": [
    "# GRADED FUNCTION: train_mnist\n",
    "def train_mnist():\n",
    "    # Please write your code only where you are indicated.\n",
    "    # please do not remove # model fitting inline comments.\n",
    "   \n",
    "    # YOUR CODE SHOULD START HERE\n",
    "    \n",
    "    # YOUR CODE SHOULD END HERE\n",
    "\n",
    "    mnist = tf.keras.datasets.mnist\n",
    "\n",
    "    (x_train, y_train),(x_test, y_test) = mnist.load_data(path=path)\n",
    "    # YOUR CODE SHOULD START HERE\n",
    "    x_train,x_test=x_train/255.0,x_test/255.0\n",
    "\n",
    "    # YOUR CODE SHOULD END HERE\n",
    "    model = tf.keras.models.Sequential([\n",
    "        # YOUR CODE SHOULD START HERE\n",
    "        tf.keras.layers.Flatten(),\n",
    "        tf.keras.layers.Dense(512, activation=tf.nn.relu),\n",
    "        tf.keras.layers.Dense(10, activation=tf.nn.softmax)\n",
    "        # YOUR CODE SHOULD END HERE\n",
    "    ])\n",
    "\n",
    "    model.compile(optimizer='adam',\n",
    "                  loss='sparse_categorical_crossentropy',\n",
    "                  metrics=['accuracy'])\n",
    "    \n",
    "    # model fitting\n",
    "    history = model.fit(# YOUR CODE SHOULD START HERE\n",
    "                x_train, y_train, epochs=10\n",
    "              # YOUR CODE SHOULD END HERE\n",
    "    )\n",
    "    \n",
    "    # model fitting\n",
    "    return history.epoch, history.history['acc']"
   ]
  },
  {
   "cell_type": "code",
   "execution_count": 7,
   "metadata": {
    "colab": {},
    "colab_type": "code",
    "id": "9rvXQGAA0ssC"
   },
   "outputs": [
    {
     "name": "stdout",
     "output_type": "stream",
     "text": [
      "Epoch 1/10\n",
      "60000/60000 [==============================] - 11s 185us/sample - loss: 0.2000 - acc: 0.9409\n",
      "Epoch 2/10\n",
      "60000/60000 [==============================] - 12s 197us/sample - loss: 0.0801 - acc: 0.9753\n",
      "Epoch 3/10\n",
      "60000/60000 [==============================] - 11s 188us/sample - loss: 0.0525 - acc: 0.9835\n",
      "Epoch 4/10\n",
      "60000/60000 [==============================] - 11s 183us/sample - loss: 0.0371 - acc: 0.9881\n",
      "Epoch 5/10\n",
      "60000/60000 [==============================] - 11s 188us/sample - loss: 0.0290 - acc: 0.9905 - loss: 0.0290 - a\n",
      "Epoch 6/10\n",
      "60000/60000 [==============================] - 12s 193us/sample - loss: 0.0208 - acc: 0.9935\n",
      "Epoch 7/10\n",
      "60000/60000 [==============================] - 11s 185us/sample - loss: 0.0168 - acc: 0.9941\n",
      "Epoch 8/10\n",
      "60000/60000 [==============================] - 11s 178us/sample - loss: 0.0144 - acc: 0.9954\n",
      "Epoch 9/10\n",
      "60000/60000 [==============================] - 10s 169us/sample - loss: 0.0115 - acc: 0.9960\n",
      "Epoch 10/10\n",
      "60000/60000 [==============================] - 10s 165us/sample - loss: 0.0112 - acc: 0.9963\n"
     ]
    },
    {
     "data": {
      "text/plain": [
       "([0, 1, 2, 3, 4, 5, 6, 7, 8, 9],\n",
       " [0.94093335,\n",
       "  0.9752667,\n",
       "  0.9834667,\n",
       "  0.9881167,\n",
       "  0.99046665,\n",
       "  0.9935167,\n",
       "  0.99408334,\n",
       "  0.99543333,\n",
       "  0.9959667,\n",
       "  0.99635])"
      ]
     },
     "execution_count": 7,
     "metadata": {},
     "output_type": "execute_result"
    }
   ],
   "source": [
    "train_mnist()"
   ]
  },
  {
   "cell_type": "code",
   "execution_count": 8,
   "metadata": {},
   "outputs": [],
   "source": [
    "# GRADED FUNCTION: train_mnist\n",
    "def train_mnist():\n",
    "    # Please write your code only where you are indicated.\n",
    "    # please do not remove # model fitting inline comments.\n",
    "\n",
    "    # YOUR CODE SHOULD START HERE\n",
    "    \n",
    "    class myCallback(tf.keras.callbacks.Callback):\n",
    "        def on_epoch_end(self, epoch, logs={}):\n",
    "            if logs.get('acc') is not None and logs.get('acc') > 0.99:\n",
    "                print(\"\\nReached 99% accuracy so cancelling training!\")\n",
    "                self.model.stop_training = True\n",
    "\n",
    "    # YOUR CODE SHOULD END HERE\n",
    "\n",
    "    mnist = tf.keras.datasets.mnist\n",
    "\n",
    "    (x_train, y_train),(x_test, y_test) = mnist.load_data()\n",
    "    \n",
    "    # YOUR CODE SHOULD START HERE\n",
    "    \n",
    "    mnist = tf.keras.datasets.mnist\n",
    "    \n",
    "    (x_train, y_train),(x_test, y_test) = mnist.load_data()\n",
    "    x_train, x_test = x_train / 255.0, x_test / 255.0\n",
    "\n",
    "    callbacks = myCallback()\n",
    "    \n",
    "    # YOUR CODE SHOULD END HERE\n",
    "    \n",
    "    model = tf.keras.models.Sequential([\n",
    "        tf.keras.layers.Flatten(input_shape=(28, 28)), # YOUR CODE HERE\n",
    "        tf.keras.layers.Dense(512, activation=tf.nn.relu), # YOUR CODE HERE\n",
    "        tf.keras.layers.Dense(10, activation=tf.nn.softmax) # YOUR CODE HERE\n",
    "    ])\n",
    "\n",
    "    model.compile(optimizer='adam',\n",
    "                  loss='sparse_categorical_crossentropy',\n",
    "                  metrics=['accuracy'])\n",
    "    \n",
    "    # model fitting\n",
    "    history = model.fit(x_train, y_train, epochs=10, callbacks=[callbacks] # YOUR CODE HERE\n",
    "    )\n",
    "    # model fitting\n",
    "    \n",
    "    return history.epoch, history.history['acc']"
   ]
  },
  {
   "cell_type": "code",
   "execution_count": 9,
   "metadata": {},
   "outputs": [
    {
     "name": "stdout",
     "output_type": "stream",
     "text": [
      "Downloading data from https://storage.googleapis.com/tensorflow/tf-keras-datasets/mnist.npz\n",
      "11493376/11490434 [==============================] - 0s 0us/step\n",
      "Epoch 1/10\n",
      "60000/60000 [==============================] - 10s 163us/sample - loss: 0.1995 - acc: 0.9408\n",
      "Epoch 2/10\n",
      "60000/60000 [==============================] - 10s 165us/sample - loss: 0.0794 - acc: 0.9749\n",
      "Epoch 3/10\n",
      "60000/60000 [==============================] - 9s 145us/sample - loss: 0.0502 - acc: 0.9841s - loss: 0.0501 - acc: 0.98\n",
      "Epoch 4/10\n",
      "60000/60000 [==============================] - 9s 143us/sample - loss: 0.0368 - acc: 0.9886\n",
      "Epoch 5/10\n",
      "59776/60000 [============================>.] - ETA: 0s - loss: 0.0263 - acc: 0.9914\n",
      "Reached 99% accuracy so cancelling training!\n",
      "60000/60000 [==============================] - 11s 177us/sample - loss: 0.0263 - acc: 0.9914\n"
     ]
    },
    {
     "data": {
      "text/plain": [
       "([0, 1, 2, 3, 4], [0.94083333, 0.9749, 0.9841, 0.98855, 0.9913833])"
      ]
     },
     "execution_count": 9,
     "metadata": {},
     "output_type": "execute_result"
    }
   ],
   "source": [
    "train_mnist()"
   ]
  },
  {
   "cell_type": "code",
   "execution_count": 10,
   "metadata": {},
   "outputs": [],
   "source": [
    "# Now click the 'Submit Assignment' button above.\n",
    "# Once that is complete, please run the following two cells to save your work and close the notebook"
   ]
  },
  {
   "cell_type": "code",
   "execution_count": null,
   "metadata": {},
   "outputs": [],
   "source": [
    "%%javascript\n",
    "<!-- Save the notebook -->\n",
    "IPython.notebook.save_checkpoint();"
   ]
  },
  {
   "cell_type": "code",
   "execution_count": null,
   "metadata": {},
   "outputs": [],
   "source": [
    "%%javascript\n",
    "IPython.notebook.session.delete();\n",
    "window.onbeforeunload = null\n",
    "setTimeout(function() { window.close(); }, 1000);"
   ]
  }
 ],
 "metadata": {
  "coursera": {
   "course_slug": "introduction-tensorflow",
   "graded_item_id": "d6dew",
   "launcher_item_id": "FExZ4"
  },
  "kernelspec": {
   "display_name": "Python 3",
   "language": "python",
   "name": "python3"
  }
 },
 "nbformat": 4,
 "nbformat_minor": 1
}
