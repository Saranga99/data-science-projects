{
 "cells": [
  {
   "cell_type": "code",
   "execution_count": 2,
   "metadata": {},
   "outputs": [],
   "source": [
    "import pandas as pd\n",
    "import numpy as np\n",
    "from sklearn import preprocessing \n",
    "from sklearn.model_selection import train_test_split\n",
    "\n",
    "#model and evaluation \n",
    "from xgboost import XGBRegressor\n",
    "from sklearn.metrics import mean_squared_error"
   ]
  },
  {
   "cell_type": "code",
   "execution_count": 3,
   "metadata": {},
   "outputs": [],
   "source": [
    "#prepared datasets loading \n",
    "df=pd.read_csv(\"train_folds.csv\")\n",
    "df_test=pd.read_csv(\"test.csv\")\n",
    "sample_submission = pd.read_csv(\"sample_submission.csv\")"
   ]
  },
  {
   "cell_type": "code",
   "execution_count": null,
   "metadata": {},
   "outputs": [],
   "source": [
    "for fold in range(5):\n",
    "    X_train=df[df.kfold!=fold].reset_index(drop=True)\n",
    "    X_test=df[df.kfold==fold].reset_index(drop=True)\n",
    "    X_fianl_test=df_test.copy()\n",
    "    \n",
    "    #filter object columns by name\n",
    "    y_train=X_train.target\n",
    "    y_test=X_test.target\n",
    "    \n",
    "    #filter usful columns in features\n",
    "    X_train=X_train[useful_features]\n",
    "    X_test=X_test[useful_features]\n",
    "    \n",
    "    print(\"\\nget {} fold as test and rest for training\".format(fold))\n",
    "    ordinal_encoder=OrdinalEncoder()\n",
    "    print(\"encoding...\")\n",
    "    X_train[object_columns]=ordinal_encoder.fit_transform(X_train[object_columns])\n",
    "    X_test[object_columns]=ordinal_encoder.transform(X_test[object_columns])\n",
    "    X_fianl_test[object_columns]=ordinal_encoder.transform(X_fianl_test[object_columns])\n",
    "    model=XGBRegressor(random_state=fold,n_jobs=4)\n",
    "    print(\"training...\")\n",
    "    model.fit(X_train,y_train)\n",
    "    pred=model.predict(X_test)\n",
    "    #submission prediction\n",
    "    final_predictions=model.predict(X_fianl_test)\n",
    "    final_pred.append(final_predictions)\n",
    "    print(\"MSE : \",mean_squared_error(y_test,pred,squared=False),\"fold : \",fold) "
   ]
  }
 ],
 "metadata": {
  "kernelspec": {
   "display_name": "Python 3",
   "language": "python",
   "name": "python3"
  },
  "language_info": {
   "codemirror_mode": {
    "name": "ipython",
    "version": 3
   },
   "file_extension": ".py",
   "mimetype": "text/x-python",
   "name": "python",
   "nbconvert_exporter": "python",
   "pygments_lexer": "ipython3",
   "version": "3.8.3"
  }
 },
 "nbformat": 4,
 "nbformat_minor": 4
}
