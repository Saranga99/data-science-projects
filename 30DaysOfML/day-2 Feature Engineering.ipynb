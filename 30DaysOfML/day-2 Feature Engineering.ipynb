{
 "cells": [
  {
   "cell_type": "code",
   "execution_count": 2,
   "metadata": {},
   "outputs": [],
   "source": [
    "import pandas as pd\n",
    "import numpy as np\n",
    "from sklearn import preprocessing \n",
    "from sklearn.model_selection import train_test_split\n",
    "\n",
    "#model and evaluation \n",
    "from xgboost import XGBRegressor\n",
    "from sklearn.metrics import mean_squared_error"
   ]
  },
  {
   "cell_type": "code",
   "execution_count": 3,
   "metadata": {},
   "outputs": [],
   "source": [
    "#prepared datasets loading \n",
    "df=pd.read_csv(\"train_folds.csv\")\n",
    "df_test=pd.read_csv(\"test.csv\")\n",
    "sample_submission = pd.read_csv(\"sample_submission.csv\")"
   ]
  },
  {
   "cell_type": "code",
   "execution_count": 4,
   "metadata": {},
   "outputs": [],
   "source": [
    "#filer useful features from all columns\n",
    "useful_features=[c for c in df.columns if c not in (\"id\",\"target\",\"kfold\")]\n",
    "#filter categorical features from all useful fearures\n",
    "object_columns=[col for col in useful_features if \"cat\" in col]\n",
    "df_test=df_test[useful_features]\n",
    "final_pred=[]"
   ]
  },
  {
   "cell_type": "code",
   "execution_count": 5,
   "metadata": {},
   "outputs": [
    {
     "name": "stdout",
     "output_type": "stream",
     "text": [
      "\n",
      "get 0 fold as test and rest for training\n"
     ]
    },
    {
     "ename": "NameError",
     "evalue": "name 'OrdinalEncoder' is not defined",
     "output_type": "error",
     "traceback": [
      "\u001b[1;31m---------------------------------------------------------------------------\u001b[0m",
      "\u001b[1;31mNameError\u001b[0m                                 Traceback (most recent call last)",
      "\u001b[1;32m<ipython-input-5-fb3b3db4d9ca>\u001b[0m in \u001b[0;36m<module>\u001b[1;34m\u001b[0m\n\u001b[0;32m     13\u001b[0m \u001b[1;33m\u001b[0m\u001b[0m\n\u001b[0;32m     14\u001b[0m     \u001b[0mprint\u001b[0m\u001b[1;33m(\u001b[0m\u001b[1;34m\"\\nget {} fold as test and rest for training\"\u001b[0m\u001b[1;33m.\u001b[0m\u001b[0mformat\u001b[0m\u001b[1;33m(\u001b[0m\u001b[0mfold\u001b[0m\u001b[1;33m)\u001b[0m\u001b[1;33m)\u001b[0m\u001b[1;33m\u001b[0m\u001b[1;33m\u001b[0m\u001b[0m\n\u001b[1;32m---> 15\u001b[1;33m     \u001b[0mordinal_encoder\u001b[0m\u001b[1;33m=\u001b[0m\u001b[0mOrdinalEncoder\u001b[0m\u001b[1;33m(\u001b[0m\u001b[1;33m)\u001b[0m\u001b[1;33m\u001b[0m\u001b[1;33m\u001b[0m\u001b[0m\n\u001b[0m\u001b[0;32m     16\u001b[0m     \u001b[0mprint\u001b[0m\u001b[1;33m(\u001b[0m\u001b[1;34m\"encoding...\"\u001b[0m\u001b[1;33m)\u001b[0m\u001b[1;33m\u001b[0m\u001b[1;33m\u001b[0m\u001b[0m\n\u001b[0;32m     17\u001b[0m     \u001b[0mX_train\u001b[0m\u001b[1;33m[\u001b[0m\u001b[0mobject_columns\u001b[0m\u001b[1;33m]\u001b[0m\u001b[1;33m=\u001b[0m\u001b[0mordinal_encoder\u001b[0m\u001b[1;33m.\u001b[0m\u001b[0mfit_transform\u001b[0m\u001b[1;33m(\u001b[0m\u001b[0mX_train\u001b[0m\u001b[1;33m[\u001b[0m\u001b[0mobject_columns\u001b[0m\u001b[1;33m]\u001b[0m\u001b[1;33m)\u001b[0m\u001b[1;33m\u001b[0m\u001b[1;33m\u001b[0m\u001b[0m\n",
      "\u001b[1;31mNameError\u001b[0m: name 'OrdinalEncoder' is not defined"
     ]
    }
   ],
   "source": [
    "for fold in range(5):\n",
    "    X_train=df[df.kfold!=fold].reset_index(drop=True)\n",
    "    X_test=df[df.kfold==fold].reset_index(drop=True)\n",
    "    X_fianl_test=df_test.copy()\n",
    "    \n",
    "    #filter object columns by name\n",
    "    y_train=X_train.target\n",
    "    y_test=X_test.target\n",
    "    \n",
    "    #filter usful columns in features\n",
    "    X_train=X_train[useful_features]\n",
    "    X_test=X_test[useful_features]\n",
    "    \n",
    "    print(\"\\nget {} fold as test and rest for training\".format(fold))\n",
    "    ordinal_encoder=OrdinalEncoder()\n",
    "    print(\"encoding...\")\n",
    "    X_train[object_columns]=ordinal_encoder.fit_transform(X_train[object_columns])\n",
    "    X_test[object_columns]=ordinal_encoder.transform(X_test[object_columns])\n",
    "    X_fianl_test[object_columns]=ordinal_encoder.transform(X_fianl_test[object_columns])\n",
    "    model=XGBRegressor(random_state=fold,n_jobs=4)\n",
    "    print(\"training...\")\n",
    "    model.fit(X_train,y_train)\n",
    "    pred=model.predict(X_test)\n",
    "    #submission prediction\n",
    "    final_predictions=model.predict(X_fianl_test)\n",
    "    final_pred.append(final_predictions)\n",
    "    print(\"MSE : \",mean_squared_error(y_test,pred,squared=False),\"fold : \",fold) "
   ]
  }
 ],
 "metadata": {
  "kernelspec": {
   "display_name": "Python 3",
   "language": "python",
   "name": "python3"
  },
  "language_info": {
   "codemirror_mode": {
    "name": "ipython",
    "version": 3
   },
   "file_extension": ".py",
   "mimetype": "text/x-python",
   "name": "python",
   "nbconvert_exporter": "python",
   "pygments_lexer": "ipython3",
   "version": "3.8.3"
  }
 },
 "nbformat": 4,
 "nbformat_minor": 4
}
