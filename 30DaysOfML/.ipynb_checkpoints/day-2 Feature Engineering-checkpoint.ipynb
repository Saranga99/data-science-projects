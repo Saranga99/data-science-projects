{
 "cells": [
  {
   "cell_type": "code",
   "execution_count": 10,
   "metadata": {},
   "outputs": [],
   "source": [
    "import pandas as pd\n",
    "import numpy as np\n",
    "from sklearn import preprocessing \n",
    "from sklearn.model_selection import train_test_split\n",
    "\n",
    "#model and evaluation \n",
    "from xgboost import XGBRegressor\n",
    "from sklearn.metrics import mean_squared_error"
   ]
  },
  {
   "cell_type": "code",
   "execution_count": 11,
   "metadata": {},
   "outputs": [],
   "source": [
    "#prepared datasets loading \n",
    "df=pd.read_csv(\"train_folds.csv\")\n",
    "df_test=pd.read_csv(\"test.csv\")\n",
    "sample_submission = pd.read_csv(\"sample_submission.csv\")"
   ]
  },
  {
   "cell_type": "code",
   "execution_count": 12,
   "metadata": {},
   "outputs": [],
   "source": [
    "#filer useful features from all columns\n",
    "useful_features=[c for c in df.columns if c not in (\"id\",\"target\",\"kfold\")]\n",
    "#filter categorical features from all useful fearures\n",
    "object_columns=[col for col in useful_features if \"cat\" in col]\n",
    "df_test=df_test[useful_features]\n",
    "final_pred=[]"
   ]
  },
  {
   "cell_type": "code",
   "execution_count": null,
   "metadata": {},
   "outputs": [
    {
     "name": "stdout",
     "output_type": "stream",
     "text": [
      "\n",
      "get 0 fold as test and rest for training\n",
      "encoding...\n",
      "training...\n",
      "MSE :  0.7242812912900478 fold :  0\n",
      "\n",
      "get 1 fold as test and rest for training\n",
      "encoding...\n",
      "training...\n",
      "MSE :  0.7232810321072864 fold :  1\n",
      "\n",
      "get 2 fold as test and rest for training\n",
      "encoding...\n",
      "training...\n",
      "MSE :  0.725452249623988 fold :  2\n",
      "\n",
      "get 3 fold as test and rest for training\n",
      "encoding...\n",
      "training...\n",
      "MSE :  0.725286377838993 fold :  3\n",
      "\n",
      "get 4 fold as test and rest for training\n",
      "encoding...\n",
      "training...\n"
     ]
    }
   ],
   "source": [
    "# ordinalencoder\n",
    "for fold in range(5):\n",
    "    X_train=df[df.kfold!=fold].reset_index(drop=True)\n",
    "    X_test=df[df.kfold==fold].reset_index(drop=True)\n",
    "    X_fianl_test=df_test.copy()\n",
    "    \n",
    "    #filter object columns by name\n",
    "    y_train=X_train.target\n",
    "    y_test=X_test.target\n",
    "    \n",
    "    #filter usful columns in features\n",
    "    X_train=X_train[useful_features]\n",
    "    X_test=X_test[useful_features]\n",
    "    \n",
    "    print(\"\\nget {} fold as test and rest for training\".format(fold))\n",
    "    ordinal_encoder=preprocessing.OrdinalEncoder()\n",
    "    print(\"encoding...\")\n",
    "    X_train[object_columns]=ordinal_encoder.fit_transform(X_train[object_columns])\n",
    "    X_test[object_columns]=ordinal_encoder.transform(X_test[object_columns])\n",
    "    X_fianl_test[object_columns]=ordinal_encoder.transform(X_fianl_test[object_columns])\n",
    "    model=XGBRegressor(random_state=fold,n_jobs=4)\n",
    "    print(\"training...\")\n",
    "    model.fit(X_train,y_train)\n",
    "    pred=model.predict(X_test)\n",
    "    #submission prediction\n",
    "    final_predictions=model.predict(X_fianl_test)\n",
    "    final_pred.append(final_predictions)\n",
    "    print(\"MSE : \",mean_squared_error(y_test,pred,squared=False),\"fold : \",fold) "
   ]
  },
  {
   "cell_type": "code",
   "execution_count": null,
   "metadata": {},
   "outputs": [],
   "source": [
    "# standerdizatio\n",
    "for fold in range(5):\n",
    "    X_train=df[df.kfold!=fold].reset_index(drop=True)\n",
    "    X_test=df[df.kfold==fold].reset_index(drop=True)\n",
    "    X_fianl_test=df_test.copy()\n",
    "    \n",
    "    #filter object columns by name\n",
    "    y_train=X_train.target\n",
    "    y_test=X_test.target\n",
    "    \n",
    "    #filter usful columns in features\n",
    "    X_train=X_train[useful_features]\n",
    "    X_test=X_test[useful_features]\n",
    "    \n",
    "    print(\"\\nget {} fold as test and rest for training\".format(fold))\n",
    "    ordinal_encoder=preprocessing.OrdinalEncoder()\n",
    "    print(\"encoding...\")\n",
    "    X_train[object_columns]=ordinal_encoder.fit_transform(X_train[object_columns])\n",
    "    X_test[object_columns]=ordinal_encoder.transform(X_test[object_columns])\n",
    "    X_fianl_test[object_columns]=ordinal_encoder.transform(X_fianl_test[object_columns])\n",
    "    model=XGBRegressor(random_state=fold,n_jobs=4)\n",
    "    print(\"training...\")\n",
    "    model.fit(X_train,y_train)\n",
    "    pred=model.predict(X_test)\n",
    "    #submission prediction\n",
    "    final_predictions=model.predict(X_fianl_test)\n",
    "    final_pred.append(final_predictions)\n",
    "    print(\"MSE : \",mean_squared_error(y_test,pred,squared=False),\"fold : \",fold) "
   ]
  }
 ],
 "metadata": {
  "kernelspec": {
   "display_name": "Python 3",
   "language": "python",
   "name": "python3"
  },
  "language_info": {
   "codemirror_mode": {
    "name": "ipython",
    "version": 3
   },
   "file_extension": ".py",
   "mimetype": "text/x-python",
   "name": "python",
   "nbconvert_exporter": "python",
   "pygments_lexer": "ipython3",
   "version": "3.8.3"
  }
 },
 "nbformat": 4,
 "nbformat_minor": 4
}
