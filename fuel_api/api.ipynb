{
 "cells": [
  {
   "cell_type": "code",
   "execution_count": 9,
   "metadata": {},
   "outputs": [],
   "source": [
    "import requests"
   ]
  },
  {
   "cell_type": "markdown",
   "metadata": {},
   "source": [
    "login"
   ]
  },
  {
   "cell_type": "code",
   "execution_count": 10,
   "metadata": {},
   "outputs": [],
   "source": [
    "import requests\n",
    "\n",
    "headers = {\n",
    "    'authority': 'fuelpass.gov.lk',\n",
    "    'accept': 'application/json, text/plain, */*',\n",
    "    'accept-language': 'en-US,en;q=0.9,ru;q=0.8',\n",
    "    'cache-control': 'no-cache',\n",
    "    # Already added when you pass json=\n",
    "    # 'content-type': 'application/json',\n",
    "    'origin': 'https://fuelpass.gov.lk',\n",
    "    'pragma': 'no-cache',\n",
    "    'referer': 'https://fuelpass.gov.lk/login',\n",
    "    'sec-ch-ua': '\".Not/A)Brand\";v=\"99\", \"Google Chrome\";v=\"103\", \"Chromium\";v=\"103\"',\n",
    "    'sec-ch-ua-mobile': '?0',\n",
    "    'sec-ch-ua-platform': '\"Windows\"',\n",
    "    'sec-fetch-dest': 'empty',\n",
    "    'sec-fetch-mode': 'cors',\n",
    "    'sec-fetch-site': 'same-origin',\n",
    "    'user-agent': 'Mozilla/5.0 (Windows NT 10.0; Win64; x64) AppleWebKit/537.36 (KHTML, like Gecko) Chrome/103.0.0.0 Safari/537.36',\n",
    "}\n",
    "\n",
    "json_data = {\n",
    "    'mobileNo': '0701613315',\n",
    "    'isQr': False,\n",
    "}\n",
    "\n",
    "response = requests.post('https://fuelpass.gov.lk/api/otp/login/consumer', headers=headers, json=json_data)"
   ]
  },
  {
   "cell_type": "code",
   "execution_count": 12,
   "metadata": {},
   "outputs": [
    {
     "data": {
      "text/plain": [
       "'{\"msg\":\"Please wait few minutes to resend OTP\"}'"
      ]
     },
     "execution_count": 12,
     "metadata": {},
     "output_type": "execute_result"
    }
   ],
   "source": [
    "response.text"
   ]
  }
 ],
 "metadata": {
  "kernelspec": {
   "display_name": "Python 3.9.9 ('.venv': venv)",
   "language": "python",
   "name": "python3"
  },
  "language_info": {
   "codemirror_mode": {
    "name": "ipython",
    "version": 3
   },
   "file_extension": ".py",
   "mimetype": "text/x-python",
   "name": "python",
   "nbconvert_exporter": "python",
   "pygments_lexer": "ipython3",
   "version": "3.9.9"
  },
  "orig_nbformat": 4,
  "vscode": {
   "interpreter": {
    "hash": "1a02743f7dcf6e036d3caba9d443685de78a96301e113fe2385915187547d6ce"
   }
  }
 },
 "nbformat": 4,
 "nbformat_minor": 2
}
