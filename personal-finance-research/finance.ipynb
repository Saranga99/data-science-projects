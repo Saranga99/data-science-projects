{
 "cells": [
  {
   "cell_type": "markdown",
   "metadata": {},
   "source": [
    "# EDA"
   ]
  },
  {
   "cell_type": "code",
   "execution_count": 38,
   "metadata": {},
   "outputs": [],
   "source": [
    "import numpy as np\n",
    "import pandas as pd \n",
    "import matplotlib.pyplot as plt\n",
    "import seaborn as sns\n",
    "from plotly.subplots import make_subplots\n",
    "import plotly.graph_objects as go"
   ]
  },
  {
   "cell_type": "code",
   "execution_count": 39,
   "metadata": {},
   "outputs": [],
   "source": [
    "df = pd.read_csv(\"data/personal_transactions.csv\")\n",
    "df.Date = pd.to_datetime(df.Date)"
   ]
  },
  {
   "cell_type": "code",
   "execution_count": 40,
   "metadata": {},
   "outputs": [
    {
     "data": {
      "text/html": [
       "<div>\n",
       "<style scoped>\n",
       "    .dataframe tbody tr th:only-of-type {\n",
       "        vertical-align: middle;\n",
       "    }\n",
       "\n",
       "    .dataframe tbody tr th {\n",
       "        vertical-align: top;\n",
       "    }\n",
       "\n",
       "    .dataframe thead th {\n",
       "        text-align: right;\n",
       "    }\n",
       "</style>\n",
       "<table border=\"1\" class=\"dataframe\">\n",
       "  <thead>\n",
       "    <tr style=\"text-align: right;\">\n",
       "      <th></th>\n",
       "      <th>Date</th>\n",
       "      <th>Description</th>\n",
       "      <th>Amount</th>\n",
       "      <th>Transaction Type</th>\n",
       "      <th>Category</th>\n",
       "      <th>Account Name</th>\n",
       "    </tr>\n",
       "  </thead>\n",
       "  <tbody>\n",
       "    <tr>\n",
       "      <th>0</th>\n",
       "      <td>2018-01-01</td>\n",
       "      <td>Amazon</td>\n",
       "      <td>11.11</td>\n",
       "      <td>debit</td>\n",
       "      <td>Shopping</td>\n",
       "      <td>Platinum Card</td>\n",
       "    </tr>\n",
       "    <tr>\n",
       "      <th>1</th>\n",
       "      <td>2018-01-02</td>\n",
       "      <td>Mortgage Payment</td>\n",
       "      <td>1247.44</td>\n",
       "      <td>debit</td>\n",
       "      <td>Mortgage &amp; Rent</td>\n",
       "      <td>Checking</td>\n",
       "    </tr>\n",
       "    <tr>\n",
       "      <th>2</th>\n",
       "      <td>2018-01-02</td>\n",
       "      <td>Thai Restaurant</td>\n",
       "      <td>24.22</td>\n",
       "      <td>debit</td>\n",
       "      <td>Restaurants</td>\n",
       "      <td>Silver Card</td>\n",
       "    </tr>\n",
       "    <tr>\n",
       "      <th>3</th>\n",
       "      <td>2018-01-03</td>\n",
       "      <td>Credit Card Payment</td>\n",
       "      <td>2298.09</td>\n",
       "      <td>credit</td>\n",
       "      <td>Credit Card Payment</td>\n",
       "      <td>Platinum Card</td>\n",
       "    </tr>\n",
       "    <tr>\n",
       "      <th>4</th>\n",
       "      <td>2018-01-04</td>\n",
       "      <td>Netflix</td>\n",
       "      <td>11.76</td>\n",
       "      <td>debit</td>\n",
       "      <td>Movies &amp; DVDs</td>\n",
       "      <td>Platinum Card</td>\n",
       "    </tr>\n",
       "  </tbody>\n",
       "</table>\n",
       "</div>"
      ],
      "text/plain": [
       "        Date          Description   Amount Transaction Type  \\\n",
       "0 2018-01-01               Amazon    11.11            debit   \n",
       "1 2018-01-02     Mortgage Payment  1247.44            debit   \n",
       "2 2018-01-02      Thai Restaurant    24.22            debit   \n",
       "3 2018-01-03  Credit Card Payment  2298.09           credit   \n",
       "4 2018-01-04              Netflix    11.76            debit   \n",
       "\n",
       "              Category   Account Name  \n",
       "0             Shopping  Platinum Card  \n",
       "1      Mortgage & Rent       Checking  \n",
       "2          Restaurants    Silver Card  \n",
       "3  Credit Card Payment  Platinum Card  \n",
       "4        Movies & DVDs  Platinum Card  "
      ]
     },
     "execution_count": 40,
     "metadata": {},
     "output_type": "execute_result"
    }
   ],
   "source": [
    "df.head()"
   ]
  },
  {
   "cell_type": "code",
   "execution_count": 59,
   "metadata": {},
   "outputs": [
    {
     "data": {
      "text/plain": [
       "(806, 6)"
      ]
     },
     "execution_count": 59,
     "metadata": {},
     "output_type": "execute_result"
    }
   ],
   "source": [
    "df.shape"
   ]
  },
  {
   "cell_type": "code",
   "execution_count": 41,
   "metadata": {},
   "outputs": [
    {
     "name": "stdout",
     "output_type": "stream",
     "text": [
      "<class 'pandas.core.frame.DataFrame'>\n",
      "RangeIndex: 806 entries, 0 to 805\n",
      "Data columns (total 6 columns):\n",
      " #   Column            Non-Null Count  Dtype         \n",
      "---  ------            --------------  -----         \n",
      " 0   Date              806 non-null    datetime64[ns]\n",
      " 1   Description       806 non-null    object        \n",
      " 2   Amount            806 non-null    float64       \n",
      " 3   Transaction Type  806 non-null    object        \n",
      " 4   Category          806 non-null    object        \n",
      " 5   Account Name      806 non-null    object        \n",
      "dtypes: datetime64[ns](1), float64(1), object(4)\n",
      "memory usage: 37.9+ KB\n"
     ]
    }
   ],
   "source": [
    "df.info()"
   ]
  },
  {
   "cell_type": "code",
   "execution_count": 42,
   "metadata": {},
   "outputs": [],
   "source": [
    "debits = df[df[\"Transaction Type\"] == 'debit']"
   ]
  },
  {
   "cell_type": "code",
   "execution_count": 43,
   "metadata": {},
   "outputs": [],
   "source": [
    "def count_sum(data ,column: str, plot = \"Pie\"):\n",
    "    by_column = data\\\n",
    "                .groupby(column)\\\n",
    "                .agg({\"Transaction Type\": \"count\", \"Amount\": \"sum\"})\\\n",
    "                .rename(columns={\"Transaction Type\": \"Total\"})\\\n",
    "                .reset_index()\n",
    "    by_column.columns = [column, \"Total\", \"Sum\"]\n",
    "    \n",
    "    labels = by_column[column]\n",
    "\n",
    "    fig = None\n",
    "    \n",
    "    if plot == 'Pie':\n",
    "        fig = make_subplots(1, 2, specs=[[{'type':'domain'}, {'type':'domain'}]],\n",
    "                    subplot_titles=['Sum', 'Total'])\n",
    "        fig.add_trace(\n",
    "            go.Pie(\n",
    "                labels=labels,\n",
    "                values=by_column[\"Sum\"],\n",
    "                name=\"Sum\"\n",
    "            ),\n",
    "        1, 1)\n",
    "        fig.add_trace(\n",
    "            go.Pie(\n",
    "                labels=labels,\n",
    "                values=by_column[\"Total\"],\n",
    "                name=\"Total\"\n",
    "            ),\n",
    "        1, 2)\n",
    "    elif plot == 'Scatter':\n",
    "        fig = make_subplots(1, 2,\n",
    "                    subplot_titles=['Sum', 'Total'])\n",
    "        fig.add_trace(\n",
    "            go.Scatter(\n",
    "                x=labels,\n",
    "                y=by_column[\"Sum\"],\n",
    "                name=\"Sum\"\n",
    "            ),\n",
    "        1, 1)\n",
    "        fig.add_trace(\n",
    "            go.Scatter(\n",
    "                x=labels,\n",
    "                y=by_column[\"Total\"],\n",
    "                name=\"Total\"\n",
    "            ),\n",
    "        1, 2)\n",
    "        \n",
    "\n",
    "    fig.update_layout(title_text=f\"{column} Analysis\")\n",
    "    fig.show()\n",
    "    \n",
    "    return by_column"
   ]
  },
  {
   "cell_type": "code",
   "execution_count": 44,
   "metadata": {},
   "outputs": [],
   "source": [
    "# gastos_by_cat = count_sum(debits, \"Category\")\n",
    "# gastos_by_cat"
   ]
  },
  {
   "cell_type": "code",
   "execution_count": 56,
   "metadata": {},
   "outputs": [
    {
     "data": {
      "text/plain": [
       "Credit Card Payment    143\n",
       "Grocery Store          103\n",
       "Amazon                  59\n",
       "Biweekly Paycheck       46\n",
       "Hardware Store          34\n",
       "                      ... \n",
       "Irish Pub                1\n",
       "Tiny Deli                1\n",
       "Chevron                  1\n",
       "Japanese Restaurant      1\n",
       "Sheetz                   1\n",
       "Name: Description, Length: 65, dtype: int64"
      ]
     },
     "execution_count": 56,
     "metadata": {},
     "output_type": "execute_result"
    }
   ],
   "source": [
    "df[\"Description\"].value_counts()"
   ]
  }
 ],
 "metadata": {
  "interpreter": {
   "hash": "bda6d6d6a729f0136430c55579908c00092568cb78727f59f8d70bfa4b3498cd"
  },
  "kernelspec": {
   "display_name": "Python 3.9.9 ('.venv': venv)",
   "language": "python",
   "name": "python3"
  },
  "language_info": {
   "codemirror_mode": {
    "name": "ipython",
    "version": 3
   },
   "file_extension": ".py",
   "mimetype": "text/x-python",
   "name": "python",
   "nbconvert_exporter": "python",
   "pygments_lexer": "ipython3",
   "version": "3.9.9"
  },
  "orig_nbformat": 4
 },
 "nbformat": 4,
 "nbformat_minor": 2
}
