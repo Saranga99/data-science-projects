{
 "cells": [
  {
   "cell_type": "code",
   "execution_count": 38,
   "metadata": {},
   "outputs": [
    {
     "name": "stdout",
     "output_type": "stream",
     "text": [
      "Requirement already satisfied: opencv-python in c:\\users\\saranga\\anaconda3\\lib\\site-packages (4.5.3.56)\n",
      "Requirement already satisfied: numpy>=1.17.3 in c:\\users\\saranga\\anaconda3\\lib\\site-packages (from opencv-python) (1.18.5)\n"
     ]
    }
   ],
   "source": [
    "!pip install opencv-python"
   ]
  },
  {
   "cell_type": "code",
   "execution_count": 39,
   "metadata": {},
   "outputs": [],
   "source": [
    "import cv2\n",
    "import matplotlib.pyplot as plt"
   ]
  },
  {
   "cell_type": "code",
   "execution_count": 40,
   "metadata": {},
   "outputs": [],
   "source": [
    "img=cv2.imread(\"img02.jpg\")"
   ]
  },
  {
   "cell_type": "code",
   "execution_count": 41,
   "metadata": {},
   "outputs": [
    {
     "data": {
      "text/plain": [
       "(275, 183, 3)"
      ]
     },
     "execution_count": 41,
     "metadata": {},
     "output_type": "execute_result"
    }
   ],
   "source": [
    "#dimantions, and colour (rows,columns,RGB) (height,width,color)\n",
    "img.shape"
   ]
  },
  {
   "cell_type": "code",
   "execution_count": 42,
   "metadata": {},
   "outputs": [
    {
     "data": {
      "text/plain": [
       "array([[102,  99,  91],\n",
       "       [102,  99,  91],\n",
       "       [101,  98,  90],\n",
       "       [101,  98,  90],\n",
       "       [100,  97,  89],\n",
       "       [100,  97,  89],\n",
       "       [ 99,  96,  88],\n",
       "       [ 99,  96,  88],\n",
       "       [ 98,  95,  87],\n",
       "       [ 98,  95,  87],\n",
       "       [ 98,  95,  87],\n",
       "       [ 98,  95,  87],\n",
       "       [ 98,  95,  87],\n",
       "       [ 98,  95,  87],\n",
       "       [ 98,  95,  87],\n",
       "       [ 98,  95,  87],\n",
       "       [ 99,  96,  88],\n",
       "       [ 99,  96,  88],\n",
       "       [ 99,  96,  88],\n",
       "       [ 99,  96,  88],\n",
       "       [ 99,  96,  88],\n",
       "       [ 99,  96,  88],\n",
       "       [ 99,  96,  88],\n",
       "       [ 99,  96,  88],\n",
       "       [ 91,  88,  80],\n",
       "       [ 94,  91,  83],\n",
       "       [ 98,  95,  87],\n",
       "       [101,  98,  90],\n",
       "       [102,  99,  91],\n",
       "       [ 99,  96,  88],\n",
       "       [ 96,  93,  85],\n",
       "       [ 93,  90,  82],\n",
       "       [ 80,  76,  71],\n",
       "       [ 82,  78,  73],\n",
       "       [ 86,  83,  75],\n",
       "       [ 91,  88,  80],\n",
       "       [ 95,  92,  84],\n",
       "       [ 98,  95,  87],\n",
       "       [ 99,  97,  87],\n",
       "       [100,  98,  88],\n",
       "       [103, 101,  90],\n",
       "       [102, 100,  89],\n",
       "       [102, 101,  87],\n",
       "       [101, 100,  86],\n",
       "       [100,  99,  85],\n",
       "       [ 99,  98,  84],\n",
       "       [ 98,  97,  83],\n",
       "       [ 98,  97,  83],\n",
       "       [ 96,  95,  81],\n",
       "       [ 97,  96,  82],\n",
       "       [ 99,  99,  83],\n",
       "       [100, 100,  84],\n",
       "       [102, 102,  86],\n",
       "       [104, 104,  88],\n",
       "       [105, 105,  87],\n",
       "       [106, 106,  88],\n",
       "       [116, 116,  98],\n",
       "       [115, 115,  97],\n",
       "       [114, 115,  95],\n",
       "       [113, 114,  94],\n",
       "       [112, 113,  93],\n",
       "       [110, 111,  91],\n",
       "       [109, 111,  89],\n",
       "       [109, 111,  89],\n",
       "       [113, 110,  89],\n",
       "       [114, 111,  90],\n",
       "       [115, 111,  92],\n",
       "       [116, 112,  93],\n",
       "       [118, 114,  95],\n",
       "       [119, 115,  96],\n",
       "       [120, 116,  98],\n",
       "       [120, 116,  98],\n",
       "       [113, 108,  93],\n",
       "       [113, 108,  93],\n",
       "       [112, 106,  93],\n",
       "       [111, 105,  92],\n",
       "       [110, 104,  91],\n",
       "       [110, 104,  91],\n",
       "       [109, 103,  90],\n",
       "       [109, 103,  90],\n",
       "       [109, 102,  93],\n",
       "       [108, 101,  92],\n",
       "       [109, 102,  93],\n",
       "       [115, 108,  99],\n",
       "       [122, 115, 106],\n",
       "       [127, 120, 111],\n",
       "       [126, 119, 110],\n",
       "       [123, 116, 107],\n",
       "       [123, 116, 107],\n",
       "       [121, 114, 105],\n",
       "       [117, 110, 101],\n",
       "       [114, 107,  98],\n",
       "       [113, 106,  97],\n",
       "       [114, 107,  98],\n",
       "       [116, 109, 100],\n",
       "       [116, 112, 101],\n",
       "       [112, 109,  95],\n",
       "       [110, 110,  94],\n",
       "       [111, 111,  95],\n",
       "       [111, 111,  95],\n",
       "       [112, 111,  97],\n",
       "       [113, 112,  98],\n",
       "       [114, 113,  99],\n",
       "       [114, 113,  99],\n",
       "       [104, 102,  91],\n",
       "       [106, 104,  93],\n",
       "       [109, 107,  96],\n",
       "       [111, 109,  98],\n",
       "       [111, 109,  99],\n",
       "       [109, 107,  97],\n",
       "       [106, 104,  94],\n",
       "       [103, 102,  92],\n",
       "       [100, 102,  90],\n",
       "       [ 98, 102,  90],\n",
       "       [ 99, 103,  91],\n",
       "       [100, 104,  92],\n",
       "       [101, 105,  93],\n",
       "       [101, 105,  93],\n",
       "       [102, 106,  94],\n",
       "       [103, 107,  95],\n",
       "       [104, 108,  96],\n",
       "       [103, 107,  95],\n",
       "       [102, 106,  94],\n",
       "       [ 99, 103,  91],\n",
       "       [ 93,  97,  85],\n",
       "       [ 85,  89,  77],\n",
       "       [ 78,  82,  70],\n",
       "       [ 74,  78,  66],\n",
       "       [ 67,  72,  63],\n",
       "       [ 66,  71,  62],\n",
       "       [ 69,  72,  63],\n",
       "       [ 74,  77,  68],\n",
       "       [ 83,  87,  76],\n",
       "       [ 96, 100,  89],\n",
       "       [110, 112, 100],\n",
       "       [118, 120, 108],\n",
       "       [112, 112, 100],\n",
       "       [111, 111,  99],\n",
       "       [112, 111,  97],\n",
       "       [112, 111,  97],\n",
       "       [111, 111,  95],\n",
       "       [111, 111,  95],\n",
       "       [112, 109,  94],\n",
       "       [112, 109,  94],\n",
       "       [112, 106,  95],\n",
       "       [111, 105,  94],\n",
       "       [110, 104,  93],\n",
       "       [110, 104,  93],\n",
       "       [109, 103,  92],\n",
       "       [108, 102,  91],\n",
       "       [107, 101,  90],\n",
       "       [107, 101,  90],\n",
       "       [107, 101,  90],\n",
       "       [107, 101,  90],\n",
       "       [107, 101,  90],\n",
       "       [108, 102,  91],\n",
       "       [108, 102,  91],\n",
       "       [109, 103,  92],\n",
       "       [109, 103,  92],\n",
       "       [109, 103,  92],\n",
       "       [109, 103,  90],\n",
       "       [109, 103,  90],\n",
       "       [109, 103,  92],\n",
       "       [108, 102,  91],\n",
       "       [108, 102,  91],\n",
       "       [107, 101,  90],\n",
       "       [107, 100,  91],\n",
       "       [107, 100,  91],\n",
       "       [110, 102,  95],\n",
       "       [110, 102,  95],\n",
       "       [109, 100,  96],\n",
       "       [106,  97,  93],\n",
       "       [101,  92,  88],\n",
       "       [ 94,  85,  81],\n",
       "       [ 87,  78,  75],\n",
       "       [ 83,  74,  70],\n",
       "       [ 86,  77,  73],\n",
       "       [ 89,  81,  74],\n",
       "       [ 93,  85,  78],\n",
       "       [ 98,  90,  83],\n",
       "       [100,  92,  85],\n",
       "       [100,  92,  85],\n",
       "       [ 99,  91,  84]], dtype=uint8)"
      ]
     },
     "execution_count": 42,
     "metadata": {},
     "output_type": "execute_result"
    }
   ],
   "source": [
    "#1st row\n",
    "img[0]"
   ]
  },
  {
   "cell_type": "code",
   "execution_count": 43,
   "metadata": {},
   "outputs": [
    {
     "data": {
      "text/plain": [
       "183"
      ]
     },
     "execution_count": 43,
     "metadata": {},
     "output_type": "execute_result"
    }
   ],
   "source": [
    "#there are 1030 pixels in row\n",
    "len(img[0])"
   ]
  },
  {
   "cell_type": "code",
   "execution_count": 44,
   "metadata": {},
   "outputs": [
    {
     "data": {
      "text/plain": [
       "array([102,  99,  91], dtype=uint8)"
      ]
     },
     "execution_count": 44,
     "metadata": {},
     "output_type": "execute_result"
    }
   ],
   "source": [
    "#1st row , 1st pixel [R,G,B]\n",
    "img[0][0]"
   ]
  },
  {
   "cell_type": "code",
   "execution_count": 45,
   "metadata": {},
   "outputs": [
    {
     "data": {
      "text/plain": [
       "array([[[102,  99,  91],\n",
       "        [102,  99,  91],\n",
       "        [101,  98,  90],\n",
       "        ...,\n",
       "        [100,  92,  85],\n",
       "        [100,  92,  85],\n",
       "        [ 99,  91,  84]],\n",
       "\n",
       "       [[102,  99,  91],\n",
       "        [102,  99,  91],\n",
       "        [101,  98,  90],\n",
       "        ...,\n",
       "        [101,  93,  86],\n",
       "        [101,  93,  86],\n",
       "        [100,  92,  85]],\n",
       "\n",
       "       [[102,  99,  91],\n",
       "        [102,  99,  91],\n",
       "        [101,  98,  90],\n",
       "        ...,\n",
       "        [101,  93,  86],\n",
       "        [102,  94,  87],\n",
       "        [100,  92,  85]],\n",
       "\n",
       "       ...,\n",
       "\n",
       "       [[173, 167, 156],\n",
       "        [174, 168, 157],\n",
       "        [174, 168, 157],\n",
       "        ...,\n",
       "        [102,  97,  96],\n",
       "        [105, 100,  99],\n",
       "        [108, 103, 102]],\n",
       "\n",
       "       [[173, 167, 156],\n",
       "        [174, 168, 157],\n",
       "        [174, 168, 157],\n",
       "        ...,\n",
       "        [102,  97,  96],\n",
       "        [105, 100,  99],\n",
       "        [108, 103, 102]],\n",
       "\n",
       "       [[173, 167, 156],\n",
       "        [174, 168, 157],\n",
       "        [174, 168, 157],\n",
       "        ...,\n",
       "        [102,  97,  96],\n",
       "        [105, 100,  99],\n",
       "        [108, 103, 102]]], dtype=uint8)"
      ]
     },
     "execution_count": 45,
     "metadata": {},
     "output_type": "execute_result"
    }
   ],
   "source": [
    "img"
   ]
  },
  {
   "cell_type": "code",
   "execution_count": 46,
   "metadata": {
    "scrolled": true
   },
   "outputs": [
    {
     "data": {
      "text/plain": [
       "<matplotlib.image.AxesImage at 0x24029eb7fa0>"
      ]
     },
     "execution_count": 46,
     "metadata": {},
     "output_type": "execute_result"
    },
    {
     "data": {
      "image/png": "[encoded data removed]",
      "text/plain": [
       "<Figure size 432x288 with 1 Axes>"
      ]
     },
     "metadata": {
      "needs_background": "light"
     },
     "output_type": "display_data"
    }
   ],
   "source": [
    "#this will lost rgb colur \n",
    "plt.imshow(img)"
   ]
  },
  {
   "cell_type": "code",
   "execution_count": 47,
   "metadata": {},
   "outputs": [],
   "source": [
    "#show image in a new window\n",
    "while True:\n",
    "    cv2.imshow(\"result\",img)\n",
    "    #27 is ASCII of ESC key\n",
    "    if cv2.waitKey(2)==27:\n",
    "        break\n",
    "cv2.destroyAllWindows()"
   ]
  },
  {
   "cell_type": "code",
   "execution_count": 56,
   "metadata": {},
   "outputs": [],
   "source": [
    "#loading haar cascade file\n",
    "haar_data=cv2.CascadeClassifier(\"face.xml\")"
   ]
  },
  {
   "cell_type": "code",
   "execution_count": 55,
   "metadata": {},
   "outputs": [
    {
     "data": {
      "text/plain": [
       "array([[37, 56, 96, 96]], dtype=int32)"
      ]
     },
     "execution_count": 55,
     "metadata": {},
     "output_type": "execute_result"
    }
   ],
   "source": [
    "haar_data.detectMultiScale(img)\n",
    "#return array of faces [[x,y,height,width]]"
   ]
  },
  {
   "cell_type": "code",
   "execution_count": null,
   "metadata": {},
   "outputs": [],
   "source": [
    "# cv2.rectangle(img,(x,y),(w,h),(b,g,r),(border_thickness))"
   ]
  },
  {
   "cell_type": "code",
   "execution_count": null,
   "metadata": {},
   "outputs": [],
   "source": [
    "#show image in a new window\n",
    "while True:\n",
    "    faces=haar_data.detectMultiScale(img)\n",
    "    for x,y,w,h in faces:\n",
    "        cv2.rectangle(img,(x,y),(x+w,y+h),(255,0,255),4)\n",
    "    cv2.imshow(\"result\",img)\n",
    "    #27 is ASCII of ESC key\n",
    "    if cv2.waitKey(2)==27:\n",
    "        break\n",
    "cv2.destroyAllWindows()"
   ]
  },
  {
   "cell_type": "code",
   "execution_count": null,
   "metadata": {},
   "outputs": [],
   "source": []
  }
 ],
 "metadata": {
  "kernelspec": {
   "display_name": "Python 3",
   "language": "python",
   "name": "python3"
  },
  "language_info": {
   "codemirror_mode": {
    "name": "ipython",
    "version": 3
   },
   "file_extension": ".py",
   "mimetype": "text/x-python",
   "name": "python",
   "nbconvert_exporter": "python",
   "pygments_lexer": "ipython3",
   "version": "3.8.3"
  }
 },
 "nbformat": 4,
 "nbformat_minor": 4
}
