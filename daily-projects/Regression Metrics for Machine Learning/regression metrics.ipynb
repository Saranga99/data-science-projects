{
 "cells": [
  {
   "cell_type": "markdown",
   "metadata": {},
   "source": [
    "# Metrics for Regression\n",
    "Regression refers to predictive modeling problems that involve predicting a numeric value. It is different from classification that involves predicting a class label. Unlike classification, you cannot use classification accuracy to evaluate the predictions made by a regression model. Instead, you must use error metrics specifically designed for evaluating predictions made on regression problems."
   ]
  },
  {
   "cell_type": "markdown",
   "metadata": {},
   "source": [
    "\n",
    "There are three error metrics that are commonly used for evaluating and reporting the performance of a regression model; they are:\n",
    "\n",
    "1. Mean Squared Error (MSE).\n",
    "2. Root Mean Squared Error (RMSE).\n",
    "3. Mean Absolute Error (MAE)"
   ]
  },
  {
   "cell_type": "markdown",
   "metadata": {},
   "source": [
    "### Mean Squared Error (MSE)."
   ]
  },
  {
   "cell_type": "markdown",
   "metadata": {},
   "source": [
    " The MSE is calculated as the mean or average of the squared differences between predicted and expected target values in a dataset."
   ]
  },
  {
   "cell_type": "markdown",
   "metadata": {},
   "source": [
    "* MSE = 1 / N * sum for i to N (y_i – yhat_i)^2\n",
    "\n",
    "Where y_i is the i’th expected value in the dataset and yhat_i is the i’th predicted value. The difference between these two values is squared, which has the effect of removing the sign, resulting in a positive error value."
   ]
  },
  {
   "cell_type": "markdown",
   "metadata": {},
   "source": [
    "\n",
    "#### err = (expected[i] - predicted[i])**2"
   ]
  },
  {
   "cell_type": "code",
   "execution_count": 45,
   "metadata": {},
   "outputs": [
    {
     "name": "stdout",
     "output_type": "stream",
     "text": [
      ">1.0, 1.0 = 0.000\n",
      ">1.0, 0.9 = 0.010\n",
      ">1.0, 0.8 = 0.040\n",
      ">1.0, 0.7 = 0.090\n",
      ">1.0, 0.6 = 0.160\n",
      ">1.0, 0.5 = 0.250\n",
      ">1.0, 0.4 = 0.360\n",
      ">1.0, 0.3 = 0.490\n",
      ">1.0, 0.2 = 0.640\n",
      ">1.0, 0.1 = 0.810\n",
      ">1.0, 0.0 = 1.000\n"
     ]
    },
    {
     "data": {
      "image/png": "[encoded data removed]",
      "text/plain": [
       "<Figure size 432x288 with 1 Axes>"
      ]
     },
     "metadata": {
      "needs_background": "light"
     },
     "output_type": "display_data"
    }
   ],
   "source": [
    "# example of increase in mean squared error\n",
    "from matplotlib import pyplot\n",
    "from sklearn.metrics import mean_squared_error\n",
    "import numpy as np\n",
    "# real value\n",
    "expected = [1.0, 1.0, 1.0, 1.0, 1.0, 1.0, 1.0, 1.0, 1.0, 1.0, 1.0]\n",
    "# predicted value\n",
    "predicted = [1.0, 0.9, 0.8, 0.7, 0.6, 0.5, 0.4, 0.3, 0.2, 0.1, 0.0]\n",
    "# calculate errors\n",
    "errors = list()\n",
    "for i in range(len(expected)):\n",
    "    # calculate error\n",
    "    err = (expected[i] - predicted[i])**2\n",
    "    # store error\n",
    "    errors.append(err)\n",
    "    # report error\n",
    "    print('>%.1f, %.1f = %.3f' % (expected[i], predicted[i], err))\n",
    "    \n",
    "# plot errors\n",
    "pyplot.plot(errors)\n",
    "pyplot.xticks(ticks=[i for i in range(len(errors))], labels=predicted)\n",
    "pyplot.xlabel('Predicted Value')\n",
    "pyplot.ylabel('Mean Squared Error')\n",
    "pyplot.show()"
   ]
  },
  {
   "cell_type": "code",
   "execution_count": 46,
   "metadata": {},
   "outputs": [
    {
     "name": "stdout",
     "output_type": "stream",
     "text": [
      "MSE :  0.35000000000000003\n"
     ]
    }
   ],
   "source": [
    "# output mean squared error\n",
    "print(\"MSE : \",sum(errors)/len(errors))"
   ]
  },
  {
   "cell_type": "code",
   "execution_count": 47,
   "metadata": {},
   "outputs": [
    {
     "name": "stdout",
     "output_type": "stream",
     "text": [
      "MSE :  0.35000000000000003\n"
     ]
    }
   ],
   "source": [
    "#from import ing from sklearn library\n",
    "# example of calculate the mean squared error\n",
    "from sklearn.metrics import mean_squared_error\n",
    "# real value\n",
    "expected = [1.0, 1.0, 1.0, 1.0, 1.0, 1.0, 1.0, 1.0, 1.0, 1.0, 1.0]\n",
    "# predicted value\n",
    "predicted = [1.0, 0.9, 0.8, 0.7, 0.6, 0.5, 0.4, 0.3, 0.2, 0.1, 0.0]\n",
    "# calculate errors\n",
    "errors = mean_squared_error(expected, predicted)\n",
    "# report error\n",
    "print(\"MSE : \",errors)"
   ]
  },
  {
   "cell_type": "markdown",
   "metadata": {},
   "source": [
    "the perfect error value is 0.0 which means all predictions exactly same with expected values"
   ]
  },
  {
   "cell_type": "markdown",
   "metadata": {},
   "source": [
    "### Root Mean Squared Error (RMSE). "
   ]
  },
  {
   "cell_type": "markdown",
   "metadata": {},
   "source": [
    "The Root Mean Squared Error, or RMSE, is an extension of the mean squared error.\n",
    "\n",
    "Importantly, the square root of the error is calculated, which means that the units of the RMSE are the same as the original units of the target value that is being predicted."
   ]
  },
  {
   "cell_type": "markdown",
   "metadata": {},
   "source": [
    "* RMSE = sqrt(1 / N * sum for i to N (y_i – yhat_i)^2)\n",
    "\n",
    "Where y_i is the i’th expected value in the dataset, yhat_i is the i’th predicted value, and sqrt() is the square root function.\n",
    "\n",
    "We can restate the RMSE in terms of the MSE as:\n",
    "\n",
    "* RMSE = sqrt(MSE)"
   ]
  },
  {
   "cell_type": "code",
   "execution_count": 48,
   "metadata": {},
   "outputs": [
    {
     "name": "stdout",
     "output_type": "stream",
     "text": [
      "RMSE :  0.5916079783099616\n"
     ]
    }
   ],
   "source": [
    "rmse = np.sqrt(mean_squared_error(expected, predicted))\n",
    "print(\"RMSE : \",rmse)"
   ]
  },
  {
   "cell_type": "code",
   "execution_count": 49,
   "metadata": {},
   "outputs": [
    {
     "name": "stdout",
     "output_type": "stream",
     "text": [
      "RMSE :  0.5916079783099616\n"
     ]
    }
   ],
   "source": [
    "# example of calculate the root mean squared error\n",
    "from sklearn.metrics import mean_squared_error\n",
    "# real value\n",
    "expected = [1.0, 1.0, 1.0, 1.0, 1.0, 1.0, 1.0, 1.0, 1.0, 1.0, 1.0]\n",
    "# predicted value\n",
    "predicted = [1.0, 0.9, 0.8, 0.7, 0.6, 0.5, 0.4, 0.3, 0.2, 0.1, 0.0]\n",
    "# calculate errors, squared False when we want calculate RMSE\n",
    "errors = mean_squared_error(expected, predicted, squared=False)\n",
    "# report error\n",
    "print(\"RMSE : \",errors)"
   ]
  },
  {
   "cell_type": "code",
   "execution_count": null,
   "metadata": {},
   "outputs": [],
   "source": []
  }
 ],
 "metadata": {
  "kernelspec": {
   "display_name": "Python 3",
   "language": "python",
   "name": "python3"
  },
  "language_info": {
   "codemirror_mode": {
    "name": "ipython",
    "version": 3
   },
   "file_extension": ".py",
   "mimetype": "text/x-python",
   "name": "python",
   "nbconvert_exporter": "python",
   "pygments_lexer": "ipython3",
   "version": "3.8.3"
  }
 },
 "nbformat": 4,
 "nbformat_minor": 4
}
