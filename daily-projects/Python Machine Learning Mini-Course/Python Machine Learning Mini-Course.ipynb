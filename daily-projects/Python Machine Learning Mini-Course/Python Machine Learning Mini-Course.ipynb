{
 "cells": [
  {
   "cell_type": "markdown",
   "metadata": {},
   "source": [
    "Below are 14 lessons that will get you started and productive with machine learning in Python:\n",
    "\n",
    "    Lesson 1: Download and Install Python and SciPy ecosystem.\n",
    "    Lesson 2: Get Around In Python, NumPy, Matplotlib and Pandas.\n",
    "    Lesson 3: Load Data From CSV.\n",
    "    Lesson 4: Understand Data with Descriptive Statistics.\n",
    "    Lesson 5: Understand Data with Visualization.\n",
    "    Lesson 6: Prepare For Modeling by Pre-Processing Data.\n",
    "    Lesson 7: Algorithm Evaluation With Resampling Methods.\n",
    "    Lesson 8: Algorithm Evaluation Metrics.\n",
    "    Lesson 9: Spot-Check Algorithms.\n",
    "    Lesson 10: Model Comparison and Selection.\n",
    "    Lesson 11: Improve Accuracy with Algorithm Tuning.\n",
    "    Lesson 12: Improve Accuracy with Ensemble Predictions.\n",
    "    Lesson 13: Finalize And Save Your Model.\n",
    "    Lesson 14: Hello World End-to-End Project. "
   ]
  },
  {
   "cell_type": "code",
   "execution_count": null,
   "metadata": {},
   "outputs": [],
   "source": []
  }
 ],
 "metadata": {
  "kernelspec": {
   "display_name": "Python 3",
   "language": "python",
   "name": "python3"
  },
  "language_info": {
   "codemirror_mode": {
    "name": "ipython",
    "version": 3
   },
   "file_extension": ".py",
   "mimetype": "text/x-python",
   "name": "python",
   "nbconvert_exporter": "python",
   "pygments_lexer": "ipython3",
   "version": "3.8.3"
  }
 },
 "nbformat": 4,
 "nbformat_minor": 4
}
