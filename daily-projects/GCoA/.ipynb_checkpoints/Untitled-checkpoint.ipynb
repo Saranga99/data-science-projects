{
 "cells": [
  {
   "cell_type": "code",
   "execution_count": 57,
   "id": "27abd961",
   "metadata": {},
   "outputs": [],
   "source": [
    "import pandas as pd\n",
    "import numpy as np\n",
    "import re #usful for searching words in pharagraph\n",
    "from nltk.corpus import stopwords  #words doesn't add much value to phara (rticals)\n",
    "from nltk.stem.porter import PorterStemmer #gives a root word\n",
    "from sklearn.feature_extraction.text import CountVectorizer, TfidfVectorizer, HashingVectorizer #convert text in to feature vectors\n",
    "from sklearn.model_selection import train_test_split \n",
    "from sklearn.linear_model import LogisticRegression\n",
    "from sklearn.naive_bayes import MultinomialNB\n",
    "from sklearn.metrics import accuracy_score\n",
    "from sklearn.metrics import confusion_matrix"
   ]
  },
  {
   "cell_type": "code",
   "execution_count": 58,
   "id": "3d92df9b",
   "metadata": {},
   "outputs": [],
   "source": [
    "df=pd.read_excel('dataset1.xlsx')"
   ]
  },
  {
   "cell_type": "code",
   "execution_count": 59,
   "id": "bf25384b",
   "metadata": {
    "scrolled": true
   },
   "outputs": [
    {
     "data": {
      "text/html": [
       "<div>\n",
       "<style scoped>\n",
       "    .dataframe tbody tr th:only-of-type {\n",
       "        vertical-align: middle;\n",
       "    }\n",
       "\n",
       "    .dataframe tbody tr th {\n",
       "        vertical-align: top;\n",
       "    }\n",
       "\n",
       "    .dataframe thead th {\n",
       "        text-align: right;\n",
       "    }\n",
       "</style>\n",
       "<table border=\"1\" class=\"dataframe\">\n",
       "  <thead>\n",
       "    <tr style=\"text-align: right;\">\n",
       "      <th></th>\n",
       "      <th>dc_indicator</th>\n",
       "      <th>gl</th>\n",
       "      <th>vendor</th>\n",
       "      <th>item_text</th>\n",
       "      <th>gl_acc_name</th>\n",
       "      <th>gl_acc_description</th>\n",
       "      <th>document_reference</th>\n",
       "      <th>label</th>\n",
       "    </tr>\n",
       "  </thead>\n",
       "  <tbody>\n",
       "    <tr>\n",
       "      <th>0</th>\n",
       "      <td>H</td>\n",
       "      <td>61004060</td>\n",
       "      <td></td>\n",
       "      <td>Export AF -  Correction for AI-DN-20210615</td>\n",
       "      <td>Freight inwards charges - Air</td>\n",
       "      <td>This account is used to record the freight cha...</td>\n",
       "      <td>AF PAYMENT</td>\n",
       "      <td>0</td>\n",
       "    </tr>\n",
       "    <tr>\n",
       "      <th>1</th>\n",
       "      <td>H</td>\n",
       "      <td>61004060</td>\n",
       "      <td></td>\n",
       "      <td>Credit Note</td>\n",
       "      <td>Freight inwards charges - Air</td>\n",
       "      <td>This account is used to record the freight cha...</td>\n",
       "      <td>KATF018288</td>\n",
       "      <td>0</td>\n",
       "    </tr>\n",
       "    <tr>\n",
       "      <th>2</th>\n",
       "      <td>H</td>\n",
       "      <td>61004060</td>\n",
       "      <td></td>\n",
       "      <td>Credit Note</td>\n",
       "      <td>Freight inwards charges - Air</td>\n",
       "      <td>This account is used to record the freight cha...</td>\n",
       "      <td>KATF017939</td>\n",
       "      <td>0</td>\n",
       "    </tr>\n",
       "    <tr>\n",
       "      <th>3</th>\n",
       "      <td>H</td>\n",
       "      <td>61004060</td>\n",
       "      <td></td>\n",
       "      <td>Credit Note</td>\n",
       "      <td>Freight inwards charges - Air</td>\n",
       "      <td>This account is used to record the freight cha...</td>\n",
       "      <td>KATF018434</td>\n",
       "      <td>0</td>\n",
       "    </tr>\n",
       "    <tr>\n",
       "      <th>4</th>\n",
       "      <td>H</td>\n",
       "      <td>34001010</td>\n",
       "      <td>304285</td>\n",
       "      <td>Import Charges - AIR</td>\n",
       "      <td>Freight inwards charges - Air</td>\n",
       "      <td>This account is used to record the freight cha...</td>\n",
       "      <td>KATF017842</td>\n",
       "      <td>1</td>\n",
       "    </tr>\n",
       "  </tbody>\n",
       "</table>\n",
       "</div>"
      ],
      "text/plain": [
       "  dc_indicator        gl  vendor                                   item_text  \\\n",
       "0            H  61004060          Export AF -  Correction for AI-DN-20210615   \n",
       "1            H  61004060                                         Credit Note   \n",
       "2            H  61004060                                         Credit Note   \n",
       "3            H  61004060                                         Credit Note   \n",
       "4            H  34001010  304285                        Import Charges - AIR   \n",
       "\n",
       "                     gl_acc_name  \\\n",
       "0  Freight inwards charges - Air   \n",
       "1  Freight inwards charges - Air   \n",
       "2  Freight inwards charges - Air   \n",
       "3  Freight inwards charges - Air   \n",
       "4  Freight inwards charges - Air   \n",
       "\n",
       "                                  gl_acc_description document_reference  label  \n",
       "0  This account is used to record the freight cha...         AF PAYMENT      0  \n",
       "1  This account is used to record the freight cha...         KATF018288      0  \n",
       "2  This account is used to record the freight cha...         KATF017939      0  \n",
       "3  This account is used to record the freight cha...         KATF018434      0  \n",
       "4  This account is used to record the freight cha...         KATF017842      1  "
      ]
     },
     "execution_count": 59,
     "metadata": {},
     "output_type": "execute_result"
    }
   ],
   "source": [
    "df.head()"
   ]
  },
  {
   "cell_type": "code",
   "execution_count": 60,
   "id": "a3b671cb",
   "metadata": {},
   "outputs": [
    {
     "data": {
      "text/plain": [
       "774"
      ]
     },
     "execution_count": 60,
     "metadata": {},
     "output_type": "execute_result"
    }
   ],
   "source": [
    "len(df['item_text'].unique())"
   ]
  },
  {
   "cell_type": "code",
   "execution_count": 61,
   "id": "7a660ebd",
   "metadata": {},
   "outputs": [
    {
     "data": {
      "text/plain": [
       "Index(['dc_indicator', 'gl', 'vendor', 'item_text', 'gl_acc_name',\n",
       "       'gl_acc_description', 'document_reference', 'label'],\n",
       "      dtype='object')"
      ]
     },
     "execution_count": 61,
     "metadata": {},
     "output_type": "execute_result"
    }
   ],
   "source": [
    "df.columns"
   ]
  },
  {
   "cell_type": "code",
   "execution_count": 62,
   "id": "dc5f2412",
   "metadata": {},
   "outputs": [
    {
     "name": "stderr",
     "output_type": "stream",
     "text": [
      "[nltk_data] Downloading package stopwords to\n",
      "[nltk_data]     C:\\Users\\Rahul\\AppData\\Roaming\\nltk_data...\n",
      "[nltk_data]   Package stopwords is already up-to-date!\n"
     ]
    },
    {
     "data": {
      "text/plain": [
       "True"
      ]
     },
     "execution_count": 62,
     "metadata": {},
     "output_type": "execute_result"
    }
   ],
   "source": [
    "import nltk\n",
    "nltk.download(\"stopwords\")"
   ]
  },
  {
   "cell_type": "code",
   "execution_count": 63,
   "id": "47e4a035",
   "metadata": {},
   "outputs": [
    {
     "name": "stdout",
     "output_type": "stream",
     "text": [
      "['i', 'me', 'my', 'myself', 'we', 'our', 'ours', 'ourselves', 'you', \"you're\", \"you've\", \"you'll\", \"you'd\", 'your', 'yours', 'yourself', 'yourselves', 'he', 'him', 'his', 'himself', 'she', \"she's\", 'her', 'hers', 'herself', 'it', \"it's\", 'its', 'itself', 'they', 'them', 'their', 'theirs', 'themselves', 'what', 'which', 'who', 'whom', 'this', 'that', \"that'll\", 'these', 'those', 'am', 'is', 'are', 'was', 'were', 'be', 'been', 'being', 'have', 'has', 'had', 'having', 'do', 'does', 'did', 'doing', 'a', 'an', 'the', 'and', 'but', 'if', 'or', 'because', 'as', 'until', 'while', 'of', 'at', 'by', 'for', 'with', 'about', 'against', 'between', 'into', 'through', 'during', 'before', 'after', 'above', 'below', 'to', 'from', 'up', 'down', 'in', 'out', 'on', 'off', 'over', 'under', 'again', 'further', 'then', 'once', 'here', 'there', 'when', 'where', 'why', 'how', 'all', 'any', 'both', 'each', 'few', 'more', 'most', 'other', 'some', 'such', 'no', 'nor', 'not', 'only', 'own', 'same', 'so', 'than', 'too', 'very', 's', 't', 'can', 'will', 'just', 'don', \"don't\", 'should', \"should've\", 'now', 'd', 'll', 'm', 'o', 're', 've', 'y', 'ain', 'aren', \"aren't\", 'couldn', \"couldn't\", 'didn', \"didn't\", 'doesn', \"doesn't\", 'hadn', \"hadn't\", 'hasn', \"hasn't\", 'haven', \"haven't\", 'isn', \"isn't\", 'ma', 'mightn', \"mightn't\", 'mustn', \"mustn't\", 'needn', \"needn't\", 'shan', \"shan't\", 'shouldn', \"shouldn't\", 'wasn', \"wasn't\", 'weren', \"weren't\", 'won', \"won't\", 'wouldn', \"wouldn't\"]\n"
     ]
    }
   ],
   "source": [
    "print(stopwords.words(\"english\"))"
   ]
  },
  {
   "cell_type": "code",
   "execution_count": 64,
   "id": "16176abb",
   "metadata": {},
   "outputs": [
    {
     "data": {
      "text/plain": [
       "(5000, 8)"
      ]
     },
     "execution_count": 64,
     "metadata": {},
     "output_type": "execute_result"
    }
   ],
   "source": [
    "df.shape"
   ]
  },
  {
   "cell_type": "code",
   "execution_count": 65,
   "id": "91092061",
   "metadata": {
    "scrolled": true
   },
   "outputs": [
    {
     "data": {
      "text/plain": [
       "dc_indicator          0\n",
       "gl                    0\n",
       "vendor                0\n",
       "item_text             0\n",
       "gl_acc_name           0\n",
       "gl_acc_description    0\n",
       "document_reference    0\n",
       "label                 0\n",
       "dtype: int64"
      ]
     },
     "execution_count": 65,
     "metadata": {},
     "output_type": "execute_result"
    }
   ],
   "source": [
    "df.isnull().sum()"
   ]
  },
  {
   "cell_type": "code",
   "execution_count": 66,
   "id": "cecf2689",
   "metadata": {
    "scrolled": true
   },
   "outputs": [
    {
     "data": {
      "text/plain": [
       "dc_indicator          object\n",
       "gl                     int64\n",
       "vendor                object\n",
       "item_text             object\n",
       "gl_acc_name           object\n",
       "gl_acc_description    object\n",
       "document_reference    object\n",
       "label                  int64\n",
       "dtype: object"
      ]
     },
     "execution_count": 66,
     "metadata": {},
     "output_type": "execute_result"
    }
   ],
   "source": [
    "df.dtypes"
   ]
  },
  {
   "cell_type": "code",
   "execution_count": 67,
   "id": "b098134f",
   "metadata": {},
   "outputs": [],
   "source": [
    "df[\"messages\"] = df[\"item_text\"].astype(str) + \" \" + df[\"gl_acc_name\"] + \" \" + df[\"gl_acc_description\"]"
   ]
  },
  {
   "cell_type": "code",
   "execution_count": 68,
   "id": "4c867fda",
   "metadata": {},
   "outputs": [
    {
     "data": {
      "text/plain": [
       "0       Export AF -  Correction for AI-DN-20210615 Fre...\n",
       "1       Credit Note Freight inwards charges - Air This...\n",
       "2       Credit Note Freight inwards charges - Air This...\n",
       "3       Credit Note Freight inwards charges - Air This...\n",
       "4       Import Charges - AIR Freight inwards charges -...\n",
       "                              ...                        \n",
       "4995    FEIGTH CHARGES- AIR Freight inwards charges - ...\n",
       "4996    FEIGTH CHARGES- AIR Freight inwards charges - ...\n",
       "4997    FEIGTH CHARGES- AIR Freight inwards charges - ...\n",
       "4998    FEIGTH CHARGES- AIR Freight inwards charges - ...\n",
       "4999    FEIGTH CHARGES- AIR Freight inwards charges - ...\n",
       "Name: messages, Length: 5000, dtype: object"
      ]
     },
     "execution_count": 68,
     "metadata": {},
     "output_type": "execute_result"
    }
   ],
   "source": [
    "df[\"messages\"]"
   ]
  },
  {
   "cell_type": "code",
   "execution_count": 69,
   "id": "9f91bf9c",
   "metadata": {},
   "outputs": [],
   "source": [
    "#seperate the data and label\n",
    "X=df.drop(columns=\"label\",axis=1) #axis=1 \"removing a column\"\n",
    "y=df[\"label\"]"
   ]
  },
  {
   "cell_type": "code",
   "execution_count": 70,
   "id": "0736de8e",
   "metadata": {},
   "outputs": [
    {
     "data": {
      "text/html": [
       "<div>\n",
       "<style scoped>\n",
       "    .dataframe tbody tr th:only-of-type {\n",
       "        vertical-align: middle;\n",
       "    }\n",
       "\n",
       "    .dataframe tbody tr th {\n",
       "        vertical-align: top;\n",
       "    }\n",
       "\n",
       "    .dataframe thead th {\n",
       "        text-align: right;\n",
       "    }\n",
       "</style>\n",
       "<table border=\"1\" class=\"dataframe\">\n",
       "  <thead>\n",
       "    <tr style=\"text-align: right;\">\n",
       "      <th></th>\n",
       "      <th>dc_indicator</th>\n",
       "      <th>gl</th>\n",
       "      <th>vendor</th>\n",
       "      <th>item_text</th>\n",
       "      <th>gl_acc_name</th>\n",
       "      <th>gl_acc_description</th>\n",
       "      <th>document_reference</th>\n",
       "      <th>messages</th>\n",
       "    </tr>\n",
       "  </thead>\n",
       "  <tbody>\n",
       "    <tr>\n",
       "      <th>0</th>\n",
       "      <td>H</td>\n",
       "      <td>61004060</td>\n",
       "      <td></td>\n",
       "      <td>Export AF -  Correction for AI-DN-20210615</td>\n",
       "      <td>Freight inwards charges - Air</td>\n",
       "      <td>This account is used to record the freight cha...</td>\n",
       "      <td>AF PAYMENT</td>\n",
       "      <td>Export AF -  Correction for AI-DN-20210615 Fre...</td>\n",
       "    </tr>\n",
       "    <tr>\n",
       "      <th>1</th>\n",
       "      <td>H</td>\n",
       "      <td>61004060</td>\n",
       "      <td></td>\n",
       "      <td>Credit Note</td>\n",
       "      <td>Freight inwards charges - Air</td>\n",
       "      <td>This account is used to record the freight cha...</td>\n",
       "      <td>KATF018288</td>\n",
       "      <td>Credit Note Freight inwards charges - Air This...</td>\n",
       "    </tr>\n",
       "    <tr>\n",
       "      <th>2</th>\n",
       "      <td>H</td>\n",
       "      <td>61004060</td>\n",
       "      <td></td>\n",
       "      <td>Credit Note</td>\n",
       "      <td>Freight inwards charges - Air</td>\n",
       "      <td>This account is used to record the freight cha...</td>\n",
       "      <td>KATF017939</td>\n",
       "      <td>Credit Note Freight inwards charges - Air This...</td>\n",
       "    </tr>\n",
       "    <tr>\n",
       "      <th>3</th>\n",
       "      <td>H</td>\n",
       "      <td>61004060</td>\n",
       "      <td></td>\n",
       "      <td>Credit Note</td>\n",
       "      <td>Freight inwards charges - Air</td>\n",
       "      <td>This account is used to record the freight cha...</td>\n",
       "      <td>KATF018434</td>\n",
       "      <td>Credit Note Freight inwards charges - Air This...</td>\n",
       "    </tr>\n",
       "    <tr>\n",
       "      <th>4</th>\n",
       "      <td>H</td>\n",
       "      <td>34001010</td>\n",
       "      <td>304285</td>\n",
       "      <td>Import Charges - AIR</td>\n",
       "      <td>Freight inwards charges - Air</td>\n",
       "      <td>This account is used to record the freight cha...</td>\n",
       "      <td>KATF017842</td>\n",
       "      <td>Import Charges - AIR Freight inwards charges -...</td>\n",
       "    </tr>\n",
       "    <tr>\n",
       "      <th>...</th>\n",
       "      <td>...</td>\n",
       "      <td>...</td>\n",
       "      <td>...</td>\n",
       "      <td>...</td>\n",
       "      <td>...</td>\n",
       "      <td>...</td>\n",
       "      <td>...</td>\n",
       "      <td>...</td>\n",
       "    </tr>\n",
       "    <tr>\n",
       "      <th>4995</th>\n",
       "      <td>H</td>\n",
       "      <td>34002010</td>\n",
       "      <td>402349</td>\n",
       "      <td>FEIGTH CHARGES- AIR</td>\n",
       "      <td>Freight inwards charges - Air</td>\n",
       "      <td>This account is used to record the freight cha...</td>\n",
       "      <td>110281</td>\n",
       "      <td>FEIGTH CHARGES- AIR Freight inwards charges - ...</td>\n",
       "    </tr>\n",
       "    <tr>\n",
       "      <th>4996</th>\n",
       "      <td>H</td>\n",
       "      <td>34002010</td>\n",
       "      <td>402349</td>\n",
       "      <td>FEIGTH CHARGES- AIR</td>\n",
       "      <td>Freight inwards charges - Air</td>\n",
       "      <td>This account is used to record the freight cha...</td>\n",
       "      <td>110281A</td>\n",
       "      <td>FEIGTH CHARGES- AIR Freight inwards charges - ...</td>\n",
       "    </tr>\n",
       "    <tr>\n",
       "      <th>4997</th>\n",
       "      <td>H</td>\n",
       "      <td>34002010</td>\n",
       "      <td>402349</td>\n",
       "      <td>FEIGTH CHARGES- AIR</td>\n",
       "      <td>Freight inwards charges - Air</td>\n",
       "      <td>This account is used to record the freight cha...</td>\n",
       "      <td>110376</td>\n",
       "      <td>FEIGTH CHARGES- AIR Freight inwards charges - ...</td>\n",
       "    </tr>\n",
       "    <tr>\n",
       "      <th>4998</th>\n",
       "      <td>H</td>\n",
       "      <td>34002010</td>\n",
       "      <td>402349</td>\n",
       "      <td>FEIGTH CHARGES- AIR</td>\n",
       "      <td>Freight inwards charges - Air</td>\n",
       "      <td>This account is used to record the freight cha...</td>\n",
       "      <td>110377</td>\n",
       "      <td>FEIGTH CHARGES- AIR Freight inwards charges - ...</td>\n",
       "    </tr>\n",
       "    <tr>\n",
       "      <th>4999</th>\n",
       "      <td>H</td>\n",
       "      <td>34002010</td>\n",
       "      <td>402349</td>\n",
       "      <td>FEIGTH CHARGES- AIR</td>\n",
       "      <td>Freight inwards charges - Air</td>\n",
       "      <td>This account is used to record the freight cha...</td>\n",
       "      <td>110672A</td>\n",
       "      <td>FEIGTH CHARGES- AIR Freight inwards charges - ...</td>\n",
       "    </tr>\n",
       "  </tbody>\n",
       "</table>\n",
       "<p>5000 rows × 8 columns</p>\n",
       "</div>"
      ],
      "text/plain": [
       "     dc_indicator        gl  vendor  \\\n",
       "0               H  61004060           \n",
       "1               H  61004060           \n",
       "2               H  61004060           \n",
       "3               H  61004060           \n",
       "4               H  34001010  304285   \n",
       "...           ...       ...     ...   \n",
       "4995            H  34002010  402349   \n",
       "4996            H  34002010  402349   \n",
       "4997            H  34002010  402349   \n",
       "4998            H  34002010  402349   \n",
       "4999            H  34002010  402349   \n",
       "\n",
       "                                       item_text  \\\n",
       "0     Export AF -  Correction for AI-DN-20210615   \n",
       "1                                    Credit Note   \n",
       "2                                    Credit Note   \n",
       "3                                    Credit Note   \n",
       "4                           Import Charges - AIR   \n",
       "...                                          ...   \n",
       "4995                         FEIGTH CHARGES- AIR   \n",
       "4996                         FEIGTH CHARGES- AIR   \n",
       "4997                         FEIGTH CHARGES- AIR   \n",
       "4998                         FEIGTH CHARGES- AIR   \n",
       "4999                         FEIGTH CHARGES- AIR   \n",
       "\n",
       "                        gl_acc_name  \\\n",
       "0     Freight inwards charges - Air   \n",
       "1     Freight inwards charges - Air   \n",
       "2     Freight inwards charges - Air   \n",
       "3     Freight inwards charges - Air   \n",
       "4     Freight inwards charges - Air   \n",
       "...                             ...   \n",
       "4995  Freight inwards charges - Air   \n",
       "4996  Freight inwards charges - Air   \n",
       "4997  Freight inwards charges - Air   \n",
       "4998  Freight inwards charges - Air   \n",
       "4999  Freight inwards charges - Air   \n",
       "\n",
       "                                     gl_acc_description document_reference  \\\n",
       "0     This account is used to record the freight cha...         AF PAYMENT   \n",
       "1     This account is used to record the freight cha...         KATF018288   \n",
       "2     This account is used to record the freight cha...         KATF017939   \n",
       "3     This account is used to record the freight cha...         KATF018434   \n",
       "4     This account is used to record the freight cha...         KATF017842   \n",
       "...                                                 ...                ...   \n",
       "4995  This account is used to record the freight cha...             110281   \n",
       "4996  This account is used to record the freight cha...            110281A   \n",
       "4997  This account is used to record the freight cha...             110376   \n",
       "4998  This account is used to record the freight cha...             110377   \n",
       "4999  This account is used to record the freight cha...            110672A   \n",
       "\n",
       "                                               messages  \n",
       "0     Export AF -  Correction for AI-DN-20210615 Fre...  \n",
       "1     Credit Note Freight inwards charges - Air This...  \n",
       "2     Credit Note Freight inwards charges - Air This...  \n",
       "3     Credit Note Freight inwards charges - Air This...  \n",
       "4     Import Charges - AIR Freight inwards charges -...  \n",
       "...                                                 ...  \n",
       "4995  FEIGTH CHARGES- AIR Freight inwards charges - ...  \n",
       "4996  FEIGTH CHARGES- AIR Freight inwards charges - ...  \n",
       "4997  FEIGTH CHARGES- AIR Freight inwards charges - ...  \n",
       "4998  FEIGTH CHARGES- AIR Freight inwards charges - ...  \n",
       "4999  FEIGTH CHARGES- AIR Freight inwards charges - ...  \n",
       "\n",
       "[5000 rows x 8 columns]"
      ]
     },
     "execution_count": 70,
     "metadata": {},
     "output_type": "execute_result"
    }
   ],
   "source": [
    "X"
   ]
  },
  {
   "cell_type": "code",
   "execution_count": 18,
   "id": "f9edd9d4",
   "metadata": {},
   "outputs": [
    {
     "data": {
      "text/plain": [
       "0       0\n",
       "1       0\n",
       "2       0\n",
       "3       0\n",
       "4       1\n",
       "       ..\n",
       "4995    1\n",
       "4996    1\n",
       "4997    1\n",
       "4998    1\n",
       "4999    1\n",
       "Name: label, Length: 5000, dtype: int64"
      ]
     },
     "execution_count": 18,
     "metadata": {},
     "output_type": "execute_result"
    }
   ],
   "source": [
    "y"
   ]
  },
  {
   "cell_type": "code",
   "execution_count": 71,
   "id": "0c9688d2",
   "metadata": {},
   "outputs": [],
   "source": [
    "port_stem=PorterStemmer()"
   ]
  },
  {
   "cell_type": "code",
   "execution_count": 72,
   "id": "5a62044b",
   "metadata": {},
   "outputs": [],
   "source": [
    "def stemming(content):\n",
    "    stemmed_content=re.sub(\"[^a-zA-z]\",\" \",content)\n",
    "    stemmed_content=stemmed_content.lower()\n",
    "    stemmed_content=stemmed_content.split()\n",
    "    stemmed_content=[port_stem.stem(word) for word in stemmed_content if not word in stopwords.words(\"english\")]\n",
    "    stemmed_content= \" \".join(stemmed_content)\n",
    "    return stemmed_content"
   ]
  },
  {
   "cell_type": "code",
   "execution_count": 73,
   "id": "f725780c",
   "metadata": {},
   "outputs": [],
   "source": [
    "df[\"messages\"] = df[\"messages\"].apply(stemming)"
   ]
  },
  {
   "cell_type": "code",
   "execution_count": 74,
   "id": "ede67649",
   "metadata": {},
   "outputs": [
    {
     "name": "stdout",
     "output_type": "stream",
     "text": [
      "0       export af correct ai dn freight inward charg a...\n",
      "1       credit note freight inward charg air account u...\n",
      "2       credit note freight inward charg air account u...\n",
      "3       credit note freight inward charg air account u...\n",
      "4       import charg air freight inward charg air acco...\n",
      "                              ...                        \n",
      "4995    feigth charg air freight inward charg air acco...\n",
      "4996    feigth charg air freight inward charg air acco...\n",
      "4997    feigth charg air freight inward charg air acco...\n",
      "4998    feigth charg air freight inward charg air acco...\n",
      "4999    feigth charg air freight inward charg air acco...\n",
      "Name: messages, Length: 5000, dtype: object\n"
     ]
    }
   ],
   "source": [
    "print(df[\"messages\"])"
   ]
  },
  {
   "cell_type": "code",
   "execution_count": 75,
   "id": "757c7029",
   "metadata": {},
   "outputs": [
    {
     "data": {
      "text/html": [
       "<div>\n",
       "<style scoped>\n",
       "    .dataframe tbody tr th:only-of-type {\n",
       "        vertical-align: middle;\n",
       "    }\n",
       "\n",
       "    .dataframe tbody tr th {\n",
       "        vertical-align: top;\n",
       "    }\n",
       "\n",
       "    .dataframe thead th {\n",
       "        text-align: right;\n",
       "    }\n",
       "</style>\n",
       "<table border=\"1\" class=\"dataframe\">\n",
       "  <thead>\n",
       "    <tr style=\"text-align: right;\">\n",
       "      <th></th>\n",
       "      <th>dc_indicator</th>\n",
       "      <th>gl</th>\n",
       "      <th>vendor</th>\n",
       "      <th>item_text</th>\n",
       "      <th>gl_acc_name</th>\n",
       "      <th>gl_acc_description</th>\n",
       "      <th>document_reference</th>\n",
       "      <th>label</th>\n",
       "      <th>messages</th>\n",
       "    </tr>\n",
       "  </thead>\n",
       "  <tbody>\n",
       "    <tr>\n",
       "      <th>0</th>\n",
       "      <td>H</td>\n",
       "      <td>61004060</td>\n",
       "      <td></td>\n",
       "      <td>Export AF -  Correction for AI-DN-20210615</td>\n",
       "      <td>Freight inwards charges - Air</td>\n",
       "      <td>This account is used to record the freight cha...</td>\n",
       "      <td>AF PAYMENT</td>\n",
       "      <td>0</td>\n",
       "      <td>export af correct ai dn freight inward charg a...</td>\n",
       "    </tr>\n",
       "    <tr>\n",
       "      <th>1</th>\n",
       "      <td>H</td>\n",
       "      <td>61004060</td>\n",
       "      <td></td>\n",
       "      <td>Credit Note</td>\n",
       "      <td>Freight inwards charges - Air</td>\n",
       "      <td>This account is used to record the freight cha...</td>\n",
       "      <td>KATF018288</td>\n",
       "      <td>0</td>\n",
       "      <td>credit note freight inward charg air account u...</td>\n",
       "    </tr>\n",
       "    <tr>\n",
       "      <th>2</th>\n",
       "      <td>H</td>\n",
       "      <td>61004060</td>\n",
       "      <td></td>\n",
       "      <td>Credit Note</td>\n",
       "      <td>Freight inwards charges - Air</td>\n",
       "      <td>This account is used to record the freight cha...</td>\n",
       "      <td>KATF017939</td>\n",
       "      <td>0</td>\n",
       "      <td>credit note freight inward charg air account u...</td>\n",
       "    </tr>\n",
       "    <tr>\n",
       "      <th>3</th>\n",
       "      <td>H</td>\n",
       "      <td>61004060</td>\n",
       "      <td></td>\n",
       "      <td>Credit Note</td>\n",
       "      <td>Freight inwards charges - Air</td>\n",
       "      <td>This account is used to record the freight cha...</td>\n",
       "      <td>KATF018434</td>\n",
       "      <td>0</td>\n",
       "      <td>credit note freight inward charg air account u...</td>\n",
       "    </tr>\n",
       "    <tr>\n",
       "      <th>4</th>\n",
       "      <td>H</td>\n",
       "      <td>34001010</td>\n",
       "      <td>304285</td>\n",
       "      <td>Import Charges - AIR</td>\n",
       "      <td>Freight inwards charges - Air</td>\n",
       "      <td>This account is used to record the freight cha...</td>\n",
       "      <td>KATF017842</td>\n",
       "      <td>1</td>\n",
       "      <td>import charg air freight inward charg air acco...</td>\n",
       "    </tr>\n",
       "  </tbody>\n",
       "</table>\n",
       "</div>"
      ],
      "text/plain": [
       "  dc_indicator        gl  vendor                                   item_text  \\\n",
       "0            H  61004060          Export AF -  Correction for AI-DN-20210615   \n",
       "1            H  61004060                                         Credit Note   \n",
       "2            H  61004060                                         Credit Note   \n",
       "3            H  61004060                                         Credit Note   \n",
       "4            H  34001010  304285                        Import Charges - AIR   \n",
       "\n",
       "                     gl_acc_name  \\\n",
       "0  Freight inwards charges - Air   \n",
       "1  Freight inwards charges - Air   \n",
       "2  Freight inwards charges - Air   \n",
       "3  Freight inwards charges - Air   \n",
       "4  Freight inwards charges - Air   \n",
       "\n",
       "                                  gl_acc_description document_reference  \\\n",
       "0  This account is used to record the freight cha...         AF PAYMENT   \n",
       "1  This account is used to record the freight cha...         KATF018288   \n",
       "2  This account is used to record the freight cha...         KATF017939   \n",
       "3  This account is used to record the freight cha...         KATF018434   \n",
       "4  This account is used to record the freight cha...         KATF017842   \n",
       "\n",
       "   label                                           messages  \n",
       "0      0  export af correct ai dn freight inward charg a...  \n",
       "1      0  credit note freight inward charg air account u...  \n",
       "2      0  credit note freight inward charg air account u...  \n",
       "3      0  credit note freight inward charg air account u...  \n",
       "4      1  import charg air freight inward charg air acco...  "
      ]
     },
     "execution_count": 75,
     "metadata": {},
     "output_type": "execute_result"
    }
   ],
   "source": [
    "df.head()"
   ]
  },
  {
   "cell_type": "code",
   "execution_count": 162,
   "id": "268357e4",
   "metadata": {},
   "outputs": [],
   "source": [
    "X=df[\"messages\"].values\n",
    "y=df[\"label\"].values"
   ]
  },
  {
   "cell_type": "code",
   "execution_count": 163,
   "id": "6b2688c5",
   "metadata": {},
   "outputs": [
    {
     "data": {
      "text/plain": [
       "array(['export af correct ai dn freight inward charg air account use record freight charg incur import raw materi product air',\n",
       "       'credit note freight inward charg air account use record freight charg incur import raw materi product air',\n",
       "       'credit note freight inward charg air account use record freight charg incur import raw materi product air',\n",
       "       ...,\n",
       "       'feigth charg air freight inward charg air account use record freight charg incur import raw materi product air',\n",
       "       'feigth charg air freight inward charg air account use record freight charg incur import raw materi product air',\n",
       "       'feigth charg air freight inward charg air account use record freight charg incur import raw materi product air'],\n",
       "      dtype=object)"
      ]
     },
     "execution_count": 163,
     "metadata": {},
     "output_type": "execute_result"
    }
   ],
   "source": [
    "X"
   ]
  },
  {
   "cell_type": "code",
   "execution_count": 164,
   "id": "5cdc7773",
   "metadata": {},
   "outputs": [
    {
     "data": {
      "text/plain": [
       "array([0, 0, 0, ..., 1, 1, 1], dtype=int64)"
      ]
     },
     "execution_count": 164,
     "metadata": {},
     "output_type": "execute_result"
    }
   ],
   "source": [
    "y"
   ]
  },
  {
   "cell_type": "code",
   "execution_count": 165,
   "id": "1ab69e94",
   "metadata": {},
   "outputs": [],
   "source": [
    "#converting data to numerical data\n",
    "\n",
    "vectorizer=TfidfVectorizer(max_features=200 , ngram_range=(1,3))\n",
    "X=vectorizer.fit_transform(X)"
   ]
  },
  {
   "cell_type": "code",
   "execution_count": 166,
   "id": "43a43a05",
   "metadata": {},
   "outputs": [
    {
     "name": "stdout",
     "output_type": "stream",
     "text": [
      "  (0, 136)\t0.14433756729740646\n",
      "  (0, 168)\t0.14433756729740646\n",
      "  (0, 119)\t0.14433756729740646\n",
      "  (0, 122)\t0.14433756729740646\n",
      "  (0, 46)\t0.14433756729740646\n",
      "  (0, 79)\t0.14433756729740646\n",
      "  (0, 171)\t0.14433756729740646\n",
      "  (0, 196)\t0.14433756729740646\n",
      "  (0, 2)\t0.14433756729740646\n",
      "  (0, 5)\t0.14433756729740646\n",
      "  (0, 41)\t0.14433756729740646\n",
      "  (0, 125)\t0.14433756729740646\n",
      "  (0, 89)\t0.14433756729740646\n",
      "  (0, 156)\t0.14433756729740646\n",
      "  (0, 135)\t0.14433756729740646\n",
      "  (0, 167)\t0.14433756729740646\n",
      "  (0, 118)\t0.14433756729740646\n",
      "  (0, 121)\t0.14433756729740646\n",
      "  (0, 45)\t0.14433756729740646\n",
      "  (0, 77)\t0.14433756729740646\n",
      "  (0, 170)\t0.14433756729740646\n",
      "  (0, 195)\t0.14433756729740646\n",
      "  (0, 1)\t0.14433756729740646\n",
      "  (0, 4)\t0.14433756729740646\n",
      "  (0, 40)\t0.14433756729740646\n",
      "  :\t:\n",
      "  (4999, 135)\t0.07190787721243505\n",
      "  (4999, 167)\t0.07190787721243505\n",
      "  (4999, 118)\t0.07190787721243505\n",
      "  (4999, 121)\t0.07190787721243505\n",
      "  (4999, 45)\t0.07190787721243505\n",
      "  (4999, 77)\t0.07190787721243505\n",
      "  (4999, 170)\t0.07190787721243505\n",
      "  (4999, 195)\t0.07190787721243505\n",
      "  (4999, 1)\t0.07190787721243505\n",
      "  (4999, 4)\t0.07190787721243505\n",
      "  (4999, 40)\t0.1438157544248701\n",
      "  (4999, 124)\t0.07190787721243505\n",
      "  (4999, 88)\t0.07190787721243505\n",
      "  (4999, 155)\t0.07190787721243505\n",
      "  (4999, 134)\t0.07190787721243505\n",
      "  (4999, 166)\t0.07190787721243505\n",
      "  (4999, 107)\t0.07190787721243505\n",
      "  (4999, 120)\t0.07190787721243505\n",
      "  (4999, 169)\t0.07190787721243505\n",
      "  (4999, 194)\t0.07190787721243505\n",
      "  (4999, 0)\t0.07190787721243505\n",
      "  (4999, 3)\t0.21572363163730515\n",
      "  (4999, 39)\t0.21572363163730515\n",
      "  (4999, 123)\t0.07190787721243505\n",
      "  (4999, 76)\t0.1438157544248701\n"
     ]
    }
   ],
   "source": [
    "print(X)"
   ]
  },
  {
   "cell_type": "code",
   "execution_count": 167,
   "id": "94957aae",
   "metadata": {},
   "outputs": [
    {
     "data": {
      "text/plain": [
       "(5000, 200)"
      ]
     },
     "execution_count": 167,
     "metadata": {},
     "output_type": "execute_result"
    }
   ],
   "source": [
    "X.shape"
   ]
  },
  {
   "cell_type": "code",
   "execution_count": 168,
   "id": "c6f4dd8e",
   "metadata": {},
   "outputs": [],
   "source": [
    "X_train,X_test,y_train,y_test=train_test_split(X,y,test_size=0.2,stratify=y,random_state=2)"
   ]
  },
  {
   "cell_type": "code",
   "execution_count": 169,
   "id": "65d41bd8",
   "metadata": {},
   "outputs": [],
   "source": [
    "log_reg=LogisticRegression()"
   ]
  },
  {
   "cell_type": "code",
   "execution_count": 170,
   "id": "9381bb60",
   "metadata": {},
   "outputs": [
    {
     "data": {
      "text/plain": [
       "LogisticRegression()"
      ]
     },
     "execution_count": 170,
     "metadata": {},
     "output_type": "execute_result"
    }
   ],
   "source": [
    "log_reg.fit(X_train,y_train)"
   ]
  },
  {
   "cell_type": "code",
   "execution_count": 171,
   "id": "504e976b",
   "metadata": {},
   "outputs": [],
   "source": [
    "#accuracy on train data\n",
    "\n",
    "X_train_pred=log_reg.predict(X_train)\n",
    "acc = accuracy_score(X_train_pred,y_train)"
   ]
  },
  {
   "cell_type": "code",
   "execution_count": 172,
   "id": "120acf8c",
   "metadata": {},
   "outputs": [
    {
     "name": "stdout",
     "output_type": "stream",
     "text": [
      "train data accuracy :  98.05 %\n"
     ]
    }
   ],
   "source": [
    "print(\"train data accuracy : \",acc*100,\"%\")"
   ]
  },
  {
   "cell_type": "code",
   "execution_count": 173,
   "id": "68a89ef5",
   "metadata": {},
   "outputs": [],
   "source": [
    "#accuracy on test data\n",
    "\n",
    "X_test_pred=log_reg.predict(X_test)\n",
    "acc=accuracy_score(X_test_pred,y_test)"
   ]
  },
  {
   "cell_type": "code",
   "execution_count": 174,
   "id": "36caf60c",
   "metadata": {},
   "outputs": [
    {
     "name": "stdout",
     "output_type": "stream",
     "text": [
      "train data accuracy :  98.8 %\n"
     ]
    }
   ],
   "source": [
    "print(\"train data accuracy : \",acc*100,\"%\")"
   ]
  },
  {
   "cell_type": "code",
   "execution_count": 175,
   "id": "1dec2ad5",
   "metadata": {},
   "outputs": [
    {
     "data": {
      "text/plain": [
       "array([1, 0, 1, 0, 0, 0, 1, 1, 1, 0, 1, 1, 1, 0, 0, 0, 1, 1, 0, 0, 0, 0,\n",
       "       0, 1, 1, 1, 1, 0, 1, 0], dtype=int64)"
      ]
     },
     "execution_count": 175,
     "metadata": {},
     "output_type": "execute_result"
    }
   ],
   "source": [
    "log_reg.predict(X_test[:30])"
   ]
  },
  {
   "cell_type": "code",
   "execution_count": 176,
   "id": "91894d34",
   "metadata": {},
   "outputs": [
    {
     "name": "stdout",
     "output_type": "stream",
     "text": [
      "[1 0 1 0 0 0 1 1 1 0 1 1 1 0 0 0 1 1 0 0 0 0 0 1 1 1 1 0 1 0]\n"
     ]
    }
   ],
   "source": [
    "print(y_test[:30])"
   ]
  },
  {
   "cell_type": "code",
   "execution_count": 177,
   "id": "e2a498a3",
   "metadata": {},
   "outputs": [],
   "source": [
    "#### trying bring up a test file\n",
    "\n",
    "df_test=pd.read_excel('dataset1_test.xlsx')"
   ]
  },
  {
   "cell_type": "code",
   "execution_count": 178,
   "id": "b3467dd3",
   "metadata": {},
   "outputs": [
    {
     "data": {
      "text/html": [
       "<div>\n",
       "<style scoped>\n",
       "    .dataframe tbody tr th:only-of-type {\n",
       "        vertical-align: middle;\n",
       "    }\n",
       "\n",
       "    .dataframe tbody tr th {\n",
       "        vertical-align: top;\n",
       "    }\n",
       "\n",
       "    .dataframe thead th {\n",
       "        text-align: right;\n",
       "    }\n",
       "</style>\n",
       "<table border=\"1\" class=\"dataframe\">\n",
       "  <thead>\n",
       "    <tr style=\"text-align: right;\">\n",
       "      <th></th>\n",
       "      <th>dc_indicator</th>\n",
       "      <th>gl</th>\n",
       "      <th>vendor</th>\n",
       "      <th>item_text</th>\n",
       "      <th>gl_acc_name</th>\n",
       "      <th>gl_acc_description</th>\n",
       "      <th>document_reference</th>\n",
       "      <th>label</th>\n",
       "    </tr>\n",
       "  </thead>\n",
       "  <tbody>\n",
       "    <tr>\n",
       "      <th>0</th>\n",
       "      <td>H</td>\n",
       "      <td>34002010</td>\n",
       "      <td>402349</td>\n",
       "      <td>FEIGTH CHARGES- AIR</td>\n",
       "      <td>Freight inwards charges - Air</td>\n",
       "      <td>This account is used to record the freight cha...</td>\n",
       "      <td>110377</td>\n",
       "      <td>1</td>\n",
       "    </tr>\n",
       "    <tr>\n",
       "      <th>1</th>\n",
       "      <td>H</td>\n",
       "      <td>34002010</td>\n",
       "      <td>402349</td>\n",
       "      <td>FEIGTH CHARGES- AIR</td>\n",
       "      <td>Freight inwards charges - Air</td>\n",
       "      <td>This account is used to record the freight cha...</td>\n",
       "      <td>110672A</td>\n",
       "      <td>1</td>\n",
       "    </tr>\n",
       "    <tr>\n",
       "      <th>2</th>\n",
       "      <td>H</td>\n",
       "      <td>34002010</td>\n",
       "      <td>402349</td>\n",
       "      <td>FEIGTH CHARGES- AIR</td>\n",
       "      <td>Freight inwards charges - Air</td>\n",
       "      <td>This account is used to record the freight cha...</td>\n",
       "      <td>110673</td>\n",
       "      <td>1</td>\n",
       "    </tr>\n",
       "    <tr>\n",
       "      <th>3</th>\n",
       "      <td>H</td>\n",
       "      <td>34002010</td>\n",
       "      <td>402349</td>\n",
       "      <td>FEIGTH CHARGES- AIR</td>\n",
       "      <td>Freight inwards charges - Air</td>\n",
       "      <td>This account is used to record the freight cha...</td>\n",
       "      <td>110720</td>\n",
       "      <td>1</td>\n",
       "    </tr>\n",
       "    <tr>\n",
       "      <th>4</th>\n",
       "      <td>H</td>\n",
       "      <td>34002010</td>\n",
       "      <td>402349</td>\n",
       "      <td>FEIGTH CHARGES- AIR</td>\n",
       "      <td>Freight inwards charges - Air</td>\n",
       "      <td>This account is used to record the freight cha...</td>\n",
       "      <td>110721</td>\n",
       "      <td>1</td>\n",
       "    </tr>\n",
       "  </tbody>\n",
       "</table>\n",
       "</div>"
      ],
      "text/plain": [
       "  dc_indicator        gl  vendor            item_text  \\\n",
       "0            H  34002010  402349  FEIGTH CHARGES- AIR   \n",
       "1            H  34002010  402349  FEIGTH CHARGES- AIR   \n",
       "2            H  34002010  402349  FEIGTH CHARGES- AIR   \n",
       "3            H  34002010  402349  FEIGTH CHARGES- AIR   \n",
       "4            H  34002010  402349  FEIGTH CHARGES- AIR   \n",
       "\n",
       "                     gl_acc_name  \\\n",
       "0  Freight inwards charges - Air   \n",
       "1  Freight inwards charges - Air   \n",
       "2  Freight inwards charges - Air   \n",
       "3  Freight inwards charges - Air   \n",
       "4  Freight inwards charges - Air   \n",
       "\n",
       "                                  gl_acc_description document_reference  label  \n",
       "0  This account is used to record the freight cha...             110377      1  \n",
       "1  This account is used to record the freight cha...            110672A      1  \n",
       "2  This account is used to record the freight cha...             110673      1  \n",
       "3  This account is used to record the freight cha...             110720      1  \n",
       "4  This account is used to record the freight cha...             110721      1  "
      ]
     },
     "execution_count": 178,
     "metadata": {},
     "output_type": "execute_result"
    }
   ],
   "source": [
    "df_test.head()"
   ]
  },
  {
   "cell_type": "code",
   "execution_count": 179,
   "id": "54462ad9",
   "metadata": {},
   "outputs": [
    {
     "data": {
      "text/plain": [
       "(674, 8)"
      ]
     },
     "execution_count": 179,
     "metadata": {},
     "output_type": "execute_result"
    }
   ],
   "source": [
    "df_test.shape"
   ]
  },
  {
   "cell_type": "code",
   "execution_count": 180,
   "id": "ba751a1c",
   "metadata": {},
   "outputs": [
    {
     "data": {
      "text/plain": [
       "dc_indicator          0\n",
       "gl                    0\n",
       "vendor                0\n",
       "item_text             0\n",
       "gl_acc_name           0\n",
       "gl_acc_description    0\n",
       "document_reference    0\n",
       "label                 0\n",
       "dtype: int64"
      ]
     },
     "execution_count": 180,
     "metadata": {},
     "output_type": "execute_result"
    }
   ],
   "source": [
    "df_test.isnull().sum()"
   ]
  },
  {
   "cell_type": "code",
   "execution_count": 181,
   "id": "49a77464",
   "metadata": {},
   "outputs": [],
   "source": [
    "df_test[\"messages_test\"] = df_test[\"item_text\"].astype(str) + \" \" + df_test[\"gl_acc_name\"] + \" \" + df_test[\"gl_acc_description\"]"
   ]
  },
  {
   "cell_type": "code",
   "execution_count": 182,
   "id": "1482d35b",
   "metadata": {},
   "outputs": [
    {
     "data": {
      "text/plain": [
       "0      FEIGTH CHARGES- AIR Freight inwards charges - ...\n",
       "1      FEIGTH CHARGES- AIR Freight inwards charges - ...\n",
       "2      FEIGTH CHARGES- AIR Freight inwards charges - ...\n",
       "3      FEIGTH CHARGES- AIR Freight inwards charges - ...\n",
       "4      FEIGTH CHARGES- AIR Freight inwards charges - ...\n",
       "                             ...                        \n",
       "669    Import Air Freight Freight inwards charges - A...\n",
       "670    IMPORT AIR Freight inwards charges - Air This ...\n",
       "671    IMPORT AIR FREIGHT Freight inwards charges - A...\n",
       "672    IMPORT AIR FREIGHT Freight inwards charges - A...\n",
       "673    IMPORT AIR Freight inwards charges - Air This ...\n",
       "Name: messages_test, Length: 674, dtype: object"
      ]
     },
     "execution_count": 182,
     "metadata": {},
     "output_type": "execute_result"
    }
   ],
   "source": [
    "df_test[\"messages_test\"]"
   ]
  },
  {
   "cell_type": "code",
   "execution_count": 183,
   "id": "670a8479",
   "metadata": {},
   "outputs": [],
   "source": [
    "#seperate the data and label\n",
    "X_testing =df.drop(columns=\"label\",axis=1) #axis=1 \"removing a column\""
   ]
  },
  {
   "cell_type": "code",
   "execution_count": 184,
   "id": "d71a73cf",
   "metadata": {},
   "outputs": [
    {
     "data": {
      "text/html": [
       "<div>\n",
       "<style scoped>\n",
       "    .dataframe tbody tr th:only-of-type {\n",
       "        vertical-align: middle;\n",
       "    }\n",
       "\n",
       "    .dataframe tbody tr th {\n",
       "        vertical-align: top;\n",
       "    }\n",
       "\n",
       "    .dataframe thead th {\n",
       "        text-align: right;\n",
       "    }\n",
       "</style>\n",
       "<table border=\"1\" class=\"dataframe\">\n",
       "  <thead>\n",
       "    <tr style=\"text-align: right;\">\n",
       "      <th></th>\n",
       "      <th>dc_indicator</th>\n",
       "      <th>gl</th>\n",
       "      <th>vendor</th>\n",
       "      <th>item_text</th>\n",
       "      <th>gl_acc_name</th>\n",
       "      <th>gl_acc_description</th>\n",
       "      <th>document_reference</th>\n",
       "      <th>messages</th>\n",
       "    </tr>\n",
       "  </thead>\n",
       "  <tbody>\n",
       "    <tr>\n",
       "      <th>0</th>\n",
       "      <td>H</td>\n",
       "      <td>61004060</td>\n",
       "      <td></td>\n",
       "      <td>Export AF -  Correction for AI-DN-20210615</td>\n",
       "      <td>Freight inwards charges - Air</td>\n",
       "      <td>This account is used to record the freight cha...</td>\n",
       "      <td>AF PAYMENT</td>\n",
       "      <td>export af correct ai dn freight inward charg a...</td>\n",
       "    </tr>\n",
       "    <tr>\n",
       "      <th>1</th>\n",
       "      <td>H</td>\n",
       "      <td>61004060</td>\n",
       "      <td></td>\n",
       "      <td>Credit Note</td>\n",
       "      <td>Freight inwards charges - Air</td>\n",
       "      <td>This account is used to record the freight cha...</td>\n",
       "      <td>KATF018288</td>\n",
       "      <td>credit note freight inward charg air account u...</td>\n",
       "    </tr>\n",
       "    <tr>\n",
       "      <th>2</th>\n",
       "      <td>H</td>\n",
       "      <td>61004060</td>\n",
       "      <td></td>\n",
       "      <td>Credit Note</td>\n",
       "      <td>Freight inwards charges - Air</td>\n",
       "      <td>This account is used to record the freight cha...</td>\n",
       "      <td>KATF017939</td>\n",
       "      <td>credit note freight inward charg air account u...</td>\n",
       "    </tr>\n",
       "    <tr>\n",
       "      <th>3</th>\n",
       "      <td>H</td>\n",
       "      <td>61004060</td>\n",
       "      <td></td>\n",
       "      <td>Credit Note</td>\n",
       "      <td>Freight inwards charges - Air</td>\n",
       "      <td>This account is used to record the freight cha...</td>\n",
       "      <td>KATF018434</td>\n",
       "      <td>credit note freight inward charg air account u...</td>\n",
       "    </tr>\n",
       "    <tr>\n",
       "      <th>4</th>\n",
       "      <td>H</td>\n",
       "      <td>34001010</td>\n",
       "      <td>304285</td>\n",
       "      <td>Import Charges - AIR</td>\n",
       "      <td>Freight inwards charges - Air</td>\n",
       "      <td>This account is used to record the freight cha...</td>\n",
       "      <td>KATF017842</td>\n",
       "      <td>import charg air freight inward charg air acco...</td>\n",
       "    </tr>\n",
       "    <tr>\n",
       "      <th>...</th>\n",
       "      <td>...</td>\n",
       "      <td>...</td>\n",
       "      <td>...</td>\n",
       "      <td>...</td>\n",
       "      <td>...</td>\n",
       "      <td>...</td>\n",
       "      <td>...</td>\n",
       "      <td>...</td>\n",
       "    </tr>\n",
       "    <tr>\n",
       "      <th>4995</th>\n",
       "      <td>H</td>\n",
       "      <td>34002010</td>\n",
       "      <td>402349</td>\n",
       "      <td>FEIGTH CHARGES- AIR</td>\n",
       "      <td>Freight inwards charges - Air</td>\n",
       "      <td>This account is used to record the freight cha...</td>\n",
       "      <td>110281</td>\n",
       "      <td>feigth charg air freight inward charg air acco...</td>\n",
       "    </tr>\n",
       "    <tr>\n",
       "      <th>4996</th>\n",
       "      <td>H</td>\n",
       "      <td>34002010</td>\n",
       "      <td>402349</td>\n",
       "      <td>FEIGTH CHARGES- AIR</td>\n",
       "      <td>Freight inwards charges - Air</td>\n",
       "      <td>This account is used to record the freight cha...</td>\n",
       "      <td>110281A</td>\n",
       "      <td>feigth charg air freight inward charg air acco...</td>\n",
       "    </tr>\n",
       "    <tr>\n",
       "      <th>4997</th>\n",
       "      <td>H</td>\n",
       "      <td>34002010</td>\n",
       "      <td>402349</td>\n",
       "      <td>FEIGTH CHARGES- AIR</td>\n",
       "      <td>Freight inwards charges - Air</td>\n",
       "      <td>This account is used to record the freight cha...</td>\n",
       "      <td>110376</td>\n",
       "      <td>feigth charg air freight inward charg air acco...</td>\n",
       "    </tr>\n",
       "    <tr>\n",
       "      <th>4998</th>\n",
       "      <td>H</td>\n",
       "      <td>34002010</td>\n",
       "      <td>402349</td>\n",
       "      <td>FEIGTH CHARGES- AIR</td>\n",
       "      <td>Freight inwards charges - Air</td>\n",
       "      <td>This account is used to record the freight cha...</td>\n",
       "      <td>110377</td>\n",
       "      <td>feigth charg air freight inward charg air acco...</td>\n",
       "    </tr>\n",
       "    <tr>\n",
       "      <th>4999</th>\n",
       "      <td>H</td>\n",
       "      <td>34002010</td>\n",
       "      <td>402349</td>\n",
       "      <td>FEIGTH CHARGES- AIR</td>\n",
       "      <td>Freight inwards charges - Air</td>\n",
       "      <td>This account is used to record the freight cha...</td>\n",
       "      <td>110672A</td>\n",
       "      <td>feigth charg air freight inward charg air acco...</td>\n",
       "    </tr>\n",
       "  </tbody>\n",
       "</table>\n",
       "<p>5000 rows × 8 columns</p>\n",
       "</div>"
      ],
      "text/plain": [
       "     dc_indicator        gl  vendor  \\\n",
       "0               H  61004060           \n",
       "1               H  61004060           \n",
       "2               H  61004060           \n",
       "3               H  61004060           \n",
       "4               H  34001010  304285   \n",
       "...           ...       ...     ...   \n",
       "4995            H  34002010  402349   \n",
       "4996            H  34002010  402349   \n",
       "4997            H  34002010  402349   \n",
       "4998            H  34002010  402349   \n",
       "4999            H  34002010  402349   \n",
       "\n",
       "                                       item_text  \\\n",
       "0     Export AF -  Correction for AI-DN-20210615   \n",
       "1                                    Credit Note   \n",
       "2                                    Credit Note   \n",
       "3                                    Credit Note   \n",
       "4                           Import Charges - AIR   \n",
       "...                                          ...   \n",
       "4995                         FEIGTH CHARGES- AIR   \n",
       "4996                         FEIGTH CHARGES- AIR   \n",
       "4997                         FEIGTH CHARGES- AIR   \n",
       "4998                         FEIGTH CHARGES- AIR   \n",
       "4999                         FEIGTH CHARGES- AIR   \n",
       "\n",
       "                        gl_acc_name  \\\n",
       "0     Freight inwards charges - Air   \n",
       "1     Freight inwards charges - Air   \n",
       "2     Freight inwards charges - Air   \n",
       "3     Freight inwards charges - Air   \n",
       "4     Freight inwards charges - Air   \n",
       "...                             ...   \n",
       "4995  Freight inwards charges - Air   \n",
       "4996  Freight inwards charges - Air   \n",
       "4997  Freight inwards charges - Air   \n",
       "4998  Freight inwards charges - Air   \n",
       "4999  Freight inwards charges - Air   \n",
       "\n",
       "                                     gl_acc_description document_reference  \\\n",
       "0     This account is used to record the freight cha...         AF PAYMENT   \n",
       "1     This account is used to record the freight cha...         KATF018288   \n",
       "2     This account is used to record the freight cha...         KATF017939   \n",
       "3     This account is used to record the freight cha...         KATF018434   \n",
       "4     This account is used to record the freight cha...         KATF017842   \n",
       "...                                                 ...                ...   \n",
       "4995  This account is used to record the freight cha...             110281   \n",
       "4996  This account is used to record the freight cha...            110281A   \n",
       "4997  This account is used to record the freight cha...             110376   \n",
       "4998  This account is used to record the freight cha...             110377   \n",
       "4999  This account is used to record the freight cha...            110672A   \n",
       "\n",
       "                                               messages  \n",
       "0     export af correct ai dn freight inward charg a...  \n",
       "1     credit note freight inward charg air account u...  \n",
       "2     credit note freight inward charg air account u...  \n",
       "3     credit note freight inward charg air account u...  \n",
       "4     import charg air freight inward charg air acco...  \n",
       "...                                                 ...  \n",
       "4995  feigth charg air freight inward charg air acco...  \n",
       "4996  feigth charg air freight inward charg air acco...  \n",
       "4997  feigth charg air freight inward charg air acco...  \n",
       "4998  feigth charg air freight inward charg air acco...  \n",
       "4999  feigth charg air freight inward charg air acco...  \n",
       "\n",
       "[5000 rows x 8 columns]"
      ]
     },
     "execution_count": 184,
     "metadata": {},
     "output_type": "execute_result"
    }
   ],
   "source": [
    "X_testing"
   ]
  },
  {
   "cell_type": "code",
   "execution_count": 185,
   "id": "b2a66f74",
   "metadata": {},
   "outputs": [],
   "source": [
    "df_test[\"messages_test\"] = df_test[\"messages_test\"].apply(stemming)"
   ]
  },
  {
   "cell_type": "code",
   "execution_count": 186,
   "id": "9c090105",
   "metadata": {
    "scrolled": true
   },
   "outputs": [
    {
     "name": "stdout",
     "output_type": "stream",
     "text": [
      "0      feigth charg air freight inward charg air acco...\n",
      "1      feigth charg air freight inward charg air acco...\n",
      "2      feigth charg air freight inward charg air acco...\n",
      "3      feigth charg air freight inward charg air acco...\n",
      "4      feigth charg air freight inward charg air acco...\n",
      "                             ...                        \n",
      "669    import air freight freight inward charg air ac...\n",
      "670    import air freight inward charg air account us...\n",
      "671    import air freight freight inward charg air ac...\n",
      "672    import air freight freight inward charg air ac...\n",
      "673    import air freight inward charg air account us...\n",
      "Name: messages_test, Length: 674, dtype: object\n"
     ]
    }
   ],
   "source": [
    "print(df_test[\"messages_test\"])"
   ]
  },
  {
   "cell_type": "code",
   "execution_count": 187,
   "id": "6101deb4",
   "metadata": {},
   "outputs": [],
   "source": [
    "X_testing=df_test[\"messages_test\"].values\n",
    "y_testing=df_test[\"label\"].values"
   ]
  },
  {
   "cell_type": "code",
   "execution_count": 188,
   "id": "d5a2265b",
   "metadata": {},
   "outputs": [],
   "source": [
    "#converting data to numerical data\n",
    "\n",
    "vectorizer=TfidfVectorizer(max_features=200 , ngram_range=(1,3))\n",
    "X_testing=vectorizer.fit_transform(X_testing)"
   ]
  },
  {
   "cell_type": "code",
   "execution_count": 189,
   "id": "4a2ccc76",
   "metadata": {},
   "outputs": [
    {
     "name": "stdout",
     "output_type": "stream",
     "text": [
      "  (0, 124)\t0.11401878697385624\n",
      "  (0, 163)\t0.11401878697385624\n",
      "  (0, 85)\t0.11401878697385624\n",
      "  (0, 88)\t0.11401878697385624\n",
      "  (0, 25)\t0.11401878697385624\n",
      "  (0, 61)\t0.11401878697385624\n",
      "  (0, 166)\t0.11401878697385624\n",
      "  (0, 196)\t0.11401878697385624\n",
      "  (0, 2)\t0.11401878697385624\n",
      "  (0, 9)\t0.11401878697385624\n",
      "  (0, 22)\t0.11401878697385624\n",
      "  (0, 91)\t0.11401878697385624\n",
      "  (0, 69)\t0.11401878697385624\n",
      "  (0, 13)\t0.18287656206768774\n",
      "  (0, 23)\t0.1959589514976437\n",
      "  (0, 54)\t0.19841106292934876\n",
      "  (0, 143)\t0.11401878697385624\n",
      "  (0, 123)\t0.11401878697385624\n",
      "  (0, 162)\t0.11401878697385624\n",
      "  (0, 84)\t0.11401878697385624\n",
      "  (0, 87)\t0.11401878697385624\n",
      "  (0, 24)\t0.11401878697385624\n",
      "  (0, 59)\t0.11401878697385624\n",
      "  (0, 165)\t0.11401878697385624\n",
      "  (0, 195)\t0.11401878697385624\n",
      "  :\t:\n",
      "  (673, 162)\t0.12094336549695937\n",
      "  (673, 84)\t0.12094336549695937\n",
      "  (673, 87)\t0.12094336549695937\n",
      "  (673, 24)\t0.12094336549695937\n",
      "  (673, 59)\t0.12094336549695937\n",
      "  (673, 165)\t0.12094336549695937\n",
      "  (673, 195)\t0.12094336549695937\n",
      "  (673, 1)\t0.12094336549695937\n",
      "  (673, 8)\t0.12094336549695937\n",
      "  (673, 90)\t0.12094336549695937\n",
      "  (673, 68)\t0.12094336549695937\n",
      "  (673, 10)\t0.13845738083120046\n",
      "  (673, 21)\t0.12094336549695937\n",
      "  (673, 142)\t0.12094336549695937\n",
      "  (673, 122)\t0.12094336549695937\n",
      "  (673, 161)\t0.12094336549695937\n",
      "  (673, 79)\t0.24188673099391875\n",
      "  (673, 86)\t0.12094336549695937\n",
      "  (673, 164)\t0.12094336549695937\n",
      "  (673, 194)\t0.12094336549695937\n",
      "  (673, 0)\t0.12094336549695937\n",
      "  (673, 89)\t0.12094336549695937\n",
      "  (673, 58)\t0.24188673099391875\n",
      "  (673, 7)\t0.3628300964908781\n",
      "  (673, 20)\t0.24188673099391875\n"
     ]
    }
   ],
   "source": [
    "print(X_testing)"
   ]
  },
  {
   "cell_type": "code",
   "execution_count": 190,
   "id": "d9a8bd1f",
   "metadata": {},
   "outputs": [
    {
     "data": {
      "text/plain": [
       "(674, 200)"
      ]
     },
     "execution_count": 190,
     "metadata": {},
     "output_type": "execute_result"
    }
   ],
   "source": [
    "X_testing.shape"
   ]
  },
  {
   "cell_type": "code",
   "execution_count": 191,
   "id": "2c82e17a",
   "metadata": {},
   "outputs": [],
   "source": [
    "#accuracy on external data\n",
    "\n",
    "X_testing_pred=log_reg.predict(X_testing)\n",
    "acc = accuracy_score(X_testing_pred,y_testing)"
   ]
  },
  {
   "cell_type": "code",
   "execution_count": 192,
   "id": "64e9f061",
   "metadata": {},
   "outputs": [
    {
     "name": "stdout",
     "output_type": "stream",
     "text": [
      "train data accuracy :  89.02077151335311 %\n"
     ]
    }
   ],
   "source": [
    "print(\"train data accuracy : \",acc*100,\"%\")"
   ]
  }
 ],
 "metadata": {
  "kernelspec": {
   "display_name": "Python 3",
   "language": "python",
   "name": "python3"
  },
  "language_info": {
   "codemirror_mode": {
    "name": "ipython",
    "version": 3
   },
   "file_extension": ".py",
   "mimetype": "text/x-python",
   "name": "python",
   "nbconvert_exporter": "python",
   "pygments_lexer": "ipython3",
   "version": "3.8.8"
  }
 },
 "nbformat": 4,
 "nbformat_minor": 5
}
