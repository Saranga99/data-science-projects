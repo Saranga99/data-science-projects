{
 "cells": [
  {
   "cell_type": "code",
   "execution_count": 100,
   "metadata": {},
   "outputs": [],
   "source": [
    "import pandas as pd\n",
    "import numpy as np\n",
    "import re #usful for searching words in pharagraph\n",
    "from nltk.corpus import stopwords  #words doesn't add much value to phara (rticals)\n",
    "from nltk.stem.porter import PorterStemmer #gives a root word\n",
    "from sklearn.feature_extraction.text import CountVectorizer, TfidfVectorizer, HashingVectorizer #convert text in to feature vectors\n",
    "from sklearn.model_selection import train_test_split \n",
    "from sklearn.linear_model import LogisticRegression\n",
    "from sklearn.naive_bayes import MultinomialNB\n",
    "from sklearn.metrics import accuracy_score\n",
    "from sklearn.metrics import confusion_matrix"
   ]
  },
  {
   "cell_type": "code",
   "execution_count": 101,
   "metadata": {},
   "outputs": [],
   "source": [
    "df=pd.read_excel('dataset1.xlsx')"
   ]
  },
  {
   "cell_type": "code",
   "execution_count": 102,
   "metadata": {
    "scrolled": true
   },
   "outputs": [
    {
     "data": {
      "text/html": [
       "<div>\n",
       "<style scoped>\n",
       "    .dataframe tbody tr th:only-of-type {\n",
       "        vertical-align: middle;\n",
       "    }\n",
       "\n",
       "    .dataframe tbody tr th {\n",
       "        vertical-align: top;\n",
       "    }\n",
       "\n",
       "    .dataframe thead th {\n",
       "        text-align: right;\n",
       "    }\n",
       "</style>\n",
       "<table border=\"1\" class=\"dataframe\">\n",
       "  <thead>\n",
       "    <tr style=\"text-align: right;\">\n",
       "      <th></th>\n",
       "      <th>dc_indicator</th>\n",
       "      <th>gl</th>\n",
       "      <th>vendor</th>\n",
       "      <th>item_text</th>\n",
       "      <th>gl_acc_name</th>\n",
       "      <th>gl_acc_description</th>\n",
       "      <th>document_reference</th>\n",
       "      <th>label</th>\n",
       "    </tr>\n",
       "  </thead>\n",
       "  <tbody>\n",
       "    <tr>\n",
       "      <th>0</th>\n",
       "      <td>H</td>\n",
       "      <td>61004060</td>\n",
       "      <td></td>\n",
       "      <td>Export AF -  Correction for AI-DN-20210615</td>\n",
       "      <td>Freight inwards charges - Air</td>\n",
       "      <td>This account is used to record the freight cha...</td>\n",
       "      <td>AF PAYMENT</td>\n",
       "      <td>0</td>\n",
       "    </tr>\n",
       "    <tr>\n",
       "      <th>1</th>\n",
       "      <td>H</td>\n",
       "      <td>61004060</td>\n",
       "      <td></td>\n",
       "      <td>Credit Note</td>\n",
       "      <td>Freight inwards charges - Air</td>\n",
       "      <td>This account is used to record the freight cha...</td>\n",
       "      <td>KATF018288</td>\n",
       "      <td>0</td>\n",
       "    </tr>\n",
       "    <tr>\n",
       "      <th>2</th>\n",
       "      <td>H</td>\n",
       "      <td>61004060</td>\n",
       "      <td></td>\n",
       "      <td>Credit Note</td>\n",
       "      <td>Freight inwards charges - Air</td>\n",
       "      <td>This account is used to record the freight cha...</td>\n",
       "      <td>KATF017939</td>\n",
       "      <td>0</td>\n",
       "    </tr>\n",
       "    <tr>\n",
       "      <th>3</th>\n",
       "      <td>H</td>\n",
       "      <td>61004060</td>\n",
       "      <td></td>\n",
       "      <td>Credit Note</td>\n",
       "      <td>Freight inwards charges - Air</td>\n",
       "      <td>This account is used to record the freight cha...</td>\n",
       "      <td>KATF018434</td>\n",
       "      <td>0</td>\n",
       "    </tr>\n",
       "    <tr>\n",
       "      <th>4</th>\n",
       "      <td>H</td>\n",
       "      <td>34001010</td>\n",
       "      <td>304285</td>\n",
       "      <td>Import Charges - AIR</td>\n",
       "      <td>Freight inwards charges - Air</td>\n",
       "      <td>This account is used to record the freight cha...</td>\n",
       "      <td>KATF017842</td>\n",
       "      <td>1</td>\n",
       "    </tr>\n",
       "  </tbody>\n",
       "</table>\n",
       "</div>"
      ],
      "text/plain": [
       "  dc_indicator        gl  vendor                                   item_text  \\\n",
       "0            H  61004060          Export AF -  Correction for AI-DN-20210615   \n",
       "1            H  61004060                                         Credit Note   \n",
       "2            H  61004060                                         Credit Note   \n",
       "3            H  61004060                                         Credit Note   \n",
       "4            H  34001010  304285                        Import Charges - AIR   \n",
       "\n",
       "                     gl_acc_name  \\\n",
       "0  Freight inwards charges - Air   \n",
       "1  Freight inwards charges - Air   \n",
       "2  Freight inwards charges - Air   \n",
       "3  Freight inwards charges - Air   \n",
       "4  Freight inwards charges - Air   \n",
       "\n",
       "                                  gl_acc_description document_reference  label  \n",
       "0  This account is used to record the freight cha...         AF PAYMENT      0  \n",
       "1  This account is used to record the freight cha...         KATF018288      0  \n",
       "2  This account is used to record the freight cha...         KATF017939      0  \n",
       "3  This account is used to record the freight cha...         KATF018434      0  \n",
       "4  This account is used to record the freight cha...         KATF017842      1  "
      ]
     },
     "execution_count": 102,
     "metadata": {},
     "output_type": "execute_result"
    }
   ],
   "source": [
    "df.head()"
   ]
  },
  {
   "cell_type": "code",
   "execution_count": 103,
   "metadata": {},
   "outputs": [
    {
     "data": {
      "text/plain": [
       "774"
      ]
     },
     "execution_count": 103,
     "metadata": {},
     "output_type": "execute_result"
    }
   ],
   "source": [
    "len(df['item_text'].unique())"
   ]
  },
  {
   "cell_type": "code",
   "execution_count": 104,
   "metadata": {},
   "outputs": [
    {
     "data": {
      "text/plain": [
       "Index(['dc_indicator', 'gl', 'vendor', 'item_text', 'gl_acc_name',\n",
       "       'gl_acc_description', 'document_reference', 'label'],\n",
       "      dtype='object')"
      ]
     },
     "execution_count": 104,
     "metadata": {},
     "output_type": "execute_result"
    }
   ],
   "source": [
    "df.columns"
   ]
  },
  {
   "cell_type": "code",
   "execution_count": 105,
   "metadata": {},
   "outputs": [
    {
     "name": "stderr",
     "output_type": "stream",
     "text": [
      "[nltk_data] Downloading package stopwords to\n",
      "[nltk_data]     C:\\Users\\Saranga\\AppData\\Roaming\\nltk_data...\n",
      "[nltk_data]   Package stopwords is already up-to-date!\n"
     ]
    },
    {
     "data": {
      "text/plain": [
       "True"
      ]
     },
     "execution_count": 105,
     "metadata": {},
     "output_type": "execute_result"
    }
   ],
   "source": [
    "import nltk\n",
    "nltk.download(\"stopwords\")"
   ]
  },
  {
   "cell_type": "code",
   "execution_count": 106,
   "metadata": {},
   "outputs": [
    {
     "name": "stdout",
     "output_type": "stream",
     "text": [
      "['i', 'me', 'my', 'myself', 'we', 'our', 'ours', 'ourselves', 'you', \"you're\", \"you've\", \"you'll\", \"you'd\", 'your', 'yours', 'yourself', 'yourselves', 'he', 'him', 'his', 'himself', 'she', \"she's\", 'her', 'hers', 'herself', 'it', \"it's\", 'its', 'itself', 'they', 'them', 'their', 'theirs', 'themselves', 'what', 'which', 'who', 'whom', 'this', 'that', \"that'll\", 'these', 'those', 'am', 'is', 'are', 'was', 'were', 'be', 'been', 'being', 'have', 'has', 'had', 'having', 'do', 'does', 'did', 'doing', 'a', 'an', 'the', 'and', 'but', 'if', 'or', 'because', 'as', 'until', 'while', 'of', 'at', 'by', 'for', 'with', 'about', 'against', 'between', 'into', 'through', 'during', 'before', 'after', 'above', 'below', 'to', 'from', 'up', 'down', 'in', 'out', 'on', 'off', 'over', 'under', 'again', 'further', 'then', 'once', 'here', 'there', 'when', 'where', 'why', 'how', 'all', 'any', 'both', 'each', 'few', 'more', 'most', 'other', 'some', 'such', 'no', 'nor', 'not', 'only', 'own', 'same', 'so', 'than', 'too', 'very', 's', 't', 'can', 'will', 'just', 'don', \"don't\", 'should', \"should've\", 'now', 'd', 'll', 'm', 'o', 're', 've', 'y', 'ain', 'aren', \"aren't\", 'couldn', \"couldn't\", 'didn', \"didn't\", 'doesn', \"doesn't\", 'hadn', \"hadn't\", 'hasn', \"hasn't\", 'haven', \"haven't\", 'isn', \"isn't\", 'ma', 'mightn', \"mightn't\", 'mustn', \"mustn't\", 'needn', \"needn't\", 'shan', \"shan't\", 'shouldn', \"shouldn't\", 'wasn', \"wasn't\", 'weren', \"weren't\", 'won', \"won't\", 'wouldn', \"wouldn't\"]\n"
     ]
    }
   ],
   "source": [
    "print(stopwords.words(\"english\"))"
   ]
  },
  {
   "cell_type": "code",
   "execution_count": 107,
   "metadata": {},
   "outputs": [
    {
     "data": {
      "text/plain": [
       "(5000, 8)"
      ]
     },
     "execution_count": 107,
     "metadata": {},
     "output_type": "execute_result"
    }
   ],
   "source": [
    "df.shape"
   ]
  },
  {
   "cell_type": "code",
   "execution_count": 108,
   "metadata": {
    "scrolled": true
   },
   "outputs": [
    {
     "data": {
      "text/plain": [
       "dc_indicator          0\n",
       "gl                    0\n",
       "vendor                0\n",
       "item_text             0\n",
       "gl_acc_name           0\n",
       "gl_acc_description    0\n",
       "document_reference    0\n",
       "label                 0\n",
       "dtype: int64"
      ]
     },
     "execution_count": 108,
     "metadata": {},
     "output_type": "execute_result"
    }
   ],
   "source": [
    "df.isnull().sum()"
   ]
  },
  {
   "cell_type": "code",
   "execution_count": 109,
   "metadata": {
    "scrolled": true
   },
   "outputs": [
    {
     "data": {
      "text/plain": [
       "dc_indicator          object\n",
       "gl                     int64\n",
       "vendor                object\n",
       "item_text             object\n",
       "gl_acc_name           object\n",
       "gl_acc_description    object\n",
       "document_reference    object\n",
       "label                  int64\n",
       "dtype: object"
      ]
     },
     "execution_count": 109,
     "metadata": {},
     "output_type": "execute_result"
    }
   ],
   "source": [
    "df.dtypes"
   ]
  },
  {
   "cell_type": "code",
   "execution_count": 110,
   "metadata": {},
   "outputs": [],
   "source": [
    "# df[\"messages\"] = df[\"item_text\"].astype(str) + \" \" + df[\"gl_acc_name\"] + \" \" + df[\"gl_acc_description\"]"
   ]
  },
  {
   "cell_type": "code",
   "execution_count": 111,
   "metadata": {},
   "outputs": [],
   "source": [
    "# df[\"messages\"]"
   ]
  },
  {
   "cell_type": "code",
   "execution_count": 112,
   "metadata": {},
   "outputs": [],
   "source": [
    "#seperate the data and label\n",
    "X=df.drop(columns=\"label\",axis=1) #axis=1 \"removing a column\"\n",
    "y=df[\"label\"]"
   ]
  },
  {
   "cell_type": "code",
   "execution_count": 113,
   "metadata": {},
   "outputs": [
    {
     "data": {
      "text/html": [
       "<div>\n",
       "<style scoped>\n",
       "    .dataframe tbody tr th:only-of-type {\n",
       "        vertical-align: middle;\n",
       "    }\n",
       "\n",
       "    .dataframe tbody tr th {\n",
       "        vertical-align: top;\n",
       "    }\n",
       "\n",
       "    .dataframe thead th {\n",
       "        text-align: right;\n",
       "    }\n",
       "</style>\n",
       "<table border=\"1\" class=\"dataframe\">\n",
       "  <thead>\n",
       "    <tr style=\"text-align: right;\">\n",
       "      <th></th>\n",
       "      <th>dc_indicator</th>\n",
       "      <th>gl</th>\n",
       "      <th>vendor</th>\n",
       "      <th>item_text</th>\n",
       "      <th>gl_acc_name</th>\n",
       "      <th>gl_acc_description</th>\n",
       "      <th>document_reference</th>\n",
       "    </tr>\n",
       "  </thead>\n",
       "  <tbody>\n",
       "    <tr>\n",
       "      <th>0</th>\n",
       "      <td>H</td>\n",
       "      <td>61004060</td>\n",
       "      <td></td>\n",
       "      <td>Export AF -  Correction for AI-DN-20210615</td>\n",
       "      <td>Freight inwards charges - Air</td>\n",
       "      <td>This account is used to record the freight cha...</td>\n",
       "      <td>AF PAYMENT</td>\n",
       "    </tr>\n",
       "    <tr>\n",
       "      <th>1</th>\n",
       "      <td>H</td>\n",
       "      <td>61004060</td>\n",
       "      <td></td>\n",
       "      <td>Credit Note</td>\n",
       "      <td>Freight inwards charges - Air</td>\n",
       "      <td>This account is used to record the freight cha...</td>\n",
       "      <td>KATF018288</td>\n",
       "    </tr>\n",
       "    <tr>\n",
       "      <th>2</th>\n",
       "      <td>H</td>\n",
       "      <td>61004060</td>\n",
       "      <td></td>\n",
       "      <td>Credit Note</td>\n",
       "      <td>Freight inwards charges - Air</td>\n",
       "      <td>This account is used to record the freight cha...</td>\n",
       "      <td>KATF017939</td>\n",
       "    </tr>\n",
       "    <tr>\n",
       "      <th>3</th>\n",
       "      <td>H</td>\n",
       "      <td>61004060</td>\n",
       "      <td></td>\n",
       "      <td>Credit Note</td>\n",
       "      <td>Freight inwards charges - Air</td>\n",
       "      <td>This account is used to record the freight cha...</td>\n",
       "      <td>KATF018434</td>\n",
       "    </tr>\n",
       "    <tr>\n",
       "      <th>4</th>\n",
       "      <td>H</td>\n",
       "      <td>34001010</td>\n",
       "      <td>304285</td>\n",
       "      <td>Import Charges - AIR</td>\n",
       "      <td>Freight inwards charges - Air</td>\n",
       "      <td>This account is used to record the freight cha...</td>\n",
       "      <td>KATF017842</td>\n",
       "    </tr>\n",
       "  </tbody>\n",
       "</table>\n",
       "</div>"
      ],
      "text/plain": [
       "  dc_indicator        gl  vendor                                   item_text  \\\n",
       "0            H  61004060          Export AF -  Correction for AI-DN-20210615   \n",
       "1            H  61004060                                         Credit Note   \n",
       "2            H  61004060                                         Credit Note   \n",
       "3            H  61004060                                         Credit Note   \n",
       "4            H  34001010  304285                        Import Charges - AIR   \n",
       "\n",
       "                     gl_acc_name  \\\n",
       "0  Freight inwards charges - Air   \n",
       "1  Freight inwards charges - Air   \n",
       "2  Freight inwards charges - Air   \n",
       "3  Freight inwards charges - Air   \n",
       "4  Freight inwards charges - Air   \n",
       "\n",
       "                                  gl_acc_description document_reference  \n",
       "0  This account is used to record the freight cha...         AF PAYMENT  \n",
       "1  This account is used to record the freight cha...         KATF018288  \n",
       "2  This account is used to record the freight cha...         KATF017939  \n",
       "3  This account is used to record the freight cha...         KATF018434  \n",
       "4  This account is used to record the freight cha...         KATF017842  "
      ]
     },
     "execution_count": 113,
     "metadata": {},
     "output_type": "execute_result"
    }
   ],
   "source": [
    "X.head()"
   ]
  },
  {
   "cell_type": "code",
   "execution_count": 114,
   "metadata": {},
   "outputs": [
    {
     "data": {
      "text/plain": [
       "0       0\n",
       "1       0\n",
       "2       0\n",
       "3       0\n",
       "4       1\n",
       "       ..\n",
       "4995    1\n",
       "4996    1\n",
       "4997    1\n",
       "4998    1\n",
       "4999    1\n",
       "Name: label, Length: 5000, dtype: int64"
      ]
     },
     "execution_count": 114,
     "metadata": {},
     "output_type": "execute_result"
    }
   ],
   "source": [
    "y"
   ]
  },
  {
   "cell_type": "code",
   "execution_count": 115,
   "metadata": {},
   "outputs": [],
   "source": [
    "port_stem=PorterStemmer()"
   ]
  },
  {
   "cell_type": "code",
   "execution_count": 116,
   "metadata": {},
   "outputs": [],
   "source": [
    "def stemming(content):\n",
    "    stemmed_content=re.sub(\"[^a-zA-z]\",\" \",content)\n",
    "    stemmed_content=stemmed_content.lower()\n",
    "    stemmed_content=stemmed_content.split()\n",
    "    stemmed_content=[port_stem.stem(word) for word in stemmed_content if not word in stopwords.words(\"english\")]\n",
    "    stemmed_content= \" \".join(stemmed_content)\n",
    "    return stemmed_content"
   ]
  },
  {
   "cell_type": "code",
   "execution_count": 117,
   "metadata": {},
   "outputs": [],
   "source": [
    "X[\"item_text\"]=X[\"item_text\"].apply(stemming)\n",
    "X[\"gl_acc_name\"]=X[\"gl_acc_name\"].apply(stemming)\n",
    "X[\"gl_acc_description\"]=X[\"gl_acc_description\"].apply(stemming)"
   ]
  },
  {
   "cell_type": "code",
   "execution_count": 118,
   "metadata": {},
   "outputs": [
    {
     "data": {
      "text/html": [
       "<div>\n",
       "<style scoped>\n",
       "    .dataframe tbody tr th:only-of-type {\n",
       "        vertical-align: middle;\n",
       "    }\n",
       "\n",
       "    .dataframe tbody tr th {\n",
       "        vertical-align: top;\n",
       "    }\n",
       "\n",
       "    .dataframe thead th {\n",
       "        text-align: right;\n",
       "    }\n",
       "</style>\n",
       "<table border=\"1\" class=\"dataframe\">\n",
       "  <thead>\n",
       "    <tr style=\"text-align: right;\">\n",
       "      <th></th>\n",
       "      <th>dc_indicator</th>\n",
       "      <th>gl</th>\n",
       "      <th>vendor</th>\n",
       "      <th>item_text</th>\n",
       "      <th>gl_acc_name</th>\n",
       "      <th>gl_acc_description</th>\n",
       "      <th>document_reference</th>\n",
       "    </tr>\n",
       "  </thead>\n",
       "  <tbody>\n",
       "    <tr>\n",
       "      <th>0</th>\n",
       "      <td>H</td>\n",
       "      <td>61004060</td>\n",
       "      <td></td>\n",
       "      <td>export af correct ai dn</td>\n",
       "      <td>freight inward charg air</td>\n",
       "      <td>account use record freight charg incur import ...</td>\n",
       "      <td>AF PAYMENT</td>\n",
       "    </tr>\n",
       "    <tr>\n",
       "      <th>1</th>\n",
       "      <td>H</td>\n",
       "      <td>61004060</td>\n",
       "      <td></td>\n",
       "      <td>credit note</td>\n",
       "      <td>freight inward charg air</td>\n",
       "      <td>account use record freight charg incur import ...</td>\n",
       "      <td>KATF018288</td>\n",
       "    </tr>\n",
       "    <tr>\n",
       "      <th>2</th>\n",
       "      <td>H</td>\n",
       "      <td>61004060</td>\n",
       "      <td></td>\n",
       "      <td>credit note</td>\n",
       "      <td>freight inward charg air</td>\n",
       "      <td>account use record freight charg incur import ...</td>\n",
       "      <td>KATF017939</td>\n",
       "    </tr>\n",
       "    <tr>\n",
       "      <th>3</th>\n",
       "      <td>H</td>\n",
       "      <td>61004060</td>\n",
       "      <td></td>\n",
       "      <td>credit note</td>\n",
       "      <td>freight inward charg air</td>\n",
       "      <td>account use record freight charg incur import ...</td>\n",
       "      <td>KATF018434</td>\n",
       "    </tr>\n",
       "    <tr>\n",
       "      <th>4</th>\n",
       "      <td>H</td>\n",
       "      <td>34001010</td>\n",
       "      <td>304285</td>\n",
       "      <td>import charg air</td>\n",
       "      <td>freight inward charg air</td>\n",
       "      <td>account use record freight charg incur import ...</td>\n",
       "      <td>KATF017842</td>\n",
       "    </tr>\n",
       "  </tbody>\n",
       "</table>\n",
       "</div>"
      ],
      "text/plain": [
       "  dc_indicator        gl  vendor                item_text  \\\n",
       "0            H  61004060          export af correct ai dn   \n",
       "1            H  61004060                      credit note   \n",
       "2            H  61004060                      credit note   \n",
       "3            H  61004060                      credit note   \n",
       "4            H  34001010  304285         import charg air   \n",
       "\n",
       "                gl_acc_name  \\\n",
       "0  freight inward charg air   \n",
       "1  freight inward charg air   \n",
       "2  freight inward charg air   \n",
       "3  freight inward charg air   \n",
       "4  freight inward charg air   \n",
       "\n",
       "                                  gl_acc_description document_reference  \n",
       "0  account use record freight charg incur import ...         AF PAYMENT  \n",
       "1  account use record freight charg incur import ...         KATF018288  \n",
       "2  account use record freight charg incur import ...         KATF017939  \n",
       "3  account use record freight charg incur import ...         KATF018434  \n",
       "4  account use record freight charg incur import ...         KATF017842  "
      ]
     },
     "execution_count": 118,
     "metadata": {},
     "output_type": "execute_result"
    }
   ],
   "source": [
    "X.head()"
   ]
  },
  {
   "cell_type": "code",
   "execution_count": 119,
   "metadata": {},
   "outputs": [],
   "source": [
    "X=df[[\"item_text\",\"gl_acc_name\",\"gl_acc_description\"]]\n",
    "y=df[\"label\"].values"
   ]
  },
  {
   "cell_type": "code",
   "execution_count": 120,
   "metadata": {},
   "outputs": [
    {
     "data": {
      "text/html": [
       "<div>\n",
       "<style scoped>\n",
       "    .dataframe tbody tr th:only-of-type {\n",
       "        vertical-align: middle;\n",
       "    }\n",
       "\n",
       "    .dataframe tbody tr th {\n",
       "        vertical-align: top;\n",
       "    }\n",
       "\n",
       "    .dataframe thead th {\n",
       "        text-align: right;\n",
       "    }\n",
       "</style>\n",
       "<table border=\"1\" class=\"dataframe\">\n",
       "  <thead>\n",
       "    <tr style=\"text-align: right;\">\n",
       "      <th></th>\n",
       "      <th>item_text</th>\n",
       "      <th>gl_acc_name</th>\n",
       "      <th>gl_acc_description</th>\n",
       "    </tr>\n",
       "  </thead>\n",
       "  <tbody>\n",
       "    <tr>\n",
       "      <th>0</th>\n",
       "      <td>Export AF -  Correction for AI-DN-20210615</td>\n",
       "      <td>Freight inwards charges - Air</td>\n",
       "      <td>This account is used to record the freight cha...</td>\n",
       "    </tr>\n",
       "    <tr>\n",
       "      <th>1</th>\n",
       "      <td>Credit Note</td>\n",
       "      <td>Freight inwards charges - Air</td>\n",
       "      <td>This account is used to record the freight cha...</td>\n",
       "    </tr>\n",
       "    <tr>\n",
       "      <th>2</th>\n",
       "      <td>Credit Note</td>\n",
       "      <td>Freight inwards charges - Air</td>\n",
       "      <td>This account is used to record the freight cha...</td>\n",
       "    </tr>\n",
       "    <tr>\n",
       "      <th>3</th>\n",
       "      <td>Credit Note</td>\n",
       "      <td>Freight inwards charges - Air</td>\n",
       "      <td>This account is used to record the freight cha...</td>\n",
       "    </tr>\n",
       "    <tr>\n",
       "      <th>4</th>\n",
       "      <td>Import Charges - AIR</td>\n",
       "      <td>Freight inwards charges - Air</td>\n",
       "      <td>This account is used to record the freight cha...</td>\n",
       "    </tr>\n",
       "    <tr>\n",
       "      <th>...</th>\n",
       "      <td>...</td>\n",
       "      <td>...</td>\n",
       "      <td>...</td>\n",
       "    </tr>\n",
       "    <tr>\n",
       "      <th>4995</th>\n",
       "      <td>FEIGTH CHARGES- AIR</td>\n",
       "      <td>Freight inwards charges - Air</td>\n",
       "      <td>This account is used to record the freight cha...</td>\n",
       "    </tr>\n",
       "    <tr>\n",
       "      <th>4996</th>\n",
       "      <td>FEIGTH CHARGES- AIR</td>\n",
       "      <td>Freight inwards charges - Air</td>\n",
       "      <td>This account is used to record the freight cha...</td>\n",
       "    </tr>\n",
       "    <tr>\n",
       "      <th>4997</th>\n",
       "      <td>FEIGTH CHARGES- AIR</td>\n",
       "      <td>Freight inwards charges - Air</td>\n",
       "      <td>This account is used to record the freight cha...</td>\n",
       "    </tr>\n",
       "    <tr>\n",
       "      <th>4998</th>\n",
       "      <td>FEIGTH CHARGES- AIR</td>\n",
       "      <td>Freight inwards charges - Air</td>\n",
       "      <td>This account is used to record the freight cha...</td>\n",
       "    </tr>\n",
       "    <tr>\n",
       "      <th>4999</th>\n",
       "      <td>FEIGTH CHARGES- AIR</td>\n",
       "      <td>Freight inwards charges - Air</td>\n",
       "      <td>This account is used to record the freight cha...</td>\n",
       "    </tr>\n",
       "  </tbody>\n",
       "</table>\n",
       "<p>5000 rows × 3 columns</p>\n",
       "</div>"
      ],
      "text/plain": [
       "                                       item_text  \\\n",
       "0     Export AF -  Correction for AI-DN-20210615   \n",
       "1                                    Credit Note   \n",
       "2                                    Credit Note   \n",
       "3                                    Credit Note   \n",
       "4                           Import Charges - AIR   \n",
       "...                                          ...   \n",
       "4995                         FEIGTH CHARGES- AIR   \n",
       "4996                         FEIGTH CHARGES- AIR   \n",
       "4997                         FEIGTH CHARGES- AIR   \n",
       "4998                         FEIGTH CHARGES- AIR   \n",
       "4999                         FEIGTH CHARGES- AIR   \n",
       "\n",
       "                        gl_acc_name  \\\n",
       "0     Freight inwards charges - Air   \n",
       "1     Freight inwards charges - Air   \n",
       "2     Freight inwards charges - Air   \n",
       "3     Freight inwards charges - Air   \n",
       "4     Freight inwards charges - Air   \n",
       "...                             ...   \n",
       "4995  Freight inwards charges - Air   \n",
       "4996  Freight inwards charges - Air   \n",
       "4997  Freight inwards charges - Air   \n",
       "4998  Freight inwards charges - Air   \n",
       "4999  Freight inwards charges - Air   \n",
       "\n",
       "                                     gl_acc_description  \n",
       "0     This account is used to record the freight cha...  \n",
       "1     This account is used to record the freight cha...  \n",
       "2     This account is used to record the freight cha...  \n",
       "3     This account is used to record the freight cha...  \n",
       "4     This account is used to record the freight cha...  \n",
       "...                                                 ...  \n",
       "4995  This account is used to record the freight cha...  \n",
       "4996  This account is used to record the freight cha...  \n",
       "4997  This account is used to record the freight cha...  \n",
       "4998  This account is used to record the freight cha...  \n",
       "4999  This account is used to record the freight cha...  \n",
       "\n",
       "[5000 rows x 3 columns]"
      ]
     },
     "execution_count": 120,
     "metadata": {},
     "output_type": "execute_result"
    }
   ],
   "source": [
    "X"
   ]
  },
  {
   "cell_type": "code",
   "execution_count": 121,
   "metadata": {},
   "outputs": [
    {
     "data": {
      "text/plain": [
       "array([0, 0, 0, ..., 1, 1, 1], dtype=int64)"
      ]
     },
     "execution_count": 121,
     "metadata": {},
     "output_type": "execute_result"
    }
   ],
   "source": [
    "y"
   ]
  },
  {
   "cell_type": "code",
   "execution_count": 122,
   "metadata": {},
   "outputs": [],
   "source": [
    "sample = X.apply(lambda col: col.str.strip())"
   ]
  },
  {
   "cell_type": "code",
   "execution_count": 124,
   "metadata": {},
   "outputs": [],
   "source": [
    "#converting data to numerical data\n",
    "\n",
    "vectorizer=TfidfVectorizer(max_features=50 , ngram_range=(1,3))\n",
    "X=sample.apply(lambda col: vectorizer.fit_transform(col))"
   ]
  },
  {
   "cell_type": "code",
   "execution_count": 125,
   "metadata": {
    "scrolled": true
   },
   "outputs": [
    {
     "data": {
      "text/plain": [
       "(3,)"
      ]
     },
     "execution_count": 125,
     "metadata": {},
     "output_type": "execute_result"
    }
   ],
   "source": [
    "X.shape"
   ]
  },
  {
   "cell_type": "code",
   "execution_count": null,
   "metadata": {},
   "outputs": [],
   "source": [
    "X_train,X_test,y_train,y_test=train_test_split(X,y,test_size=0.2,stratify=y,random_state=2)"
   ]
  },
  {
   "cell_type": "code",
   "execution_count": null,
   "metadata": {},
   "outputs": [],
   "source": [
    "log_reg=LogisticRegression()"
   ]
  },
  {
   "cell_type": "code",
   "execution_count": null,
   "metadata": {},
   "outputs": [],
   "source": [
    "log_reg.fit(X_train,y_train)"
   ]
  },
  {
   "cell_type": "code",
   "execution_count": null,
   "metadata": {},
   "outputs": [],
   "source": [
    "#accuracy on train data\n",
    "\n",
    "X_train_pred=log_reg.predict(X_train)\n",
    "acc = accuracy_score(X_train_pred,y_train)"
   ]
  },
  {
   "cell_type": "code",
   "execution_count": null,
   "metadata": {},
   "outputs": [],
   "source": [
    "print(\"train data accuracy : \",acc*100,\"%\")"
   ]
  },
  {
   "cell_type": "code",
   "execution_count": null,
   "metadata": {},
   "outputs": [],
   "source": [
    "#accuracy on test data\n",
    "\n",
    "X_test_pred=log_reg.predict(X_test)\n",
    "acc=accuracy_score(X_test_pred,y_test)"
   ]
  },
  {
   "cell_type": "code",
   "execution_count": null,
   "metadata": {},
   "outputs": [],
   "source": [
    "print(\"train data accuracy : \",acc*100,\"%\")"
   ]
  },
  {
   "cell_type": "code",
   "execution_count": null,
   "metadata": {},
   "outputs": [],
   "source": [
    "log_reg.predict(X_test[:30])"
   ]
  },
  {
   "cell_type": "code",
   "execution_count": null,
   "metadata": {},
   "outputs": [],
   "source": [
    "print(y_test[:30])"
   ]
  },
  {
   "cell_type": "code",
   "execution_count": null,
   "metadata": {},
   "outputs": [],
   "source": [
    "#### trying bring up a test file\n",
    "\n",
    "df_test=pd.read_excel('dataset1_test.xlsx')"
   ]
  },
  {
   "cell_type": "code",
   "execution_count": null,
   "metadata": {
    "scrolled": true
   },
   "outputs": [],
   "source": [
    "df_test.head()"
   ]
  },
  {
   "cell_type": "code",
   "execution_count": null,
   "metadata": {},
   "outputs": [],
   "source": [
    "df_test.shape"
   ]
  },
  {
   "cell_type": "code",
   "execution_count": null,
   "metadata": {},
   "outputs": [],
   "source": [
    "df_test.isnull().sum()"
   ]
  },
  {
   "cell_type": "code",
   "execution_count": null,
   "metadata": {},
   "outputs": [],
   "source": [
    "df_test[\"messages_test\"] = df_test[\"item_text\"].astype(str) + \" \" + df_test[\"gl_acc_name\"] + \" \" + df_test[\"gl_acc_description\"]"
   ]
  },
  {
   "cell_type": "code",
   "execution_count": null,
   "metadata": {},
   "outputs": [],
   "source": [
    "df_test[\"messages_test\"]"
   ]
  },
  {
   "cell_type": "code",
   "execution_count": null,
   "metadata": {},
   "outputs": [],
   "source": [
    "#seperate the data and label\n",
    "X_testing =df.drop(columns=\"label\",axis=1) #axis=1 \"removing a column\""
   ]
  },
  {
   "cell_type": "code",
   "execution_count": null,
   "metadata": {},
   "outputs": [],
   "source": [
    "X_testing"
   ]
  },
  {
   "cell_type": "code",
   "execution_count": null,
   "metadata": {},
   "outputs": [],
   "source": [
    "df_test[\"messages_test\"] = df_test[\"messages_test\"].apply(stemming)"
   ]
  },
  {
   "cell_type": "code",
   "execution_count": null,
   "metadata": {
    "scrolled": true
   },
   "outputs": [],
   "source": [
    "print(df_test[\"messages_test\"])"
   ]
  },
  {
   "cell_type": "code",
   "execution_count": null,
   "metadata": {},
   "outputs": [],
   "source": [
    "X_testing=df_test[\"messages_test\"].values\n",
    "y_testing=df_test[\"label\"].values"
   ]
  },
  {
   "cell_type": "code",
   "execution_count": null,
   "metadata": {},
   "outputs": [],
   "source": [
    "#converting data to numerical data\n",
    "\n",
    "vectorizer=TfidfVectorizer(max_features=50 , ngram_range=(1,3))\n",
    "X_testing=vectorizer.fit_transform(X_testing)"
   ]
  },
  {
   "cell_type": "code",
   "execution_count": null,
   "metadata": {},
   "outputs": [],
   "source": [
    "print(X_testing)"
   ]
  },
  {
   "cell_type": "code",
   "execution_count": null,
   "metadata": {},
   "outputs": [],
   "source": [
    "X_testing.shape"
   ]
  },
  {
   "cell_type": "code",
   "execution_count": null,
   "metadata": {},
   "outputs": [],
   "source": [
    "#accuracy on external data\n",
    "\n",
    "X_testing_pred=log_reg.predict(X_testing)\n",
    "acc = accuracy_score(X_testing_pred,y_testing)"
   ]
  },
  {
   "cell_type": "code",
   "execution_count": null,
   "metadata": {},
   "outputs": [],
   "source": [
    "print(\"train data accuracy : \",acc*100,\"%\")"
   ]
  }
 ],
 "metadata": {
  "kernelspec": {
   "display_name": "Python 3",
   "language": "python",
   "name": "python3"
  },
  "language_info": {
   "codemirror_mode": {
    "name": "ipython",
    "version": 3
   },
   "file_extension": ".py",
   "mimetype": "text/x-python",
   "name": "python",
   "nbconvert_exporter": "python",
   "pygments_lexer": "ipython3",
   "version": "3.8.3"
  }
 },
 "nbformat": 4,
 "nbformat_minor": 5
}
