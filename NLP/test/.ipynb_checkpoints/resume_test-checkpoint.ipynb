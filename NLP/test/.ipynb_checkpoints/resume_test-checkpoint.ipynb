{
 "cells": [
  {
   "cell_type": "code",
   "execution_count": null,
   "metadata": {},
   "outputs": [],
   "source": [
    "pip install resume-parser"
   ]
  },
  {
   "cell_type": "code",
   "execution_count": null,
   "metadata": {},
   "outputs": [],
   "source": [
    "# spaCy\n",
    "python -m spacy download en_core_web_sm\n",
    "\n",
    "# nltk\n",
    "python -m nltk.downloader stopwords\n",
    "python -m nltk.downloader punkt\n",
    "python -m nltk.downloader averaged_perceptron_tagger\n",
    "python -m nltk.downloader universal_tagset\n",
    "python -m nltk.downloader wordnet\n",
    "python -m nltk.downloader brown\n",
    "python -m nltk.downloader maxent_ne_chunker"
   ]
  },
  {
   "cell_type": "code",
   "execution_count": null,
   "metadata": {},
   "outputs": [],
   "source": [
    "from resume_parser import resumeparse\n",
    "\n",
    "data = resumeparse.read_file('Saranga Kumarapeli.pdf')"
   ]
  },
  {
   "cell_type": "code",
   "execution_count": null,
   "metadata": {},
   "outputs": [],
   "source": []
  }
 ],
 "metadata": {
  "kernelspec": {
   "display_name": "Python 3",
   "language": "python",
   "name": "python3"
  },
  "language_info": {
   "codemirror_mode": {
    "name": "ipython",
    "version": 3
   },
   "file_extension": ".py",
   "mimetype": "text/x-python",
   "name": "python",
   "nbconvert_exporter": "python",
   "pygments_lexer": "ipython3",
   "version": "3.8.3"
  }
 },
 "nbformat": 4,
 "nbformat_minor": 4
}
