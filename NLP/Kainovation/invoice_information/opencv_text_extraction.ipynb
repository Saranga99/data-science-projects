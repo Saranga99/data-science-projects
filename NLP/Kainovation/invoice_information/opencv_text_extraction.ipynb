{
 "cells": [
  {
   "cell_type": "code",
   "execution_count": 18,
   "metadata": {},
   "outputs": [],
   "source": [
    "#!pip install pytesseract"
   ]
  },
  {
   "cell_type": "code",
   "execution_count": 19,
   "metadata": {},
   "outputs": [],
   "source": [
    "pytesseract=\"C:\\Program Files\\Tesseract-OCR\"\n",
    "img_path=\"images/img.jpeg\"\n",
    "lineitems=\"images/line_items.jpg\""
   ]
  },
  {
   "cell_type": "code",
   "execution_count": 23,
   "metadata": {},
   "outputs": [
    {
     "name": "stdout",
     "output_type": "stream",
     "text": [
      "[0, 0, 0, 0, 0, 2502, 2502, 2502, 2502, 2508, 2508, 2730, 95, 95, 95, 95, 2112, 2112, 2112, 2112, 2242, 113, 113, 113, 113, 301, 386, 460, 523, 95, 95, 95, 95, 582, 582, 582, 582, 584, 584, 584, 584, 736, 964, 1181, 1202, 2112, 2245, 2109, 2109, 2109, 2109, 2208, 2502, 2194, 2194, 2357, 2506, 2280, 2280, 2501, 141, 141, 141, 141, 327, 141, 141, 323, 111, 111, 141, 141, 111, 111, 267, 337, 113, 113, 113, 113, 197, 497, 619, 1649, 1649, 1840, 1896, 2149, 2384, 2663, 2761, 2089, 2089, 2089, 2089, 103, 103, 103, 103, 474, 1052, 1218, 1367, 1474, 1582, 1620, 1632, 1921, 2059, 2198, 2355, 2448, 145, 145, 145, 145, 248, 430, 514, 600, 666, 199, 199, 199, 199, 352, 376, 565, 589, 810, 847, 95, 95, 95, 95]\n"
     ]
    },
    {
     "data": {
      "text/plain": [
       "-1"
      ]
     },
     "execution_count": 23,
     "metadata": {},
     "output_type": "execute_result"
    }
   ],
   "source": [
    "import cv2\n",
    "from pytesseract import pytesseract\n",
    "from pytesseract import Output\n",
    "\n",
    "pytesseract.tesseract_cmd = \"C:\\\\Program Files\\\\Tesseract-OCR\\\\tesseract.exe\"\n",
    "\n",
    "img = cv2.imread(lineitems)\n",
    "\n",
    "image_data = pytesseract.image_to_data(img, output_type=Output.DICT)\n",
    "\n",
    "print(image_data['left'])\n",
    "\n",
    "# Printing each word\n",
    "# for word in image_data['text']:\n",
    "# \tprint(word)\n",
    "\n",
    "for i, word in enumerate(image_data['text']):\n",
    "\tif word == 'Customer Code':\n",
    "\t\tx,y,w,h = image_data['left'][i],image_data['top'][i],image_data['width'][i],image_data['height'][i]\n",
    "\t\tcv2.rectangle(img,(x,y),(x+w,y+h),(0,255,0),3)\n",
    "\t\tcv2.putText(img,word,(x,y-16),cv2.FONT_HERSHEY_COMPLEX,1,(0,0,255),2)\n",
    "\n",
    "cv2.imshow(\"window\", img)\n",
    "cv2.waitKey(0)"
   ]
  },
  {
   "cell_type": "code",
   "execution_count": 27,
   "metadata": {},
   "outputs": [
    {
     "name": "stdout",
     "output_type": "stream",
     "text": [
      "[0, 0, 0, 0, 0, 2502, 2502, 2502, 2502, 2508, 2508, 2730, 95, 95, 95, 95, 2112, 2112, 2112, 2112, 2242, 113, 113, 113, 113, 301, 386, 460, 523, 95, 95, 95, 95, 582, 582, 582, 582, 584, 584, 584, 584, 736, 964, 1181, 1202, 2112, 2245, 2109, 2109, 2109, 2109, 2208, 2502, 2194, 2194, 2357, 2506, 2280, 2280, 2501, 141, 141, 141, 141, 327, 141, 141, 323, 111, 111, 141, 141, 111, 111, 267, 337, 113, 113, 113, 113, 197, 497, 619, 1649, 1649, 1840, 1896, 2149, 2384, 2663, 2761, 2089, 2089, 2089, 2089, 103, 103, 103, 103, 474, 1052, 1218, 1367, 1474, 1582, 1620, 1632, 1921, 2059, 2198, 2355, 2448, 145, 145, 145, 145, 248, 430, 514, 600, 666, 199, 199, 199, 199, 352, 376, 565, 589, 810, 847, 95, 95, 95, 95]\n"
     ]
    },
    {
     "data": {
      "text/plain": [
       "-1"
      ]
     },
     "execution_count": 27,
     "metadata": {},
     "output_type": "execute_result"
    }
   ],
   "source": [
    "import cv2\n",
    "from pytesseract import pytesseract\n",
    "from pytesseract import Output\n",
    "\n",
    "pytesseract.tesseract_cmd = \"C:\\\\Program Files\\\\Tesseract-OCR\\\\tesseract.exe\"\n",
    "\n",
    "img = cv2.imread(lineitems)\n",
    "\n",
    "image_data = pytesseract.image_to_data(img, output_type=Output.DICT)\n",
    "\n",
    "print(image_data['left'])\n",
    "\n",
    "# Printing each word\n",
    "# for word in image_data['text']:\n",
    "# \tprint(word)\n",
    "\n",
    "for i, word in enumerate(image_data['text']):\n",
    "\tif word == 'Customer':\n",
    "\t\tx,y,w,h = image_data['left'][i],image_data['top'][i],image_data['width'][i],image_data['height'][i]\n",
    "\t\tcv2.rectangle(img,(x,y),(x+w,y+h),(0,255,0),3)\n",
    "\t\tcv2.putText(img,word,(x,y-16),cv2.FONT_HERSHEY_COMPLEX,1,(0,0,255),2)\n",
    "\n",
    "cv2.imshow(\"window\", img)\n",
    "cv2.waitKey(0)"
   ]
  },
  {
   "cell_type": "code",
   "execution_count": null,
   "metadata": {},
   "outputs": [],
   "source": []
  }
 ],
 "metadata": {
  "kernelspec": {
   "display_name": "Python 3",
   "language": "python",
   "name": "python3"
  },
  "language_info": {
   "codemirror_mode": {
    "name": "ipython",
    "version": 3
   },
   "file_extension": ".py",
   "mimetype": "text/x-python",
   "name": "python",
   "nbconvert_exporter": "python",
   "pygments_lexer": "ipython3",
   "version": "3.8.3"
  }
 },
 "nbformat": 4,
 "nbformat_minor": 4
}
