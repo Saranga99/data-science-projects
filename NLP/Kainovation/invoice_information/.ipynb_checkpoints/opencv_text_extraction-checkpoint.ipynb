{
 "cells": [
  {
   "cell_type": "code",
   "execution_count": 39,
   "metadata": {},
   "outputs": [],
   "source": [
    "#!pip install pytesseract"
   ]
  },
  {
   "cell_type": "code",
   "execution_count": 40,
   "metadata": {},
   "outputs": [],
   "source": [
    "pytesseract=\"C:\\Program Files\\Tesseract-OCR\"\n",
    "img_path=\"images/img.jpeg\"\n",
    "lineitems=\"images/line_items.jpg\"\n",
    "invoiceno=\"images/invoiceno.jpg\""
   ]
  },
  {
   "cell_type": "markdown",
   "metadata": {},
   "source": [
    "# Bounding all"
   ]
  },
  {
   "cell_type": "code",
   "execution_count": 41,
   "metadata": {},
   "outputs": [
    {
     "name": "stdout",
     "output_type": "stream",
     "text": [
      "[0, 470, 470, 470, 470, 499, 499, 499, 499, 396, 396, 396, 396, 423, 486, 116, 116, 116, 116, 176, 205, 116, 116, 116, 116, 176, 213, 71, 71, 71, 71, 71, 71, 71, 71, 70, 70, 70, 70, 69, 69, 69, 69, 64, 64, 64, 64, 197, 475, 512, 598, 636, 695, 74, 74, 74, 74, 142, 206, 290, 476, 512, 613, 707, 74, 74, 142, 208, 307, 390, 476, 512, 621, 707, 206, 206, 242, 315, 74, 74, 128, 73, 73, 207, 246, 476, 512, 637, 707, 73, 73, 207, 246, 475, 511, 637, 706, 73, 73, 207, 246, 303, 476, 511, 637, 706, 73, 73, 172, 206, 311, 476, 511, 628, 707, 73, 73, 206, 257, 302, 476, 511, 629, 706, 206, 206, 244, 269, 206, 206, 274, 206, 206, 272, 206, 206, 272, 511, 607, 196, 196, 520, 615, 205, 205, 245, 612, 115, 115, 165, 208, 114, 114, 135, 216, 527, 527, 526, 526, 527, 527, 547, 576, 526, 526, 562, 597, 616, 650, 527, 527, 555, 527, 527, 527, 553, 526, 526, 526, 526, 561, 592, 526, 526, 555, 577]\n"
     ]
    },
    {
     "data": {
      "text/plain": [
       "48"
      ]
     },
     "execution_count": 41,
     "metadata": {},
     "output_type": "execute_result"
    }
   ],
   "source": [
    "import cv2\n",
    "from pytesseract import pytesseract\n",
    "from pytesseract import Output\n",
    "\n",
    "pytesseract.tesseract_cmd = \"C:\\\\Program Files\\\\Tesseract-OCR\\\\tesseract.exe\"\n",
    "\n",
    "img = cv2.imread(img_path)\n",
    "\n",
    "image_data = pytesseract.image_to_data(img, output_type=Output.DICT)\n",
    "\n",
    "print(image_data['left'])\n",
    "\n",
    "# Printing each word\n",
    "# for word in image_data['text']:\n",
    "# \tprint(word)\n",
    "\n",
    "for i, word in enumerate(image_data['text']):\n",
    "\tif word != ' ':\n",
    "\t\tx,y,w,h = image_data['left'][i],image_data['top'][i],image_data['width'][i],image_data['height'][i]\n",
    "\t\tcv2.rectangle(img,(x,y),(x+w,y+h),(0,255,0),3)\n",
    "\t\tcv2.putText(img,word,(x,y-16),cv2.FONT_HERSHEY_COMPLEX,1,(0,0,255),2)\n",
    "\n",
    "cv2.imshow(\"window\", img)\n",
    "cv2.waitKey(0)"
   ]
  },
  {
   "cell_type": "markdown",
   "metadata": {},
   "source": [
    "# Bound all words"
   ]
  },
  {
   "cell_type": "code",
   "execution_count": 42,
   "metadata": {},
   "outputs": [
    {
     "name": "stdout",
     "output_type": "stream",
     "text": [
      "[0, 72, 72, 72, 72, 202, 72, 72, 72, 72, 205, 69, 69, 69, 69, 168, 154, 154, 317, 393, 240, 240, 352, 462, 462, 462, 462, 462, 462, 468, 468, 656, 462, 462, 466, 466, 0, 0, 0, 0, 947, 947, 947, 947]\n"
     ]
    },
    {
     "data": {
      "text/plain": [
       "48"
      ]
     },
     "execution_count": 42,
     "metadata": {},
     "output_type": "execute_result"
    }
   ],
   "source": [
    "import cv2\n",
    "from pytesseract import pytesseract\n",
    "from pytesseract import Output\n",
    "\n",
    "pytesseract.tesseract_cmd = \"C:\\\\Program Files\\\\Tesseract-OCR\\\\tesseract.exe\"\n",
    "\n",
    "img = cv2.imread(invoiceno)\n",
    "\n",
    "image_data = pytesseract.image_to_data(img, output_type=Output.DICT)\n",
    "\n",
    "print(image_data['left'])\n",
    "\n",
    "# Printing each word\n",
    "# for word in image_data['text']:\n",
    "# \tprint(word)\n",
    "\n",
    "for i, word in enumerate(image_data['text']):\n",
    "\tif word != ' ':\n",
    "\t\tx,y,w,h = image_data['left'][i],image_data['top'][i],image_data['width'][i],image_data['height'][i]\n",
    "\t\tcv2.rectangle(img,(x,y),(x+w,y+h),(0,255,0),3)\n",
    "\t\tcv2.putText(img,word,(x,y-16),cv2.FONT_HERSHEY_COMPLEX,1,(0,0,255),2)\n",
    "\n",
    "cv2.imshow(\"window\", img)\n",
    "cv2.waitKey(0)"
   ]
  },
  {
   "cell_type": "markdown",
   "metadata": {},
   "source": [
    "# Bound word - Invoice"
   ]
  },
  {
   "cell_type": "code",
   "execution_count": 43,
   "metadata": {},
   "outputs": [
    {
     "name": "stdout",
     "output_type": "stream",
     "text": [
      "[0, 72, 72, 72, 72, 202, 72, 72, 72, 72, 205, 69, 69, 69, 69, 168, 154, 154, 317, 393, 240, 240, 352, 462, 462, 462, 462, 462, 462, 468, 468, 656, 462, 462, 466, 466, 0, 0, 0, 0, 947, 947, 947, 947]\n"
     ]
    },
    {
     "data": {
      "text/plain": [
       "-1"
      ]
     },
     "execution_count": 43,
     "metadata": {},
     "output_type": "execute_result"
    }
   ],
   "source": [
    "import cv2\n",
    "from pytesseract import pytesseract\n",
    "from pytesseract import Output\n",
    "\n",
    "pytesseract.tesseract_cmd = \"C:\\\\Program Files\\\\Tesseract-OCR\\\\tesseract.exe\"\n",
    "\n",
    "img = cv2.imread(invoiceno)\n",
    "\n",
    "image_data = pytesseract.image_to_data(img, output_type=Output.DICT)\n",
    "\n",
    "print(image_data['left'])\n",
    "\n",
    "# Printing each word\n",
    "# for word in image_data['text']:\n",
    "# \tprint(word)\n",
    "\n",
    "for i, word in enumerate(image_data['text']):\n",
    "\tif word == 'Invoice':\n",
    "\t\tx,y,w,h = image_data['left'][i],image_data['top'][i],image_data['width'][i],image_data['height'][i]\n",
    "\t\tcv2.rectangle(img,(x,y),(x+w,y+h),(0,255,0),3)\n",
    "\t\tcv2.putText(img,word,(x,y-16),cv2.FONT_HERSHEY_COMPLEX,1,(0,0,255),2)\n",
    "\n",
    "cv2.imshow(\"window\", img)\n",
    "cv2.waitKey(0)"
   ]
  },
  {
   "cell_type": "code",
   "execution_count": null,
   "metadata": {},
   "outputs": [],
   "source": []
  }
 ],
 "metadata": {
  "kernelspec": {
   "display_name": "Python 3",
   "language": "python",
   "name": "python3"
  },
  "language_info": {
   "codemirror_mode": {
    "name": "ipython",
    "version": 3
   },
   "file_extension": ".py",
   "mimetype": "text/x-python",
   "name": "python",
   "nbconvert_exporter": "python",
   "pygments_lexer": "ipython3",
   "version": "3.8.3"
  }
 },
 "nbformat": 4,
 "nbformat_minor": 4
}
