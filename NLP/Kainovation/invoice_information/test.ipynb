{
 "cells": [
  {
   "cell_type": "code",
   "execution_count": 412,
   "metadata": {},
   "outputs": [],
   "source": [
    "import re\n",
    "import fitz"
   ]
  },
  {
   "cell_type": "code",
   "execution_count": 413,
   "metadata": {},
   "outputs": [],
   "source": [
    "def extract_text(path):\n",
    "        doc = fitz.open(path)\n",
    "        text = \"\"\n",
    "        for i in range(doc.pageCount):\n",
    "            page = doc.load_page(i)\n",
    "            pagetext = page.get_text()\n",
    "            text += pagetext\n",
    "        return text"
   ]
  },
  {
   "cell_type": "code",
   "execution_count": 414,
   "metadata": {},
   "outputs": [],
   "source": [
    "def clean_text(text):\n",
    "        text=text.lower()\n",
    "        # Remove any double spaces\n",
    "        text = re.sub(\" +\", \" \", text)\n",
    "        # removing new line characters\n",
    "        text = re.sub('\\n ', '', str(text))\n",
    "        text = re.sub('\\n', ' ', str(text))\n",
    "        # removing apostrophes\n",
    "        text = re.sub(\"'s\", '', str(text))\n",
    "        # removing hyphens\n",
    "        text = re.sub(\"-\", ' ', str(text))\n",
    "        text = re.sub(\"— \", '', str(text))\n",
    "        # removing quotation marks\n",
    "        text = re.sub('\\\"', '', str(text))\n",
    "        # removing any reference to outside text\n",
    "        text = re.sub(\"[\\(\\[].*?[\\)\\]]\", \"\", str(text))\n",
    "        text = text.replace(\"�\", \" \\n\")\n",
    "        text = text.replace(\":\", \" \")\n",
    "        return text"
   ]
  },
  {
   "cell_type": "code",
   "execution_count": 415,
   "metadata": {},
   "outputs": [],
   "source": [
    "path = \"Invoice Copies/2.pdf\"\n",
    "text = extract_text(path)"
   ]
  },
  {
   "cell_type": "code",
   "execution_count": 416,
   "metadata": {},
   "outputs": [],
   "source": [
    "text=clean_text(text)"
   ]
  },
  {
   "cell_type": "code",
   "execution_count": 417,
   "metadata": {},
   "outputs": [],
   "source": [
    "# text=text.split(\"\\n\")"
   ]
  },
  {
   "cell_type": "code",
   "execution_count": 418,
   "metadata": {},
   "outputs": [],
   "source": [
    "# import re\n",
    "\n",
    "# text= r\"\"\"list of documents check 01 original invoice no in favour of company z 02 cjpc abstract sheet weighment\n",
    "# slip goods receipt note iz checklist creator id name 30009460 xyz@abc.com\n",
    "# checklist creation date 31 03 2018 checklist print date time 31 03 2018 10 45 57 note anything\n",
    "# written manually on the checklist will not be considered invoice parth enterprise â invoice no dated\n",
    "# kashish aarcade baroi road 18 25 mar 2018 village baroi delivery note mode terms of payment taluka\n",
    "# mundra kutch supplierâ s ref other reference s gst no 24acypt3861 c1 z 7 dated buyer i buyer s order\n",
    "# no 21 jun 2017 abc corporation 5700214006 â dated 40 mwp solar power plant i despatch document no\n",
    "# vill bitta ta naliya abadasa despatched through destination march 18 terms of\"\"\""
   ]
  },
  {
   "cell_type": "code",
   "execution_count": 419,
   "metadata": {},
   "outputs": [],
   "source": [
    "# matches = re.findall(\n",
    "#             r'(?<=\\binvoice )(?:.*?)(?= invoice\\b)', text, flags=re.DOTALL)\n",
    "# for i, match in enumerate(matches):\n",
    "#     # match=(f'\\nMatch {i + 1}:\\n', match, sep='')\n",
    "#     match=match.split(\" \")\n",
    "#     #print(f'\\nMatch {i + 1}:\\n', match, sep='')\n",
    "#     for i in match:\n",
    "#          if len(i)==10 and i.isdecimal():\n",
    "#             print(\"invoice no :\",i)"
   ]
  },
  {
   "cell_type": "code",
   "execution_count": 420,
   "metadata": {},
   "outputs": [],
   "source": [
    "matches = re.findall(\n",
    "            r'(?<=\\binvoice date )(?:.*?)(?= invoice date\\b)', text, flags=re.DOTALL)\n",
    "for i, match in enumerate(matches):\n",
    "    # match=(f'\\nMatch {i + 1}:\\n', match, sep='')\n",
    "    #match=match.split(\" \")\n",
    "    print(f'\\nMatch {i + 1}:\\n', match, sep='')\n",
    "    for i in match:\n",
    "         if len(i)==10 and i.isdecimal():\n",
    "            print(\"invoice no :\",i)"
   ]
  }
 ],
 "metadata": {
  "interpreter": {
   "hash": "8b4b83a2fc7cb3c134fb184382290be67ad7a15acafe741b678f5de53aa590a0"
  },
  "kernelspec": {
   "display_name": "Python 3.9.7 64-bit ('.venv': venv)",
   "name": "python3"
  },
  "language_info": {
   "codemirror_mode": {
    "name": "ipython",
    "version": 3
   },
   "file_extension": ".py",
   "mimetype": "text/x-python",
   "name": "python",
   "nbconvert_exporter": "python",
   "pygments_lexer": "ipython3",
   "version": "3.9.7"
  },
  "orig_nbformat": 4
 },
 "nbformat": 4,
 "nbformat_minor": 2
}
