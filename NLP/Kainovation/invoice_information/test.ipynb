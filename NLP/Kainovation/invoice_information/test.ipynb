{
 "cells": [
  {
   "cell_type": "code",
   "execution_count": 643,
   "metadata": {},
   "outputs": [],
   "source": [
    "import re\n",
    "import fitz"
   ]
  },
  {
   "cell_type": "code",
   "execution_count": 644,
   "metadata": {},
   "outputs": [],
   "source": [
    "def extract_text(path):\n",
    "        doc = fitz.open(path)\n",
    "        text = \"\"\n",
    "        for i in range(doc.pageCount):\n",
    "            page = doc.load_page(i)\n",
    "            pagetext = page.get_text()\n",
    "            text += pagetext\n",
    "        return text"
   ]
  },
  {
   "cell_type": "code",
   "execution_count": 645,
   "metadata": {},
   "outputs": [],
   "source": [
    "def clean_text(text):\n",
    "        text=text.lower()\n",
    "        # Remove any double spaces\n",
    "        text = re.sub(\" +\", \" \", text)\n",
    "        # removing new line characters\n",
    "        text = re.sub('\\n ', '', str(text))\n",
    "        text = re.sub('\\n', ' ', str(text))\n",
    "        # removing apostrophes\n",
    "        text = re.sub(\"'s\", '', str(text))\n",
    "        # removing hyphens\n",
    "        text = re.sub(\"-\", ' ', str(text))\n",
    "        text = re.sub(\"— \", '', str(text))\n",
    "        # removing quotation marks\n",
    "        text = re.sub('\\\"', '', str(text))\n",
    "        # removing any reference to outside text\n",
    "        text = re.sub(\"[\\(\\[].*?[\\)\\]]\", \"\", str(text))\n",
    "        text = text.replace(\"�\", \" \\n\")\n",
    "        text = text.replace(\":\", \" \")\n",
    "        return text"
   ]
  },
  {
   "cell_type": "code",
   "execution_count": 646,
   "metadata": {},
   "outputs": [],
   "source": [
    "path = \"Invoice Copies/2.pdf\"\n",
    "text = extract_text(path)"
   ]
  },
  {
   "cell_type": "code",
   "execution_count": 647,
   "metadata": {},
   "outputs": [],
   "source": [
    "text=clean_text(text)"
   ]
  },
  {
   "cell_type": "code",
   "execution_count": 648,
   "metadata": {},
   "outputs": [],
   "source": [
    "# text=text.split(\"\\n\")"
   ]
  },
  {
   "cell_type": "code",
   "execution_count": 649,
   "metadata": {},
   "outputs": [],
   "source": [
    "# import re\n",
    "\n",
    "# text= r\"\"\"list of documents check 01 original invoice no in favour of company z 02 cjpc abstract sheet weighment\n",
    "# slip goods receipt note iz checklist creator id name 30009460 xyz@abc.com\n",
    "# checklist creation date 31 03 2018 checklist print date time 31 03 2018 10 45 57 note anything\n",
    "# written manually on the checklist will not be considered invoice parth enterprise â invoice no dated\n",
    "# kashish aarcade baroi road 18 25 mar 2018 village baroi delivery note mode terms of payment taluka\n",
    "# mundra kutch supplierâ s ref other reference s gst no 24acypt3861 c1 z 7 dated buyer i buyer s order\n",
    "# no 21 jun 2017 abc corporation 5700214006 â dated 40 mwp solar power plant i despatch document no\n",
    "# vill bitta ta naliya abadasa despatched through destination march 18 terms of\"\"\""
   ]
  },
  {
   "cell_type": "code",
   "execution_count": 650,
   "metadata": {},
   "outputs": [],
   "source": [
    "# matches = re.findall(\n",
    "#             r'(?<=\\binvoice )(?:.*?)(?= invoice\\b)', text, flags=re.DOTALL)\n",
    "# for i, match in enumerate(matches):\n",
    "#     # match=(f'\\nMatch {i + 1}:\\n', match, sep='')\n",
    "#     match=match.split(\" \")\n",
    "#     #print(f'\\nMatch {i + 1}:\\n', match, sep='')\n",
    "#     for i in match:\n",
    "#          if len(i)==10 and i.isdecimal():\n",
    "#             print(\"invoice no :\",i)"
   ]
  },
  {
   "cell_type": "code",
   "execution_count": 651,
   "metadata": {},
   "outputs": [
    {
     "data": {
      "text/plain": [
       "\"5 55 34pm      692.00'  1,240.00  10  1,069.2704 )  \\n end  '‘'?4d  10, 2.00  10+2.00      \\n grossvalue  total discount  va1  netvalue rs.  invoice no.  \\n    invoice data  \\n    w/h code  payment type   order no   s.  \\n k001 232  10/07/2020  cl in  del  a44392  305102'  )34440  lr2007 220  ,   \\n of 3  date ii time  authorised by  non tax invoice  customer code  customer name  address  ustomer vat no  ales rep  100034  hemas hospitals  ltd   wattala  i  \\n no. 36. bristol street. col  stock  consumables  cl insr06 godfrey bath  10,690.00  10 690.00  gross amt.   deductions    additions  net amount   oispatth mode  payment mode   user  6722  place of delivery   hemas hospitals  ltd  396 necomba rood  waddle  in words  lxr ten thousand six hundred ninety only  payment terms   within 30 days  within 45 days  delivery 1erms   qty department  10  \\n pur d law   wtl  item name  \\n from date  \\n to date  purilan gel  \\n 07 oct 2020  \\n 07 oct 2020  authxised signatory   purchase order  supplier  \\n   su whine heald care lanka ltd  address  \\n   ciumrnycolombo,  icrribo sri larka  pin cale  po no.  po date  po type  contact person  131.1120071306  07 ott  2020  0005a unable pg  10 nos  \\n 10 59.00  10,690.00  other terms    other terms  note   this purchase order is valid aily for 14 days.p0 not valid without authorised signature  remarks    page 1 of 1  authorised signatory   rbiew.go  ii  \\n loa941  purilan gel  si.no. item code  firtherni st bre mr   within 45 days  cheque  mode of  payment  terms   \\n gross    \\n 10692 000   \\n discount    \\n 0.000   \\n additions    \\n 0.000  net amount  \\n 10692.000  checked a  \\n erified by  \\n approved by   nd oe///  eceived by   goods receipt note  supplier  \\n  sunshine healthcare lanka lw  \\n grn no.  \\n   23288  contact  \\n receipt date  \\n   09 oct 2020  po no.  \\n    blr2007006  \\n receipt type  \\n   ao  invoice no.  \\n    2020005102  \\n location  \\n   consumable stores   wit  invoice date  \\n   10 oct 2020  \\n print date  \\n  09 oct 2020 09.213 08 am  user  \\n    6.150  i.n.  \\n code  \\nitem name  \\n batch no.  \\n qty uom  \\n expiry date  \\n bonus  \\n sp/mrp  \\n rate  \\ndiscount  \\n addi tion  \\namoun  l0a941  \\n purlion gel  \\n 25112022  \\n 10 nos  \\n 25 nov 2022  \\n 0  \\n 1,425.24  \\n 1,069.20  \\n 0.00  \\n0.00  \\n 10,92.0  \""
      ]
     },
     "execution_count": 651,
     "metadata": {},
     "output_type": "execute_result"
    }
   ],
   "source": [
    "text"
   ]
  },
  {
   "cell_type": "code",
   "execution_count": 652,
   "metadata": {},
   "outputs": [],
   "source": [
    "start_index = text.find(\"invoice date\")\n",
    "end_index = start_index + len(\"invoice date\")"
   ]
  },
  {
   "cell_type": "code",
   "execution_count": 653,
   "metadata": {},
   "outputs": [
    {
     "data": {
      "text/plain": [
       "1928"
      ]
     },
     "execution_count": 653,
     "metadata": {},
     "output_type": "execute_result"
    }
   ],
   "source": [
    "end_index"
   ]
  },
  {
   "cell_type": "code",
   "execution_count": 654,
   "metadata": {},
   "outputs": [
    {
     "data": {
      "text/plain": [
       "'invoice date 10 oct 2020 '"
      ]
     },
     "execution_count": 654,
     "metadata": {},
     "output_type": "execute_result"
    }
   ],
   "source": [
    "clean_text(text[start_index:1949])"
   ]
  }
 ],
 "metadata": {
  "interpreter": {
   "hash": "8b4b83a2fc7cb3c134fb184382290be67ad7a15acafe741b678f5de53aa590a0"
  },
  "kernelspec": {
   "display_name": "Python 3.9.7 64-bit ('.venv': venv)",
   "name": "python3"
  },
  "language_info": {
   "codemirror_mode": {
    "name": "ipython",
    "version": 3
   },
   "file_extension": ".py",
   "mimetype": "text/x-python",
   "name": "python",
   "nbconvert_exporter": "python",
   "pygments_lexer": "ipython3",
   "version": "3.9.7"
  },
  "orig_nbformat": 4
 },
 "nbformat": 4,
 "nbformat_minor": 2
}
