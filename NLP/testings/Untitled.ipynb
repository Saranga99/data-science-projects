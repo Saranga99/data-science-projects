{
 "cells": [
  {
   "cell_type": "code",
   "execution_count": 2,
   "source": [
    "# D:\\iit\\CV\\Saranga Kumarapeli.pdf\r\n",
    "from pdfminer.high_level import extract_text\r\n",
    "import nltk\r\n",
    "import re\r\n",
    "# nltk.download('punkt')\r\n",
    "# nltk.download('averaged_perceptron_tagger')\r\n",
    "# nltk.download('maxent_ne_chunker')\r\n",
    "# nltk.download('words')\r\n",
    "# import pdftotext\r\n",
    "print(\"\\n_____Resume Information Extractor - CLI based Application_____\\n\")\r\n",
    "\r\n",
    "\r\n",
    "def extract_text_from_pdf(pdf_path):\r\n",
    "    return extract_text(pdf_path)\r\n",
    "\r\n",
    "\r\n",
    "while True:\r\n",
    "    try:\r\n",
    "        path = input(\"Enter Your path Here : \")\r\n",
    "        lines = [extract_text_from_pdf(path)]\r\n",
    "        with open('readme.txt', 'w') as f:\r\n",
    "            for line in lines:\r\n",
    "                f.write(line)\r\n",
    "                # f.write('')\r\n",
    "        break\r\n",
    "    except:\r\n",
    "        print(\"\\nPlease Enter Correct Path\\n\")\r\n",
    "\r\n",
    "with open(\"readme.txt\", \"r\") as myfile:\r\n",
    "    data = myfile.read()\r\n",
    "\r\n",
    "\r\n",
    "def extract_names(txt):\r\n",
    "    person_names = []\r\n",
    "\r\n",
    "    for sent in nltk.sent_tokenize(txt):\r\n",
    "        for chunk in nltk.ne_chunk(nltk.pos_tag(nltk.word_tokenize(sent))):\r\n",
    "            if hasattr(chunk, 'label') and chunk.label() == 'PERSON':\r\n",
    "                person_names.append(\r\n",
    "                    ' '.join(chunk_leave[0] for chunk_leave in chunk.leaves())\r\n",
    "                )\r\n",
    "\r\n",
    "    return person_names\r\n",
    "\r\n",
    "\r\n",
    "names = extract_names(data)\r\n",
    "if names:\r\n",
    "    print(\"\\n____Extracted Information____\\n\")\r\n",
    "\r\n",
    "    print(\"Name           : \", names[3][:-8])\r\n",
    "\r\n",
    "# email\r\n",
    "EMAIL_REG = re.compile(r'[a-z0-9\\.\\-+_]+@[a-z0-9\\.\\-+_]+\\.[a-z]+')\r\n",
    "\r\n",
    "\r\n",
    "def extract_emails(resume_text):\r\n",
    "    return re.findall(EMAIL_REG, resume_text)\r\n",
    "\r\n",
    "\r\n",
    "emails = extract_emails(data)\r\n",
    "if emails:\r\n",
    "    print(\"Email          : \", emails[0])\r\n",
    "\r\n",
    "\r\n",
    "# phone = []\r\n",
    "# for i in re.findall(r'\\+[-()\\s\\d]+?(?=\\s*[+<])', data):\r\n",
    "#     phone.add(i)\r\n",
    "\r\n",
    "# # print(data)\r\n",
    "# print(type(data))\r\n",
    "\r\n",
    "# mobile number\r\n",
    "phone = []\r\n",
    "for i in re.findall(r'(\\s+([0-9]+\\s+)+)', data):\r\n",
    "    phone.append(i)\r\n",
    "\r\n",
    "print(\"Telephone No.  :\", phone[1][0], \"/\", phone[2][0])"
   ],
   "outputs": [
    {
     "output_type": "stream",
     "name": "stdout",
     "text": [
      "\n",
      "_____Resume Information Extractor - CLI based Application_____\n",
      "\n",
      "Enter Your path Here : Saranga Kumarapeli.pdf\n",
      "\n",
      "____Extracted Information____\n",
      "\n",
      "Name           :  Kumarapel Arachchige Don Saranga Thathsara Kumarapeli \n",
      "Email          :  saranga.2019952@iit.ac.lk\n",
      "Telephone No.  :   0701613315  /  011 2 489 448 \n",
      "   \n"
     ]
    }
   ],
   "metadata": {}
  },
  {
   "cell_type": "code",
   "execution_count": 6,
   "source": [
    "str=\"5\"\r\n",
    "str=str.lower()\r\n",
    "str\r\n"
   ],
   "outputs": [
    {
     "output_type": "execute_result",
     "data": {
      "text/plain": [
       "'5'"
      ]
     },
     "metadata": {},
     "execution_count": 6
    }
   ],
   "metadata": {}
  }
 ],
 "metadata": {
  "kernelspec": {
   "name": "python3",
   "display_name": "Python 3.8.3 64-bit ('base': conda)"
  },
  "language_info": {
   "codemirror_mode": {
    "name": "ipython",
    "version": 3
   },
   "file_extension": ".py",
   "mimetype": "text/x-python",
   "name": "python",
   "nbconvert_exporter": "python",
   "pygments_lexer": "ipython3",
   "version": "3.8.3"
  },
  "interpreter": {
   "hash": "b3ba2566441a7c06988d0923437866b63cedc61552a5af99d1f4fb67d367b25f"
  }
 },
 "nbformat": 4,
 "nbformat_minor": 4
}